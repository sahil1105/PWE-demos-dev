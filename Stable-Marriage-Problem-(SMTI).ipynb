{
 "cells": [
  {
   "cell_type": "markdown",
   "metadata": {},
   "source": [
    "## Importing PWE and other essentials"
   ]
  },
  {
   "cell_type": "code",
   "execution_count": 1,
   "metadata": {},
   "outputs": [],
   "source": [
    "from PW_explorer.run_clingo import run_clingo\n",
    "from PW_explorer.load_worlds import load_worlds\n",
    "import numpy as np"
   ]
  },
  {
   "cell_type": "code",
   "execution_count": 2,
   "metadata": {},
   "outputs": [
    {
     "data": {
      "application/javascript": [
       "IPython.CodeCell.options_default.highlight_modes['prolog'] = {'reg':[/^%%(clingo|dlv)/]};"
      ]
     },
     "metadata": {},
     "output_type": "display_data"
    }
   ],
   "source": [
    "%load_ext PWE_NB_Extension"
   ]
  },
  {
   "cell_type": "markdown",
   "metadata": {},
   "source": [
    "## Stable Marriage Problem\n",
    "\n",
    "https://en.wikipedia.org/wiki/Stable_marriage_problem\n",
    "\n",
    "In particular, we are concerned with a variant of the problem (SMTI) where the preference lists can be incomplete and there might be ties over a subset of the members of the other sex. Staying single is therefore an option (sometimes a necessity)."
   ]
  },
  {
   "cell_type": "markdown",
   "metadata": {},
   "source": [
    "We present a small use-case here with 2 men (M1, M2) and 3 women (W1, W2, W3) where the preferences are as follows:\n",
    "\n",
    "M1 -> {W1}, {W2, W3}, {}\n",
    "\n",
    "M2 -> {W2}, {W1}\n",
    "\n",
    "W1 -> {M1, M2}, {}\n",
    "\n",
    "W2 -> {M1}, {}\n",
    "\n",
    "W3 -> {M2}, {M1}, {}"
   ]
  },
  {
   "cell_type": "markdown",
   "metadata": {},
   "source": [
    "##### We encode this as follows:"
   ]
  },
  {
   "cell_type": "code",
   "execution_count": 3,
   "metadata": {},
   "outputs": [],
   "source": [
    "%asp_loadfiles clingo_files/smti.lp4"
   ]
  },
  {
   "cell_type": "code",
   "execution_count": 4,
   "metadata": {},
   "outputs": [],
   "source": [
    "%%clingo --donot-run --donot-display_input -lci clingo_rules\n",
    "\n",
    "%% PREFERENCES:\n",
    "\n",
    "% M1 -> {W1}, {W2, W3}, {}\n",
    "% M2 -> {W2}, {W1}\n",
    "% W1 -> {M1, M2}, {}\n",
    "% W2 -> {M1}, {}\n",
    "% W3 -> {M2}, {M1}, {}\n",
    "\n",
    "%% ASSOC. COSTS\n",
    "% schema cost(BEARER, MATCH, COST)\n",
    "\n",
    "cost(m1, w1, 1).\n",
    "cost(m1, w2, 2).\n",
    "cost(m1, w3, 2).\n",
    "cost(m1, m1, 3).\n",
    "\n",
    "cost(m2, w2, 1).\n",
    "cost(m2, w1, 2).\n",
    "cost(m2, m2, 2).\n",
    "\n",
    "cost(w1, m1, 1).\n",
    "cost(w1, m2, 1).\n",
    "cost(w1, w1, 2).\n",
    "\n",
    "cost(w2, m1, 1).\n",
    "cost(w2, w2, 2).\n",
    "\n",
    "cost(w3, m2, 1).\n",
    "cost(w3, m1, 2).\n",
    "cost(w3, w3, 3).\n",
    "\n",
    "\n",
    "%% RULES\n",
    "\n",
    "% schema accept(PERSON1, PERSON2)\n",
    "% schema manpropose(MAN_PROPOSER, WOMAN_PROPOSEE)\n",
    "% schema womanpropose(MAN_PROPOSEE, WOMAN_PROPOSER)\n",
    "\n",
    "accept(X, Y) :- manpropose(X, Y), womanpropose(X, Y).\n",
    "manpropose(m1, w1).\n",
    "manpropose(m1, w2) :- not accept(m1, w1), not accept(m1, w3).\n",
    "manpropose(m1, w3) :- not accept(m1, w1), not accept(m1, w2).\n",
    "accept(m1, m1) :- not accept(m1, w1), not accept(m1, w2), not accept(m1, w3).\n",
    "manpropose(m2, w2).\n",
    "manpropose(m2, w1) :- not accept(m2, w2), not accept(m2, m2).\n",
    "accept(m2, m2) :- not accept(m2, w2), not accept(m2, w1).\n",
    "womanpropose(m1, w1) :- not accept(m2, w1).\n",
    "womanpropose(m2, w1) :- not accept(m1, w1).\n",
    "accept(w1, w1) :- not accept(m1, w1), not accept(m2, w1).\n",
    "womanpropose(m1, w2).\n",
    "accept(w2, w2) :- not accept(m1, w2).\n",
    "womanpropose(m2, w3).\n",
    "womanpropose(m1, w3) :- not accept(m2, w3).\n",
    "accept(w3, w3) :- not accept(m1, w3), not accept(m2, w3)."
   ]
  },
  {
   "cell_type": "markdown",
   "metadata": {},
   "source": [
    "##### Using clingo, we get 3 PWs:"
   ]
  },
  {
   "cell_type": "code",
   "execution_count": 5,
   "metadata": {},
   "outputs": [],
   "source": [
    "filter_str = '#show accept/2.'"
   ]
  },
  {
   "cell_type": "code",
   "execution_count": 6,
   "metadata": {},
   "outputs": [
    {
     "name": "stdout",
     "output_type": "stream",
     "text": [
      "Output:\n"
     ]
    },
    {
     "data": {
      "text/html": [
       "\n",
       "        <style>\n",
       "        .highlight .hll { background-color: #ffffcc }\n",
       ".highlight  { background: #f8f8f8; }\n",
       ".highlight .c { color: #408080; font-style: italic } /* Comment */\n",
       ".highlight .err { border: 1px solid #FF0000 } /* Error */\n",
       ".highlight .k { color: #008000; font-weight: bold } /* Keyword */\n",
       ".highlight .o { color: #666666 } /* Operator */\n",
       ".highlight .ch { color: #408080; font-style: italic } /* Comment.Hashbang */\n",
       ".highlight .cm { color: #408080; font-style: italic } /* Comment.Multiline */\n",
       ".highlight .cp { color: #BC7A00 } /* Comment.Preproc */\n",
       ".highlight .cpf { color: #408080; font-style: italic } /* Comment.PreprocFile */\n",
       ".highlight .c1 { color: #408080; font-style: italic } /* Comment.Single */\n",
       ".highlight .cs { color: #408080; font-style: italic } /* Comment.Special */\n",
       ".highlight .gd { color: #A00000 } /* Generic.Deleted */\n",
       ".highlight .ge { font-style: italic } /* Generic.Emph */\n",
       ".highlight .gr { color: #FF0000 } /* Generic.Error */\n",
       ".highlight .gh { color: #000080; font-weight: bold } /* Generic.Heading */\n",
       ".highlight .gi { color: #00A000 } /* Generic.Inserted */\n",
       ".highlight .go { color: #888888 } /* Generic.Output */\n",
       ".highlight .gp { color: #000080; font-weight: bold } /* Generic.Prompt */\n",
       ".highlight .gs { font-weight: bold } /* Generic.Strong */\n",
       ".highlight .gu { color: #800080; font-weight: bold } /* Generic.Subheading */\n",
       ".highlight .gt { color: #0044DD } /* Generic.Traceback */\n",
       ".highlight .kc { color: #008000; font-weight: bold } /* Keyword.Constant */\n",
       ".highlight .kd { color: #008000; font-weight: bold } /* Keyword.Declaration */\n",
       ".highlight .kn { color: #008000; font-weight: bold } /* Keyword.Namespace */\n",
       ".highlight .kp { color: #008000 } /* Keyword.Pseudo */\n",
       ".highlight .kr { color: #008000; font-weight: bold } /* Keyword.Reserved */\n",
       ".highlight .kt { color: #B00040 } /* Keyword.Type */\n",
       ".highlight .m { color: #666666 } /* Literal.Number */\n",
       ".highlight .s { color: #BA2121 } /* Literal.String */\n",
       ".highlight .na { color: #7D9029 } /* Name.Attribute */\n",
       ".highlight .nb { color: #008000 } /* Name.Builtin */\n",
       ".highlight .nc { color: #0000FF; font-weight: bold } /* Name.Class */\n",
       ".highlight .no { color: #880000 } /* Name.Constant */\n",
       ".highlight .nd { color: #AA22FF } /* Name.Decorator */\n",
       ".highlight .ni { color: #999999; font-weight: bold } /* Name.Entity */\n",
       ".highlight .ne { color: #D2413A; font-weight: bold } /* Name.Exception */\n",
       ".highlight .nf { color: #0000FF } /* Name.Function */\n",
       ".highlight .nl { color: #A0A000 } /* Name.Label */\n",
       ".highlight .nn { color: #0000FF; font-weight: bold } /* Name.Namespace */\n",
       ".highlight .nt { color: #008000; font-weight: bold } /* Name.Tag */\n",
       ".highlight .nv { color: #19177C } /* Name.Variable */\n",
       ".highlight .ow { color: #AA22FF; font-weight: bold } /* Operator.Word */\n",
       ".highlight .w { color: #bbbbbb } /* Text.Whitespace */\n",
       ".highlight .mb { color: #666666 } /* Literal.Number.Bin */\n",
       ".highlight .mf { color: #666666 } /* Literal.Number.Float */\n",
       ".highlight .mh { color: #666666 } /* Literal.Number.Hex */\n",
       ".highlight .mi { color: #666666 } /* Literal.Number.Integer */\n",
       ".highlight .mo { color: #666666 } /* Literal.Number.Oct */\n",
       ".highlight .sa { color: #BA2121 } /* Literal.String.Affix */\n",
       ".highlight .sb { color: #BA2121 } /* Literal.String.Backtick */\n",
       ".highlight .sc { color: #BA2121 } /* Literal.String.Char */\n",
       ".highlight .dl { color: #BA2121 } /* Literal.String.Delimiter */\n",
       ".highlight .sd { color: #BA2121; font-style: italic } /* Literal.String.Doc */\n",
       ".highlight .s2 { color: #BA2121 } /* Literal.String.Double */\n",
       ".highlight .se { color: #BB6622; font-weight: bold } /* Literal.String.Escape */\n",
       ".highlight .sh { color: #BA2121 } /* Literal.String.Heredoc */\n",
       ".highlight .si { color: #BB6688; font-weight: bold } /* Literal.String.Interpol */\n",
       ".highlight .sx { color: #008000 } /* Literal.String.Other */\n",
       ".highlight .sr { color: #BB6688 } /* Literal.String.Regex */\n",
       ".highlight .s1 { color: #BA2121 } /* Literal.String.Single */\n",
       ".highlight .ss { color: #19177C } /* Literal.String.Symbol */\n",
       ".highlight .bp { color: #008000 } /* Name.Builtin.Pseudo */\n",
       ".highlight .fm { color: #0000FF } /* Name.Function.Magic */\n",
       ".highlight .vc { color: #19177C } /* Name.Variable.Class */\n",
       ".highlight .vg { color: #19177C } /* Name.Variable.Global */\n",
       ".highlight .vi { color: #19177C } /* Name.Variable.Instance */\n",
       ".highlight .vm { color: #19177C } /* Name.Variable.Magic */\n",
       ".highlight .il { color: #666666 } /* Literal.Number.Integer.Long */\n",
       "        </style>\n",
       "        "
      ],
      "text/plain": [
       "<IPython.core.display.HTML object>"
      ]
     },
     "metadata": {},
     "output_type": "display_data"
    },
    {
     "data": {
      "text/html": [
       "<div class=\"highlight\"><pre><span></span><span class=\"lineno\"> 1 </span><span class=\"nv\">Answer</span><span class=\"s s-Atom\">:</span> <span class=\"mi\">1</span>\n",
       "<span class=\"lineno\"> 2 </span><span class=\"nf\">accept</span><span class=\"p\">(</span><span class=\"s s-Atom\">m2</span><span class=\"p\">,</span><span class=\"s s-Atom\">w1</span><span class=\"p\">)</span> <span class=\"nf\">accept</span><span class=\"p\">(</span><span class=\"s s-Atom\">m1</span><span class=\"p\">,</span><span class=\"s s-Atom\">w2</span><span class=\"p\">)</span> <span class=\"nf\">accept</span><span class=\"p\">(</span><span class=\"s s-Atom\">w3</span><span class=\"p\">,</span><span class=\"s s-Atom\">w3</span><span class=\"p\">)</span>\n",
       "<span class=\"lineno\"> 3 </span><span class=\"nv\">Answer</span><span class=\"s s-Atom\">:</span> <span class=\"mi\">2</span>\n",
       "<span class=\"lineno\"> 4 </span><span class=\"nf\">accept</span><span class=\"p\">(</span><span class=\"s s-Atom\">m2</span><span class=\"p\">,</span><span class=\"s s-Atom\">w1</span><span class=\"p\">)</span> <span class=\"nf\">accept</span><span class=\"p\">(</span><span class=\"s s-Atom\">m1</span><span class=\"p\">,</span><span class=\"s s-Atom\">w3</span><span class=\"p\">)</span> <span class=\"nf\">accept</span><span class=\"p\">(</span><span class=\"s s-Atom\">w2</span><span class=\"p\">,</span><span class=\"s s-Atom\">w2</span><span class=\"p\">)</span>\n",
       "<span class=\"lineno\"> 5 </span><span class=\"nv\">Answer</span><span class=\"s s-Atom\">:</span> <span class=\"mi\">3</span>\n",
       "<span class=\"lineno\"> 6 </span><span class=\"nf\">accept</span><span class=\"p\">(</span><span class=\"s s-Atom\">m1</span><span class=\"p\">,</span><span class=\"s s-Atom\">w1</span><span class=\"p\">)</span> <span class=\"nf\">accept</span><span class=\"p\">(</span><span class=\"s s-Atom\">m2</span><span class=\"p\">,</span><span class=\"s s-Atom\">m2</span><span class=\"p\">)</span> <span class=\"nf\">accept</span><span class=\"p\">(</span><span class=\"s s-Atom\">w3</span><span class=\"p\">,</span><span class=\"s s-Atom\">w3</span><span class=\"p\">)</span> <span class=\"nf\">accept</span><span class=\"p\">(</span><span class=\"s s-Atom\">w2</span><span class=\"p\">,</span><span class=\"s s-Atom\">w2</span><span class=\"p\">)</span>\n",
       "<span class=\"lineno\"> 7 </span><span class=\"nv\">SATISFIABLE</span>\n",
       "<span class=\"lineno\"> 8 </span>\n",
       "<span class=\"lineno\"> 9 </span><span class=\"nv\">Models</span>       <span class=\"s s-Atom\">:</span> <span class=\"mi\">3</span>\n",
       "<span class=\"lineno\">10 </span><span class=\"nv\">Calls</span>        <span class=\"s s-Atom\">:</span> <span class=\"mi\">1</span>\n",
       "<span class=\"lineno\">11 </span><span class=\"nv\">Time</span>         <span class=\"s s-Atom\">:</span> <span class=\"mf\">0.002</span><span class=\"nf\">s</span> <span class=\"p\">(</span><span class=\"nv\">Solving</span><span class=\"s s-Atom\">:</span> <span class=\"mf\">0.00</span><span class=\"s s-Atom\">s</span> <span class=\"mi\">1</span><span class=\"s s-Atom\">st</span> <span class=\"nv\">Model</span><span class=\"s s-Atom\">:</span> <span class=\"mf\">0.00</span><span class=\"s s-Atom\">s</span> <span class=\"nv\">Unsat</span><span class=\"s s-Atom\">:</span> <span class=\"mf\">0.00</span><span class=\"s s-Atom\">s</span><span class=\"p\">)</span>\n",
       "<span class=\"lineno\">12 </span><span class=\"nv\">CPU</span> <span class=\"nv\">Time</span>     <span class=\"s s-Atom\">:</span> <span class=\"mf\">0.002</span><span class=\"s s-Atom\">s</span>\n",
       "</pre></div>\n"
      ],
      "text/plain": [
       "'Answer: 1\\naccept(m2,w1) accept(m1,w2) accept(w3,w3)\\nAnswer: 2\\naccept(m2,w1) accept(m1,w3) accept(w2,w2)\\nAnswer: 3\\naccept(m1,w1) accept(m2,m2) accept(w3,w3) accept(w2,w2)\\nSATISFIABLE\\n\\nModels       : 3\\nCalls        : 1\\nTime         : 0.002s (Solving: 0.00s 1st Model: 0.00s Unsat: 0.00s)\\nCPU Time     : 0.002s'"
      ]
     },
     "metadata": {},
     "output_type": "display_data"
    }
   ],
   "source": [
    "%clingo -l clingo_rules filter_str --run --donot-display_input"
   ]
  },
  {
   "cell_type": "code",
   "execution_count": 7,
   "metadata": {
    "scrolled": true
   },
   "outputs": [],
   "source": [
    "clingo_soln, meta_data = run_clingo(clingo_rules=clingo_rules)"
   ]
  },
  {
   "cell_type": "code",
   "execution_count": 8,
   "metadata": {},
   "outputs": [
    {
     "data": {
      "text/plain": [
       "{'temporal_dec': {},\n",
       " 'attr_def': {'cost_3': ['BEARER', 'MATCH', 'COST'],\n",
       "  'accept_2': ['PERSON1', 'PERSON2'],\n",
       "  'manpropose_2': ['MAN_PROPOSER', 'WOMAN_PROPOSEE'],\n",
       "  'womanpropose_2': ['MAN_PROPOSEE', 'WOMAN_PROPOSER']},\n",
       " 'graphviz': {'graph': {'graph_type': 'undirected', 'styles': []},\n",
       "  'node': {},\n",
       "  'edge': {}}}"
      ]
     },
     "execution_count": 8,
     "metadata": {},
     "output_type": "execute_result"
    }
   ],
   "source": [
    "meta_data"
   ]
  },
  {
   "cell_type": "markdown",
   "metadata": {},
   "source": [
    "##### Next we load these PWs into PWE"
   ]
  },
  {
   "cell_type": "code",
   "execution_count": 9,
   "metadata": {},
   "outputs": [
    {
     "name": "stdout",
     "output_type": "stream",
     "text": [
      "Number of Models: 3\n"
     ]
    }
   ],
   "source": [
    "pw_rels_dfs, rel_schemas, pw_objs = load_worlds(asp_output=clingo_soln, meta_data=meta_data, reasoner='clingo')"
   ]
  },
  {
   "cell_type": "markdown",
   "metadata": {},
   "source": [
    "The following atom types were parsed:"
   ]
  },
  {
   "cell_type": "code",
   "execution_count": 10,
   "metadata": {},
   "outputs": [
    {
     "data": {
      "text/plain": [
       "[{'relation_name': 'womanpropose_2',\n",
       "  'arity': 2,\n",
       "  'r_id': 0,\n",
       "  'meta_data': {'attr_def': ['MAN_PROPOSEE', 'WOMAN_PROPOSER']}},\n",
       " {'relation_name': 'manpropose_2',\n",
       "  'arity': 2,\n",
       "  'r_id': 1,\n",
       "  'meta_data': {'attr_def': ['MAN_PROPOSER', 'WOMAN_PROPOSEE']}},\n",
       " {'relation_name': 'cost_3',\n",
       "  'arity': 3,\n",
       "  'r_id': 2,\n",
       "  'meta_data': {'attr_def': ['BEARER', 'MATCH', 'COST']}},\n",
       " {'relation_name': 'accept_2',\n",
       "  'arity': 2,\n",
       "  'r_id': 3,\n",
       "  'meta_data': {'attr_def': ['PERSON1', 'PERSON2']}}]"
      ]
     },
     "execution_count": 10,
     "metadata": {},
     "output_type": "execute_result"
    }
   ],
   "source": [
    "list(map(lambda x: x.__dict__, rel_schemas))"
   ]
  },
  {
   "cell_type": "code",
   "execution_count": 11,
   "metadata": {},
   "outputs": [
    {
     "data": {
      "text/plain": [
       "dict_keys(['womanpropose_2', 'manpropose_2', 'cost_3', 'accept_2'])"
      ]
     },
     "execution_count": 11,
     "metadata": {},
     "output_type": "execute_result"
    }
   ],
   "source": [
    "pw_rels_dfs.keys()"
   ]
  },
  {
   "cell_type": "markdown",
   "metadata": {},
   "source": [
    "The costs of the matchings are presented here. These are consistent among all PWs by design."
   ]
  },
  {
   "cell_type": "code",
   "execution_count": 12,
   "metadata": {
    "scrolled": true
   },
   "outputs": [
    {
     "data": {
      "text/html": [
       "<div>\n",
       "<style scoped>\n",
       "    .dataframe tbody tr th:only-of-type {\n",
       "        vertical-align: middle;\n",
       "    }\n",
       "\n",
       "    .dataframe tbody tr th {\n",
       "        vertical-align: top;\n",
       "    }\n",
       "\n",
       "    .dataframe thead th {\n",
       "        text-align: right;\n",
       "    }\n",
       "</style>\n",
       "<table border=\"1\" class=\"dataframe\">\n",
       "  <thead>\n",
       "    <tr style=\"text-align: right;\">\n",
       "      <th></th>\n",
       "      <th>pw</th>\n",
       "      <th>BEARER</th>\n",
       "      <th>MATCH</th>\n",
       "      <th>COST</th>\n",
       "    </tr>\n",
       "  </thead>\n",
       "  <tbody>\n",
       "    <tr>\n",
       "      <th>0</th>\n",
       "      <td>1</td>\n",
       "      <td>m1</td>\n",
       "      <td>w1</td>\n",
       "      <td>1</td>\n",
       "    </tr>\n",
       "    <tr>\n",
       "      <th>1</th>\n",
       "      <td>1</td>\n",
       "      <td>m1</td>\n",
       "      <td>w2</td>\n",
       "      <td>2</td>\n",
       "    </tr>\n",
       "    <tr>\n",
       "      <th>2</th>\n",
       "      <td>1</td>\n",
       "      <td>m1</td>\n",
       "      <td>w3</td>\n",
       "      <td>2</td>\n",
       "    </tr>\n",
       "    <tr>\n",
       "      <th>3</th>\n",
       "      <td>1</td>\n",
       "      <td>m1</td>\n",
       "      <td>m1</td>\n",
       "      <td>3</td>\n",
       "    </tr>\n",
       "    <tr>\n",
       "      <th>4</th>\n",
       "      <td>1</td>\n",
       "      <td>m2</td>\n",
       "      <td>w2</td>\n",
       "      <td>1</td>\n",
       "    </tr>\n",
       "    <tr>\n",
       "      <th>5</th>\n",
       "      <td>1</td>\n",
       "      <td>m2</td>\n",
       "      <td>w1</td>\n",
       "      <td>2</td>\n",
       "    </tr>\n",
       "    <tr>\n",
       "      <th>6</th>\n",
       "      <td>1</td>\n",
       "      <td>m2</td>\n",
       "      <td>m2</td>\n",
       "      <td>2</td>\n",
       "    </tr>\n",
       "    <tr>\n",
       "      <th>7</th>\n",
       "      <td>1</td>\n",
       "      <td>w1</td>\n",
       "      <td>m1</td>\n",
       "      <td>1</td>\n",
       "    </tr>\n",
       "    <tr>\n",
       "      <th>8</th>\n",
       "      <td>1</td>\n",
       "      <td>w1</td>\n",
       "      <td>m2</td>\n",
       "      <td>1</td>\n",
       "    </tr>\n",
       "    <tr>\n",
       "      <th>9</th>\n",
       "      <td>1</td>\n",
       "      <td>w1</td>\n",
       "      <td>w1</td>\n",
       "      <td>2</td>\n",
       "    </tr>\n",
       "    <tr>\n",
       "      <th>10</th>\n",
       "      <td>1</td>\n",
       "      <td>w2</td>\n",
       "      <td>m1</td>\n",
       "      <td>1</td>\n",
       "    </tr>\n",
       "    <tr>\n",
       "      <th>11</th>\n",
       "      <td>1</td>\n",
       "      <td>w2</td>\n",
       "      <td>w2</td>\n",
       "      <td>2</td>\n",
       "    </tr>\n",
       "    <tr>\n",
       "      <th>12</th>\n",
       "      <td>1</td>\n",
       "      <td>w3</td>\n",
       "      <td>m2</td>\n",
       "      <td>1</td>\n",
       "    </tr>\n",
       "    <tr>\n",
       "      <th>13</th>\n",
       "      <td>1</td>\n",
       "      <td>w3</td>\n",
       "      <td>m1</td>\n",
       "      <td>2</td>\n",
       "    </tr>\n",
       "    <tr>\n",
       "      <th>14</th>\n",
       "      <td>1</td>\n",
       "      <td>w3</td>\n",
       "      <td>w3</td>\n",
       "      <td>3</td>\n",
       "    </tr>\n",
       "    <tr>\n",
       "      <th>15</th>\n",
       "      <td>2</td>\n",
       "      <td>m1</td>\n",
       "      <td>w1</td>\n",
       "      <td>1</td>\n",
       "    </tr>\n",
       "    <tr>\n",
       "      <th>16</th>\n",
       "      <td>2</td>\n",
       "      <td>m1</td>\n",
       "      <td>w2</td>\n",
       "      <td>2</td>\n",
       "    </tr>\n",
       "    <tr>\n",
       "      <th>17</th>\n",
       "      <td>2</td>\n",
       "      <td>m1</td>\n",
       "      <td>w3</td>\n",
       "      <td>2</td>\n",
       "    </tr>\n",
       "    <tr>\n",
       "      <th>18</th>\n",
       "      <td>2</td>\n",
       "      <td>m1</td>\n",
       "      <td>m1</td>\n",
       "      <td>3</td>\n",
       "    </tr>\n",
       "    <tr>\n",
       "      <th>19</th>\n",
       "      <td>2</td>\n",
       "      <td>m2</td>\n",
       "      <td>w2</td>\n",
       "      <td>1</td>\n",
       "    </tr>\n",
       "    <tr>\n",
       "      <th>20</th>\n",
       "      <td>2</td>\n",
       "      <td>m2</td>\n",
       "      <td>w1</td>\n",
       "      <td>2</td>\n",
       "    </tr>\n",
       "    <tr>\n",
       "      <th>21</th>\n",
       "      <td>2</td>\n",
       "      <td>m2</td>\n",
       "      <td>m2</td>\n",
       "      <td>2</td>\n",
       "    </tr>\n",
       "    <tr>\n",
       "      <th>22</th>\n",
       "      <td>2</td>\n",
       "      <td>w1</td>\n",
       "      <td>m1</td>\n",
       "      <td>1</td>\n",
       "    </tr>\n",
       "    <tr>\n",
       "      <th>23</th>\n",
       "      <td>2</td>\n",
       "      <td>w1</td>\n",
       "      <td>m2</td>\n",
       "      <td>1</td>\n",
       "    </tr>\n",
       "    <tr>\n",
       "      <th>24</th>\n",
       "      <td>2</td>\n",
       "      <td>w1</td>\n",
       "      <td>w1</td>\n",
       "      <td>2</td>\n",
       "    </tr>\n",
       "    <tr>\n",
       "      <th>25</th>\n",
       "      <td>2</td>\n",
       "      <td>w2</td>\n",
       "      <td>m1</td>\n",
       "      <td>1</td>\n",
       "    </tr>\n",
       "    <tr>\n",
       "      <th>26</th>\n",
       "      <td>2</td>\n",
       "      <td>w2</td>\n",
       "      <td>w2</td>\n",
       "      <td>2</td>\n",
       "    </tr>\n",
       "    <tr>\n",
       "      <th>27</th>\n",
       "      <td>2</td>\n",
       "      <td>w3</td>\n",
       "      <td>m2</td>\n",
       "      <td>1</td>\n",
       "    </tr>\n",
       "    <tr>\n",
       "      <th>28</th>\n",
       "      <td>2</td>\n",
       "      <td>w3</td>\n",
       "      <td>m1</td>\n",
       "      <td>2</td>\n",
       "    </tr>\n",
       "    <tr>\n",
       "      <th>29</th>\n",
       "      <td>2</td>\n",
       "      <td>w3</td>\n",
       "      <td>w3</td>\n",
       "      <td>3</td>\n",
       "    </tr>\n",
       "    <tr>\n",
       "      <th>30</th>\n",
       "      <td>3</td>\n",
       "      <td>m1</td>\n",
       "      <td>w1</td>\n",
       "      <td>1</td>\n",
       "    </tr>\n",
       "    <tr>\n",
       "      <th>31</th>\n",
       "      <td>3</td>\n",
       "      <td>m1</td>\n",
       "      <td>w2</td>\n",
       "      <td>2</td>\n",
       "    </tr>\n",
       "    <tr>\n",
       "      <th>32</th>\n",
       "      <td>3</td>\n",
       "      <td>m1</td>\n",
       "      <td>w3</td>\n",
       "      <td>2</td>\n",
       "    </tr>\n",
       "    <tr>\n",
       "      <th>33</th>\n",
       "      <td>3</td>\n",
       "      <td>m1</td>\n",
       "      <td>m1</td>\n",
       "      <td>3</td>\n",
       "    </tr>\n",
       "    <tr>\n",
       "      <th>34</th>\n",
       "      <td>3</td>\n",
       "      <td>m2</td>\n",
       "      <td>w2</td>\n",
       "      <td>1</td>\n",
       "    </tr>\n",
       "    <tr>\n",
       "      <th>35</th>\n",
       "      <td>3</td>\n",
       "      <td>m2</td>\n",
       "      <td>w1</td>\n",
       "      <td>2</td>\n",
       "    </tr>\n",
       "    <tr>\n",
       "      <th>36</th>\n",
       "      <td>3</td>\n",
       "      <td>m2</td>\n",
       "      <td>m2</td>\n",
       "      <td>2</td>\n",
       "    </tr>\n",
       "    <tr>\n",
       "      <th>37</th>\n",
       "      <td>3</td>\n",
       "      <td>w1</td>\n",
       "      <td>m1</td>\n",
       "      <td>1</td>\n",
       "    </tr>\n",
       "    <tr>\n",
       "      <th>38</th>\n",
       "      <td>3</td>\n",
       "      <td>w1</td>\n",
       "      <td>m2</td>\n",
       "      <td>1</td>\n",
       "    </tr>\n",
       "    <tr>\n",
       "      <th>39</th>\n",
       "      <td>3</td>\n",
       "      <td>w1</td>\n",
       "      <td>w1</td>\n",
       "      <td>2</td>\n",
       "    </tr>\n",
       "    <tr>\n",
       "      <th>40</th>\n",
       "      <td>3</td>\n",
       "      <td>w2</td>\n",
       "      <td>m1</td>\n",
       "      <td>1</td>\n",
       "    </tr>\n",
       "    <tr>\n",
       "      <th>41</th>\n",
       "      <td>3</td>\n",
       "      <td>w2</td>\n",
       "      <td>w2</td>\n",
       "      <td>2</td>\n",
       "    </tr>\n",
       "    <tr>\n",
       "      <th>42</th>\n",
       "      <td>3</td>\n",
       "      <td>w3</td>\n",
       "      <td>m2</td>\n",
       "      <td>1</td>\n",
       "    </tr>\n",
       "    <tr>\n",
       "      <th>43</th>\n",
       "      <td>3</td>\n",
       "      <td>w3</td>\n",
       "      <td>m1</td>\n",
       "      <td>2</td>\n",
       "    </tr>\n",
       "    <tr>\n",
       "      <th>44</th>\n",
       "      <td>3</td>\n",
       "      <td>w3</td>\n",
       "      <td>w3</td>\n",
       "      <td>3</td>\n",
       "    </tr>\n",
       "  </tbody>\n",
       "</table>\n",
       "</div>"
      ],
      "text/plain": [
       "    pw BEARER MATCH COST\n",
       "0    1     m1    w1    1\n",
       "1    1     m1    w2    2\n",
       "2    1     m1    w3    2\n",
       "3    1     m1    m1    3\n",
       "4    1     m2    w2    1\n",
       "5    1     m2    w1    2\n",
       "6    1     m2    m2    2\n",
       "7    1     w1    m1    1\n",
       "8    1     w1    m2    1\n",
       "9    1     w1    w1    2\n",
       "10   1     w2    m1    1\n",
       "11   1     w2    w2    2\n",
       "12   1     w3    m2    1\n",
       "13   1     w3    m1    2\n",
       "14   1     w3    w3    3\n",
       "15   2     m1    w1    1\n",
       "16   2     m1    w2    2\n",
       "17   2     m1    w3    2\n",
       "18   2     m1    m1    3\n",
       "19   2     m2    w2    1\n",
       "20   2     m2    w1    2\n",
       "21   2     m2    m2    2\n",
       "22   2     w1    m1    1\n",
       "23   2     w1    m2    1\n",
       "24   2     w1    w1    2\n",
       "25   2     w2    m1    1\n",
       "26   2     w2    w2    2\n",
       "27   2     w3    m2    1\n",
       "28   2     w3    m1    2\n",
       "29   2     w3    w3    3\n",
       "30   3     m1    w1    1\n",
       "31   3     m1    w2    2\n",
       "32   3     m1    w3    2\n",
       "33   3     m1    m1    3\n",
       "34   3     m2    w2    1\n",
       "35   3     m2    w1    2\n",
       "36   3     m2    m2    2\n",
       "37   3     w1    m1    1\n",
       "38   3     w1    m2    1\n",
       "39   3     w1    w1    2\n",
       "40   3     w2    m1    1\n",
       "41   3     w2    w2    2\n",
       "42   3     w3    m2    1\n",
       "43   3     w3    m1    2\n",
       "44   3     w3    w3    3"
      ]
     },
     "execution_count": 12,
     "metadata": {},
     "output_type": "execute_result"
    }
   ],
   "source": [
    "pw_rels_dfs['cost_3']"
   ]
  },
  {
   "cell_type": "markdown",
   "metadata": {},
   "source": [
    "The accept_2 relation contains the matchings/marriages of the PWs"
   ]
  },
  {
   "cell_type": "code",
   "execution_count": 13,
   "metadata": {},
   "outputs": [
    {
     "data": {
      "text/html": [
       "<div>\n",
       "<style scoped>\n",
       "    .dataframe tbody tr th:only-of-type {\n",
       "        vertical-align: middle;\n",
       "    }\n",
       "\n",
       "    .dataframe tbody tr th {\n",
       "        vertical-align: top;\n",
       "    }\n",
       "\n",
       "    .dataframe thead th {\n",
       "        text-align: right;\n",
       "    }\n",
       "</style>\n",
       "<table border=\"1\" class=\"dataframe\">\n",
       "  <thead>\n",
       "    <tr style=\"text-align: right;\">\n",
       "      <th></th>\n",
       "      <th>pw</th>\n",
       "      <th>PERSON1</th>\n",
       "      <th>PERSON2</th>\n",
       "    </tr>\n",
       "  </thead>\n",
       "  <tbody>\n",
       "    <tr>\n",
       "      <th>0</th>\n",
       "      <td>1</td>\n",
       "      <td>m2</td>\n",
       "      <td>w1</td>\n",
       "    </tr>\n",
       "    <tr>\n",
       "      <th>1</th>\n",
       "      <td>1</td>\n",
       "      <td>m1</td>\n",
       "      <td>w2</td>\n",
       "    </tr>\n",
       "    <tr>\n",
       "      <th>2</th>\n",
       "      <td>1</td>\n",
       "      <td>w3</td>\n",
       "      <td>w3</td>\n",
       "    </tr>\n",
       "    <tr>\n",
       "      <th>3</th>\n",
       "      <td>2</td>\n",
       "      <td>m2</td>\n",
       "      <td>w1</td>\n",
       "    </tr>\n",
       "    <tr>\n",
       "      <th>4</th>\n",
       "      <td>2</td>\n",
       "      <td>m1</td>\n",
       "      <td>w3</td>\n",
       "    </tr>\n",
       "    <tr>\n",
       "      <th>5</th>\n",
       "      <td>2</td>\n",
       "      <td>w2</td>\n",
       "      <td>w2</td>\n",
       "    </tr>\n",
       "    <tr>\n",
       "      <th>6</th>\n",
       "      <td>3</td>\n",
       "      <td>m1</td>\n",
       "      <td>w1</td>\n",
       "    </tr>\n",
       "    <tr>\n",
       "      <th>7</th>\n",
       "      <td>3</td>\n",
       "      <td>m2</td>\n",
       "      <td>m2</td>\n",
       "    </tr>\n",
       "    <tr>\n",
       "      <th>8</th>\n",
       "      <td>3</td>\n",
       "      <td>w3</td>\n",
       "      <td>w3</td>\n",
       "    </tr>\n",
       "    <tr>\n",
       "      <th>9</th>\n",
       "      <td>3</td>\n",
       "      <td>w2</td>\n",
       "      <td>w2</td>\n",
       "    </tr>\n",
       "  </tbody>\n",
       "</table>\n",
       "</div>"
      ],
      "text/plain": [
       "   pw PERSON1 PERSON2\n",
       "0   1      m2      w1\n",
       "1   1      m1      w2\n",
       "2   1      w3      w3\n",
       "3   2      m2      w1\n",
       "4   2      m1      w3\n",
       "5   2      w2      w2\n",
       "6   3      m1      w1\n",
       "7   3      m2      m2\n",
       "8   3      w3      w3\n",
       "9   3      w2      w2"
      ]
     },
     "execution_count": 13,
     "metadata": {},
     "output_type": "execute_result"
    }
   ],
   "source": [
    "pw_rels_dfs['accept_2']"
   ]
  },
  {
   "cell_type": "markdown",
   "metadata": {},
   "source": [
    "##### We define a simple visualization function to better understand these matchings and associated costs:"
   ]
  },
  {
   "cell_type": "code",
   "execution_count": 14,
   "metadata": {},
   "outputs": [],
   "source": [
    "import networkx as nx\n",
    "from nxpd import draw\n",
    "from nxpd import nxpdParams\n",
    "nxpdParams['show'] = 'ipynb'\n",
    "\n",
    "def visualize_matchings(accept_df, pw_id):\n",
    "    G = nx.Graph()\n",
    "    accept_df = accept_df[accept_df['pw'] == pw_id]\n",
    "    people_list = list(np.unique(accept_df[['PERSON1', 'PERSON2']].values))\n",
    "    men_list = list(filter(lambda x: x[0] == 'm', people_list))\n",
    "    women_list = list(filter(lambda x: x[0] == 'w', people_list))\n",
    "    G.add_nodes_from(men_list, bipartite=0, style='filled', colorscheme='pastel19', \n",
    "                     fillcolor=4, color='black', fontname='Helvetica')\n",
    "    G.add_nodes_from(women_list, bipartite=1, style='filled', colorscheme='pastel19', \n",
    "                     fillcolor=5, color='black', fontname='Helvetica')\n",
    "    pos = nx.drawing.layout.bipartite_layout(G, men_list)\n",
    "    G.graph['layout'] = 'neato'\n",
    "    G.graph['label'] = \"Matching-{}\".format(pw_id)\n",
    "    for node in G.nodes: \n",
    "        G.nodes[node]['pos'] = \"{},{}!\".format(pos[node][0], pos[node][1])\n",
    "    for i, row in accept_df.iterrows():\n",
    "        if row['PERSON1'] != row['PERSON2']:\n",
    "            G.add_edge(row['PERSON1'], row['PERSON2'])\n",
    "        else:\n",
    "            G.nodes[row['PERSON1']]['color'] = '#ff0000'\n",
    "    return G"
   ]
  },
  {
   "cell_type": "code",
   "execution_count": 15,
   "metadata": {
    "scrolled": false
   },
   "outputs": [
    {
     "data": {
      "image/png": "[encoded data removed]",
      "text/plain": [
       "<IPython.core.display.Image object>"
      ]
     },
     "metadata": {},
     "output_type": "display_data"
    },
    {
     "data": {
      "image/png": "[encoded data removed]",
      "text/plain": [
       "<IPython.core.display.Image object>"
      ]
     },
     "metadata": {},
     "output_type": "display_data"
    },
    {
     "data": {
      "image/png": "[encoded data removed]",
      "text/plain": [
       "<IPython.core.display.Image object>"
      ]
     },
     "metadata": {},
     "output_type": "display_data"
    }
   ],
   "source": [
    "matching_vizs = [draw(visualize_matchings(pw_rels_dfs['accept_2'], pw_id=i)) for i in range(1, len(pw_objs)+1)]\n",
    "display(*matching_vizs)"
   ]
  },
  {
   "cell_type": "markdown",
   "metadata": {},
   "source": [
    "##### We define a simple function to calculate the cost of the matchings to each person in each of the PWs:"
   ]
  },
  {
   "cell_type": "code",
   "execution_count": 16,
   "metadata": {},
   "outputs": [],
   "source": [
    "def calculate_costs(dfs, rels, pw_id):\n",
    "    \n",
    "    def calc_costs_helper(pairings_df, costs_df, person):\n",
    "        \n",
    "        partner = None\n",
    "        if not pairings_df[pairings_df['PERSON1'] == person].empty:\n",
    "            partner = pairings_df[pairings_df['PERSON1'] == person].iloc[0]['PERSON2']\n",
    "        elif not pairings_df[pairings_df['PERSON2'] == person].empty:\n",
    "            partner = pairings_df[pairings_df['PERSON2'] == person].iloc[0]['PERSON1']\n",
    "        cost = None\n",
    "        if not costs_df[(costs_df['BEARER'] == person) & (costs_df['MATCH'] == partner)].empty:\n",
    "            cost = float(costs_df[(costs_df['BEARER'] == person) & (costs_df['MATCH'] == partner)].iloc[0]['COST'])\n",
    "        elif not costs_df[(costs_df['MATCH'] == person) & (costs_df['BEARER'] == partner)].empty:\n",
    "            cost = float(costs_df[(costs_df['MATCH'] == person) & (costs_df['BEARER'] == partner)].iloc[0]['COST'])\n",
    "        \n",
    "        return cost\n",
    "    \n",
    "    pairings_df = dfs['accept_2']\n",
    "    pairings_df = pairings_df[pairings_df['pw'] == pw_id]\n",
    "    \n",
    "    costs_df = dfs['cost_3']\n",
    "    costs_df = costs_df[costs_df['pw'] == pw_id]\n",
    "    \n",
    "    people_list = list(np.unique(pairings_df[['PERSON1', 'PERSON2']].values))\n",
    "    \n",
    "    people_cost = {person: calc_costs_helper(pairings_df, costs_df, person) for person in people_list}\n",
    "    \n",
    "    return people_cost"
   ]
  },
  {
   "cell_type": "code",
   "execution_count": 17,
   "metadata": {},
   "outputs": [],
   "source": [
    "costs_by_pw = {pw_id: calculate_costs(pw_rels_dfs, rel_schemas, pw_id) for pw_id in range(1, len(pw_objs)+1)}"
   ]
  },
  {
   "cell_type": "markdown",
   "metadata": {},
   "source": [
    "#### These are the \"costs\" for each person in these PWs"
   ]
  },
  {
   "cell_type": "code",
   "execution_count": 18,
   "metadata": {
    "scrolled": true
   },
   "outputs": [
    {
     "data": {
      "text/plain": [
       "{1: {'m1': 2.0, 'm2': 2.0, 'w1': 1.0, 'w2': 1.0, 'w3': 3.0},\n",
       " 2: {'m1': 2.0, 'm2': 2.0, 'w1': 1.0, 'w2': 2.0, 'w3': 2.0},\n",
       " 3: {'m1': 1.0, 'm2': 2.0, 'w1': 1.0, 'w2': 2.0, 'w3': 3.0}}"
      ]
     },
     "execution_count": 18,
     "metadata": {},
     "output_type": "execute_result"
    }
   ],
   "source": [
    "costs_by_pw"
   ]
  },
  {
   "cell_type": "markdown",
   "metadata": {},
   "source": [
    "#### However, as we know, these PWs are not equal in terms of qualities such as difference between costs to men and women (sex-ineequality cost), number of singles (cardinality cost), max cost any person has to bear (max-regret cost) and the total cost the people involved need to pay (egalitarian cost). We want to ideally minimize all these costs.\n",
    "\n",
    "We define these costs as follows and calculate them for each of the PWs."
   ]
  },
  {
   "cell_type": "code",
   "execution_count": 19,
   "metadata": {},
   "outputs": [],
   "source": [
    "def egalitarian_cost(costs):\n",
    "    return sum(costs.values())\n",
    "\n",
    "def sex_inequality_cost(costs):\n",
    "    men_cost = sum([val for key, val in costs.items() if key[0] == 'm'])\n",
    "    women_cost = sum([val for key, val in costs.items() if key[0] == 'w'])\n",
    "    return abs(men_cost - women_cost)\n",
    "\n",
    "def max_regret_cost(costs):\n",
    "    return max(costs.values())\n",
    "\n",
    "def cardinality_cost(dfs, rels, pw_id):\n",
    "    accept_df = dfs['accept_2']\n",
    "    accept_df = accept_df[accept_df['pw'] == pw_id]\n",
    "    return len(accept_df[accept_df['PERSON1'] == accept_df['PERSON2']])"
   ]
  },
  {
   "cell_type": "markdown",
   "metadata": {},
   "source": [
    "Defining a utility function here:"
   ]
  },
  {
   "cell_type": "code",
   "execution_count": 20,
   "metadata": {},
   "outputs": [],
   "source": [
    "def my_min(pw_to_costs_dict):\n",
    "    pw_ids, costs =  list(map(np.array, list(zip(*list(pw_to_costs_dict.items())))))\n",
    "    min_cost_indices = np.where(costs == costs.min())\n",
    "    return list(pw_ids[min_cost_indices])"
   ]
  },
  {
   "cell_type": "markdown",
   "metadata": {},
   "source": [
    "We now want to see how each PW fairs with respect to each of these metrics and which one is best at minimizing that particular cost."
   ]
  },
  {
   "cell_type": "code",
   "execution_count": 21,
   "metadata": {},
   "outputs": [
    {
     "name": "stdout",
     "output_type": "stream",
     "text": [
      "Egalitarian Cost for PW-1 is 9.0\n",
      "Egalitarian Cost for PW-2 is 9.0\n",
      "Egalitarian Cost for PW-3 is 9.0\n",
      "PW-1,2,3 minimize egalitarian cost.\n"
     ]
    }
   ],
   "source": [
    "# MINIMIZE EGALITARIAN COST (Average Regret)\n",
    "eg_costs = {pw_id: egalitarian_cost(costs) for pw_id, costs in costs_by_pw.items()}\n",
    "eg_cost_minimizing_pws = list(map(str, my_min(eg_costs)))\n",
    "for pw_id in range(1, len(pw_objs)+1):\n",
    "    print(\"Egalitarian Cost for PW-{} is {}\".format(pw_id, eg_costs[pw_id]))\n",
    "print(\"PW-{} minimize{} egalitarian cost.\".format(','.join(eg_cost_minimizing_pws), \n",
    "                                                  's' if len(eg_cost_minimizing_pws) == 1 else ''))"
   ]
  },
  {
   "cell_type": "code",
   "execution_count": 22,
   "metadata": {},
   "outputs": [
    {
     "name": "stdout",
     "output_type": "stream",
     "text": [
      "Sex-Inequality Cost for PW-1 is 1.0\n",
      "Sex-Inequality Cost for PW-2 is 1.0\n",
      "Sex-Inequality Cost for PW-3 is 3.0\n",
      "PW-1,2 minimize sex-inequality cost.\n"
     ]
    }
   ],
   "source": [
    "# MINIMIZE SEX-INEQUALITY COST\n",
    "sex_ineq_costs = {pw_id: sex_inequality_cost(costs) for pw_id, costs in costs_by_pw.items()}\n",
    "sex_ineq_cost_minimizing_pws = list(map(str, my_min(sex_ineq_costs)))\n",
    "for pw_id in range(1, len(pw_objs)+1):\n",
    "    print(\"Sex-Inequality Cost for PW-{} is {}\".format(pw_id, sex_ineq_costs[pw_id]))\n",
    "print(\"PW-{} minimize{} sex-inequality cost.\".format(','.join(sex_ineq_cost_minimizing_pws), \n",
    "                                                     's' if len(sex_ineq_cost_minimizing_pws) == 1 else ''))"
   ]
  },
  {
   "cell_type": "code",
   "execution_count": 23,
   "metadata": {},
   "outputs": [
    {
     "name": "stdout",
     "output_type": "stream",
     "text": [
      "Max-Regret Cost for PW-1 is 3.0\n",
      "Max-Regret Cost for PW-2 is 2.0\n",
      "Max-Regret Cost for PW-3 is 3.0\n",
      "PW-2 minimizes max-regret cost.\n"
     ]
    }
   ],
   "source": [
    "# MINIMIZE MAX-REGRET COST\n",
    "max_regret_costs = {pw_id: max_regret_cost(costs) for pw_id, costs in costs_by_pw.items()}\n",
    "max_regret_cost_minimizing_pw = list(map(str, my_min(max_regret_costs)))\n",
    "for pw_id in range(1, len(pw_objs)+1):\n",
    "    print(\"Max-Regret Cost for PW-{} is {}\".format(pw_id, max_regret_costs[pw_id]))\n",
    "print(\"PW-{} minimize{} max-regret cost.\".format(','.join(max_regret_cost_minimizing_pw), \n",
    "                                                 's' if len(max_regret_cost_minimizing_pw) == 1 else ''))"
   ]
  },
  {
   "cell_type": "code",
   "execution_count": 24,
   "metadata": {},
   "outputs": [
    {
     "name": "stdout",
     "output_type": "stream",
     "text": [
      "Cardinality Cost for PW-1 is 1\n",
      "Cardinality Cost for PW-2 is 1\n",
      "Cardinality Cost for PW-3 is 3\n",
      "PW-1,2 minimize Cardinality cost.\n"
     ]
    }
   ],
   "source": [
    "# MINIMIZE CARDINALITY COST (Number of Singles)\n",
    "cardinality_costs = {pw_id: cardinality_cost(pw_rels_dfs, rel_schemas, pw_id) for pw_id, costs in costs_by_pw.items()}\n",
    "cardinality_cost_minimizing_pw = list(map(str, my_min(cardinality_costs)))\n",
    "for pw_id in range(1, len(pw_objs)+1):\n",
    "    print(\"Cardinality Cost for PW-{} is {}\".format(pw_id, cardinality_costs[pw_id]))\n",
    "print(\"PW-{} minimize{} Cardinality cost.\".format(','.join(cardinality_cost_minimizing_pw), \n",
    "                                                  's' if len(cardinality_cost_minimizing_pw) == 1 else ''))"
   ]
  },
  {
   "cell_type": "code",
   "execution_count": null,
   "metadata": {},
   "outputs": [],
   "source": []
  }
 ],
 "metadata": {
  "kernelspec": {
   "display_name": "Python 3",
   "language": "python",
   "name": "python3"
  },
  "language_info": {
   "codemirror_mode": {
    "name": "ipython",
    "version": 3
   },
   "file_extension": ".py",
   "mimetype": "text/x-python",
   "name": "python",
   "nbconvert_exporter": "python",
   "pygments_lexer": "ipython3",
   "version": "3.6.8"
  }
 },
 "nbformat": 4,
 "nbformat_minor": 2
}
