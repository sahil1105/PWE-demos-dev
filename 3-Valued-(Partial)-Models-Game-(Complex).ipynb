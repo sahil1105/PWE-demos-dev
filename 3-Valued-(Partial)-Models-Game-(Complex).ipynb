{
 "cells": [
  {
   "cell_type": "markdown",
   "metadata": {},
   "source": [
    "## Imports"
   ]
  },
  {
   "cell_type": "code",
   "execution_count": 1,
   "metadata": {},
   "outputs": [],
   "source": [
    "from PW_explorer.run_dlv import run_dlv\n",
    "from PW_explorer.run_clingo import run_clingo\n",
    "from PW_explorer.load_worlds import load_worlds\n",
    "from PW_explorer.export import PWEExport\n",
    "from PW_explorer.pwe_helper import pw_slicer, rel_slicer\n",
    "from PW_explorer.pwe_nb_helper import ASPRules\n",
    "import pandas as pd\n",
    "import numpy as np\n",
    "import PW_explorer"
   ]
  },
  {
   "cell_type": "code",
   "execution_count": 2,
   "metadata": {},
   "outputs": [
    {
     "data": {
      "application/javascript": [
       "IPython.CodeCell.options_default.highlight_modes['prolog'] = {'reg':[/^%%(clingo|dlv)/]};"
      ]
     },
     "metadata": {},
     "output_type": "display_data"
    }
   ],
   "source": [
    "%load_ext PWE_NB_Extension"
   ]
  },
  {
   "cell_type": "markdown",
   "metadata": {},
   "source": [
    "## User-defined Visualization Function"
   ]
  },
  {
   "cell_type": "code",
   "execution_count": 3,
   "metadata": {},
   "outputs": [],
   "source": [
    "# Define a simple visualization function to show-off our results\n",
    "import networkx as nx\n",
    "import nxpd\n",
    "from nxpd import draw\n",
    "from nxpd import nxpdParams\n",
    "nxpdParams['show'] = 'ipynb'\n",
    "def visualize_game(moves_df, win_df, drawn_df, lost_df):\n",
    "    G = nx.DiGraph()\n",
    "    G.add_edges_from(list(zip(list(moves_df['x1']), list(moves_df['x2']))))\n",
    "    for node in G.nodes:\n",
    "        G.nodes[node]['style'] = 'filled'\n",
    "        G.nodes[node]['fontname'] = 'Helvetica'\n",
    "        G.nodes[node]['color'] = 'black'\n",
    "        G.node[node]['fillcolor'] = '#FF8080'\n",
    "    if win_df is not None:\n",
    "        for node in list(win_df['x1']): G.nodes[node]['fillcolor'] = '#80FF80'\n",
    "    if drawn_df is not None:\n",
    "        for node in list(drawn_df['x1']): G.nodes[node]['fillcolor'] = '#FFFF80'\n",
    "    if lost_df is not None:\n",
    "        for node in list(lost_df['x1']): G.nodes[node]['fillcolor'] = '#FF8080'\n",
    "    return G"
   ]
  },
  {
   "cell_type": "markdown",
   "metadata": {},
   "source": [
    "## Game encoding"
   ]
  },
  {
   "cell_type": "markdown",
   "metadata": {},
   "source": [
    "Rules for a complicated game.\n",
    "\n",
    "A state is a winning state if there exists a move that takes it to a state that is not a winning state."
   ]
  },
  {
   "cell_type": "markdown",
   "metadata": {},
   "source": [
    "#### Now we use the WFS mode in dlv to get a 3 valued model for this problem."
   ]
  },
  {
   "cell_type": "code",
   "execution_count": 5,
   "metadata": {},
   "outputs": [
    {
     "name": "stdout",
     "output_type": "stream",
     "text": [
      "Output:\n"
     ]
    },
    {
     "data": {
      "text/html": [
       "\n",
       "        <style>\n",
       "        .highlight .hll { background-color: #ffffcc }\n",
       ".highlight  { background: #f8f8f8; }\n",
       ".highlight .c { color: #408080; font-style: italic } /* Comment */\n",
       ".highlight .err { border: 1px solid #FF0000 } /* Error */\n",
       ".highlight .k { color: #008000; font-weight: bold } /* Keyword */\n",
       ".highlight .o { color: #666666 } /* Operator */\n",
       ".highlight .ch { color: #408080; font-style: italic } /* Comment.Hashbang */\n",
       ".highlight .cm { color: #408080; font-style: italic } /* Comment.Multiline */\n",
       ".highlight .cp { color: #BC7A00 } /* Comment.Preproc */\n",
       ".highlight .cpf { color: #408080; font-style: italic } /* Comment.PreprocFile */\n",
       ".highlight .c1 { color: #408080; font-style: italic } /* Comment.Single */\n",
       ".highlight .cs { color: #408080; font-style: italic } /* Comment.Special */\n",
       ".highlight .gd { color: #A00000 } /* Generic.Deleted */\n",
       ".highlight .ge { font-style: italic } /* Generic.Emph */\n",
       ".highlight .gr { color: #FF0000 } /* Generic.Error */\n",
       ".highlight .gh { color: #000080; font-weight: bold } /* Generic.Heading */\n",
       ".highlight .gi { color: #00A000 } /* Generic.Inserted */\n",
       ".highlight .go { color: #888888 } /* Generic.Output */\n",
       ".highlight .gp { color: #000080; font-weight: bold } /* Generic.Prompt */\n",
       ".highlight .gs { font-weight: bold } /* Generic.Strong */\n",
       ".highlight .gu { color: #800080; font-weight: bold } /* Generic.Subheading */\n",
       ".highlight .gt { color: #0044DD } /* Generic.Traceback */\n",
       ".highlight .kc { color: #008000; font-weight: bold } /* Keyword.Constant */\n",
       ".highlight .kd { color: #008000; font-weight: bold } /* Keyword.Declaration */\n",
       ".highlight .kn { color: #008000; font-weight: bold } /* Keyword.Namespace */\n",
       ".highlight .kp { color: #008000 } /* Keyword.Pseudo */\n",
       ".highlight .kr { color: #008000; font-weight: bold } /* Keyword.Reserved */\n",
       ".highlight .kt { color: #B00040 } /* Keyword.Type */\n",
       ".highlight .m { color: #666666 } /* Literal.Number */\n",
       ".highlight .s { color: #BA2121 } /* Literal.String */\n",
       ".highlight .na { color: #7D9029 } /* Name.Attribute */\n",
       ".highlight .nb { color: #008000 } /* Name.Builtin */\n",
       ".highlight .nc { color: #0000FF; font-weight: bold } /* Name.Class */\n",
       ".highlight .no { color: #880000 } /* Name.Constant */\n",
       ".highlight .nd { color: #AA22FF } /* Name.Decorator */\n",
       ".highlight .ni { color: #999999; font-weight: bold } /* Name.Entity */\n",
       ".highlight .ne { color: #D2413A; font-weight: bold } /* Name.Exception */\n",
       ".highlight .nf { color: #0000FF } /* Name.Function */\n",
       ".highlight .nl { color: #A0A000 } /* Name.Label */\n",
       ".highlight .nn { color: #0000FF; font-weight: bold } /* Name.Namespace */\n",
       ".highlight .nt { color: #008000; font-weight: bold } /* Name.Tag */\n",
       ".highlight .nv { color: #19177C } /* Name.Variable */\n",
       ".highlight .ow { color: #AA22FF; font-weight: bold } /* Operator.Word */\n",
       ".highlight .w { color: #bbbbbb } /* Text.Whitespace */\n",
       ".highlight .mb { color: #666666 } /* Literal.Number.Bin */\n",
       ".highlight .mf { color: #666666 } /* Literal.Number.Float */\n",
       ".highlight .mh { color: #666666 } /* Literal.Number.Hex */\n",
       ".highlight .mi { color: #666666 } /* Literal.Number.Integer */\n",
       ".highlight .mo { color: #666666 } /* Literal.Number.Oct */\n",
       ".highlight .sa { color: #BA2121 } /* Literal.String.Affix */\n",
       ".highlight .sb { color: #BA2121 } /* Literal.String.Backtick */\n",
       ".highlight .sc { color: #BA2121 } /* Literal.String.Char */\n",
       ".highlight .dl { color: #BA2121 } /* Literal.String.Delimiter */\n",
       ".highlight .sd { color: #BA2121; font-style: italic } /* Literal.String.Doc */\n",
       ".highlight .s2 { color: #BA2121 } /* Literal.String.Double */\n",
       ".highlight .se { color: #BB6622; font-weight: bold } /* Literal.String.Escape */\n",
       ".highlight .sh { color: #BA2121 } /* Literal.String.Heredoc */\n",
       ".highlight .si { color: #BB6688; font-weight: bold } /* Literal.String.Interpol */\n",
       ".highlight .sx { color: #008000 } /* Literal.String.Other */\n",
       ".highlight .sr { color: #BB6688 } /* Literal.String.Regex */\n",
       ".highlight .s1 { color: #BA2121 } /* Literal.String.Single */\n",
       ".highlight .ss { color: #19177C } /* Literal.String.Symbol */\n",
       ".highlight .bp { color: #008000 } /* Name.Builtin.Pseudo */\n",
       ".highlight .fm { color: #0000FF } /* Name.Function.Magic */\n",
       ".highlight .vc { color: #19177C } /* Name.Variable.Class */\n",
       ".highlight .vg { color: #19177C } /* Name.Variable.Global */\n",
       ".highlight .vi { color: #19177C } /* Name.Variable.Instance */\n",
       ".highlight .vm { color: #19177C } /* Name.Variable.Magic */\n",
       ".highlight .il { color: #666666 } /* Literal.Number.Integer.Long */\n",
       "        </style>\n",
       "        "
      ],
      "text/plain": [
       "<IPython.core.display.HTML object>"
      ]
     },
     "metadata": {},
     "output_type": "display_data"
    },
    {
     "data": {
      "text/html": [
       "<div class=\"highlight\"><pre><span></span><span class=\"lineno\">1 </span><span class=\"nv\">True</span><span class=\"s s-Atom\">:</span> <span class=\"p\">{</span><span class=\"nf\">move</span><span class=\"p\">(</span><span class=\"s s-Atom\">a</span><span class=\"p\">,</span><span class=\"s s-Atom\">b</span><span class=\"p\">),</span> <span class=\"nf\">move</span><span class=\"p\">(</span><span class=\"s s-Atom\">a</span><span class=\"p\">,</span><span class=\"s s-Atom\">c</span><span class=\"p\">),</span> <span class=\"nf\">move</span><span class=\"p\">(</span><span class=\"s s-Atom\">c</span><span class=\"p\">,</span><span class=\"s s-Atom\">d</span><span class=\"p\">),</span> <span class=\"nf\">move</span><span class=\"p\">(</span><span class=\"s s-Atom\">c</span><span class=\"p\">,</span><span class=\"s s-Atom\">e</span><span class=\"p\">),</span> <span class=\"nf\">move</span><span class=\"p\">(</span><span class=\"s s-Atom\">k</span><span class=\"p\">,</span><span class=\"s s-Atom\">l</span><span class=\"p\">),</span> <span class=\"nf\">move</span><span class=\"p\">(</span><span class=\"s s-Atom\">l</span><span class=\"p\">,</span><span class=\"s s-Atom\">e</span><span class=\"p\">),</span> <span class=\"nf\">move</span><span class=\"p\">(</span><span class=\"s s-Atom\">l</span><span class=\"p\">,</span><span class=\"s s-Atom\">m</span><span class=\"p\">),</span> <span class=\"nf\">move</span><span class=\"p\">(</span><span class=\"s s-Atom\">d</span><span class=\"p\">,</span><span class=\"s s-Atom\">e</span><span class=\"p\">),</span> <span class=\"nf\">move</span><span class=\"p\">(</span><span class=\"s s-Atom\">d</span><span class=\"p\">,</span><span class=\"s s-Atom\">f</span><span class=\"p\">),</span> <span class=\"nf\">move</span><span class=\"p\">(</span><span class=\"s s-Atom\">d</span><span class=\"p\">,</span><span class=\"s s-Atom\">g</span><span class=\"p\">),</span> <span class=\"nf\">move</span><span class=\"p\">(</span><span class=\"s s-Atom\">e</span><span class=\"p\">,</span><span class=\"s s-Atom\">d</span><span class=\"p\">),</span> <span class=\"nf\">move</span><span class=\"p\">(</span><span class=\"s s-Atom\">e</span><span class=\"p\">,</span><span class=\"s s-Atom\">m</span><span class=\"p\">),</span> <span class=\"nf\">move</span><span class=\"p\">(</span><span class=\"s s-Atom\">e</span><span class=\"p\">,</span><span class=\"s s-Atom\">h</span><span class=\"p\">),</span> <span class=\"nf\">move</span><span class=\"p\">(</span><span class=\"s s-Atom\">m</span><span class=\"p\">,</span><span class=\"s s-Atom\">e</span><span class=\"p\">),</span> <span class=\"nf\">move</span><span class=\"p\">(</span><span class=\"s s-Atom\">m</span><span class=\"p\">,</span><span class=\"s s-Atom\">n</span><span class=\"p\">),</span> <span class=\"nf\">move</span><span class=\"p\">(</span><span class=\"s s-Atom\">g</span><span class=\"p\">,</span><span class=\"s s-Atom\">d</span><span class=\"p\">),</span> <span class=\"nf\">move</span><span class=\"p\">(</span><span class=\"s s-Atom\">n</span><span class=\"p\">,</span><span class=\"s s-Atom\">m</span><span class=\"p\">),</span> <span class=\"nf\">win</span><span class=\"p\">(</span><span class=\"s s-Atom\">a</span><span class=\"p\">),</span> <span class=\"nf\">win</span><span class=\"p\">(</span><span class=\"s s-Atom\">d</span><span class=\"p\">),</span> <span class=\"nf\">win</span><span class=\"p\">(</span><span class=\"s s-Atom\">e</span><span class=\"p\">)}</span>\n",
       "<span class=\"lineno\">2 </span><span class=\"nv\">Undefined</span><span class=\"s s-Atom\">:</span> <span class=\"p\">{</span><span class=\"nf\">win</span><span class=\"p\">(</span><span class=\"s s-Atom\">l</span><span class=\"p\">),</span> <span class=\"nf\">win</span><span class=\"p\">(</span><span class=\"s s-Atom\">k</span><span class=\"p\">),</span> <span class=\"nf\">win</span><span class=\"p\">(</span><span class=\"s s-Atom\">m</span><span class=\"p\">),</span> <span class=\"nf\">win</span><span class=\"p\">(</span><span class=\"s s-Atom\">n</span><span class=\"p\">)}</span>\n",
       "</pre></div>\n"
      ],
      "text/plain": [
       "'True: {move(a,b), move(a,c), move(c,d), move(c,e), move(k,l), move(l,e), move(l,m), move(d,e), move(d,f), move(d,g), move(e,d), move(e,m), move(e,h), move(m,e), move(m,n), move(g,d), move(n,m), win(a), win(d), win(e)}\\nUndefined: {win(l), win(k), win(m), win(n)}'"
      ]
     },
     "metadata": {},
     "output_type": "display_data"
    }
   ],
   "source": [
    "%%dlv --load_combined_input_to dlv_rules --save_meta_data_to meta_data --saveto dlv_soln -wfs --donot-display_input\n",
    "move(a,b). move(a,c). move(k,l).\n",
    "move(c,d). move(c,e). move(l,e). move(l,m).\n",
    "move(d,e). move(e,d). move(e,m). move(m,e).\n",
    "move(d,f). move(d,g). move(g,d). move(e,h). move(m,n). move(n,m).\n",
    "win(X) :- move(X,Y), not win(Y)."
   ]
  },
  {
   "cell_type": "markdown",
   "metadata": {},
   "source": [
    "So 'a', 'd' and 'e' are winning states in all cases."
   ]
  },
  {
   "cell_type": "markdown",
   "metadata": {},
   "source": [
    "Loading this 3 valued model into PWE"
   ]
  },
  {
   "cell_type": "code",
   "execution_count": 6,
   "metadata": {},
   "outputs": [],
   "source": [
    "pw_rels_dfs, rel_schemas, pw_objs = load_worlds(asp_output=dlv_soln, meta_data=meta_data, reasoner='dlv')"
   ]
  },
  {
   "cell_type": "code",
   "execution_count": 7,
   "metadata": {},
   "outputs": [
    {
     "data": {
      "text/plain": [
       "[{'relation_name': 'move_2', 'arity': 2, 'r_id': 0, 'meta_data': {}},\n",
       " {'relation_name': 'win_1', 'arity': 1, 'r_id': 1, 'meta_data': {}}]"
      ]
     },
     "execution_count": 7,
     "metadata": {},
     "output_type": "execute_result"
    }
   ],
   "source": [
    "# Parsed Relations\n",
    "list(map(lambda x: x.__dict__, rel_schemas))"
   ]
  },
  {
   "cell_type": "code",
   "execution_count": 8,
   "metadata": {},
   "outputs": [
    {
     "data": {
      "text/plain": [
       "dict_keys(['move_2', 'win_1'])"
      ]
     },
     "execution_count": 8,
     "metadata": {},
     "output_type": "execute_result"
    }
   ],
   "source": [
    "pw_rels_dfs.keys()"
   ]
  },
  {
   "cell_type": "code",
   "execution_count": 9,
   "metadata": {},
   "outputs": [
    {
     "data": {
      "text/html": [
       "<div>\n",
       "<style scoped>\n",
       "    .dataframe tbody tr th:only-of-type {\n",
       "        vertical-align: middle;\n",
       "    }\n",
       "\n",
       "    .dataframe tbody tr th {\n",
       "        vertical-align: top;\n",
       "    }\n",
       "\n",
       "    .dataframe thead th {\n",
       "        text-align: right;\n",
       "    }\n",
       "</style>\n",
       "<table border=\"1\" class=\"dataframe\">\n",
       "  <thead>\n",
       "    <tr style=\"text-align: right;\">\n",
       "      <th></th>\n",
       "      <th>wfs_status</th>\n",
       "      <th>x1</th>\n",
       "    </tr>\n",
       "  </thead>\n",
       "  <tbody>\n",
       "    <tr>\n",
       "      <th>0</th>\n",
       "      <td>true</td>\n",
       "      <td>a</td>\n",
       "    </tr>\n",
       "    <tr>\n",
       "      <th>1</th>\n",
       "      <td>true</td>\n",
       "      <td>d</td>\n",
       "    </tr>\n",
       "    <tr>\n",
       "      <th>2</th>\n",
       "      <td>true</td>\n",
       "      <td>e</td>\n",
       "    </tr>\n",
       "    <tr>\n",
       "      <th>3</th>\n",
       "      <td>undefined</td>\n",
       "      <td>l</td>\n",
       "    </tr>\n",
       "    <tr>\n",
       "      <th>4</th>\n",
       "      <td>undefined</td>\n",
       "      <td>k</td>\n",
       "    </tr>\n",
       "    <tr>\n",
       "      <th>5</th>\n",
       "      <td>undefined</td>\n",
       "      <td>m</td>\n",
       "    </tr>\n",
       "    <tr>\n",
       "      <th>6</th>\n",
       "      <td>undefined</td>\n",
       "      <td>n</td>\n",
       "    </tr>\n",
       "  </tbody>\n",
       "</table>\n",
       "</div>"
      ],
      "text/plain": [
       "  wfs_status x1\n",
       "0       true  a\n",
       "1       true  d\n",
       "2       true  e\n",
       "3  undefined  l\n",
       "4  undefined  k\n",
       "5  undefined  m\n",
       "6  undefined  n"
      ]
     },
     "execution_count": 9,
     "metadata": {},
     "output_type": "execute_result"
    }
   ],
   "source": [
    "pw_rels_dfs['win_1']"
   ]
  },
  {
   "cell_type": "code",
   "execution_count": 10,
   "metadata": {
    "scrolled": true
   },
   "outputs": [
    {
     "data": {
      "text/html": [
       "<div>\n",
       "<style scoped>\n",
       "    .dataframe tbody tr th:only-of-type {\n",
       "        vertical-align: middle;\n",
       "    }\n",
       "\n",
       "    .dataframe tbody tr th {\n",
       "        vertical-align: top;\n",
       "    }\n",
       "\n",
       "    .dataframe thead th {\n",
       "        text-align: right;\n",
       "    }\n",
       "</style>\n",
       "<table border=\"1\" class=\"dataframe\">\n",
       "  <thead>\n",
       "    <tr style=\"text-align: right;\">\n",
       "      <th></th>\n",
       "      <th>wfs_status</th>\n",
       "      <th>x1</th>\n",
       "      <th>x2</th>\n",
       "    </tr>\n",
       "  </thead>\n",
       "  <tbody>\n",
       "    <tr>\n",
       "      <th>0</th>\n",
       "      <td>true</td>\n",
       "      <td>a</td>\n",
       "      <td>b</td>\n",
       "    </tr>\n",
       "    <tr>\n",
       "      <th>1</th>\n",
       "      <td>true</td>\n",
       "      <td>a</td>\n",
       "      <td>c</td>\n",
       "    </tr>\n",
       "    <tr>\n",
       "      <th>2</th>\n",
       "      <td>true</td>\n",
       "      <td>c</td>\n",
       "      <td>d</td>\n",
       "    </tr>\n",
       "    <tr>\n",
       "      <th>3</th>\n",
       "      <td>true</td>\n",
       "      <td>c</td>\n",
       "      <td>e</td>\n",
       "    </tr>\n",
       "    <tr>\n",
       "      <th>4</th>\n",
       "      <td>true</td>\n",
       "      <td>k</td>\n",
       "      <td>l</td>\n",
       "    </tr>\n",
       "    <tr>\n",
       "      <th>5</th>\n",
       "      <td>true</td>\n",
       "      <td>l</td>\n",
       "      <td>e</td>\n",
       "    </tr>\n",
       "    <tr>\n",
       "      <th>6</th>\n",
       "      <td>true</td>\n",
       "      <td>l</td>\n",
       "      <td>m</td>\n",
       "    </tr>\n",
       "    <tr>\n",
       "      <th>7</th>\n",
       "      <td>true</td>\n",
       "      <td>d</td>\n",
       "      <td>e</td>\n",
       "    </tr>\n",
       "    <tr>\n",
       "      <th>8</th>\n",
       "      <td>true</td>\n",
       "      <td>d</td>\n",
       "      <td>f</td>\n",
       "    </tr>\n",
       "    <tr>\n",
       "      <th>9</th>\n",
       "      <td>true</td>\n",
       "      <td>d</td>\n",
       "      <td>g</td>\n",
       "    </tr>\n",
       "    <tr>\n",
       "      <th>10</th>\n",
       "      <td>true</td>\n",
       "      <td>e</td>\n",
       "      <td>d</td>\n",
       "    </tr>\n",
       "    <tr>\n",
       "      <th>11</th>\n",
       "      <td>true</td>\n",
       "      <td>e</td>\n",
       "      <td>m</td>\n",
       "    </tr>\n",
       "    <tr>\n",
       "      <th>12</th>\n",
       "      <td>true</td>\n",
       "      <td>e</td>\n",
       "      <td>h</td>\n",
       "    </tr>\n",
       "    <tr>\n",
       "      <th>13</th>\n",
       "      <td>true</td>\n",
       "      <td>m</td>\n",
       "      <td>e</td>\n",
       "    </tr>\n",
       "    <tr>\n",
       "      <th>14</th>\n",
       "      <td>true</td>\n",
       "      <td>m</td>\n",
       "      <td>n</td>\n",
       "    </tr>\n",
       "    <tr>\n",
       "      <th>15</th>\n",
       "      <td>true</td>\n",
       "      <td>g</td>\n",
       "      <td>d</td>\n",
       "    </tr>\n",
       "    <tr>\n",
       "      <th>16</th>\n",
       "      <td>true</td>\n",
       "      <td>n</td>\n",
       "      <td>m</td>\n",
       "    </tr>\n",
       "  </tbody>\n",
       "</table>\n",
       "</div>"
      ],
      "text/plain": [
       "   wfs_status x1 x2\n",
       "0        true  a  b\n",
       "1        true  a  c\n",
       "2        true  c  d\n",
       "3        true  c  e\n",
       "4        true  k  l\n",
       "5        true  l  e\n",
       "6        true  l  m\n",
       "7        true  d  e\n",
       "8        true  d  f\n",
       "9        true  d  g\n",
       "10       true  e  d\n",
       "11       true  e  m\n",
       "12       true  e  h\n",
       "13       true  m  e\n",
       "14       true  m  n\n",
       "15       true  g  d\n",
       "16       true  n  m"
      ]
     },
     "execution_count": 10,
     "metadata": {},
     "output_type": "execute_result"
    }
   ],
   "source": [
    "pw_rels_dfs['move_2']"
   ]
  },
  {
   "cell_type": "markdown",
   "metadata": {},
   "source": [
    "#### Now we can export these back as ASP for further analysis"
   ]
  },
  {
   "cell_type": "code",
   "execution_count": 11,
   "metadata": {},
   "outputs": [
    {
     "data": {
      "text/html": [
       "\n",
       "        <style>\n",
       "        .highlight .hll { background-color: #ffffcc }\n",
       ".highlight  { background: #f8f8f8; }\n",
       ".highlight .c { color: #408080; font-style: italic } /* Comment */\n",
       ".highlight .err { border: 1px solid #FF0000 } /* Error */\n",
       ".highlight .k { color: #008000; font-weight: bold } /* Keyword */\n",
       ".highlight .o { color: #666666 } /* Operator */\n",
       ".highlight .ch { color: #408080; font-style: italic } /* Comment.Hashbang */\n",
       ".highlight .cm { color: #408080; font-style: italic } /* Comment.Multiline */\n",
       ".highlight .cp { color: #BC7A00 } /* Comment.Preproc */\n",
       ".highlight .cpf { color: #408080; font-style: italic } /* Comment.PreprocFile */\n",
       ".highlight .c1 { color: #408080; font-style: italic } /* Comment.Single */\n",
       ".highlight .cs { color: #408080; font-style: italic } /* Comment.Special */\n",
       ".highlight .gd { color: #A00000 } /* Generic.Deleted */\n",
       ".highlight .ge { font-style: italic } /* Generic.Emph */\n",
       ".highlight .gr { color: #FF0000 } /* Generic.Error */\n",
       ".highlight .gh { color: #000080; font-weight: bold } /* Generic.Heading */\n",
       ".highlight .gi { color: #00A000 } /* Generic.Inserted */\n",
       ".highlight .go { color: #888888 } /* Generic.Output */\n",
       ".highlight .gp { color: #000080; font-weight: bold } /* Generic.Prompt */\n",
       ".highlight .gs { font-weight: bold } /* Generic.Strong */\n",
       ".highlight .gu { color: #800080; font-weight: bold } /* Generic.Subheading */\n",
       ".highlight .gt { color: #0044DD } /* Generic.Traceback */\n",
       ".highlight .kc { color: #008000; font-weight: bold } /* Keyword.Constant */\n",
       ".highlight .kd { color: #008000; font-weight: bold } /* Keyword.Declaration */\n",
       ".highlight .kn { color: #008000; font-weight: bold } /* Keyword.Namespace */\n",
       ".highlight .kp { color: #008000 } /* Keyword.Pseudo */\n",
       ".highlight .kr { color: #008000; font-weight: bold } /* Keyword.Reserved */\n",
       ".highlight .kt { color: #B00040 } /* Keyword.Type */\n",
       ".highlight .m { color: #666666 } /* Literal.Number */\n",
       ".highlight .s { color: #BA2121 } /* Literal.String */\n",
       ".highlight .na { color: #7D9029 } /* Name.Attribute */\n",
       ".highlight .nb { color: #008000 } /* Name.Builtin */\n",
       ".highlight .nc { color: #0000FF; font-weight: bold } /* Name.Class */\n",
       ".highlight .no { color: #880000 } /* Name.Constant */\n",
       ".highlight .nd { color: #AA22FF } /* Name.Decorator */\n",
       ".highlight .ni { color: #999999; font-weight: bold } /* Name.Entity */\n",
       ".highlight .ne { color: #D2413A; font-weight: bold } /* Name.Exception */\n",
       ".highlight .nf { color: #0000FF } /* Name.Function */\n",
       ".highlight .nl { color: #A0A000 } /* Name.Label */\n",
       ".highlight .nn { color: #0000FF; font-weight: bold } /* Name.Namespace */\n",
       ".highlight .nt { color: #008000; font-weight: bold } /* Name.Tag */\n",
       ".highlight .nv { color: #19177C } /* Name.Variable */\n",
       ".highlight .ow { color: #AA22FF; font-weight: bold } /* Operator.Word */\n",
       ".highlight .w { color: #bbbbbb } /* Text.Whitespace */\n",
       ".highlight .mb { color: #666666 } /* Literal.Number.Bin */\n",
       ".highlight .mf { color: #666666 } /* Literal.Number.Float */\n",
       ".highlight .mh { color: #666666 } /* Literal.Number.Hex */\n",
       ".highlight .mi { color: #666666 } /* Literal.Number.Integer */\n",
       ".highlight .mo { color: #666666 } /* Literal.Number.Oct */\n",
       ".highlight .sa { color: #BA2121 } /* Literal.String.Affix */\n",
       ".highlight .sb { color: #BA2121 } /* Literal.String.Backtick */\n",
       ".highlight .sc { color: #BA2121 } /* Literal.String.Char */\n",
       ".highlight .dl { color: #BA2121 } /* Literal.String.Delimiter */\n",
       ".highlight .sd { color: #BA2121; font-style: italic } /* Literal.String.Doc */\n",
       ".highlight .s2 { color: #BA2121 } /* Literal.String.Double */\n",
       ".highlight .se { color: #BB6622; font-weight: bold } /* Literal.String.Escape */\n",
       ".highlight .sh { color: #BA2121 } /* Literal.String.Heredoc */\n",
       ".highlight .si { color: #BB6688; font-weight: bold } /* Literal.String.Interpol */\n",
       ".highlight .sx { color: #008000 } /* Literal.String.Other */\n",
       ".highlight .sr { color: #BB6688 } /* Literal.String.Regex */\n",
       ".highlight .s1 { color: #BA2121 } /* Literal.String.Single */\n",
       ".highlight .ss { color: #19177C } /* Literal.String.Symbol */\n",
       ".highlight .bp { color: #008000 } /* Name.Builtin.Pseudo */\n",
       ".highlight .fm { color: #0000FF } /* Name.Function.Magic */\n",
       ".highlight .vc { color: #19177C } /* Name.Variable.Class */\n",
       ".highlight .vg { color: #19177C } /* Name.Variable.Global */\n",
       ".highlight .vi { color: #19177C } /* Name.Variable.Instance */\n",
       ".highlight .vm { color: #19177C } /* Name.Variable.Magic */\n",
       ".highlight .il { color: #666666 } /* Literal.Number.Integer.Long */\n",
       "        </style>\n",
       "        "
      ],
      "text/plain": [
       "<IPython.core.display.HTML object>"
      ]
     },
     "metadata": {},
     "output_type": "display_data"
    },
    {
     "data": {
      "text/html": [
       "<div class=\"highlight\"><pre><span></span><span class=\"lineno\"> 1 </span><span class=\"nf\">move</span><span class=\"p\">(</span><span class=\"s s-Atom\">true</span><span class=\"p\">,</span><span class=\"s s-Atom\">a</span><span class=\"p\">,</span><span class=\"s s-Atom\">b</span><span class=\"p\">).</span>\n",
       "<span class=\"lineno\"> 2 </span><span class=\"nf\">move</span><span class=\"p\">(</span><span class=\"s s-Atom\">true</span><span class=\"p\">,</span><span class=\"s s-Atom\">a</span><span class=\"p\">,</span><span class=\"s s-Atom\">c</span><span class=\"p\">).</span>\n",
       "<span class=\"lineno\"> 3 </span><span class=\"nf\">move</span><span class=\"p\">(</span><span class=\"s s-Atom\">true</span><span class=\"p\">,</span><span class=\"s s-Atom\">c</span><span class=\"p\">,</span><span class=\"s s-Atom\">d</span><span class=\"p\">).</span>\n",
       "<span class=\"lineno\"> 4 </span><span class=\"nf\">move</span><span class=\"p\">(</span><span class=\"s s-Atom\">true</span><span class=\"p\">,</span><span class=\"s s-Atom\">c</span><span class=\"p\">,</span><span class=\"s s-Atom\">e</span><span class=\"p\">).</span>\n",
       "<span class=\"lineno\"> 5 </span><span class=\"nf\">move</span><span class=\"p\">(</span><span class=\"s s-Atom\">true</span><span class=\"p\">,</span><span class=\"s s-Atom\">k</span><span class=\"p\">,</span><span class=\"s s-Atom\">l</span><span class=\"p\">).</span>\n",
       "<span class=\"lineno\"> 6 </span><span class=\"nf\">move</span><span class=\"p\">(</span><span class=\"s s-Atom\">true</span><span class=\"p\">,</span><span class=\"s s-Atom\">l</span><span class=\"p\">,</span><span class=\"s s-Atom\">e</span><span class=\"p\">).</span>\n",
       "<span class=\"lineno\"> 7 </span><span class=\"nf\">move</span><span class=\"p\">(</span><span class=\"s s-Atom\">true</span><span class=\"p\">,</span><span class=\"s s-Atom\">l</span><span class=\"p\">,</span><span class=\"s s-Atom\">m</span><span class=\"p\">).</span>\n",
       "<span class=\"lineno\"> 8 </span><span class=\"nf\">move</span><span class=\"p\">(</span><span class=\"s s-Atom\">true</span><span class=\"p\">,</span><span class=\"s s-Atom\">d</span><span class=\"p\">,</span><span class=\"s s-Atom\">e</span><span class=\"p\">).</span>\n",
       "<span class=\"lineno\"> 9 </span><span class=\"nf\">move</span><span class=\"p\">(</span><span class=\"s s-Atom\">true</span><span class=\"p\">,</span><span class=\"s s-Atom\">d</span><span class=\"p\">,</span><span class=\"s s-Atom\">f</span><span class=\"p\">).</span>\n",
       "<span class=\"lineno\">10 </span><span class=\"nf\">move</span><span class=\"p\">(</span><span class=\"s s-Atom\">true</span><span class=\"p\">,</span><span class=\"s s-Atom\">d</span><span class=\"p\">,</span><span class=\"s s-Atom\">g</span><span class=\"p\">).</span>\n",
       "<span class=\"lineno\">11 </span><span class=\"nf\">move</span><span class=\"p\">(</span><span class=\"s s-Atom\">true</span><span class=\"p\">,</span><span class=\"s s-Atom\">e</span><span class=\"p\">,</span><span class=\"s s-Atom\">d</span><span class=\"p\">).</span>\n",
       "<span class=\"lineno\">12 </span><span class=\"nf\">move</span><span class=\"p\">(</span><span class=\"s s-Atom\">true</span><span class=\"p\">,</span><span class=\"s s-Atom\">e</span><span class=\"p\">,</span><span class=\"s s-Atom\">m</span><span class=\"p\">).</span>\n",
       "<span class=\"lineno\">13 </span><span class=\"nf\">move</span><span class=\"p\">(</span><span class=\"s s-Atom\">true</span><span class=\"p\">,</span><span class=\"s s-Atom\">e</span><span class=\"p\">,</span><span class=\"s s-Atom\">h</span><span class=\"p\">).</span>\n",
       "<span class=\"lineno\">14 </span><span class=\"nf\">move</span><span class=\"p\">(</span><span class=\"s s-Atom\">true</span><span class=\"p\">,</span><span class=\"s s-Atom\">m</span><span class=\"p\">,</span><span class=\"s s-Atom\">e</span><span class=\"p\">).</span>\n",
       "<span class=\"lineno\">15 </span><span class=\"nf\">move</span><span class=\"p\">(</span><span class=\"s s-Atom\">true</span><span class=\"p\">,</span><span class=\"s s-Atom\">m</span><span class=\"p\">,</span><span class=\"s s-Atom\">n</span><span class=\"p\">).</span>\n",
       "<span class=\"lineno\">16 </span><span class=\"nf\">move</span><span class=\"p\">(</span><span class=\"s s-Atom\">true</span><span class=\"p\">,</span><span class=\"s s-Atom\">g</span><span class=\"p\">,</span><span class=\"s s-Atom\">d</span><span class=\"p\">).</span>\n",
       "<span class=\"lineno\">17 </span><span class=\"nf\">move</span><span class=\"p\">(</span><span class=\"s s-Atom\">true</span><span class=\"p\">,</span><span class=\"s s-Atom\">n</span><span class=\"p\">,</span><span class=\"s s-Atom\">m</span><span class=\"p\">).</span>\n",
       "<span class=\"lineno\">18 </span><span class=\"nf\">win</span><span class=\"p\">(</span><span class=\"s s-Atom\">true</span><span class=\"p\">,</span><span class=\"s s-Atom\">a</span><span class=\"p\">).</span>\n",
       "<span class=\"lineno\">19 </span><span class=\"nf\">win</span><span class=\"p\">(</span><span class=\"s s-Atom\">true</span><span class=\"p\">,</span><span class=\"s s-Atom\">d</span><span class=\"p\">).</span>\n",
       "<span class=\"lineno\">20 </span><span class=\"nf\">win</span><span class=\"p\">(</span><span class=\"s s-Atom\">true</span><span class=\"p\">,</span><span class=\"s s-Atom\">e</span><span class=\"p\">).</span>\n",
       "<span class=\"lineno\">21 </span><span class=\"nf\">win</span><span class=\"p\">(</span><span class=\"s s-Atom\">undefined</span><span class=\"p\">,</span><span class=\"s s-Atom\">l</span><span class=\"p\">).</span>\n",
       "<span class=\"lineno\">22 </span><span class=\"nf\">win</span><span class=\"p\">(</span><span class=\"s s-Atom\">undefined</span><span class=\"p\">,</span><span class=\"s s-Atom\">k</span><span class=\"p\">).</span>\n",
       "<span class=\"lineno\">23 </span><span class=\"nf\">win</span><span class=\"p\">(</span><span class=\"s s-Atom\">undefined</span><span class=\"p\">,</span><span class=\"s s-Atom\">m</span><span class=\"p\">).</span>\n",
       "<span class=\"lineno\">24 </span><span class=\"nf\">win</span><span class=\"p\">(</span><span class=\"s s-Atom\">undefined</span><span class=\"p\">,</span><span class=\"s s-Atom\">n</span><span class=\"p\">).</span>\n",
       "</pre></div>\n"
      ],
      "text/plain": [
       "'move(true,a,b).\\nmove(true,a,c).\\nmove(true,c,d).\\nmove(true,c,e).\\nmove(true,k,l).\\nmove(true,l,e).\\nmove(true,l,m).\\nmove(true,d,e).\\nmove(true,d,f).\\nmove(true,d,g).\\nmove(true,e,d).\\nmove(true,e,m).\\nmove(true,e,h).\\nmove(true,m,e).\\nmove(true,m,n).\\nmove(true,g,d).\\nmove(true,n,m).\\nwin(true,a).\\nwin(true,d).\\nwin(true,e).\\nwin(undefined,l).\\nwin(undefined,k).\\nwin(undefined,m).\\nwin(undefined,n).'"
      ]
     },
     "execution_count": 11,
     "metadata": {},
     "output_type": "execute_result"
    }
   ],
   "source": [
    "t_pw_rels_def, _, _ = rel_slicer(pw_rels_dfs, None, None, rels_to_use=['move_2', 'win_1'])\n",
    "wf_model_facts = ASPRules(\"\\n\".join(PWEExport.export_wfs_model_as_asp_facts(dfs=t_pw_rels_def)))\n",
    "wf_model_facts"
   ]
  },
  {
   "cell_type": "markdown",
   "metadata": {},
   "source": [
    "##### New rules to help us in our analysis of the 4 states."
   ]
  },
  {
   "cell_type": "code",
   "execution_count": null,
   "metadata": {},
   "outputs": [],
   "source": []
  },
  {
   "cell_type": "code",
   "execution_count": 11,
   "metadata": {},
   "outputs": [
    {
     "data": {
      "text/html": [
       "\n",
       "        <style>\n",
       "        .highlight .hll { background-color: #ffffcc }\n",
       ".highlight  { background: #f8f8f8; }\n",
       ".highlight .c { color: #408080; font-style: italic } /* Comment */\n",
       ".highlight .err { border: 1px solid #FF0000 } /* Error */\n",
       ".highlight .k { color: #008000; font-weight: bold } /* Keyword */\n",
       ".highlight .o { color: #666666 } /* Operator */\n",
       ".highlight .ch { color: #408080; font-style: italic } /* Comment.Hashbang */\n",
       ".highlight .cm { color: #408080; font-style: italic } /* Comment.Multiline */\n",
       ".highlight .cp { color: #BC7A00 } /* Comment.Preproc */\n",
       ".highlight .cpf { color: #408080; font-style: italic } /* Comment.PreprocFile */\n",
       ".highlight .c1 { color: #408080; font-style: italic } /* Comment.Single */\n",
       ".highlight .cs { color: #408080; font-style: italic } /* Comment.Special */\n",
       ".highlight .gd { color: #A00000 } /* Generic.Deleted */\n",
       ".highlight .ge { font-style: italic } /* Generic.Emph */\n",
       ".highlight .gr { color: #FF0000 } /* Generic.Error */\n",
       ".highlight .gh { color: #000080; font-weight: bold } /* Generic.Heading */\n",
       ".highlight .gi { color: #00A000 } /* Generic.Inserted */\n",
       ".highlight .go { color: #888888 } /* Generic.Output */\n",
       ".highlight .gp { color: #000080; font-weight: bold } /* Generic.Prompt */\n",
       ".highlight .gs { font-weight: bold } /* Generic.Strong */\n",
       ".highlight .gu { color: #800080; font-weight: bold } /* Generic.Subheading */\n",
       ".highlight .gt { color: #0044DD } /* Generic.Traceback */\n",
       ".highlight .kc { color: #008000; font-weight: bold } /* Keyword.Constant */\n",
       ".highlight .kd { color: #008000; font-weight: bold } /* Keyword.Declaration */\n",
       ".highlight .kn { color: #008000; font-weight: bold } /* Keyword.Namespace */\n",
       ".highlight .kp { color: #008000 } /* Keyword.Pseudo */\n",
       ".highlight .kr { color: #008000; font-weight: bold } /* Keyword.Reserved */\n",
       ".highlight .kt { color: #B00040 } /* Keyword.Type */\n",
       ".highlight .m { color: #666666 } /* Literal.Number */\n",
       ".highlight .s { color: #BA2121 } /* Literal.String */\n",
       ".highlight .na { color: #7D9029 } /* Name.Attribute */\n",
       ".highlight .nb { color: #008000 } /* Name.Builtin */\n",
       ".highlight .nc { color: #0000FF; font-weight: bold } /* Name.Class */\n",
       ".highlight .no { color: #880000 } /* Name.Constant */\n",
       ".highlight .nd { color: #AA22FF } /* Name.Decorator */\n",
       ".highlight .ni { color: #999999; font-weight: bold } /* Name.Entity */\n",
       ".highlight .ne { color: #D2413A; font-weight: bold } /* Name.Exception */\n",
       ".highlight .nf { color: #0000FF } /* Name.Function */\n",
       ".highlight .nl { color: #A0A000 } /* Name.Label */\n",
       ".highlight .nn { color: #0000FF; font-weight: bold } /* Name.Namespace */\n",
       ".highlight .nt { color: #008000; font-weight: bold } /* Name.Tag */\n",
       ".highlight .nv { color: #19177C } /* Name.Variable */\n",
       ".highlight .ow { color: #AA22FF; font-weight: bold } /* Operator.Word */\n",
       ".highlight .w { color: #bbbbbb } /* Text.Whitespace */\n",
       ".highlight .mb { color: #666666 } /* Literal.Number.Bin */\n",
       ".highlight .mf { color: #666666 } /* Literal.Number.Float */\n",
       ".highlight .mh { color: #666666 } /* Literal.Number.Hex */\n",
       ".highlight .mi { color: #666666 } /* Literal.Number.Integer */\n",
       ".highlight .mo { color: #666666 } /* Literal.Number.Oct */\n",
       ".highlight .sa { color: #BA2121 } /* Literal.String.Affix */\n",
       ".highlight .sb { color: #BA2121 } /* Literal.String.Backtick */\n",
       ".highlight .sc { color: #BA2121 } /* Literal.String.Char */\n",
       ".highlight .dl { color: #BA2121 } /* Literal.String.Delimiter */\n",
       ".highlight .sd { color: #BA2121; font-style: italic } /* Literal.String.Doc */\n",
       ".highlight .s2 { color: #BA2121 } /* Literal.String.Double */\n",
       ".highlight .se { color: #BB6622; font-weight: bold } /* Literal.String.Escape */\n",
       ".highlight .sh { color: #BA2121 } /* Literal.String.Heredoc */\n",
       ".highlight .si { color: #BB6688; font-weight: bold } /* Literal.String.Interpol */\n",
       ".highlight .sx { color: #008000 } /* Literal.String.Other */\n",
       ".highlight .sr { color: #BB6688 } /* Literal.String.Regex */\n",
       ".highlight .s1 { color: #BA2121 } /* Literal.String.Single */\n",
       ".highlight .ss { color: #19177C } /* Literal.String.Symbol */\n",
       ".highlight .bp { color: #008000 } /* Name.Builtin.Pseudo */\n",
       ".highlight .fm { color: #0000FF } /* Name.Function.Magic */\n",
       ".highlight .vc { color: #19177C } /* Name.Variable.Class */\n",
       ".highlight .vg { color: #19177C } /* Name.Variable.Global */\n",
       ".highlight .vi { color: #19177C } /* Name.Variable.Instance */\n",
       ".highlight .vm { color: #19177C } /* Name.Variable.Magic */\n",
       ".highlight .il { color: #666666 } /* Literal.Number.Integer.Long */\n",
       "        </style>\n",
       "        "
      ],
      "text/plain": [
       "<IPython.core.display.HTML object>"
      ]
     },
     "metadata": {},
     "output_type": "display_data"
    },
    {
     "data": {
      "text/html": [
       "<div class=\"highlight\"><pre><span></span><span class=\"lineno\">1 </span><span class=\"nf\">move</span><span class=\"p\">(</span><span class=\"nv\">X</span><span class=\"p\">,</span><span class=\"nv\">Y</span><span class=\"p\">)</span> <span class=\"p\">:-</span> <span class=\"nf\">move</span><span class=\"p\">(</span><span class=\"s s-Atom\">true</span><span class=\"p\">,</span><span class=\"nv\">X</span><span class=\"p\">,</span><span class=\"nv\">Y</span><span class=\"p\">).</span>\n",
       "<span class=\"lineno\">2 </span><span class=\"nf\">pos</span><span class=\"p\">(</span><span class=\"nv\">X</span><span class=\"p\">)</span> <span class=\"p\">:-</span> <span class=\"nf\">move</span><span class=\"p\">(</span><span class=\"nv\">X</span><span class=\"p\">,</span> <span class=\"k\">_</span><span class=\"p\">).</span>\n",
       "<span class=\"lineno\">3 </span><span class=\"nf\">pos</span><span class=\"p\">(</span><span class=\"nv\">X</span><span class=\"p\">)</span> <span class=\"p\">:-</span> <span class=\"nf\">move</span><span class=\"p\">(</span><span class=\"k\">_</span><span class=\"p\">,</span> <span class=\"nv\">X</span><span class=\"p\">).</span>\n",
       "<span class=\"lineno\">4 </span><span class=\"nf\">won</span><span class=\"p\">(</span><span class=\"nv\">X</span><span class=\"p\">)</span> <span class=\"p\">:-</span> <span class=\"nf\">win</span><span class=\"p\">(</span><span class=\"s s-Atom\">true</span><span class=\"p\">,</span> <span class=\"nv\">X</span><span class=\"p\">).</span>\n",
       "<span class=\"lineno\">5 </span><span class=\"nf\">drawn</span><span class=\"p\">(</span><span class=\"nv\">X</span><span class=\"p\">)</span> <span class=\"p\">:-</span> <span class=\"nf\">win</span><span class=\"p\">(</span><span class=\"s s-Atom\">undefined</span><span class=\"p\">,</span> <span class=\"nv\">X</span><span class=\"p\">).</span>\n",
       "<span class=\"lineno\">6 </span><span class=\"nf\">lost</span><span class=\"p\">(</span><span class=\"nv\">X</span><span class=\"p\">)</span> <span class=\"p\">:-</span> <span class=\"nf\">pos</span><span class=\"p\">(</span><span class=\"nv\">X</span><span class=\"p\">),</span> <span class=\"o\">not</span> <span class=\"nf\">won</span><span class=\"p\">(</span><span class=\"nv\">X</span><span class=\"p\">),</span> <span class=\"o\">not</span> <span class=\"nf\">drawn</span><span class=\"p\">(</span><span class=\"nv\">X</span><span class=\"p\">).</span>\n",
       "</pre></div>\n"
      ],
      "text/plain": [
       "'move(X,Y) :- move(true,X,Y).\\npos(X) :- move(X, _).\\npos(X) :- move(_, X).\\nwon(X) :- win(true, X).\\ndrawn(X) :- win(undefined, X).\\nlost(X) :- pos(X), not won(X), not drawn(X).'"
      ]
     },
     "execution_count": 11,
     "metadata": {},
     "output_type": "execute_result"
    }
   ],
   "source": [
    "new_rules = ASPRules(\"\\n\".join([\n",
    "    'move(X,Y) :- move(true,X,Y).',\n",
    "    'pos(X) :- move(X, _).',\n",
    "    'pos(X) :- move(_, X).',\n",
    "    'won(X) :- win(true, X).',\n",
    "    'drawn(X) :- win(undefined, X).',\n",
    "    'lost(X) :- pos(X), not won(X), not drawn(X).',\n",
    "]))\n",
    "new_rules"
   ]
  },
  {
   "cell_type": "markdown",
   "metadata": {},
   "source": [
    "#### Resulting set of rules"
   ]
  },
  {
   "cell_type": "code",
   "execution_count": 12,
   "metadata": {
    "scrolled": true
   },
   "outputs": [
    {
     "data": {
      "text/html": [
       "\n",
       "        <style>\n",
       "        .highlight .hll { background-color: #ffffcc }\n",
       ".highlight  { background: #f8f8f8; }\n",
       ".highlight .c { color: #408080; font-style: italic } /* Comment */\n",
       ".highlight .err { border: 1px solid #FF0000 } /* Error */\n",
       ".highlight .k { color: #008000; font-weight: bold } /* Keyword */\n",
       ".highlight .o { color: #666666 } /* Operator */\n",
       ".highlight .ch { color: #408080; font-style: italic } /* Comment.Hashbang */\n",
       ".highlight .cm { color: #408080; font-style: italic } /* Comment.Multiline */\n",
       ".highlight .cp { color: #BC7A00 } /* Comment.Preproc */\n",
       ".highlight .cpf { color: #408080; font-style: italic } /* Comment.PreprocFile */\n",
       ".highlight .c1 { color: #408080; font-style: italic } /* Comment.Single */\n",
       ".highlight .cs { color: #408080; font-style: italic } /* Comment.Special */\n",
       ".highlight .gd { color: #A00000 } /* Generic.Deleted */\n",
       ".highlight .ge { font-style: italic } /* Generic.Emph */\n",
       ".highlight .gr { color: #FF0000 } /* Generic.Error */\n",
       ".highlight .gh { color: #000080; font-weight: bold } /* Generic.Heading */\n",
       ".highlight .gi { color: #00A000 } /* Generic.Inserted */\n",
       ".highlight .go { color: #888888 } /* Generic.Output */\n",
       ".highlight .gp { color: #000080; font-weight: bold } /* Generic.Prompt */\n",
       ".highlight .gs { font-weight: bold } /* Generic.Strong */\n",
       ".highlight .gu { color: #800080; font-weight: bold } /* Generic.Subheading */\n",
       ".highlight .gt { color: #0044DD } /* Generic.Traceback */\n",
       ".highlight .kc { color: #008000; font-weight: bold } /* Keyword.Constant */\n",
       ".highlight .kd { color: #008000; font-weight: bold } /* Keyword.Declaration */\n",
       ".highlight .kn { color: #008000; font-weight: bold } /* Keyword.Namespace */\n",
       ".highlight .kp { color: #008000 } /* Keyword.Pseudo */\n",
       ".highlight .kr { color: #008000; font-weight: bold } /* Keyword.Reserved */\n",
       ".highlight .kt { color: #B00040 } /* Keyword.Type */\n",
       ".highlight .m { color: #666666 } /* Literal.Number */\n",
       ".highlight .s { color: #BA2121 } /* Literal.String */\n",
       ".highlight .na { color: #7D9029 } /* Name.Attribute */\n",
       ".highlight .nb { color: #008000 } /* Name.Builtin */\n",
       ".highlight .nc { color: #0000FF; font-weight: bold } /* Name.Class */\n",
       ".highlight .no { color: #880000 } /* Name.Constant */\n",
       ".highlight .nd { color: #AA22FF } /* Name.Decorator */\n",
       ".highlight .ni { color: #999999; font-weight: bold } /* Name.Entity */\n",
       ".highlight .ne { color: #D2413A; font-weight: bold } /* Name.Exception */\n",
       ".highlight .nf { color: #0000FF } /* Name.Function */\n",
       ".highlight .nl { color: #A0A000 } /* Name.Label */\n",
       ".highlight .nn { color: #0000FF; font-weight: bold } /* Name.Namespace */\n",
       ".highlight .nt { color: #008000; font-weight: bold } /* Name.Tag */\n",
       ".highlight .nv { color: #19177C } /* Name.Variable */\n",
       ".highlight .ow { color: #AA22FF; font-weight: bold } /* Operator.Word */\n",
       ".highlight .w { color: #bbbbbb } /* Text.Whitespace */\n",
       ".highlight .mb { color: #666666 } /* Literal.Number.Bin */\n",
       ".highlight .mf { color: #666666 } /* Literal.Number.Float */\n",
       ".highlight .mh { color: #666666 } /* Literal.Number.Hex */\n",
       ".highlight .mi { color: #666666 } /* Literal.Number.Integer */\n",
       ".highlight .mo { color: #666666 } /* Literal.Number.Oct */\n",
       ".highlight .sa { color: #BA2121 } /* Literal.String.Affix */\n",
       ".highlight .sb { color: #BA2121 } /* Literal.String.Backtick */\n",
       ".highlight .sc { color: #BA2121 } /* Literal.String.Char */\n",
       ".highlight .dl { color: #BA2121 } /* Literal.String.Delimiter */\n",
       ".highlight .sd { color: #BA2121; font-style: italic } /* Literal.String.Doc */\n",
       ".highlight .s2 { color: #BA2121 } /* Literal.String.Double */\n",
       ".highlight .se { color: #BB6622; font-weight: bold } /* Literal.String.Escape */\n",
       ".highlight .sh { color: #BA2121 } /* Literal.String.Heredoc */\n",
       ".highlight .si { color: #BB6688; font-weight: bold } /* Literal.String.Interpol */\n",
       ".highlight .sx { color: #008000 } /* Literal.String.Other */\n",
       ".highlight .sr { color: #BB6688 } /* Literal.String.Regex */\n",
       ".highlight .s1 { color: #BA2121 } /* Literal.String.Single */\n",
       ".highlight .ss { color: #19177C } /* Literal.String.Symbol */\n",
       ".highlight .bp { color: #008000 } /* Name.Builtin.Pseudo */\n",
       ".highlight .fm { color: #0000FF } /* Name.Function.Magic */\n",
       ".highlight .vc { color: #19177C } /* Name.Variable.Class */\n",
       ".highlight .vg { color: #19177C } /* Name.Variable.Global */\n",
       ".highlight .vi { color: #19177C } /* Name.Variable.Instance */\n",
       ".highlight .vm { color: #19177C } /* Name.Variable.Magic */\n",
       ".highlight .il { color: #666666 } /* Literal.Number.Integer.Long */\n",
       "        </style>\n",
       "        "
      ],
      "text/plain": [
       "<IPython.core.display.HTML object>"
      ]
     },
     "metadata": {},
     "output_type": "display_data"
    },
    {
     "data": {
      "text/html": [
       "<div class=\"highlight\"><pre><span></span><span class=\"lineno\"> 1 </span><span class=\"nf\">win</span><span class=\"p\">(</span><span class=\"s s-Atom\">true</span><span class=\"p\">,</span><span class=\"s s-Atom\">a</span><span class=\"p\">).</span>\n",
       "<span class=\"lineno\"> 2 </span><span class=\"nf\">win</span><span class=\"p\">(</span><span class=\"s s-Atom\">true</span><span class=\"p\">,</span><span class=\"s s-Atom\">d</span><span class=\"p\">).</span>\n",
       "<span class=\"lineno\"> 3 </span><span class=\"nf\">win</span><span class=\"p\">(</span><span class=\"s s-Atom\">true</span><span class=\"p\">,</span><span class=\"s s-Atom\">e</span><span class=\"p\">).</span>\n",
       "<span class=\"lineno\"> 4 </span><span class=\"nf\">win</span><span class=\"p\">(</span><span class=\"s s-Atom\">undefined</span><span class=\"p\">,</span><span class=\"s s-Atom\">l</span><span class=\"p\">).</span>\n",
       "<span class=\"lineno\"> 5 </span><span class=\"nf\">win</span><span class=\"p\">(</span><span class=\"s s-Atom\">undefined</span><span class=\"p\">,</span><span class=\"s s-Atom\">k</span><span class=\"p\">).</span>\n",
       "<span class=\"lineno\"> 6 </span><span class=\"nf\">win</span><span class=\"p\">(</span><span class=\"s s-Atom\">undefined</span><span class=\"p\">,</span><span class=\"s s-Atom\">m</span><span class=\"p\">).</span>\n",
       "<span class=\"lineno\"> 7 </span><span class=\"nf\">win</span><span class=\"p\">(</span><span class=\"s s-Atom\">undefined</span><span class=\"p\">,</span><span class=\"s s-Atom\">n</span><span class=\"p\">).</span>\n",
       "<span class=\"lineno\"> 8 </span><span class=\"nf\">move</span><span class=\"p\">(</span><span class=\"s s-Atom\">true</span><span class=\"p\">,</span><span class=\"s s-Atom\">a</span><span class=\"p\">,</span><span class=\"s s-Atom\">b</span><span class=\"p\">).</span>\n",
       "<span class=\"lineno\"> 9 </span><span class=\"nf\">move</span><span class=\"p\">(</span><span class=\"s s-Atom\">true</span><span class=\"p\">,</span><span class=\"s s-Atom\">a</span><span class=\"p\">,</span><span class=\"s s-Atom\">c</span><span class=\"p\">).</span>\n",
       "<span class=\"lineno\">10 </span><span class=\"nf\">move</span><span class=\"p\">(</span><span class=\"s s-Atom\">true</span><span class=\"p\">,</span><span class=\"s s-Atom\">c</span><span class=\"p\">,</span><span class=\"s s-Atom\">d</span><span class=\"p\">).</span>\n",
       "<span class=\"lineno\">11 </span><span class=\"nf\">move</span><span class=\"p\">(</span><span class=\"s s-Atom\">true</span><span class=\"p\">,</span><span class=\"s s-Atom\">c</span><span class=\"p\">,</span><span class=\"s s-Atom\">e</span><span class=\"p\">).</span>\n",
       "<span class=\"lineno\">12 </span><span class=\"nf\">move</span><span class=\"p\">(</span><span class=\"s s-Atom\">true</span><span class=\"p\">,</span><span class=\"s s-Atom\">k</span><span class=\"p\">,</span><span class=\"s s-Atom\">l</span><span class=\"p\">).</span>\n",
       "<span class=\"lineno\">13 </span><span class=\"nf\">move</span><span class=\"p\">(</span><span class=\"s s-Atom\">true</span><span class=\"p\">,</span><span class=\"s s-Atom\">l</span><span class=\"p\">,</span><span class=\"s s-Atom\">e</span><span class=\"p\">).</span>\n",
       "<span class=\"lineno\">14 </span><span class=\"nf\">move</span><span class=\"p\">(</span><span class=\"s s-Atom\">true</span><span class=\"p\">,</span><span class=\"s s-Atom\">l</span><span class=\"p\">,</span><span class=\"s s-Atom\">m</span><span class=\"p\">).</span>\n",
       "<span class=\"lineno\">15 </span><span class=\"nf\">move</span><span class=\"p\">(</span><span class=\"s s-Atom\">true</span><span class=\"p\">,</span><span class=\"s s-Atom\">d</span><span class=\"p\">,</span><span class=\"s s-Atom\">e</span><span class=\"p\">).</span>\n",
       "<span class=\"lineno\">16 </span><span class=\"nf\">move</span><span class=\"p\">(</span><span class=\"s s-Atom\">true</span><span class=\"p\">,</span><span class=\"s s-Atom\">d</span><span class=\"p\">,</span><span class=\"s s-Atom\">f</span><span class=\"p\">).</span>\n",
       "<span class=\"lineno\">17 </span><span class=\"nf\">move</span><span class=\"p\">(</span><span class=\"s s-Atom\">true</span><span class=\"p\">,</span><span class=\"s s-Atom\">d</span><span class=\"p\">,</span><span class=\"s s-Atom\">g</span><span class=\"p\">).</span>\n",
       "<span class=\"lineno\">18 </span><span class=\"nf\">move</span><span class=\"p\">(</span><span class=\"s s-Atom\">true</span><span class=\"p\">,</span><span class=\"s s-Atom\">e</span><span class=\"p\">,</span><span class=\"s s-Atom\">d</span><span class=\"p\">).</span>\n",
       "<span class=\"lineno\">19 </span><span class=\"nf\">move</span><span class=\"p\">(</span><span class=\"s s-Atom\">true</span><span class=\"p\">,</span><span class=\"s s-Atom\">e</span><span class=\"p\">,</span><span class=\"s s-Atom\">m</span><span class=\"p\">).</span>\n",
       "<span class=\"lineno\">20 </span><span class=\"nf\">move</span><span class=\"p\">(</span><span class=\"s s-Atom\">true</span><span class=\"p\">,</span><span class=\"s s-Atom\">e</span><span class=\"p\">,</span><span class=\"s s-Atom\">h</span><span class=\"p\">).</span>\n",
       "<span class=\"lineno\">21 </span><span class=\"nf\">move</span><span class=\"p\">(</span><span class=\"s s-Atom\">true</span><span class=\"p\">,</span><span class=\"s s-Atom\">m</span><span class=\"p\">,</span><span class=\"s s-Atom\">e</span><span class=\"p\">).</span>\n",
       "<span class=\"lineno\">22 </span><span class=\"nf\">move</span><span class=\"p\">(</span><span class=\"s s-Atom\">true</span><span class=\"p\">,</span><span class=\"s s-Atom\">m</span><span class=\"p\">,</span><span class=\"s s-Atom\">n</span><span class=\"p\">).</span>\n",
       "<span class=\"lineno\">23 </span><span class=\"nf\">move</span><span class=\"p\">(</span><span class=\"s s-Atom\">true</span><span class=\"p\">,</span><span class=\"s s-Atom\">g</span><span class=\"p\">,</span><span class=\"s s-Atom\">d</span><span class=\"p\">).</span>\n",
       "<span class=\"lineno\">24 </span><span class=\"nf\">move</span><span class=\"p\">(</span><span class=\"s s-Atom\">true</span><span class=\"p\">,</span><span class=\"s s-Atom\">n</span><span class=\"p\">,</span><span class=\"s s-Atom\">m</span><span class=\"p\">).</span>\n",
       "<span class=\"lineno\">25 </span><span class=\"nf\">move</span><span class=\"p\">(</span><span class=\"nv\">X</span><span class=\"p\">,</span><span class=\"nv\">Y</span><span class=\"p\">)</span> <span class=\"p\">:-</span> <span class=\"nf\">move</span><span class=\"p\">(</span><span class=\"s s-Atom\">true</span><span class=\"p\">,</span><span class=\"nv\">X</span><span class=\"p\">,</span><span class=\"nv\">Y</span><span class=\"p\">).</span>\n",
       "<span class=\"lineno\">26 </span><span class=\"nf\">pos</span><span class=\"p\">(</span><span class=\"nv\">X</span><span class=\"p\">)</span> <span class=\"p\">:-</span> <span class=\"nf\">move</span><span class=\"p\">(</span><span class=\"nv\">X</span><span class=\"p\">,</span> <span class=\"k\">_</span><span class=\"p\">).</span>\n",
       "<span class=\"lineno\">27 </span><span class=\"nf\">pos</span><span class=\"p\">(</span><span class=\"nv\">X</span><span class=\"p\">)</span> <span class=\"p\">:-</span> <span class=\"nf\">move</span><span class=\"p\">(</span><span class=\"k\">_</span><span class=\"p\">,</span> <span class=\"nv\">X</span><span class=\"p\">).</span>\n",
       "<span class=\"lineno\">28 </span><span class=\"nf\">won</span><span class=\"p\">(</span><span class=\"nv\">X</span><span class=\"p\">)</span> <span class=\"p\">:-</span> <span class=\"nf\">win</span><span class=\"p\">(</span><span class=\"s s-Atom\">true</span><span class=\"p\">,</span> <span class=\"nv\">X</span><span class=\"p\">).</span>\n",
       "<span class=\"lineno\">29 </span><span class=\"nf\">drawn</span><span class=\"p\">(</span><span class=\"nv\">X</span><span class=\"p\">)</span> <span class=\"p\">:-</span> <span class=\"nf\">win</span><span class=\"p\">(</span><span class=\"s s-Atom\">undefined</span><span class=\"p\">,</span> <span class=\"nv\">X</span><span class=\"p\">).</span>\n",
       "<span class=\"lineno\">30 </span><span class=\"nf\">lost</span><span class=\"p\">(</span><span class=\"nv\">X</span><span class=\"p\">)</span> <span class=\"p\">:-</span> <span class=\"nf\">pos</span><span class=\"p\">(</span><span class=\"nv\">X</span><span class=\"p\">),</span> <span class=\"o\">not</span> <span class=\"nf\">won</span><span class=\"p\">(</span><span class=\"nv\">X</span><span class=\"p\">),</span> <span class=\"o\">not</span> <span class=\"nf\">drawn</span><span class=\"p\">(</span><span class=\"nv\">X</span><span class=\"p\">).</span>\n",
       "</pre></div>\n"
      ],
      "text/plain": [
       "'win(true,a).\\nwin(true,d).\\nwin(true,e).\\nwin(undefined,l).\\nwin(undefined,k).\\nwin(undefined,m).\\nwin(undefined,n).\\nmove(true,a,b).\\nmove(true,a,c).\\nmove(true,c,d).\\nmove(true,c,e).\\nmove(true,k,l).\\nmove(true,l,e).\\nmove(true,l,m).\\nmove(true,d,e).\\nmove(true,d,f).\\nmove(true,d,g).\\nmove(true,e,d).\\nmove(true,e,m).\\nmove(true,e,h).\\nmove(true,m,e).\\nmove(true,m,n).\\nmove(true,g,d).\\nmove(true,n,m).\\nmove(X,Y) :- move(true,X,Y).\\npos(X) :- move(X, _).\\npos(X) :- move(_, X).\\nwon(X) :- win(true, X).\\ndrawn(X) :- win(undefined, X).\\nlost(X) :- pos(X), not won(X), not drawn(X).'"
      ]
     },
     "execution_count": 12,
     "metadata": {},
     "output_type": "execute_result"
    }
   ],
   "source": [
    "ASPRules('\\n'.join(wf_model_facts.splitlines()+new_rules.splitlines()))"
   ]
  },
  {
   "cell_type": "markdown",
   "metadata": {},
   "source": [
    "Let's switch it up and run this in clingo instead of dlv (flexible!)"
   ]
  },
  {
   "cell_type": "code",
   "execution_count": 13,
   "metadata": {},
   "outputs": [
    {
     "data": {
      "text/html": [
       "\n",
       "        <style>\n",
       "        .highlight .hll { background-color: #ffffcc }\n",
       ".highlight  { background: #f8f8f8; }\n",
       ".highlight .c { color: #408080; font-style: italic } /* Comment */\n",
       ".highlight .err { border: 1px solid #FF0000 } /* Error */\n",
       ".highlight .k { color: #008000; font-weight: bold } /* Keyword */\n",
       ".highlight .o { color: #666666 } /* Operator */\n",
       ".highlight .ch { color: #408080; font-style: italic } /* Comment.Hashbang */\n",
       ".highlight .cm { color: #408080; font-style: italic } /* Comment.Multiline */\n",
       ".highlight .cp { color: #BC7A00 } /* Comment.Preproc */\n",
       ".highlight .cpf { color: #408080; font-style: italic } /* Comment.PreprocFile */\n",
       ".highlight .c1 { color: #408080; font-style: italic } /* Comment.Single */\n",
       ".highlight .cs { color: #408080; font-style: italic } /* Comment.Special */\n",
       ".highlight .gd { color: #A00000 } /* Generic.Deleted */\n",
       ".highlight .ge { font-style: italic } /* Generic.Emph */\n",
       ".highlight .gr { color: #FF0000 } /* Generic.Error */\n",
       ".highlight .gh { color: #000080; font-weight: bold } /* Generic.Heading */\n",
       ".highlight .gi { color: #00A000 } /* Generic.Inserted */\n",
       ".highlight .go { color: #888888 } /* Generic.Output */\n",
       ".highlight .gp { color: #000080; font-weight: bold } /* Generic.Prompt */\n",
       ".highlight .gs { font-weight: bold } /* Generic.Strong */\n",
       ".highlight .gu { color: #800080; font-weight: bold } /* Generic.Subheading */\n",
       ".highlight .gt { color: #0044DD } /* Generic.Traceback */\n",
       ".highlight .kc { color: #008000; font-weight: bold } /* Keyword.Constant */\n",
       ".highlight .kd { color: #008000; font-weight: bold } /* Keyword.Declaration */\n",
       ".highlight .kn { color: #008000; font-weight: bold } /* Keyword.Namespace */\n",
       ".highlight .kp { color: #008000 } /* Keyword.Pseudo */\n",
       ".highlight .kr { color: #008000; font-weight: bold } /* Keyword.Reserved */\n",
       ".highlight .kt { color: #B00040 } /* Keyword.Type */\n",
       ".highlight .m { color: #666666 } /* Literal.Number */\n",
       ".highlight .s { color: #BA2121 } /* Literal.String */\n",
       ".highlight .na { color: #7D9029 } /* Name.Attribute */\n",
       ".highlight .nb { color: #008000 } /* Name.Builtin */\n",
       ".highlight .nc { color: #0000FF; font-weight: bold } /* Name.Class */\n",
       ".highlight .no { color: #880000 } /* Name.Constant */\n",
       ".highlight .nd { color: #AA22FF } /* Name.Decorator */\n",
       ".highlight .ni { color: #999999; font-weight: bold } /* Name.Entity */\n",
       ".highlight .ne { color: #D2413A; font-weight: bold } /* Name.Exception */\n",
       ".highlight .nf { color: #0000FF } /* Name.Function */\n",
       ".highlight .nl { color: #A0A000 } /* Name.Label */\n",
       ".highlight .nn { color: #0000FF; font-weight: bold } /* Name.Namespace */\n",
       ".highlight .nt { color: #008000; font-weight: bold } /* Name.Tag */\n",
       ".highlight .nv { color: #19177C } /* Name.Variable */\n",
       ".highlight .ow { color: #AA22FF; font-weight: bold } /* Operator.Word */\n",
       ".highlight .w { color: #bbbbbb } /* Text.Whitespace */\n",
       ".highlight .mb { color: #666666 } /* Literal.Number.Bin */\n",
       ".highlight .mf { color: #666666 } /* Literal.Number.Float */\n",
       ".highlight .mh { color: #666666 } /* Literal.Number.Hex */\n",
       ".highlight .mi { color: #666666 } /* Literal.Number.Integer */\n",
       ".highlight .mo { color: #666666 } /* Literal.Number.Oct */\n",
       ".highlight .sa { color: #BA2121 } /* Literal.String.Affix */\n",
       ".highlight .sb { color: #BA2121 } /* Literal.String.Backtick */\n",
       ".highlight .sc { color: #BA2121 } /* Literal.String.Char */\n",
       ".highlight .dl { color: #BA2121 } /* Literal.String.Delimiter */\n",
       ".highlight .sd { color: #BA2121; font-style: italic } /* Literal.String.Doc */\n",
       ".highlight .s2 { color: #BA2121 } /* Literal.String.Double */\n",
       ".highlight .se { color: #BB6622; font-weight: bold } /* Literal.String.Escape */\n",
       ".highlight .sh { color: #BA2121 } /* Literal.String.Heredoc */\n",
       ".highlight .si { color: #BB6688; font-weight: bold } /* Literal.String.Interpol */\n",
       ".highlight .sx { color: #008000 } /* Literal.String.Other */\n",
       ".highlight .sr { color: #BB6688 } /* Literal.String.Regex */\n",
       ".highlight .s1 { color: #BA2121 } /* Literal.String.Single */\n",
       ".highlight .ss { color: #19177C } /* Literal.String.Symbol */\n",
       ".highlight .bp { color: #008000 } /* Name.Builtin.Pseudo */\n",
       ".highlight .fm { color: #0000FF } /* Name.Function.Magic */\n",
       ".highlight .vc { color: #19177C } /* Name.Variable.Class */\n",
       ".highlight .vg { color: #19177C } /* Name.Variable.Global */\n",
       ".highlight .vi { color: #19177C } /* Name.Variable.Instance */\n",
       ".highlight .vm { color: #19177C } /* Name.Variable.Magic */\n",
       ".highlight .il { color: #666666 } /* Literal.Number.Integer.Long */\n",
       "        </style>\n",
       "        "
      ],
      "text/plain": [
       "<IPython.core.display.HTML object>"
      ]
     },
     "metadata": {},
     "output_type": "display_data"
    },
    {
     "data": {
      "text/html": [
       "<div class=\"highlight\"><pre><span></span><span class=\"lineno\">1 </span><span class=\"nv\">Answer</span><span class=\"s s-Atom\">:</span> <span class=\"mi\">1</span>\n",
       "<span class=\"lineno\">2 </span><span class=\"nf\">move</span><span class=\"p\">(</span><span class=\"s s-Atom\">true</span><span class=\"p\">,</span><span class=\"s s-Atom\">a</span><span class=\"p\">,</span><span class=\"s s-Atom\">b</span><span class=\"p\">)</span> <span class=\"nf\">move</span><span class=\"p\">(</span><span class=\"s s-Atom\">true</span><span class=\"p\">,</span><span class=\"s s-Atom\">a</span><span class=\"p\">,</span><span class=\"s s-Atom\">c</span><span class=\"p\">)</span> <span class=\"nf\">move</span><span class=\"p\">(</span><span class=\"s s-Atom\">true</span><span class=\"p\">,</span><span class=\"s s-Atom\">c</span><span class=\"p\">,</span><span class=\"s s-Atom\">d</span><span class=\"p\">)</span> <span class=\"nf\">move</span><span class=\"p\">(</span><span class=\"s s-Atom\">true</span><span class=\"p\">,</span><span class=\"s s-Atom\">c</span><span class=\"p\">,</span><span class=\"s s-Atom\">e</span><span class=\"p\">)</span> <span class=\"nf\">move</span><span class=\"p\">(</span><span class=\"s s-Atom\">true</span><span class=\"p\">,</span><span class=\"s s-Atom\">k</span><span class=\"p\">,</span><span class=\"s s-Atom\">l</span><span class=\"p\">)</span> <span class=\"nf\">move</span><span class=\"p\">(</span><span class=\"s s-Atom\">true</span><span class=\"p\">,</span><span class=\"s s-Atom\">l</span><span class=\"p\">,</span><span class=\"s s-Atom\">e</span><span class=\"p\">)</span> <span class=\"nf\">move</span><span class=\"p\">(</span><span class=\"s s-Atom\">true</span><span class=\"p\">,</span><span class=\"s s-Atom\">l</span><span class=\"p\">,</span><span class=\"s s-Atom\">m</span><span class=\"p\">)</span> <span class=\"nf\">move</span><span class=\"p\">(</span><span class=\"s s-Atom\">true</span><span class=\"p\">,</span><span class=\"s s-Atom\">d</span><span class=\"p\">,</span><span class=\"s s-Atom\">e</span><span class=\"p\">)</span> <span class=\"nf\">move</span><span class=\"p\">(</span><span class=\"s s-Atom\">true</span><span class=\"p\">,</span><span class=\"s s-Atom\">d</span><span class=\"p\">,</span><span class=\"s s-Atom\">f</span><span class=\"p\">)</span> <span class=\"nf\">move</span><span class=\"p\">(</span><span class=\"s s-Atom\">true</span><span class=\"p\">,</span><span class=\"s s-Atom\">d</span><span class=\"p\">,</span><span class=\"s s-Atom\">g</span><span class=\"p\">)</span> <span class=\"nf\">move</span><span class=\"p\">(</span><span class=\"s s-Atom\">true</span><span class=\"p\">,</span><span class=\"s s-Atom\">e</span><span class=\"p\">,</span><span class=\"s s-Atom\">d</span><span class=\"p\">)</span> <span class=\"nf\">move</span><span class=\"p\">(</span><span class=\"s s-Atom\">true</span><span class=\"p\">,</span><span class=\"s s-Atom\">e</span><span class=\"p\">,</span><span class=\"s s-Atom\">m</span><span class=\"p\">)</span> <span class=\"nf\">move</span><span class=\"p\">(</span><span class=\"s s-Atom\">true</span><span class=\"p\">,</span><span class=\"s s-Atom\">e</span><span class=\"p\">,</span><span class=\"s s-Atom\">h</span><span class=\"p\">)</span> <span class=\"nf\">move</span><span class=\"p\">(</span><span class=\"s s-Atom\">true</span><span class=\"p\">,</span><span class=\"s s-Atom\">m</span><span class=\"p\">,</span><span class=\"s s-Atom\">e</span><span class=\"p\">)</span> <span class=\"nf\">move</span><span class=\"p\">(</span><span class=\"s s-Atom\">true</span><span class=\"p\">,</span><span class=\"s s-Atom\">m</span><span class=\"p\">,</span><span class=\"s s-Atom\">n</span><span class=\"p\">)</span> <span class=\"nf\">move</span><span class=\"p\">(</span><span class=\"s s-Atom\">true</span><span class=\"p\">,</span><span class=\"s s-Atom\">g</span><span class=\"p\">,</span><span class=\"s s-Atom\">d</span><span class=\"p\">)</span> <span class=\"nf\">move</span><span class=\"p\">(</span><span class=\"s s-Atom\">true</span><span class=\"p\">,</span><span class=\"s s-Atom\">n</span><span class=\"p\">,</span><span class=\"s s-Atom\">m</span><span class=\"p\">)</span> <span class=\"nf\">move</span><span class=\"p\">(</span><span class=\"s s-Atom\">a</span><span class=\"p\">,</span><span class=\"s s-Atom\">b</span><span class=\"p\">)</span> <span class=\"nf\">move</span><span class=\"p\">(</span><span class=\"s s-Atom\">a</span><span class=\"p\">,</span><span class=\"s s-Atom\">c</span><span class=\"p\">)</span> <span class=\"nf\">move</span><span class=\"p\">(</span><span class=\"s s-Atom\">c</span><span class=\"p\">,</span><span class=\"s s-Atom\">d</span><span class=\"p\">)</span> <span class=\"nf\">move</span><span class=\"p\">(</span><span class=\"s s-Atom\">c</span><span class=\"p\">,</span><span class=\"s s-Atom\">e</span><span class=\"p\">)</span> <span class=\"nf\">move</span><span class=\"p\">(</span><span class=\"s s-Atom\">k</span><span class=\"p\">,</span><span class=\"s s-Atom\">l</span><span class=\"p\">)</span> <span class=\"nf\">move</span><span class=\"p\">(</span><span class=\"s s-Atom\">l</span><span class=\"p\">,</span><span class=\"s s-Atom\">e</span><span class=\"p\">)</span> <span class=\"nf\">move</span><span class=\"p\">(</span><span class=\"s s-Atom\">l</span><span class=\"p\">,</span><span class=\"s s-Atom\">m</span><span class=\"p\">)</span> <span class=\"nf\">move</span><span class=\"p\">(</span><span class=\"s s-Atom\">d</span><span class=\"p\">,</span><span class=\"s s-Atom\">e</span><span class=\"p\">)</span> <span class=\"nf\">move</span><span class=\"p\">(</span><span class=\"s s-Atom\">d</span><span class=\"p\">,</span><span class=\"s s-Atom\">f</span><span class=\"p\">)</span> <span class=\"nf\">move</span><span class=\"p\">(</span><span class=\"s s-Atom\">d</span><span class=\"p\">,</span><span class=\"s s-Atom\">g</span><span class=\"p\">)</span> <span class=\"nf\">move</span><span class=\"p\">(</span><span class=\"s s-Atom\">e</span><span class=\"p\">,</span><span class=\"s s-Atom\">d</span><span class=\"p\">)</span> <span class=\"nf\">move</span><span class=\"p\">(</span><span class=\"s s-Atom\">e</span><span class=\"p\">,</span><span class=\"s s-Atom\">m</span><span class=\"p\">)</span> <span class=\"nf\">move</span><span class=\"p\">(</span><span class=\"s s-Atom\">e</span><span class=\"p\">,</span><span class=\"s s-Atom\">h</span><span class=\"p\">)</span> <span class=\"nf\">move</span><span class=\"p\">(</span><span class=\"s s-Atom\">m</span><span class=\"p\">,</span><span class=\"s s-Atom\">e</span><span class=\"p\">)</span> <span class=\"nf\">move</span><span class=\"p\">(</span><span class=\"s s-Atom\">m</span><span class=\"p\">,</span><span class=\"s s-Atom\">n</span><span class=\"p\">)</span> <span class=\"nf\">move</span><span class=\"p\">(</span><span class=\"s s-Atom\">g</span><span class=\"p\">,</span><span class=\"s s-Atom\">d</span><span class=\"p\">)</span> <span class=\"nf\">move</span><span class=\"p\">(</span><span class=\"s s-Atom\">n</span><span class=\"p\">,</span><span class=\"s s-Atom\">m</span><span class=\"p\">)</span> <span class=\"nf\">pos</span><span class=\"p\">(</span><span class=\"s s-Atom\">a</span><span class=\"p\">)</span> <span class=\"nf\">pos</span><span class=\"p\">(</span><span class=\"s s-Atom\">c</span><span class=\"p\">)</span> <span class=\"nf\">pos</span><span class=\"p\">(</span><span class=\"s s-Atom\">k</span><span class=\"p\">)</span> <span class=\"nf\">pos</span><span class=\"p\">(</span><span class=\"s s-Atom\">l</span><span class=\"p\">)</span> <span class=\"nf\">pos</span><span class=\"p\">(</span><span class=\"s s-Atom\">d</span><span class=\"p\">)</span> <span class=\"nf\">pos</span><span class=\"p\">(</span><span class=\"s s-Atom\">e</span><span class=\"p\">)</span> <span class=\"nf\">pos</span><span class=\"p\">(</span><span class=\"s s-Atom\">m</span><span class=\"p\">)</span> <span class=\"nf\">pos</span><span class=\"p\">(</span><span class=\"s s-Atom\">g</span><span class=\"p\">)</span> <span class=\"nf\">pos</span><span class=\"p\">(</span><span class=\"s s-Atom\">n</span><span class=\"p\">)</span> <span class=\"nf\">pos</span><span class=\"p\">(</span><span class=\"s s-Atom\">b</span><span class=\"p\">)</span> <span class=\"nf\">pos</span><span class=\"p\">(</span><span class=\"s s-Atom\">f</span><span class=\"p\">)</span> <span class=\"nf\">pos</span><span class=\"p\">(</span><span class=\"s s-Atom\">h</span><span class=\"p\">)</span> <span class=\"nf\">win</span><span class=\"p\">(</span><span class=\"s s-Atom\">true</span><span class=\"p\">,</span><span class=\"s s-Atom\">a</span><span class=\"p\">)</span> <span class=\"nf\">win</span><span class=\"p\">(</span><span class=\"s s-Atom\">true</span><span class=\"p\">,</span><span class=\"s s-Atom\">d</span><span class=\"p\">)</span> <span class=\"nf\">win</span><span class=\"p\">(</span><span class=\"s s-Atom\">true</span><span class=\"p\">,</span><span class=\"s s-Atom\">e</span><span class=\"p\">)</span> <span class=\"nf\">win</span><span class=\"p\">(</span><span class=\"s s-Atom\">undefined</span><span class=\"p\">,</span><span class=\"s s-Atom\">l</span><span class=\"p\">)</span> <span class=\"nf\">win</span><span class=\"p\">(</span><span class=\"s s-Atom\">undefined</span><span class=\"p\">,</span><span class=\"s s-Atom\">k</span><span class=\"p\">)</span> <span class=\"nf\">win</span><span class=\"p\">(</span><span class=\"s s-Atom\">undefined</span><span class=\"p\">,</span><span class=\"s s-Atom\">m</span><span class=\"p\">)</span> <span class=\"nf\">win</span><span class=\"p\">(</span><span class=\"s s-Atom\">undefined</span><span class=\"p\">,</span><span class=\"s s-Atom\">n</span><span class=\"p\">)</span> <span class=\"nf\">won</span><span class=\"p\">(</span><span class=\"s s-Atom\">a</span><span class=\"p\">)</span> <span class=\"nf\">won</span><span class=\"p\">(</span><span class=\"s s-Atom\">d</span><span class=\"p\">)</span> <span class=\"nf\">won</span><span class=\"p\">(</span><span class=\"s s-Atom\">e</span><span class=\"p\">)</span> <span class=\"nf\">drawn</span><span class=\"p\">(</span><span class=\"s s-Atom\">l</span><span class=\"p\">)</span> <span class=\"nf\">drawn</span><span class=\"p\">(</span><span class=\"s s-Atom\">k</span><span class=\"p\">)</span> <span class=\"nf\">drawn</span><span class=\"p\">(</span><span class=\"s s-Atom\">m</span><span class=\"p\">)</span> <span class=\"nf\">drawn</span><span class=\"p\">(</span><span class=\"s s-Atom\">n</span><span class=\"p\">)</span> <span class=\"nf\">lost</span><span class=\"p\">(</span><span class=\"s s-Atom\">c</span><span class=\"p\">)</span> <span class=\"nf\">lost</span><span class=\"p\">(</span><span class=\"s s-Atom\">g</span><span class=\"p\">)</span> <span class=\"nf\">lost</span><span class=\"p\">(</span><span class=\"s s-Atom\">b</span><span class=\"p\">)</span> <span class=\"nf\">lost</span><span class=\"p\">(</span><span class=\"s s-Atom\">f</span><span class=\"p\">)</span> <span class=\"nf\">lost</span><span class=\"p\">(</span><span class=\"s s-Atom\">h</span><span class=\"p\">)</span>\n",
       "<span class=\"lineno\">3 </span><span class=\"nv\">SATISFIABLE</span>\n",
       "<span class=\"lineno\">4 </span>\n",
       "<span class=\"lineno\">5 </span><span class=\"nv\">Models</span>       <span class=\"s s-Atom\">:</span> <span class=\"mi\">1</span>\n",
       "<span class=\"lineno\">6 </span><span class=\"nv\">Calls</span>        <span class=\"s s-Atom\">:</span> <span class=\"mi\">1</span>\n",
       "<span class=\"lineno\">7 </span><span class=\"nv\">Time</span>         <span class=\"s s-Atom\">:</span> <span class=\"mf\">0.003</span><span class=\"nf\">s</span> <span class=\"p\">(</span><span class=\"nv\">Solving</span><span class=\"s s-Atom\">:</span> <span class=\"mf\">0.00</span><span class=\"s s-Atom\">s</span> <span class=\"mi\">1</span><span class=\"s s-Atom\">st</span> <span class=\"nv\">Model</span><span class=\"s s-Atom\">:</span> <span class=\"mf\">0.00</span><span class=\"s s-Atom\">s</span> <span class=\"nv\">Unsat</span><span class=\"s s-Atom\">:</span> <span class=\"mf\">0.00</span><span class=\"s s-Atom\">s</span><span class=\"p\">)</span>\n",
       "<span class=\"lineno\">8 </span><span class=\"nv\">CPU</span> <span class=\"nv\">Time</span>     <span class=\"s s-Atom\">:</span> <span class=\"mf\">0.003</span><span class=\"s s-Atom\">s</span>\n",
       "</pre></div>\n"
      ],
      "text/plain": [
       "'Answer: 1\\nmove(true,a,b) move(true,a,c) move(true,c,d) move(true,c,e) move(true,k,l) move(true,l,e) move(true,l,m) move(true,d,e) move(true,d,f) move(true,d,g) move(true,e,d) move(true,e,m) move(true,e,h) move(true,m,e) move(true,m,n) move(true,g,d) move(true,n,m) move(a,b) move(a,c) move(c,d) move(c,e) move(k,l) move(l,e) move(l,m) move(d,e) move(d,f) move(d,g) move(e,d) move(e,m) move(e,h) move(m,e) move(m,n) move(g,d) move(n,m) pos(a) pos(c) pos(k) pos(l) pos(d) pos(e) pos(m) pos(g) pos(n) pos(b) pos(f) pos(h) win(true,a) win(true,d) win(true,e) win(undefined,l) win(undefined,k) win(undefined,m) win(undefined,n) won(a) won(d) won(e) drawn(l) drawn(k) drawn(m) drawn(n) lost(c) lost(g) lost(b) lost(f) lost(h)\\nSATISFIABLE\\n\\nModels       : 1\\nCalls        : 1\\nTime         : 0.003s (Solving: 0.00s 1st Model: 0.00s Unsat: 0.00s)\\nCPU Time     : 0.003s'"
      ]
     },
     "execution_count": 13,
     "metadata": {},
     "output_type": "execute_result"
    }
   ],
   "source": [
    "clingo_soln, meta_data = run_clingo(clingo_rules=wf_model_facts.splitlines()+new_rules.splitlines())\n",
    "ASPRules('\\n'.join(clingo_soln))"
   ]
  },
  {
   "cell_type": "markdown",
   "metadata": {},
   "source": [
    "Same loading steps as above"
   ]
  },
  {
   "cell_type": "code",
   "execution_count": 14,
   "metadata": {},
   "outputs": [
    {
     "name": "stdout",
     "output_type": "stream",
     "text": [
      "Number of Models: 1\n"
     ]
    }
   ],
   "source": [
    "pw_rels_dfs, rel_schemas, pw_objs = load_worlds(asp_output=clingo_soln, meta_data=meta_data, reasoner='clingo')"
   ]
  },
  {
   "cell_type": "code",
   "execution_count": 15,
   "metadata": {},
   "outputs": [
    {
     "data": {
      "text/plain": [
       "dict_keys(['move_3', 'move_2', 'pos_1', 'win_2', 'won_1', 'drawn_1', 'lost_1'])"
      ]
     },
     "execution_count": 15,
     "metadata": {},
     "output_type": "execute_result"
    }
   ],
   "source": [
    "pw_rels_dfs.keys()"
   ]
  },
  {
   "cell_type": "code",
   "execution_count": 16,
   "metadata": {},
   "outputs": [
    {
     "data": {
      "text/html": [
       "<div>\n",
       "<style scoped>\n",
       "    .dataframe tbody tr th:only-of-type {\n",
       "        vertical-align: middle;\n",
       "    }\n",
       "\n",
       "    .dataframe tbody tr th {\n",
       "        vertical-align: top;\n",
       "    }\n",
       "\n",
       "    .dataframe thead th {\n",
       "        text-align: right;\n",
       "    }\n",
       "</style>\n",
       "<table border=\"1\" class=\"dataframe\">\n",
       "  <thead>\n",
       "    <tr style=\"text-align: right;\">\n",
       "      <th></th>\n",
       "      <th>pw</th>\n",
       "      <th>x1</th>\n",
       "    </tr>\n",
       "  </thead>\n",
       "  <tbody>\n",
       "    <tr>\n",
       "      <th>0</th>\n",
       "      <td>1</td>\n",
       "      <td>a</td>\n",
       "    </tr>\n",
       "    <tr>\n",
       "      <th>1</th>\n",
       "      <td>1</td>\n",
       "      <td>c</td>\n",
       "    </tr>\n",
       "    <tr>\n",
       "      <th>2</th>\n",
       "      <td>1</td>\n",
       "      <td>k</td>\n",
       "    </tr>\n",
       "    <tr>\n",
       "      <th>3</th>\n",
       "      <td>1</td>\n",
       "      <td>l</td>\n",
       "    </tr>\n",
       "    <tr>\n",
       "      <th>4</th>\n",
       "      <td>1</td>\n",
       "      <td>d</td>\n",
       "    </tr>\n",
       "    <tr>\n",
       "      <th>5</th>\n",
       "      <td>1</td>\n",
       "      <td>e</td>\n",
       "    </tr>\n",
       "    <tr>\n",
       "      <th>6</th>\n",
       "      <td>1</td>\n",
       "      <td>m</td>\n",
       "    </tr>\n",
       "    <tr>\n",
       "      <th>7</th>\n",
       "      <td>1</td>\n",
       "      <td>g</td>\n",
       "    </tr>\n",
       "    <tr>\n",
       "      <th>8</th>\n",
       "      <td>1</td>\n",
       "      <td>n</td>\n",
       "    </tr>\n",
       "    <tr>\n",
       "      <th>9</th>\n",
       "      <td>1</td>\n",
       "      <td>b</td>\n",
       "    </tr>\n",
       "    <tr>\n",
       "      <th>10</th>\n",
       "      <td>1</td>\n",
       "      <td>f</td>\n",
       "    </tr>\n",
       "    <tr>\n",
       "      <th>11</th>\n",
       "      <td>1</td>\n",
       "      <td>h</td>\n",
       "    </tr>\n",
       "  </tbody>\n",
       "</table>\n",
       "</div>"
      ],
      "text/plain": [
       "    pw x1\n",
       "0    1  a\n",
       "1    1  c\n",
       "2    1  k\n",
       "3    1  l\n",
       "4    1  d\n",
       "5    1  e\n",
       "6    1  m\n",
       "7    1  g\n",
       "8    1  n\n",
       "9    1  b\n",
       "10   1  f\n",
       "11   1  h"
      ]
     },
     "execution_count": 16,
     "metadata": {},
     "output_type": "execute_result"
    }
   ],
   "source": [
    "pw_rels_dfs['pos_1']"
   ]
  },
  {
   "cell_type": "code",
   "execution_count": 17,
   "metadata": {},
   "outputs": [
    {
     "data": {
      "text/html": [
       "<div>\n",
       "<style scoped>\n",
       "    .dataframe tbody tr th:only-of-type {\n",
       "        vertical-align: middle;\n",
       "    }\n",
       "\n",
       "    .dataframe tbody tr th {\n",
       "        vertical-align: top;\n",
       "    }\n",
       "\n",
       "    .dataframe thead th {\n",
       "        text-align: right;\n",
       "    }\n",
       "</style>\n",
       "<table border=\"1\" class=\"dataframe\">\n",
       "  <thead>\n",
       "    <tr style=\"text-align: right;\">\n",
       "      <th></th>\n",
       "      <th>pw</th>\n",
       "      <th>x1</th>\n",
       "      <th>x2</th>\n",
       "    </tr>\n",
       "  </thead>\n",
       "  <tbody>\n",
       "    <tr>\n",
       "      <th>0</th>\n",
       "      <td>1</td>\n",
       "      <td>a</td>\n",
       "      <td>b</td>\n",
       "    </tr>\n",
       "    <tr>\n",
       "      <th>1</th>\n",
       "      <td>1</td>\n",
       "      <td>a</td>\n",
       "      <td>c</td>\n",
       "    </tr>\n",
       "    <tr>\n",
       "      <th>2</th>\n",
       "      <td>1</td>\n",
       "      <td>c</td>\n",
       "      <td>d</td>\n",
       "    </tr>\n",
       "    <tr>\n",
       "      <th>3</th>\n",
       "      <td>1</td>\n",
       "      <td>c</td>\n",
       "      <td>e</td>\n",
       "    </tr>\n",
       "    <tr>\n",
       "      <th>4</th>\n",
       "      <td>1</td>\n",
       "      <td>k</td>\n",
       "      <td>l</td>\n",
       "    </tr>\n",
       "    <tr>\n",
       "      <th>5</th>\n",
       "      <td>1</td>\n",
       "      <td>l</td>\n",
       "      <td>e</td>\n",
       "    </tr>\n",
       "    <tr>\n",
       "      <th>6</th>\n",
       "      <td>1</td>\n",
       "      <td>l</td>\n",
       "      <td>m</td>\n",
       "    </tr>\n",
       "    <tr>\n",
       "      <th>7</th>\n",
       "      <td>1</td>\n",
       "      <td>d</td>\n",
       "      <td>e</td>\n",
       "    </tr>\n",
       "    <tr>\n",
       "      <th>8</th>\n",
       "      <td>1</td>\n",
       "      <td>d</td>\n",
       "      <td>f</td>\n",
       "    </tr>\n",
       "    <tr>\n",
       "      <th>9</th>\n",
       "      <td>1</td>\n",
       "      <td>d</td>\n",
       "      <td>g</td>\n",
       "    </tr>\n",
       "    <tr>\n",
       "      <th>10</th>\n",
       "      <td>1</td>\n",
       "      <td>e</td>\n",
       "      <td>d</td>\n",
       "    </tr>\n",
       "    <tr>\n",
       "      <th>11</th>\n",
       "      <td>1</td>\n",
       "      <td>e</td>\n",
       "      <td>m</td>\n",
       "    </tr>\n",
       "    <tr>\n",
       "      <th>12</th>\n",
       "      <td>1</td>\n",
       "      <td>e</td>\n",
       "      <td>h</td>\n",
       "    </tr>\n",
       "    <tr>\n",
       "      <th>13</th>\n",
       "      <td>1</td>\n",
       "      <td>m</td>\n",
       "      <td>e</td>\n",
       "    </tr>\n",
       "    <tr>\n",
       "      <th>14</th>\n",
       "      <td>1</td>\n",
       "      <td>m</td>\n",
       "      <td>n</td>\n",
       "    </tr>\n",
       "    <tr>\n",
       "      <th>15</th>\n",
       "      <td>1</td>\n",
       "      <td>g</td>\n",
       "      <td>d</td>\n",
       "    </tr>\n",
       "    <tr>\n",
       "      <th>16</th>\n",
       "      <td>1</td>\n",
       "      <td>n</td>\n",
       "      <td>m</td>\n",
       "    </tr>\n",
       "  </tbody>\n",
       "</table>\n",
       "</div>"
      ],
      "text/plain": [
       "    pw x1 x2\n",
       "0    1  a  b\n",
       "1    1  a  c\n",
       "2    1  c  d\n",
       "3    1  c  e\n",
       "4    1  k  l\n",
       "5    1  l  e\n",
       "6    1  l  m\n",
       "7    1  d  e\n",
       "8    1  d  f\n",
       "9    1  d  g\n",
       "10   1  e  d\n",
       "11   1  e  m\n",
       "12   1  e  h\n",
       "13   1  m  e\n",
       "14   1  m  n\n",
       "15   1  g  d\n",
       "16   1  n  m"
      ]
     },
     "execution_count": 17,
     "metadata": {},
     "output_type": "execute_result"
    }
   ],
   "source": [
    "pw_rels_dfs['move_2']"
   ]
  },
  {
   "cell_type": "code",
   "execution_count": 18,
   "metadata": {},
   "outputs": [
    {
     "data": {
      "text/html": [
       "<div>\n",
       "<style scoped>\n",
       "    .dataframe tbody tr th:only-of-type {\n",
       "        vertical-align: middle;\n",
       "    }\n",
       "\n",
       "    .dataframe tbody tr th {\n",
       "        vertical-align: top;\n",
       "    }\n",
       "\n",
       "    .dataframe thead th {\n",
       "        text-align: right;\n",
       "    }\n",
       "</style>\n",
       "<table border=\"1\" class=\"dataframe\">\n",
       "  <thead>\n",
       "    <tr style=\"text-align: right;\">\n",
       "      <th></th>\n",
       "      <th>pw</th>\n",
       "      <th>x1</th>\n",
       "    </tr>\n",
       "  </thead>\n",
       "  <tbody>\n",
       "    <tr>\n",
       "      <th>0</th>\n",
       "      <td>1</td>\n",
       "      <td>a</td>\n",
       "    </tr>\n",
       "    <tr>\n",
       "      <th>1</th>\n",
       "      <td>1</td>\n",
       "      <td>d</td>\n",
       "    </tr>\n",
       "    <tr>\n",
       "      <th>2</th>\n",
       "      <td>1</td>\n",
       "      <td>e</td>\n",
       "    </tr>\n",
       "  </tbody>\n",
       "</table>\n",
       "</div>"
      ],
      "text/plain": [
       "   pw x1\n",
       "0   1  a\n",
       "1   1  d\n",
       "2   1  e"
      ]
     },
     "execution_count": 18,
     "metadata": {},
     "output_type": "execute_result"
    }
   ],
   "source": [
    "pw_rels_dfs['won_1']"
   ]
  },
  {
   "cell_type": "code",
   "execution_count": 19,
   "metadata": {},
   "outputs": [
    {
     "data": {
      "text/html": [
       "<div>\n",
       "<style scoped>\n",
       "    .dataframe tbody tr th:only-of-type {\n",
       "        vertical-align: middle;\n",
       "    }\n",
       "\n",
       "    .dataframe tbody tr th {\n",
       "        vertical-align: top;\n",
       "    }\n",
       "\n",
       "    .dataframe thead th {\n",
       "        text-align: right;\n",
       "    }\n",
       "</style>\n",
       "<table border=\"1\" class=\"dataframe\">\n",
       "  <thead>\n",
       "    <tr style=\"text-align: right;\">\n",
       "      <th></th>\n",
       "      <th>pw</th>\n",
       "      <th>x1</th>\n",
       "    </tr>\n",
       "  </thead>\n",
       "  <tbody>\n",
       "    <tr>\n",
       "      <th>0</th>\n",
       "      <td>1</td>\n",
       "      <td>l</td>\n",
       "    </tr>\n",
       "    <tr>\n",
       "      <th>1</th>\n",
       "      <td>1</td>\n",
       "      <td>k</td>\n",
       "    </tr>\n",
       "    <tr>\n",
       "      <th>2</th>\n",
       "      <td>1</td>\n",
       "      <td>m</td>\n",
       "    </tr>\n",
       "    <tr>\n",
       "      <th>3</th>\n",
       "      <td>1</td>\n",
       "      <td>n</td>\n",
       "    </tr>\n",
       "  </tbody>\n",
       "</table>\n",
       "</div>"
      ],
      "text/plain": [
       "   pw x1\n",
       "0   1  l\n",
       "1   1  k\n",
       "2   1  m\n",
       "3   1  n"
      ]
     },
     "execution_count": 19,
     "metadata": {},
     "output_type": "execute_result"
    }
   ],
   "source": [
    "pw_rels_dfs['drawn_1']"
   ]
  },
  {
   "cell_type": "code",
   "execution_count": 20,
   "metadata": {},
   "outputs": [
    {
     "data": {
      "text/html": [
       "<div>\n",
       "<style scoped>\n",
       "    .dataframe tbody tr th:only-of-type {\n",
       "        vertical-align: middle;\n",
       "    }\n",
       "\n",
       "    .dataframe tbody tr th {\n",
       "        vertical-align: top;\n",
       "    }\n",
       "\n",
       "    .dataframe thead th {\n",
       "        text-align: right;\n",
       "    }\n",
       "</style>\n",
       "<table border=\"1\" class=\"dataframe\">\n",
       "  <thead>\n",
       "    <tr style=\"text-align: right;\">\n",
       "      <th></th>\n",
       "      <th>pw</th>\n",
       "      <th>x1</th>\n",
       "    </tr>\n",
       "  </thead>\n",
       "  <tbody>\n",
       "    <tr>\n",
       "      <th>0</th>\n",
       "      <td>1</td>\n",
       "      <td>c</td>\n",
       "    </tr>\n",
       "    <tr>\n",
       "      <th>1</th>\n",
       "      <td>1</td>\n",
       "      <td>g</td>\n",
       "    </tr>\n",
       "    <tr>\n",
       "      <th>2</th>\n",
       "      <td>1</td>\n",
       "      <td>b</td>\n",
       "    </tr>\n",
       "    <tr>\n",
       "      <th>3</th>\n",
       "      <td>1</td>\n",
       "      <td>f</td>\n",
       "    </tr>\n",
       "    <tr>\n",
       "      <th>4</th>\n",
       "      <td>1</td>\n",
       "      <td>h</td>\n",
       "    </tr>\n",
       "  </tbody>\n",
       "</table>\n",
       "</div>"
      ],
      "text/plain": [
       "   pw x1\n",
       "0   1  c\n",
       "1   1  g\n",
       "2   1  b\n",
       "3   1  f\n",
       "4   1  h"
      ]
     },
     "execution_count": 20,
     "metadata": {},
     "output_type": "execute_result"
    }
   ],
   "source": [
    "pw_rels_dfs['lost_1']"
   ]
  },
  {
   "cell_type": "markdown",
   "metadata": {},
   "source": [
    "#### Visualizing this solution (Partial View)\n",
    "\n",
    "Legend: <span style=\"color:#d3c908\">drawn</span>, <span style=\"color:#FF8080\">lost</span>, <span style=\"color:#80FF80\">won</span>"
   ]
  },
  {
   "cell_type": "code",
   "execution_count": 21,
   "metadata": {},
   "outputs": [
    {
     "data": {
      "image/png": "[encoded data removed]",
      "text/plain": [
       "<IPython.core.display.Image object>"
      ]
     },
     "execution_count": 21,
     "metadata": {},
     "output_type": "execute_result"
    }
   ],
   "source": [
    "G = visualize_game(pw_rels_dfs['move_2'], pw_rels_dfs['won_1'], pw_rels_dfs['drawn_1'], pw_rels_dfs['lost_1'])\n",
    "draw(G)"
   ]
  },
  {
   "cell_type": "code",
   "execution_count": 22,
   "metadata": {},
   "outputs": [],
   "source": [
    "# To save the above visualization\n",
    "# for f in ['png', 'svg', 'pdf', 'dot']:\n",
    "#     draw(G, format=f, filename='game_states_wfs_complex.{}'.format(f), show='none')"
   ]
  },
  {
   "cell_type": "markdown",
   "metadata": {},
   "source": [
    "To generate and analyze the 2-valued models for this game, we can use DLV again:"
   ]
  },
  {
   "cell_type": "code",
   "execution_count": 23,
   "metadata": {},
   "outputs": [
    {
     "data": {
      "text/html": [
       "\n",
       "        <style>\n",
       "        .highlight .hll { background-color: #ffffcc }\n",
       ".highlight  { background: #f8f8f8; }\n",
       ".highlight .c { color: #408080; font-style: italic } /* Comment */\n",
       ".highlight .err { border: 1px solid #FF0000 } /* Error */\n",
       ".highlight .k { color: #008000; font-weight: bold } /* Keyword */\n",
       ".highlight .o { color: #666666 } /* Operator */\n",
       ".highlight .ch { color: #408080; font-style: italic } /* Comment.Hashbang */\n",
       ".highlight .cm { color: #408080; font-style: italic } /* Comment.Multiline */\n",
       ".highlight .cp { color: #BC7A00 } /* Comment.Preproc */\n",
       ".highlight .cpf { color: #408080; font-style: italic } /* Comment.PreprocFile */\n",
       ".highlight .c1 { color: #408080; font-style: italic } /* Comment.Single */\n",
       ".highlight .cs { color: #408080; font-style: italic } /* Comment.Special */\n",
       ".highlight .gd { color: #A00000 } /* Generic.Deleted */\n",
       ".highlight .ge { font-style: italic } /* Generic.Emph */\n",
       ".highlight .gr { color: #FF0000 } /* Generic.Error */\n",
       ".highlight .gh { color: #000080; font-weight: bold } /* Generic.Heading */\n",
       ".highlight .gi { color: #00A000 } /* Generic.Inserted */\n",
       ".highlight .go { color: #888888 } /* Generic.Output */\n",
       ".highlight .gp { color: #000080; font-weight: bold } /* Generic.Prompt */\n",
       ".highlight .gs { font-weight: bold } /* Generic.Strong */\n",
       ".highlight .gu { color: #800080; font-weight: bold } /* Generic.Subheading */\n",
       ".highlight .gt { color: #0044DD } /* Generic.Traceback */\n",
       ".highlight .kc { color: #008000; font-weight: bold } /* Keyword.Constant */\n",
       ".highlight .kd { color: #008000; font-weight: bold } /* Keyword.Declaration */\n",
       ".highlight .kn { color: #008000; font-weight: bold } /* Keyword.Namespace */\n",
       ".highlight .kp { color: #008000 } /* Keyword.Pseudo */\n",
       ".highlight .kr { color: #008000; font-weight: bold } /* Keyword.Reserved */\n",
       ".highlight .kt { color: #B00040 } /* Keyword.Type */\n",
       ".highlight .m { color: #666666 } /* Literal.Number */\n",
       ".highlight .s { color: #BA2121 } /* Literal.String */\n",
       ".highlight .na { color: #7D9029 } /* Name.Attribute */\n",
       ".highlight .nb { color: #008000 } /* Name.Builtin */\n",
       ".highlight .nc { color: #0000FF; font-weight: bold } /* Name.Class */\n",
       ".highlight .no { color: #880000 } /* Name.Constant */\n",
       ".highlight .nd { color: #AA22FF } /* Name.Decorator */\n",
       ".highlight .ni { color: #999999; font-weight: bold } /* Name.Entity */\n",
       ".highlight .ne { color: #D2413A; font-weight: bold } /* Name.Exception */\n",
       ".highlight .nf { color: #0000FF } /* Name.Function */\n",
       ".highlight .nl { color: #A0A000 } /* Name.Label */\n",
       ".highlight .nn { color: #0000FF; font-weight: bold } /* Name.Namespace */\n",
       ".highlight .nt { color: #008000; font-weight: bold } /* Name.Tag */\n",
       ".highlight .nv { color: #19177C } /* Name.Variable */\n",
       ".highlight .ow { color: #AA22FF; font-weight: bold } /* Operator.Word */\n",
       ".highlight .w { color: #bbbbbb } /* Text.Whitespace */\n",
       ".highlight .mb { color: #666666 } /* Literal.Number.Bin */\n",
       ".highlight .mf { color: #666666 } /* Literal.Number.Float */\n",
       ".highlight .mh { color: #666666 } /* Literal.Number.Hex */\n",
       ".highlight .mi { color: #666666 } /* Literal.Number.Integer */\n",
       ".highlight .mo { color: #666666 } /* Literal.Number.Oct */\n",
       ".highlight .sa { color: #BA2121 } /* Literal.String.Affix */\n",
       ".highlight .sb { color: #BA2121 } /* Literal.String.Backtick */\n",
       ".highlight .sc { color: #BA2121 } /* Literal.String.Char */\n",
       ".highlight .dl { color: #BA2121 } /* Literal.String.Delimiter */\n",
       ".highlight .sd { color: #BA2121; font-style: italic } /* Literal.String.Doc */\n",
       ".highlight .s2 { color: #BA2121 } /* Literal.String.Double */\n",
       ".highlight .se { color: #BB6622; font-weight: bold } /* Literal.String.Escape */\n",
       ".highlight .sh { color: #BA2121 } /* Literal.String.Heredoc */\n",
       ".highlight .si { color: #BB6688; font-weight: bold } /* Literal.String.Interpol */\n",
       ".highlight .sx { color: #008000 } /* Literal.String.Other */\n",
       ".highlight .sr { color: #BB6688 } /* Literal.String.Regex */\n",
       ".highlight .s1 { color: #BA2121 } /* Literal.String.Single */\n",
       ".highlight .ss { color: #19177C } /* Literal.String.Symbol */\n",
       ".highlight .bp { color: #008000 } /* Name.Builtin.Pseudo */\n",
       ".highlight .fm { color: #0000FF } /* Name.Function.Magic */\n",
       ".highlight .vc { color: #19177C } /* Name.Variable.Class */\n",
       ".highlight .vg { color: #19177C } /* Name.Variable.Global */\n",
       ".highlight .vi { color: #19177C } /* Name.Variable.Instance */\n",
       ".highlight .vm { color: #19177C } /* Name.Variable.Magic */\n",
       ".highlight .il { color: #666666 } /* Literal.Number.Integer.Long */\n",
       "        </style>\n",
       "        "
      ],
      "text/plain": [
       "<IPython.core.display.HTML object>"
      ]
     },
     "metadata": {},
     "output_type": "display_data"
    },
    {
     "data": {
      "text/html": [
       "<div class=\"highlight\"><pre><span></span><span class=\"lineno\">1 </span><span class=\"p\">{</span><span class=\"nf\">move</span><span class=\"p\">(</span><span class=\"s s-Atom\">a</span><span class=\"p\">,</span><span class=\"s s-Atom\">b</span><span class=\"p\">),</span> <span class=\"nf\">move</span><span class=\"p\">(</span><span class=\"s s-Atom\">a</span><span class=\"p\">,</span><span class=\"s s-Atom\">c</span><span class=\"p\">),</span> <span class=\"nf\">move</span><span class=\"p\">(</span><span class=\"s s-Atom\">c</span><span class=\"p\">,</span><span class=\"s s-Atom\">d</span><span class=\"p\">),</span> <span class=\"nf\">move</span><span class=\"p\">(</span><span class=\"s s-Atom\">c</span><span class=\"p\">,</span><span class=\"s s-Atom\">e</span><span class=\"p\">),</span> <span class=\"nf\">move</span><span class=\"p\">(</span><span class=\"s s-Atom\">k</span><span class=\"p\">,</span><span class=\"s s-Atom\">l</span><span class=\"p\">),</span> <span class=\"nf\">move</span><span class=\"p\">(</span><span class=\"s s-Atom\">l</span><span class=\"p\">,</span><span class=\"s s-Atom\">e</span><span class=\"p\">),</span> <span class=\"nf\">move</span><span class=\"p\">(</span><span class=\"s s-Atom\">l</span><span class=\"p\">,</span><span class=\"s s-Atom\">m</span><span class=\"p\">),</span> <span class=\"nf\">move</span><span class=\"p\">(</span><span class=\"s s-Atom\">d</span><span class=\"p\">,</span><span class=\"s s-Atom\">e</span><span class=\"p\">),</span> <span class=\"nf\">move</span><span class=\"p\">(</span><span class=\"s s-Atom\">d</span><span class=\"p\">,</span><span class=\"s s-Atom\">f</span><span class=\"p\">),</span> <span class=\"nf\">move</span><span class=\"p\">(</span><span class=\"s s-Atom\">d</span><span class=\"p\">,</span><span class=\"s s-Atom\">g</span><span class=\"p\">),</span> <span class=\"nf\">move</span><span class=\"p\">(</span><span class=\"s s-Atom\">e</span><span class=\"p\">,</span><span class=\"s s-Atom\">d</span><span class=\"p\">),</span> <span class=\"nf\">move</span><span class=\"p\">(</span><span class=\"s s-Atom\">e</span><span class=\"p\">,</span><span class=\"s s-Atom\">m</span><span class=\"p\">),</span> <span class=\"nf\">move</span><span class=\"p\">(</span><span class=\"s s-Atom\">e</span><span class=\"p\">,</span><span class=\"s s-Atom\">h</span><span class=\"p\">),</span> <span class=\"nf\">move</span><span class=\"p\">(</span><span class=\"s s-Atom\">m</span><span class=\"p\">,</span><span class=\"s s-Atom\">e</span><span class=\"p\">),</span> <span class=\"nf\">move</span><span class=\"p\">(</span><span class=\"s s-Atom\">m</span><span class=\"p\">,</span><span class=\"s s-Atom\">n</span><span class=\"p\">),</span> <span class=\"nf\">move</span><span class=\"p\">(</span><span class=\"s s-Atom\">g</span><span class=\"p\">,</span><span class=\"s s-Atom\">d</span><span class=\"p\">),</span> <span class=\"nf\">move</span><span class=\"p\">(</span><span class=\"s s-Atom\">n</span><span class=\"p\">,</span><span class=\"s s-Atom\">m</span><span class=\"p\">),</span> <span class=\"nf\">win</span><span class=\"p\">(</span><span class=\"s s-Atom\">a</span><span class=\"p\">),</span> <span class=\"nf\">win</span><span class=\"p\">(</span><span class=\"s s-Atom\">d</span><span class=\"p\">),</span> <span class=\"nf\">win</span><span class=\"p\">(</span><span class=\"s s-Atom\">e</span><span class=\"p\">),</span> <span class=\"nf\">win</span><span class=\"p\">(</span><span class=\"s s-Atom\">k</span><span class=\"p\">),</span> <span class=\"nf\">win</span><span class=\"p\">(</span><span class=\"s s-Atom\">m</span><span class=\"p\">)}</span>\n",
       "<span class=\"lineno\">2 </span><span class=\"p\">{</span><span class=\"nf\">move</span><span class=\"p\">(</span><span class=\"s s-Atom\">a</span><span class=\"p\">,</span><span class=\"s s-Atom\">b</span><span class=\"p\">),</span> <span class=\"nf\">move</span><span class=\"p\">(</span><span class=\"s s-Atom\">a</span><span class=\"p\">,</span><span class=\"s s-Atom\">c</span><span class=\"p\">),</span> <span class=\"nf\">move</span><span class=\"p\">(</span><span class=\"s s-Atom\">c</span><span class=\"p\">,</span><span class=\"s s-Atom\">d</span><span class=\"p\">),</span> <span class=\"nf\">move</span><span class=\"p\">(</span><span class=\"s s-Atom\">c</span><span class=\"p\">,</span><span class=\"s s-Atom\">e</span><span class=\"p\">),</span> <span class=\"nf\">move</span><span class=\"p\">(</span><span class=\"s s-Atom\">k</span><span class=\"p\">,</span><span class=\"s s-Atom\">l</span><span class=\"p\">),</span> <span class=\"nf\">move</span><span class=\"p\">(</span><span class=\"s s-Atom\">l</span><span class=\"p\">,</span><span class=\"s s-Atom\">e</span><span class=\"p\">),</span> <span class=\"nf\">move</span><span class=\"p\">(</span><span class=\"s s-Atom\">l</span><span class=\"p\">,</span><span class=\"s s-Atom\">m</span><span class=\"p\">),</span> <span class=\"nf\">move</span><span class=\"p\">(</span><span class=\"s s-Atom\">d</span><span class=\"p\">,</span><span class=\"s s-Atom\">e</span><span class=\"p\">),</span> <span class=\"nf\">move</span><span class=\"p\">(</span><span class=\"s s-Atom\">d</span><span class=\"p\">,</span><span class=\"s s-Atom\">f</span><span class=\"p\">),</span> <span class=\"nf\">move</span><span class=\"p\">(</span><span class=\"s s-Atom\">d</span><span class=\"p\">,</span><span class=\"s s-Atom\">g</span><span class=\"p\">),</span> <span class=\"nf\">move</span><span class=\"p\">(</span><span class=\"s s-Atom\">e</span><span class=\"p\">,</span><span class=\"s s-Atom\">d</span><span class=\"p\">),</span> <span class=\"nf\">move</span><span class=\"p\">(</span><span class=\"s s-Atom\">e</span><span class=\"p\">,</span><span class=\"s s-Atom\">m</span><span class=\"p\">),</span> <span class=\"nf\">move</span><span class=\"p\">(</span><span class=\"s s-Atom\">e</span><span class=\"p\">,</span><span class=\"s s-Atom\">h</span><span class=\"p\">),</span> <span class=\"nf\">move</span><span class=\"p\">(</span><span class=\"s s-Atom\">m</span><span class=\"p\">,</span><span class=\"s s-Atom\">e</span><span class=\"p\">),</span> <span class=\"nf\">move</span><span class=\"p\">(</span><span class=\"s s-Atom\">m</span><span class=\"p\">,</span><span class=\"s s-Atom\">n</span><span class=\"p\">),</span> <span class=\"nf\">move</span><span class=\"p\">(</span><span class=\"s s-Atom\">g</span><span class=\"p\">,</span><span class=\"s s-Atom\">d</span><span class=\"p\">),</span> <span class=\"nf\">move</span><span class=\"p\">(</span><span class=\"s s-Atom\">n</span><span class=\"p\">,</span><span class=\"s s-Atom\">m</span><span class=\"p\">),</span> <span class=\"nf\">win</span><span class=\"p\">(</span><span class=\"s s-Atom\">a</span><span class=\"p\">),</span> <span class=\"nf\">win</span><span class=\"p\">(</span><span class=\"s s-Atom\">d</span><span class=\"p\">),</span> <span class=\"nf\">win</span><span class=\"p\">(</span><span class=\"s s-Atom\">e</span><span class=\"p\">),</span> <span class=\"nf\">win</span><span class=\"p\">(</span><span class=\"s s-Atom\">l</span><span class=\"p\">),</span> <span class=\"nf\">win</span><span class=\"p\">(</span><span class=\"s s-Atom\">n</span><span class=\"p\">)}</span>\n",
       "</pre></div>\n"
      ],
      "text/plain": [
       "'{move(a,b), move(a,c), move(c,d), move(c,e), move(k,l), move(l,e), move(l,m), move(d,e), move(d,f), move(d,g), move(e,d), move(e,m), move(e,h), move(m,e), move(m,n), move(g,d), move(n,m), win(a), win(d), win(e), win(k), win(m)}\\n{move(a,b), move(a,c), move(c,d), move(c,e), move(k,l), move(l,e), move(l,m), move(d,e), move(d,f), move(d,g), move(e,d), move(e,m), move(e,h), move(m,e), move(m,n), move(g,d), move(n,m), win(a), win(d), win(e), win(l), win(n)}'"
      ]
     },
     "execution_count": 23,
     "metadata": {},
     "output_type": "execute_result"
    }
   ],
   "source": [
    "dlv_soln, meta_data = run_dlv(dlv_rules=dlv_rules.splitlines())\n",
    "ASPRules('\\n'.join(dlv_soln))"
   ]
  },
  {
   "cell_type": "markdown",
   "metadata": {},
   "source": [
    "Loading these solutions into PWE"
   ]
  },
  {
   "cell_type": "code",
   "execution_count": 24,
   "metadata": {},
   "outputs": [
    {
     "name": "stdout",
     "output_type": "stream",
     "text": [
      "Number of Models: 2\n"
     ]
    },
    {
     "data": {
      "text/plain": [
       "dict_keys(['win_1', 'move_2'])"
      ]
     },
     "execution_count": 24,
     "metadata": {},
     "output_type": "execute_result"
    }
   ],
   "source": [
    "pw_rels_dfs, rel_schemas, pw_objs = load_worlds(asp_output=dlv_soln, meta_data=meta_data, reasoner='dlv')\n",
    "pw_rels_dfs.keys()"
   ]
  },
  {
   "cell_type": "markdown",
   "metadata": {},
   "source": [
    "Visualizing the two PWs\n",
    "\n",
    "Legend: <span style=\"color:#80FF80\">won</span>, <span style=\"color:#FF8080\">lost</span>"
   ]
  },
  {
   "cell_type": "code",
   "execution_count": 25,
   "metadata": {},
   "outputs": [
    {
     "data": {
      "image/png": "[encoded data removed]",
      "text/plain": [
       "<IPython.core.display.Image object>"
      ]
     },
     "execution_count": 25,
     "metadata": {},
     "output_type": "execute_result"
    }
   ],
   "source": [
    "# PW-1\n",
    "t_pw_rels_dfs, _ = pw_slicer(pw_rels_dfs, None, pws_to_use=[1])\n",
    "draw(visualize_game(t_pw_rels_dfs['move_2'], t_pw_rels_dfs['win_1'], None, None))"
   ]
  },
  {
   "cell_type": "code",
   "execution_count": 26,
   "metadata": {},
   "outputs": [
    {
     "data": {
      "image/png": "[encoded data removed]",
      "text/plain": [
       "<IPython.core.display.Image object>"
      ]
     },
     "execution_count": 26,
     "metadata": {},
     "output_type": "execute_result"
    }
   ],
   "source": [
    "# PW-2\n",
    "t_pw_rels_dfs, _ = pw_slicer(pw_rels_dfs, None, pws_to_use=[2])\n",
    "draw(visualize_game(t_pw_rels_dfs['move_2'], t_pw_rels_dfs['win_1'], \n",
    "                    pd.DataFrame(columns=['x1']), None))"
   ]
  },
  {
   "cell_type": "code",
   "execution_count": null,
   "metadata": {},
   "outputs": [],
   "source": []
  }
 ],
 "metadata": {
  "kernelspec": {
   "display_name": "Python 3",
   "language": "python",
   "name": "python3"
  },
  "language_info": {
   "codemirror_mode": {
    "name": "ipython",
    "version": 3
   },
   "file_extension": ".py",
   "mimetype": "text/x-python",
   "name": "python",
   "nbconvert_exporter": "python",
   "pygments_lexer": "ipython3",
   "version": "3.6.8"
  }
 },
 "nbformat": 4,
 "nbformat_minor": 2
}
