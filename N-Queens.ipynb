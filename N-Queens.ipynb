{
 "cells": [
  {
   "cell_type": "markdown",
   "metadata": {},
   "source": [
    "### Imports"
   ]
  },
  {
   "cell_type": "code",
   "execution_count": 1,
   "metadata": {},
   "outputs": [],
   "source": [
    "from PW_explorer.load_worlds import load_worlds\n",
    "import numpy as np\n",
    "import matplotlib.pyplot as plt"
   ]
  },
  {
   "cell_type": "code",
   "execution_count": 2,
   "metadata": {},
   "outputs": [
    {
     "data": {
      "application/javascript": [
       "IPython.CodeCell.options_default.highlight_modes['prolog'] = {'reg':[/^%%(clingo|dlv)/]};"
      ]
     },
     "metadata": {},
     "output_type": "display_data"
    }
   ],
   "source": [
    "%load_ext PWE_NB_Extension"
   ]
  },
  {
   "cell_type": "markdown",
   "metadata": {},
   "source": [
    "### Implementation"
   ]
  },
  {
   "cell_type": "markdown",
   "metadata": {},
   "source": [
    "We can encode the N-Queens problem very simply in ASP as shown below. Here we use n=8."
   ]
  },
  {
   "cell_type": "code",
   "execution_count": 3,
   "metadata": {},
   "outputs": [
    {
     "name": "stdout",
     "output_type": "stream",
     "text": [
      "Output:\n"
     ]
    },
    {
     "data": {
      "text/html": [
       "\n",
       "        <style>\n",
       "        .highlight .hll { background-color: #ffffcc }\n",
       ".highlight  { background: #f8f8f8; }\n",
       ".highlight .c { color: #408080; font-style: italic } /* Comment */\n",
       ".highlight .err { border: 1px solid #FF0000 } /* Error */\n",
       ".highlight .k { color: #008000; font-weight: bold } /* Keyword */\n",
       ".highlight .o { color: #666666 } /* Operator */\n",
       ".highlight .ch { color: #408080; font-style: italic } /* Comment.Hashbang */\n",
       ".highlight .cm { color: #408080; font-style: italic } /* Comment.Multiline */\n",
       ".highlight .cp { color: #BC7A00 } /* Comment.Preproc */\n",
       ".highlight .cpf { color: #408080; font-style: italic } /* Comment.PreprocFile */\n",
       ".highlight .c1 { color: #408080; font-style: italic } /* Comment.Single */\n",
       ".highlight .cs { color: #408080; font-style: italic } /* Comment.Special */\n",
       ".highlight .gd { color: #A00000 } /* Generic.Deleted */\n",
       ".highlight .ge { font-style: italic } /* Generic.Emph */\n",
       ".highlight .gr { color: #FF0000 } /* Generic.Error */\n",
       ".highlight .gh { color: #000080; font-weight: bold } /* Generic.Heading */\n",
       ".highlight .gi { color: #00A000 } /* Generic.Inserted */\n",
       ".highlight .go { color: #888888 } /* Generic.Output */\n",
       ".highlight .gp { color: #000080; font-weight: bold } /* Generic.Prompt */\n",
       ".highlight .gs { font-weight: bold } /* Generic.Strong */\n",
       ".highlight .gu { color: #800080; font-weight: bold } /* Generic.Subheading */\n",
       ".highlight .gt { color: #0044DD } /* Generic.Traceback */\n",
       ".highlight .kc { color: #008000; font-weight: bold } /* Keyword.Constant */\n",
       ".highlight .kd { color: #008000; font-weight: bold } /* Keyword.Declaration */\n",
       ".highlight .kn { color: #008000; font-weight: bold } /* Keyword.Namespace */\n",
       ".highlight .kp { color: #008000 } /* Keyword.Pseudo */\n",
       ".highlight .kr { color: #008000; font-weight: bold } /* Keyword.Reserved */\n",
       ".highlight .kt { color: #B00040 } /* Keyword.Type */\n",
       ".highlight .m { color: #666666 } /* Literal.Number */\n",
       ".highlight .s { color: #BA2121 } /* Literal.String */\n",
       ".highlight .na { color: #7D9029 } /* Name.Attribute */\n",
       ".highlight .nb { color: #008000 } /* Name.Builtin */\n",
       ".highlight .nc { color: #0000FF; font-weight: bold } /* Name.Class */\n",
       ".highlight .no { color: #880000 } /* Name.Constant */\n",
       ".highlight .nd { color: #AA22FF } /* Name.Decorator */\n",
       ".highlight .ni { color: #999999; font-weight: bold } /* Name.Entity */\n",
       ".highlight .ne { color: #D2413A; font-weight: bold } /* Name.Exception */\n",
       ".highlight .nf { color: #0000FF } /* Name.Function */\n",
       ".highlight .nl { color: #A0A000 } /* Name.Label */\n",
       ".highlight .nn { color: #0000FF; font-weight: bold } /* Name.Namespace */\n",
       ".highlight .nt { color: #008000; font-weight: bold } /* Name.Tag */\n",
       ".highlight .nv { color: #19177C } /* Name.Variable */\n",
       ".highlight .ow { color: #AA22FF; font-weight: bold } /* Operator.Word */\n",
       ".highlight .w { color: #bbbbbb } /* Text.Whitespace */\n",
       ".highlight .mb { color: #666666 } /* Literal.Number.Bin */\n",
       ".highlight .mf { color: #666666 } /* Literal.Number.Float */\n",
       ".highlight .mh { color: #666666 } /* Literal.Number.Hex */\n",
       ".highlight .mi { color: #666666 } /* Literal.Number.Integer */\n",
       ".highlight .mo { color: #666666 } /* Literal.Number.Oct */\n",
       ".highlight .sa { color: #BA2121 } /* Literal.String.Affix */\n",
       ".highlight .sb { color: #BA2121 } /* Literal.String.Backtick */\n",
       ".highlight .sc { color: #BA2121 } /* Literal.String.Char */\n",
       ".highlight .dl { color: #BA2121 } /* Literal.String.Delimiter */\n",
       ".highlight .sd { color: #BA2121; font-style: italic } /* Literal.String.Doc */\n",
       ".highlight .s2 { color: #BA2121 } /* Literal.String.Double */\n",
       ".highlight .se { color: #BB6622; font-weight: bold } /* Literal.String.Escape */\n",
       ".highlight .sh { color: #BA2121 } /* Literal.String.Heredoc */\n",
       ".highlight .si { color: #BB6688; font-weight: bold } /* Literal.String.Interpol */\n",
       ".highlight .sx { color: #008000 } /* Literal.String.Other */\n",
       ".highlight .sr { color: #BB6688 } /* Literal.String.Regex */\n",
       ".highlight .s1 { color: #BA2121 } /* Literal.String.Single */\n",
       ".highlight .ss { color: #19177C } /* Literal.String.Symbol */\n",
       ".highlight .bp { color: #008000 } /* Name.Builtin.Pseudo */\n",
       ".highlight .fm { color: #0000FF } /* Name.Function.Magic */\n",
       ".highlight .vc { color: #19177C } /* Name.Variable.Class */\n",
       ".highlight .vg { color: #19177C } /* Name.Variable.Global */\n",
       ".highlight .vi { color: #19177C } /* Name.Variable.Instance */\n",
       ".highlight .vm { color: #19177C } /* Name.Variable.Magic */\n",
       ".highlight .il { color: #666666 } /* Literal.Number.Integer.Long */\n",
       "        </style>\n",
       "        "
      ],
      "text/plain": [
       "<IPython.core.display.HTML object>"
      ]
     },
     "metadata": {},
     "output_type": "display_data"
    },
    {
     "data": {
      "text/html": [
       "<div class=\"highlight\"><pre><span></span><span class=\"lineno\">  1 </span><span class=\"nv\">Answer</span><span class=\"s s-Atom\">:</span> <span class=\"mi\">1</span>\n",
       "<span class=\"lineno\">  2 </span><span class=\"nf\">q</span><span class=\"p\">(</span><span class=\"mi\">3</span><span class=\"p\">,</span><span class=\"mi\">2</span><span class=\"p\">)</span> <span class=\"nf\">q</span><span class=\"p\">(</span><span class=\"mi\">5</span><span class=\"p\">,</span><span class=\"mi\">1</span><span class=\"p\">)</span> <span class=\"nf\">q</span><span class=\"p\">(</span><span class=\"mi\">1</span><span class=\"p\">,</span><span class=\"mi\">3</span><span class=\"p\">)</span> <span class=\"nf\">q</span><span class=\"p\">(</span><span class=\"mi\">7</span><span class=\"p\">,</span><span class=\"mi\">4</span><span class=\"p\">)</span> <span class=\"nf\">q</span><span class=\"p\">(</span><span class=\"mi\">2</span><span class=\"p\">,</span><span class=\"mi\">5</span><span class=\"p\">)</span> <span class=\"nf\">q</span><span class=\"p\">(</span><span class=\"mi\">8</span><span class=\"p\">,</span><span class=\"mi\">6</span><span class=\"p\">)</span> <span class=\"nf\">q</span><span class=\"p\">(</span><span class=\"mi\">6</span><span class=\"p\">,</span><span class=\"mi\">7</span><span class=\"p\">)</span> <span class=\"nf\">q</span><span class=\"p\">(</span><span class=\"mi\">4</span><span class=\"p\">,</span><span class=\"mi\">8</span><span class=\"p\">)</span>\n",
       "<span class=\"lineno\">  3 </span><span class=\"nv\">Answer</span><span class=\"s s-Atom\">:</span> <span class=\"mi\">2</span>\n",
       "<span class=\"lineno\">  4 </span><span class=\"nf\">q</span><span class=\"p\">(</span><span class=\"mi\">3</span><span class=\"p\">,</span><span class=\"mi\">1</span><span class=\"p\">)</span> <span class=\"nf\">q</span><span class=\"p\">(</span><span class=\"mi\">5</span><span class=\"p\">,</span><span class=\"mi\">2</span><span class=\"p\">)</span> <span class=\"nf\">q</span><span class=\"p\">(</span><span class=\"mi\">2</span><span class=\"p\">,</span><span class=\"mi\">3</span><span class=\"p\">)</span> <span class=\"nf\">q</span><span class=\"p\">(</span><span class=\"mi\">8</span><span class=\"p\">,</span><span class=\"mi\">4</span><span class=\"p\">)</span> <span class=\"nf\">q</span><span class=\"p\">(</span><span class=\"mi\">1</span><span class=\"p\">,</span><span class=\"mi\">5</span><span class=\"p\">)</span> <span class=\"nf\">q</span><span class=\"p\">(</span><span class=\"mi\">7</span><span class=\"p\">,</span><span class=\"mi\">6</span><span class=\"p\">)</span> <span class=\"nf\">q</span><span class=\"p\">(</span><span class=\"mi\">4</span><span class=\"p\">,</span><span class=\"mi\">7</span><span class=\"p\">)</span> <span class=\"nf\">q</span><span class=\"p\">(</span><span class=\"mi\">6</span><span class=\"p\">,</span><span class=\"mi\">8</span><span class=\"p\">)</span>\n",
       "<span class=\"lineno\">  5 </span><span class=\"nv\">Answer</span><span class=\"s s-Atom\">:</span> <span class=\"mi\">3</span>\n",
       "<span class=\"lineno\">  6 </span><span class=\"nf\">q</span><span class=\"p\">(</span><span class=\"mi\">4</span><span class=\"p\">,</span><span class=\"mi\">2</span><span class=\"p\">)</span> <span class=\"nf\">q</span><span class=\"p\">(</span><span class=\"mi\">6</span><span class=\"p\">,</span><span class=\"mi\">1</span><span class=\"p\">)</span> <span class=\"nf\">q</span><span class=\"p\">(</span><span class=\"mi\">7</span><span class=\"p\">,</span><span class=\"mi\">3</span><span class=\"p\">)</span> <span class=\"nf\">q</span><span class=\"p\">(</span><span class=\"mi\">1</span><span class=\"p\">,</span><span class=\"mi\">4</span><span class=\"p\">)</span> <span class=\"nf\">q</span><span class=\"p\">(</span><span class=\"mi\">8</span><span class=\"p\">,</span><span class=\"mi\">5</span><span class=\"p\">)</span> <span class=\"nf\">q</span><span class=\"p\">(</span><span class=\"mi\">2</span><span class=\"p\">,</span><span class=\"mi\">6</span><span class=\"p\">)</span> <span class=\"nf\">q</span><span class=\"p\">(</span><span class=\"mi\">5</span><span class=\"p\">,</span><span class=\"mi\">7</span><span class=\"p\">)</span> <span class=\"nf\">q</span><span class=\"p\">(</span><span class=\"mi\">3</span><span class=\"p\">,</span><span class=\"mi\">8</span><span class=\"p\">)</span>\n",
       "<span class=\"lineno\">  7 </span><span class=\"nv\">Answer</span><span class=\"s s-Atom\">:</span> <span class=\"mi\">4</span>\n",
       "<span class=\"lineno\">  8 </span><span class=\"nf\">q</span><span class=\"p\">(</span><span class=\"mi\">4</span><span class=\"p\">,</span><span class=\"mi\">1</span><span class=\"p\">)</span> <span class=\"nf\">q</span><span class=\"p\">(</span><span class=\"mi\">6</span><span class=\"p\">,</span><span class=\"mi\">2</span><span class=\"p\">)</span> <span class=\"nf\">q</span><span class=\"p\">(</span><span class=\"mi\">8</span><span class=\"p\">,</span><span class=\"mi\">3</span><span class=\"p\">)</span> <span class=\"nf\">q</span><span class=\"p\">(</span><span class=\"mi\">2</span><span class=\"p\">,</span><span class=\"mi\">4</span><span class=\"p\">)</span> <span class=\"nf\">q</span><span class=\"p\">(</span><span class=\"mi\">7</span><span class=\"p\">,</span><span class=\"mi\">5</span><span class=\"p\">)</span> <span class=\"nf\">q</span><span class=\"p\">(</span><span class=\"mi\">1</span><span class=\"p\">,</span><span class=\"mi\">6</span><span class=\"p\">)</span> <span class=\"nf\">q</span><span class=\"p\">(</span><span class=\"mi\">3</span><span class=\"p\">,</span><span class=\"mi\">7</span><span class=\"p\">)</span> <span class=\"nf\">q</span><span class=\"p\">(</span><span class=\"mi\">5</span><span class=\"p\">,</span><span class=\"mi\">8</span><span class=\"p\">)</span>\n",
       "<span class=\"lineno\">  9 </span><span class=\"nv\">Answer</span><span class=\"s s-Atom\">:</span> <span class=\"mi\">5</span>\n",
       "<span class=\"lineno\"> 10 </span><span class=\"nf\">q</span><span class=\"p\">(</span><span class=\"mi\">3</span><span class=\"p\">,</span><span class=\"mi\">2</span><span class=\"p\">)</span> <span class=\"nf\">q</span><span class=\"p\">(</span><span class=\"mi\">5</span><span class=\"p\">,</span><span class=\"mi\">1</span><span class=\"p\">)</span> <span class=\"nf\">q</span><span class=\"p\">(</span><span class=\"mi\">1</span><span class=\"p\">,</span><span class=\"mi\">3</span><span class=\"p\">)</span> <span class=\"nf\">q</span><span class=\"p\">(</span><span class=\"mi\">6</span><span class=\"p\">,</span><span class=\"mi\">4</span><span class=\"p\">)</span> <span class=\"nf\">q</span><span class=\"p\">(</span><span class=\"mi\">8</span><span class=\"p\">,</span><span class=\"mi\">5</span><span class=\"p\">)</span> <span class=\"nf\">q</span><span class=\"p\">(</span><span class=\"mi\">2</span><span class=\"p\">,</span><span class=\"mi\">6</span><span class=\"p\">)</span> <span class=\"nf\">q</span><span class=\"p\">(</span><span class=\"mi\">4</span><span class=\"p\">,</span><span class=\"mi\">7</span><span class=\"p\">)</span> <span class=\"nf\">q</span><span class=\"p\">(</span><span class=\"mi\">7</span><span class=\"p\">,</span><span class=\"mi\">8</span><span class=\"p\">)</span>\n",
       "<span class=\"lineno\"> 11 </span><span class=\"nv\">Answer</span><span class=\"s s-Atom\">:</span> <span class=\"mi\">6</span>\n",
       "<span class=\"lineno\"> 12 </span><span class=\"nf\">q</span><span class=\"p\">(</span><span class=\"mi\">4</span><span class=\"p\">,</span><span class=\"mi\">1</span><span class=\"p\">)</span> <span class=\"nf\">q</span><span class=\"p\">(</span><span class=\"mi\">6</span><span class=\"p\">,</span><span class=\"mi\">2</span><span class=\"p\">)</span> <span class=\"nf\">q</span><span class=\"p\">(</span><span class=\"mi\">8</span><span class=\"p\">,</span><span class=\"mi\">3</span><span class=\"p\">)</span> <span class=\"nf\">q</span><span class=\"p\">(</span><span class=\"mi\">3</span><span class=\"p\">,</span><span class=\"mi\">4</span><span class=\"p\">)</span> <span class=\"nf\">q</span><span class=\"p\">(</span><span class=\"mi\">1</span><span class=\"p\">,</span><span class=\"mi\">5</span><span class=\"p\">)</span> <span class=\"nf\">q</span><span class=\"p\">(</span><span class=\"mi\">7</span><span class=\"p\">,</span><span class=\"mi\">6</span><span class=\"p\">)</span> <span class=\"nf\">q</span><span class=\"p\">(</span><span class=\"mi\">5</span><span class=\"p\">,</span><span class=\"mi\">7</span><span class=\"p\">)</span> <span class=\"nf\">q</span><span class=\"p\">(</span><span class=\"mi\">2</span><span class=\"p\">,</span><span class=\"mi\">8</span><span class=\"p\">)</span>\n",
       "<span class=\"lineno\"> 13 </span><span class=\"nv\">Answer</span><span class=\"s s-Atom\">:</span> <span class=\"mi\">7</span>\n",
       "<span class=\"lineno\"> 14 </span><span class=\"nf\">q</span><span class=\"p\">(</span><span class=\"mi\">5</span><span class=\"p\">,</span><span class=\"mi\">1</span><span class=\"p\">)</span> <span class=\"nf\">q</span><span class=\"p\">(</span><span class=\"mi\">7</span><span class=\"p\">,</span><span class=\"mi\">2</span><span class=\"p\">)</span> <span class=\"nf\">q</span><span class=\"p\">(</span><span class=\"mi\">1</span><span class=\"p\">,</span><span class=\"mi\">3</span><span class=\"p\">)</span> <span class=\"nf\">q</span><span class=\"p\">(</span><span class=\"mi\">3</span><span class=\"p\">,</span><span class=\"mi\">4</span><span class=\"p\">)</span> <span class=\"nf\">q</span><span class=\"p\">(</span><span class=\"mi\">8</span><span class=\"p\">,</span><span class=\"mi\">5</span><span class=\"p\">)</span> <span class=\"nf\">q</span><span class=\"p\">(</span><span class=\"mi\">6</span><span class=\"p\">,</span><span class=\"mi\">6</span><span class=\"p\">)</span> <span class=\"nf\">q</span><span class=\"p\">(</span><span class=\"mi\">4</span><span class=\"p\">,</span><span class=\"mi\">7</span><span class=\"p\">)</span> <span class=\"nf\">q</span><span class=\"p\">(</span><span class=\"mi\">2</span><span class=\"p\">,</span><span class=\"mi\">8</span><span class=\"p\">)</span>\n",
       "<span class=\"lineno\"> 15 </span><span class=\"nv\">Answer</span><span class=\"s s-Atom\">:</span> <span class=\"mi\">8</span>\n",
       "<span class=\"lineno\"> 16 </span><span class=\"nf\">q</span><span class=\"p\">(</span><span class=\"mi\">2</span><span class=\"p\">,</span><span class=\"mi\">1</span><span class=\"p\">)</span> <span class=\"nf\">q</span><span class=\"p\">(</span><span class=\"mi\">7</span><span class=\"p\">,</span><span class=\"mi\">2</span><span class=\"p\">)</span> <span class=\"nf\">q</span><span class=\"p\">(</span><span class=\"mi\">3</span><span class=\"p\">,</span><span class=\"mi\">3</span><span class=\"p\">)</span> <span class=\"nf\">q</span><span class=\"p\">(</span><span class=\"mi\">6</span><span class=\"p\">,</span><span class=\"mi\">4</span><span class=\"p\">)</span> <span class=\"nf\">q</span><span class=\"p\">(</span><span class=\"mi\">8</span><span class=\"p\">,</span><span class=\"mi\">5</span><span class=\"p\">)</span> <span class=\"nf\">q</span><span class=\"p\">(</span><span class=\"mi\">5</span><span class=\"p\">,</span><span class=\"mi\">6</span><span class=\"p\">)</span> <span class=\"nf\">q</span><span class=\"p\">(</span><span class=\"mi\">1</span><span class=\"p\">,</span><span class=\"mi\">7</span><span class=\"p\">)</span> <span class=\"nf\">q</span><span class=\"p\">(</span><span class=\"mi\">4</span><span class=\"p\">,</span><span class=\"mi\">8</span><span class=\"p\">)</span>\n",
       "<span class=\"lineno\"> 17 </span><span class=\"nv\">Answer</span><span class=\"s s-Atom\">:</span> <span class=\"mi\">9</span>\n",
       "<span class=\"lineno\"> 18 </span><span class=\"nf\">q</span><span class=\"p\">(</span><span class=\"mi\">3</span><span class=\"p\">,</span><span class=\"mi\">2</span><span class=\"p\">)</span> <span class=\"nf\">q</span><span class=\"p\">(</span><span class=\"mi\">1</span><span class=\"p\">,</span><span class=\"mi\">3</span><span class=\"p\">)</span> <span class=\"nf\">q</span><span class=\"p\">(</span><span class=\"mi\">6</span><span class=\"p\">,</span><span class=\"mi\">4</span><span class=\"p\">)</span> <span class=\"nf\">q</span><span class=\"p\">(</span><span class=\"mi\">2</span><span class=\"p\">,</span><span class=\"mi\">5</span><span class=\"p\">)</span> <span class=\"nf\">q</span><span class=\"p\">(</span><span class=\"mi\">5</span><span class=\"p\">,</span><span class=\"mi\">6</span><span class=\"p\">)</span> <span class=\"nf\">q</span><span class=\"p\">(</span><span class=\"mi\">7</span><span class=\"p\">,</span><span class=\"mi\">7</span><span class=\"p\">)</span> <span class=\"nf\">q</span><span class=\"p\">(</span><span class=\"mi\">4</span><span class=\"p\">,</span><span class=\"mi\">8</span><span class=\"p\">)</span> <span class=\"nf\">q</span><span class=\"p\">(</span><span class=\"mi\">8</span><span class=\"p\">,</span><span class=\"mi\">1</span><span class=\"p\">)</span>\n",
       "<span class=\"lineno\"> 19 </span><span class=\"nv\">Answer</span><span class=\"s s-Atom\">:</span> <span class=\"mi\">10</span>\n",
       "<span class=\"lineno\"> 20 </span><span class=\"nf\">q</span><span class=\"p\">(</span><span class=\"mi\">3</span><span class=\"p\">,</span><span class=\"mi\">2</span><span class=\"p\">)</span> <span class=\"nf\">q</span><span class=\"p\">(</span><span class=\"mi\">7</span><span class=\"p\">,</span><span class=\"mi\">1</span><span class=\"p\">)</span> <span class=\"nf\">q</span><span class=\"p\">(</span><span class=\"mi\">1</span><span class=\"p\">,</span><span class=\"mi\">3</span><span class=\"p\">)</span> <span class=\"nf\">q</span><span class=\"p\">(</span><span class=\"mi\">6</span><span class=\"p\">,</span><span class=\"mi\">4</span><span class=\"p\">)</span> <span class=\"nf\">q</span><span class=\"p\">(</span><span class=\"mi\">8</span><span class=\"p\">,</span><span class=\"mi\">5</span><span class=\"p\">)</span> <span class=\"nf\">q</span><span class=\"p\">(</span><span class=\"mi\">5</span><span class=\"p\">,</span><span class=\"mi\">6</span><span class=\"p\">)</span> <span class=\"nf\">q</span><span class=\"p\">(</span><span class=\"mi\">2</span><span class=\"p\">,</span><span class=\"mi\">7</span><span class=\"p\">)</span> <span class=\"nf\">q</span><span class=\"p\">(</span><span class=\"mi\">4</span><span class=\"p\">,</span><span class=\"mi\">8</span><span class=\"p\">)</span>\n",
       "<span class=\"lineno\"> 21 </span><span class=\"nv\">Answer</span><span class=\"s s-Atom\">:</span> <span class=\"mi\">11</span>\n",
       "<span class=\"lineno\"> 22 </span><span class=\"nf\">q</span><span class=\"p\">(</span><span class=\"mi\">3</span><span class=\"p\">,</span><span class=\"mi\">2</span><span class=\"p\">)</span> <span class=\"nf\">q</span><span class=\"p\">(</span><span class=\"mi\">6</span><span class=\"p\">,</span><span class=\"mi\">1</span><span class=\"p\">)</span> <span class=\"nf\">q</span><span class=\"p\">(</span><span class=\"mi\">7</span><span class=\"p\">,</span><span class=\"mi\">3</span><span class=\"p\">)</span> <span class=\"nf\">q</span><span class=\"p\">(</span><span class=\"mi\">2</span><span class=\"p\">,</span><span class=\"mi\">4</span><span class=\"p\">)</span> <span class=\"nf\">q</span><span class=\"p\">(</span><span class=\"mi\">8</span><span class=\"p\">,</span><span class=\"mi\">5</span><span class=\"p\">)</span> <span class=\"nf\">q</span><span class=\"p\">(</span><span class=\"mi\">5</span><span class=\"p\">,</span><span class=\"mi\">6</span><span class=\"p\">)</span> <span class=\"nf\">q</span><span class=\"p\">(</span><span class=\"mi\">1</span><span class=\"p\">,</span><span class=\"mi\">7</span><span class=\"p\">)</span> <span class=\"nf\">q</span><span class=\"p\">(</span><span class=\"mi\">4</span><span class=\"p\">,</span><span class=\"mi\">8</span><span class=\"p\">)</span>\n",
       "<span class=\"lineno\"> 23 </span><span class=\"nv\">Answer</span><span class=\"s s-Atom\">:</span> <span class=\"mi\">12</span>\n",
       "<span class=\"lineno\"> 24 </span><span class=\"nf\">q</span><span class=\"p\">(</span><span class=\"mi\">4</span><span class=\"p\">,</span><span class=\"mi\">1</span><span class=\"p\">)</span> <span class=\"nf\">q</span><span class=\"p\">(</span><span class=\"mi\">7</span><span class=\"p\">,</span><span class=\"mi\">2</span><span class=\"p\">)</span> <span class=\"nf\">q</span><span class=\"p\">(</span><span class=\"mi\">3</span><span class=\"p\">,</span><span class=\"mi\">3</span><span class=\"p\">)</span> <span class=\"nf\">q</span><span class=\"p\">(</span><span class=\"mi\">8</span><span class=\"p\">,</span><span class=\"mi\">4</span><span class=\"p\">)</span> <span class=\"nf\">q</span><span class=\"p\">(</span><span class=\"mi\">2</span><span class=\"p\">,</span><span class=\"mi\">5</span><span class=\"p\">)</span> <span class=\"nf\">q</span><span class=\"p\">(</span><span class=\"mi\">5</span><span class=\"p\">,</span><span class=\"mi\">6</span><span class=\"p\">)</span> <span class=\"nf\">q</span><span class=\"p\">(</span><span class=\"mi\">1</span><span class=\"p\">,</span><span class=\"mi\">7</span><span class=\"p\">)</span> <span class=\"nf\">q</span><span class=\"p\">(</span><span class=\"mi\">6</span><span class=\"p\">,</span><span class=\"mi\">8</span><span class=\"p\">)</span>\n",
       "<span class=\"lineno\"> 25 </span><span class=\"nv\">Answer</span><span class=\"s s-Atom\">:</span> <span class=\"mi\">13</span>\n",
       "<span class=\"lineno\"> 26 </span><span class=\"nf\">q</span><span class=\"p\">(</span><span class=\"mi\">1</span><span class=\"p\">,</span><span class=\"mi\">1</span><span class=\"p\">)</span> <span class=\"nf\">q</span><span class=\"p\">(</span><span class=\"mi\">6</span><span class=\"p\">,</span><span class=\"mi\">2</span><span class=\"p\">)</span> <span class=\"nf\">q</span><span class=\"p\">(</span><span class=\"mi\">8</span><span class=\"p\">,</span><span class=\"mi\">3</span><span class=\"p\">)</span> <span class=\"nf\">q</span><span class=\"p\">(</span><span class=\"mi\">3</span><span class=\"p\">,</span><span class=\"mi\">4</span><span class=\"p\">)</span> <span class=\"nf\">q</span><span class=\"p\">(</span><span class=\"mi\">7</span><span class=\"p\">,</span><span class=\"mi\">5</span><span class=\"p\">)</span> <span class=\"nf\">q</span><span class=\"p\">(</span><span class=\"mi\">4</span><span class=\"p\">,</span><span class=\"mi\">6</span><span class=\"p\">)</span> <span class=\"nf\">q</span><span class=\"p\">(</span><span class=\"mi\">2</span><span class=\"p\">,</span><span class=\"mi\">7</span><span class=\"p\">)</span> <span class=\"nf\">q</span><span class=\"p\">(</span><span class=\"mi\">5</span><span class=\"p\">,</span><span class=\"mi\">8</span><span class=\"p\">)</span>\n",
       "<span class=\"lineno\"> 27 </span><span class=\"nv\">Answer</span><span class=\"s s-Atom\">:</span> <span class=\"mi\">14</span>\n",
       "<span class=\"lineno\"> 28 </span><span class=\"nf\">q</span><span class=\"p\">(</span><span class=\"mi\">2</span><span class=\"p\">,</span><span class=\"mi\">1</span><span class=\"p\">)</span> <span class=\"nf\">q</span><span class=\"p\">(</span><span class=\"mi\">6</span><span class=\"p\">,</span><span class=\"mi\">2</span><span class=\"p\">)</span> <span class=\"nf\">q</span><span class=\"p\">(</span><span class=\"mi\">8</span><span class=\"p\">,</span><span class=\"mi\">3</span><span class=\"p\">)</span> <span class=\"nf\">q</span><span class=\"p\">(</span><span class=\"mi\">3</span><span class=\"p\">,</span><span class=\"mi\">4</span><span class=\"p\">)</span> <span class=\"nf\">q</span><span class=\"p\">(</span><span class=\"mi\">1</span><span class=\"p\">,</span><span class=\"mi\">5</span><span class=\"p\">)</span> <span class=\"nf\">q</span><span class=\"p\">(</span><span class=\"mi\">4</span><span class=\"p\">,</span><span class=\"mi\">6</span><span class=\"p\">)</span> <span class=\"nf\">q</span><span class=\"p\">(</span><span class=\"mi\">7</span><span class=\"p\">,</span><span class=\"mi\">7</span><span class=\"p\">)</span> <span class=\"nf\">q</span><span class=\"p\">(</span><span class=\"mi\">5</span><span class=\"p\">,</span><span class=\"mi\">8</span><span class=\"p\">)</span>\n",
       "<span class=\"lineno\"> 29 </span><span class=\"nv\">Answer</span><span class=\"s s-Atom\">:</span> <span class=\"mi\">15</span>\n",
       "<span class=\"lineno\"> 30 </span><span class=\"nf\">q</span><span class=\"p\">(</span><span class=\"mi\">3</span><span class=\"p\">,</span><span class=\"mi\">1</span><span class=\"p\">)</span> <span class=\"nf\">q</span><span class=\"p\">(</span><span class=\"mi\">6</span><span class=\"p\">,</span><span class=\"mi\">2</span><span class=\"p\">)</span> <span class=\"nf\">q</span><span class=\"p\">(</span><span class=\"mi\">2</span><span class=\"p\">,</span><span class=\"mi\">3</span><span class=\"p\">)</span> <span class=\"nf\">q</span><span class=\"p\">(</span><span class=\"mi\">7</span><span class=\"p\">,</span><span class=\"mi\">4</span><span class=\"p\">)</span> <span class=\"nf\">q</span><span class=\"p\">(</span><span class=\"mi\">1</span><span class=\"p\">,</span><span class=\"mi\">5</span><span class=\"p\">)</span> <span class=\"nf\">q</span><span class=\"p\">(</span><span class=\"mi\">4</span><span class=\"p\">,</span><span class=\"mi\">6</span><span class=\"p\">)</span> <span class=\"nf\">q</span><span class=\"p\">(</span><span class=\"mi\">8</span><span class=\"p\">,</span><span class=\"mi\">7</span><span class=\"p\">)</span> <span class=\"nf\">q</span><span class=\"p\">(</span><span class=\"mi\">5</span><span class=\"p\">,</span><span class=\"mi\">8</span><span class=\"p\">)</span>\n",
       "<span class=\"lineno\"> 31 </span><span class=\"nv\">Answer</span><span class=\"s s-Atom\">:</span> <span class=\"mi\">16</span>\n",
       "<span class=\"lineno\"> 32 </span><span class=\"nf\">q</span><span class=\"p\">(</span><span class=\"mi\">2</span><span class=\"p\">,</span><span class=\"mi\">2</span><span class=\"p\">)</span> <span class=\"nf\">q</span><span class=\"p\">(</span><span class=\"mi\">4</span><span class=\"p\">,</span><span class=\"mi\">1</span><span class=\"p\">)</span> <span class=\"nf\">q</span><span class=\"p\">(</span><span class=\"mi\">8</span><span class=\"p\">,</span><span class=\"mi\">3</span><span class=\"p\">)</span> <span class=\"nf\">q</span><span class=\"p\">(</span><span class=\"mi\">6</span><span class=\"p\">,</span><span class=\"mi\">4</span><span class=\"p\">)</span> <span class=\"nf\">q</span><span class=\"p\">(</span><span class=\"mi\">1</span><span class=\"p\">,</span><span class=\"mi\">5</span><span class=\"p\">)</span> <span class=\"nf\">q</span><span class=\"p\">(</span><span class=\"mi\">3</span><span class=\"p\">,</span><span class=\"mi\">6</span><span class=\"p\">)</span> <span class=\"nf\">q</span><span class=\"p\">(</span><span class=\"mi\">5</span><span class=\"p\">,</span><span class=\"mi\">7</span><span class=\"p\">)</span> <span class=\"nf\">q</span><span class=\"p\">(</span><span class=\"mi\">7</span><span class=\"p\">,</span><span class=\"mi\">8</span><span class=\"p\">)</span>\n",
       "<span class=\"lineno\"> 33 </span><span class=\"nv\">Answer</span><span class=\"s s-Atom\">:</span> <span class=\"mi\">17</span>\n",
       "<span class=\"lineno\"> 34 </span><span class=\"nf\">q</span><span class=\"p\">(</span><span class=\"mi\">2</span><span class=\"p\">,</span><span class=\"mi\">2</span><span class=\"p\">)</span> <span class=\"nf\">q</span><span class=\"p\">(</span><span class=\"mi\">5</span><span class=\"p\">,</span><span class=\"mi\">1</span><span class=\"p\">)</span> <span class=\"nf\">q</span><span class=\"p\">(</span><span class=\"mi\">6</span><span class=\"p\">,</span><span class=\"mi\">3</span><span class=\"p\">)</span> <span class=\"nf\">q</span><span class=\"p\">(</span><span class=\"mi\">1</span><span class=\"p\">,</span><span class=\"mi\">4</span><span class=\"p\">)</span> <span class=\"nf\">q</span><span class=\"p\">(</span><span class=\"mi\">7</span><span class=\"p\">,</span><span class=\"mi\">5</span><span class=\"p\">)</span> <span class=\"nf\">q</span><span class=\"p\">(</span><span class=\"mi\">4</span><span class=\"p\">,</span><span class=\"mi\">6</span><span class=\"p\">)</span> <span class=\"nf\">q</span><span class=\"p\">(</span><span class=\"mi\">8</span><span class=\"p\">,</span><span class=\"mi\">7</span><span class=\"p\">)</span> <span class=\"nf\">q</span><span class=\"p\">(</span><span class=\"mi\">3</span><span class=\"p\">,</span><span class=\"mi\">8</span><span class=\"p\">)</span>\n",
       "<span class=\"lineno\"> 35 </span><span class=\"nv\">Answer</span><span class=\"s s-Atom\">:</span> <span class=\"mi\">18</span>\n",
       "<span class=\"lineno\"> 36 </span><span class=\"nf\">q</span><span class=\"p\">(</span><span class=\"mi\">2</span><span class=\"p\">,</span><span class=\"mi\">2</span><span class=\"p\">)</span> <span class=\"nf\">q</span><span class=\"p\">(</span><span class=\"mi\">7</span><span class=\"p\">,</span><span class=\"mi\">1</span><span class=\"p\">)</span> <span class=\"nf\">q</span><span class=\"p\">(</span><span class=\"mi\">6</span><span class=\"p\">,</span><span class=\"mi\">3</span><span class=\"p\">)</span> <span class=\"nf\">q</span><span class=\"p\">(</span><span class=\"mi\">3</span><span class=\"p\">,</span><span class=\"mi\">4</span><span class=\"p\">)</span> <span class=\"nf\">q</span><span class=\"p\">(</span><span class=\"mi\">1</span><span class=\"p\">,</span><span class=\"mi\">5</span><span class=\"p\">)</span> <span class=\"nf\">q</span><span class=\"p\">(</span><span class=\"mi\">4</span><span class=\"p\">,</span><span class=\"mi\">6</span><span class=\"p\">)</span> <span class=\"nf\">q</span><span class=\"p\">(</span><span class=\"mi\">8</span><span class=\"p\">,</span><span class=\"mi\">7</span><span class=\"p\">)</span> <span class=\"nf\">q</span><span class=\"p\">(</span><span class=\"mi\">5</span><span class=\"p\">,</span><span class=\"mi\">8</span><span class=\"p\">)</span>\n",
       "<span class=\"lineno\"> 37 </span><span class=\"nv\">Answer</span><span class=\"s s-Atom\">:</span> <span class=\"mi\">19</span>\n",
       "<span class=\"lineno\"> 38 </span><span class=\"nf\">q</span><span class=\"p\">(</span><span class=\"mi\">4</span><span class=\"p\">,</span><span class=\"mi\">2</span><span class=\"p\">)</span> <span class=\"nf\">q</span><span class=\"p\">(</span><span class=\"mi\">7</span><span class=\"p\">,</span><span class=\"mi\">1</span><span class=\"p\">)</span> <span class=\"nf\">q</span><span class=\"p\">(</span><span class=\"mi\">2</span><span class=\"p\">,</span><span class=\"mi\">3</span><span class=\"p\">)</span> <span class=\"nf\">q</span><span class=\"p\">(</span><span class=\"mi\">8</span><span class=\"p\">,</span><span class=\"mi\">4</span><span class=\"p\">)</span> <span class=\"nf\">q</span><span class=\"p\">(</span><span class=\"mi\">6</span><span class=\"p\">,</span><span class=\"mi\">5</span><span class=\"p\">)</span> <span class=\"nf\">q</span><span class=\"p\">(</span><span class=\"mi\">1</span><span class=\"p\">,</span><span class=\"mi\">6</span><span class=\"p\">)</span> <span class=\"nf\">q</span><span class=\"p\">(</span><span class=\"mi\">3</span><span class=\"p\">,</span><span class=\"mi\">7</span><span class=\"p\">)</span> <span class=\"nf\">q</span><span class=\"p\">(</span><span class=\"mi\">5</span><span class=\"p\">,</span><span class=\"mi\">8</span><span class=\"p\">)</span>\n",
       "<span class=\"lineno\"> 39 </span><span class=\"nv\">Answer</span><span class=\"s s-Atom\">:</span> <span class=\"mi\">20</span>\n",
       "<span class=\"lineno\"> 40 </span><span class=\"nf\">q</span><span class=\"p\">(</span><span class=\"mi\">3</span><span class=\"p\">,</span><span class=\"mi\">1</span><span class=\"p\">)</span> <span class=\"nf\">q</span><span class=\"p\">(</span><span class=\"mi\">5</span><span class=\"p\">,</span><span class=\"mi\">2</span><span class=\"p\">)</span> <span class=\"nf\">q</span><span class=\"p\">(</span><span class=\"mi\">2</span><span class=\"p\">,</span><span class=\"mi\">3</span><span class=\"p\">)</span> <span class=\"nf\">q</span><span class=\"p\">(</span><span class=\"mi\">8</span><span class=\"p\">,</span><span class=\"mi\">4</span><span class=\"p\">)</span> <span class=\"nf\">q</span><span class=\"p\">(</span><span class=\"mi\">6</span><span class=\"p\">,</span><span class=\"mi\">5</span><span class=\"p\">)</span> <span class=\"nf\">q</span><span class=\"p\">(</span><span class=\"mi\">4</span><span class=\"p\">,</span><span class=\"mi\">6</span><span class=\"p\">)</span> <span class=\"nf\">q</span><span class=\"p\">(</span><span class=\"mi\">7</span><span class=\"p\">,</span><span class=\"mi\">7</span><span class=\"p\">)</span> <span class=\"nf\">q</span><span class=\"p\">(</span><span class=\"mi\">1</span><span class=\"p\">,</span><span class=\"mi\">8</span><span class=\"p\">)</span>\n",
       "<span class=\"lineno\"> 41 </span><span class=\"nv\">Answer</span><span class=\"s s-Atom\">:</span> <span class=\"mi\">21</span>\n",
       "<span class=\"lineno\"> 42 </span><span class=\"nf\">q</span><span class=\"p\">(</span><span class=\"mi\">3</span><span class=\"p\">,</span><span class=\"mi\">1</span><span class=\"p\">)</span> <span class=\"nf\">q</span><span class=\"p\">(</span><span class=\"mi\">7</span><span class=\"p\">,</span><span class=\"mi\">2</span><span class=\"p\">)</span> <span class=\"nf\">q</span><span class=\"p\">(</span><span class=\"mi\">2</span><span class=\"p\">,</span><span class=\"mi\">3</span><span class=\"p\">)</span> <span class=\"nf\">q</span><span class=\"p\">(</span><span class=\"mi\">8</span><span class=\"p\">,</span><span class=\"mi\">4</span><span class=\"p\">)</span> <span class=\"nf\">q</span><span class=\"p\">(</span><span class=\"mi\">6</span><span class=\"p\">,</span><span class=\"mi\">5</span><span class=\"p\">)</span> <span class=\"nf\">q</span><span class=\"p\">(</span><span class=\"mi\">4</span><span class=\"p\">,</span><span class=\"mi\">6</span><span class=\"p\">)</span> <span class=\"nf\">q</span><span class=\"p\">(</span><span class=\"mi\">1</span><span class=\"p\">,</span><span class=\"mi\">7</span><span class=\"p\">)</span> <span class=\"nf\">q</span><span class=\"p\">(</span><span class=\"mi\">5</span><span class=\"p\">,</span><span class=\"mi\">8</span><span class=\"p\">)</span>\n",
       "<span class=\"lineno\"> 43 </span><span class=\"nv\">Answer</span><span class=\"s s-Atom\">:</span> <span class=\"mi\">22</span>\n",
       "<span class=\"lineno\"> 44 </span><span class=\"nf\">q</span><span class=\"p\">(</span><span class=\"mi\">7</span><span class=\"p\">,</span><span class=\"mi\">1</span><span class=\"p\">)</span> <span class=\"nf\">q</span><span class=\"p\">(</span><span class=\"mi\">1</span><span class=\"p\">,</span><span class=\"mi\">2</span><span class=\"p\">)</span> <span class=\"nf\">q</span><span class=\"p\">(</span><span class=\"mi\">3</span><span class=\"p\">,</span><span class=\"mi\">3</span><span class=\"p\">)</span> <span class=\"nf\">q</span><span class=\"p\">(</span><span class=\"mi\">8</span><span class=\"p\">,</span><span class=\"mi\">4</span><span class=\"p\">)</span> <span class=\"nf\">q</span><span class=\"p\">(</span><span class=\"mi\">6</span><span class=\"p\">,</span><span class=\"mi\">5</span><span class=\"p\">)</span> <span class=\"nf\">q</span><span class=\"p\">(</span><span class=\"mi\">4</span><span class=\"p\">,</span><span class=\"mi\">6</span><span class=\"p\">)</span> <span class=\"nf\">q</span><span class=\"p\">(</span><span class=\"mi\">2</span><span class=\"p\">,</span><span class=\"mi\">7</span><span class=\"p\">)</span> <span class=\"nf\">q</span><span class=\"p\">(</span><span class=\"mi\">5</span><span class=\"p\">,</span><span class=\"mi\">8</span><span class=\"p\">)</span>\n",
       "<span class=\"lineno\"> 45 </span><span class=\"nv\">Answer</span><span class=\"s s-Atom\">:</span> <span class=\"mi\">23</span>\n",
       "<span class=\"lineno\"> 46 </span><span class=\"nf\">q</span><span class=\"p\">(</span><span class=\"mi\">4</span><span class=\"p\">,</span><span class=\"mi\">2</span><span class=\"p\">)</span> <span class=\"nf\">q</span><span class=\"p\">(</span><span class=\"mi\">1</span><span class=\"p\">,</span><span class=\"mi\">3</span><span class=\"p\">)</span> <span class=\"nf\">q</span><span class=\"p\">(</span><span class=\"mi\">3</span><span class=\"p\">,</span><span class=\"mi\">4</span><span class=\"p\">)</span> <span class=\"nf\">q</span><span class=\"p\">(</span><span class=\"mi\">6</span><span class=\"p\">,</span><span class=\"mi\">5</span><span class=\"p\">)</span> <span class=\"nf\">q</span><span class=\"p\">(</span><span class=\"mi\">2</span><span class=\"p\">,</span><span class=\"mi\">6</span><span class=\"p\">)</span> <span class=\"nf\">q</span><span class=\"p\">(</span><span class=\"mi\">7</span><span class=\"p\">,</span><span class=\"mi\">7</span><span class=\"p\">)</span> <span class=\"nf\">q</span><span class=\"p\">(</span><span class=\"mi\">5</span><span class=\"p\">,</span><span class=\"mi\">8</span><span class=\"p\">)</span> <span class=\"nf\">q</span><span class=\"p\">(</span><span class=\"mi\">8</span><span class=\"p\">,</span><span class=\"mi\">1</span><span class=\"p\">)</span>\n",
       "<span class=\"lineno\"> 47 </span><span class=\"nv\">Answer</span><span class=\"s s-Atom\">:</span> <span class=\"mi\">24</span>\n",
       "<span class=\"lineno\"> 48 </span><span class=\"nf\">q</span><span class=\"p\">(</span><span class=\"mi\">2</span><span class=\"p\">,</span><span class=\"mi\">2</span><span class=\"p\">)</span> <span class=\"nf\">q</span><span class=\"p\">(</span><span class=\"mi\">4</span><span class=\"p\">,</span><span class=\"mi\">1</span><span class=\"p\">)</span> <span class=\"nf\">q</span><span class=\"p\">(</span><span class=\"mi\">7</span><span class=\"p\">,</span><span class=\"mi\">3</span><span class=\"p\">)</span> <span class=\"nf\">q</span><span class=\"p\">(</span><span class=\"mi\">3</span><span class=\"p\">,</span><span class=\"mi\">4</span><span class=\"p\">)</span> <span class=\"nf\">q</span><span class=\"p\">(</span><span class=\"mi\">6</span><span class=\"p\">,</span><span class=\"mi\">5</span><span class=\"p\">)</span> <span class=\"nf\">q</span><span class=\"p\">(</span><span class=\"mi\">8</span><span class=\"p\">,</span><span class=\"mi\">6</span><span class=\"p\">)</span> <span class=\"nf\">q</span><span class=\"p\">(</span><span class=\"mi\">1</span><span class=\"p\">,</span><span class=\"mi\">7</span><span class=\"p\">)</span> <span class=\"nf\">q</span><span class=\"p\">(</span><span class=\"mi\">5</span><span class=\"p\">,</span><span class=\"mi\">8</span><span class=\"p\">)</span>\n",
       "<span class=\"lineno\"> 49 </span><span class=\"nv\">Answer</span><span class=\"s s-Atom\">:</span> <span class=\"mi\">25</span>\n",
       "<span class=\"lineno\"> 50 </span><span class=\"nf\">q</span><span class=\"p\">(</span><span class=\"mi\">4</span><span class=\"p\">,</span><span class=\"mi\">1</span><span class=\"p\">)</span> <span class=\"nf\">q</span><span class=\"p\">(</span><span class=\"mi\">8</span><span class=\"p\">,</span><span class=\"mi\">2</span><span class=\"p\">)</span> <span class=\"nf\">q</span><span class=\"p\">(</span><span class=\"mi\">1</span><span class=\"p\">,</span><span class=\"mi\">3</span><span class=\"p\">)</span> <span class=\"nf\">q</span><span class=\"p\">(</span><span class=\"mi\">3</span><span class=\"p\">,</span><span class=\"mi\">4</span><span class=\"p\">)</span> <span class=\"nf\">q</span><span class=\"p\">(</span><span class=\"mi\">6</span><span class=\"p\">,</span><span class=\"mi\">5</span><span class=\"p\">)</span> <span class=\"nf\">q</span><span class=\"p\">(</span><span class=\"mi\">2</span><span class=\"p\">,</span><span class=\"mi\">6</span><span class=\"p\">)</span> <span class=\"nf\">q</span><span class=\"p\">(</span><span class=\"mi\">7</span><span class=\"p\">,</span><span class=\"mi\">7</span><span class=\"p\">)</span> <span class=\"nf\">q</span><span class=\"p\">(</span><span class=\"mi\">5</span><span class=\"p\">,</span><span class=\"mi\">8</span><span class=\"p\">)</span>\n",
       "<span class=\"lineno\"> 51 </span><span class=\"nv\">Answer</span><span class=\"s s-Atom\">:</span> <span class=\"mi\">26</span>\n",
       "<span class=\"lineno\"> 52 </span><span class=\"nf\">q</span><span class=\"p\">(</span><span class=\"mi\">2</span><span class=\"p\">,</span><span class=\"mi\">2</span><span class=\"p\">)</span> <span class=\"nf\">q</span><span class=\"p\">(</span><span class=\"mi\">4</span><span class=\"p\">,</span><span class=\"mi\">1</span><span class=\"p\">)</span> <span class=\"nf\">q</span><span class=\"p\">(</span><span class=\"mi\">7</span><span class=\"p\">,</span><span class=\"mi\">3</span><span class=\"p\">)</span> <span class=\"nf\">q</span><span class=\"p\">(</span><span class=\"mi\">3</span><span class=\"p\">,</span><span class=\"mi\">4</span><span class=\"p\">)</span> <span class=\"nf\">q</span><span class=\"p\">(</span><span class=\"mi\">6</span><span class=\"p\">,</span><span class=\"mi\">5</span><span class=\"p\">)</span> <span class=\"nf\">q</span><span class=\"p\">(</span><span class=\"mi\">8</span><span class=\"p\">,</span><span class=\"mi\">6</span><span class=\"p\">)</span> <span class=\"nf\">q</span><span class=\"p\">(</span><span class=\"mi\">5</span><span class=\"p\">,</span><span class=\"mi\">7</span><span class=\"p\">)</span> <span class=\"nf\">q</span><span class=\"p\">(</span><span class=\"mi\">1</span><span class=\"p\">,</span><span class=\"mi\">8</span><span class=\"p\">)</span>\n",
       "<span class=\"lineno\"> 53 </span><span class=\"nv\">Answer</span><span class=\"s s-Atom\">:</span> <span class=\"mi\">27</span>\n",
       "<span class=\"lineno\"> 54 </span><span class=\"nf\">q</span><span class=\"p\">(</span><span class=\"mi\">5</span><span class=\"p\">,</span><span class=\"mi\">2</span><span class=\"p\">)</span> <span class=\"nf\">q</span><span class=\"p\">(</span><span class=\"mi\">7</span><span class=\"p\">,</span><span class=\"mi\">1</span><span class=\"p\">)</span> <span class=\"nf\">q</span><span class=\"p\">(</span><span class=\"mi\">3</span><span class=\"p\">,</span><span class=\"mi\">3</span><span class=\"p\">)</span> <span class=\"nf\">q</span><span class=\"p\">(</span><span class=\"mi\">1</span><span class=\"p\">,</span><span class=\"mi\">4</span><span class=\"p\">)</span> <span class=\"nf\">q</span><span class=\"p\">(</span><span class=\"mi\">6</span><span class=\"p\">,</span><span class=\"mi\">5</span><span class=\"p\">)</span> <span class=\"nf\">q</span><span class=\"p\">(</span><span class=\"mi\">8</span><span class=\"p\">,</span><span class=\"mi\">6</span><span class=\"p\">)</span> <span class=\"nf\">q</span><span class=\"p\">(</span><span class=\"mi\">2</span><span class=\"p\">,</span><span class=\"mi\">7</span><span class=\"p\">)</span> <span class=\"nf\">q</span><span class=\"p\">(</span><span class=\"mi\">4</span><span class=\"p\">,</span><span class=\"mi\">8</span><span class=\"p\">)</span>\n",
       "<span class=\"lineno\"> 55 </span><span class=\"nv\">Answer</span><span class=\"s s-Atom\">:</span> <span class=\"mi\">28</span>\n",
       "<span class=\"lineno\"> 56 </span><span class=\"nf\">q</span><span class=\"p\">(</span><span class=\"mi\">4</span><span class=\"p\">,</span><span class=\"mi\">2</span><span class=\"p\">)</span> <span class=\"nf\">q</span><span class=\"p\">(</span><span class=\"mi\">6</span><span class=\"p\">,</span><span class=\"mi\">1</span><span class=\"p\">)</span> <span class=\"nf\">q</span><span class=\"p\">(</span><span class=\"mi\">7</span><span class=\"p\">,</span><span class=\"mi\">3</span><span class=\"p\">)</span> <span class=\"nf\">q</span><span class=\"p\">(</span><span class=\"mi\">1</span><span class=\"p\">,</span><span class=\"mi\">4</span><span class=\"p\">)</span> <span class=\"nf\">q</span><span class=\"p\">(</span><span class=\"mi\">3</span><span class=\"p\">,</span><span class=\"mi\">5</span><span class=\"p\">)</span> <span class=\"nf\">q</span><span class=\"p\">(</span><span class=\"mi\">5</span><span class=\"p\">,</span><span class=\"mi\">6</span><span class=\"p\">)</span> <span class=\"nf\">q</span><span class=\"p\">(</span><span class=\"mi\">2</span><span class=\"p\">,</span><span class=\"mi\">7</span><span class=\"p\">)</span> <span class=\"nf\">q</span><span class=\"p\">(</span><span class=\"mi\">8</span><span class=\"p\">,</span><span class=\"mi\">8</span><span class=\"p\">)</span>\n",
       "<span class=\"lineno\"> 57 </span><span class=\"nv\">Answer</span><span class=\"s s-Atom\">:</span> <span class=\"mi\">29</span>\n",
       "<span class=\"lineno\"> 58 </span><span class=\"nf\">q</span><span class=\"p\">(</span><span class=\"mi\">2</span><span class=\"p\">,</span><span class=\"mi\">1</span><span class=\"p\">)</span> <span class=\"nf\">q</span><span class=\"p\">(</span><span class=\"mi\">4</span><span class=\"p\">,</span><span class=\"mi\">2</span><span class=\"p\">)</span> <span class=\"nf\">q</span><span class=\"p\">(</span><span class=\"mi\">6</span><span class=\"p\">,</span><span class=\"mi\">3</span><span class=\"p\">)</span> <span class=\"nf\">q</span><span class=\"p\">(</span><span class=\"mi\">8</span><span class=\"p\">,</span><span class=\"mi\">4</span><span class=\"p\">)</span> <span class=\"nf\">q</span><span class=\"p\">(</span><span class=\"mi\">3</span><span class=\"p\">,</span><span class=\"mi\">5</span><span class=\"p\">)</span> <span class=\"nf\">q</span><span class=\"p\">(</span><span class=\"mi\">1</span><span class=\"p\">,</span><span class=\"mi\">6</span><span class=\"p\">)</span> <span class=\"nf\">q</span><span class=\"p\">(</span><span class=\"mi\">7</span><span class=\"p\">,</span><span class=\"mi\">7</span><span class=\"p\">)</span> <span class=\"nf\">q</span><span class=\"p\">(</span><span class=\"mi\">5</span><span class=\"p\">,</span><span class=\"mi\">8</span><span class=\"p\">)</span>\n",
       "<span class=\"lineno\"> 59 </span><span class=\"nv\">Answer</span><span class=\"s s-Atom\">:</span> <span class=\"mi\">30</span>\n",
       "<span class=\"lineno\"> 60 </span><span class=\"nf\">q</span><span class=\"p\">(</span><span class=\"mi\">2</span><span class=\"p\">,</span><span class=\"mi\">1</span><span class=\"p\">)</span> <span class=\"nf\">q</span><span class=\"p\">(</span><span class=\"mi\">8</span><span class=\"p\">,</span><span class=\"mi\">2</span><span class=\"p\">)</span> <span class=\"nf\">q</span><span class=\"p\">(</span><span class=\"mi\">6</span><span class=\"p\">,</span><span class=\"mi\">3</span><span class=\"p\">)</span> <span class=\"nf\">q</span><span class=\"p\">(</span><span class=\"mi\">1</span><span class=\"p\">,</span><span class=\"mi\">4</span><span class=\"p\">)</span> <span class=\"nf\">q</span><span class=\"p\">(</span><span class=\"mi\">3</span><span class=\"p\">,</span><span class=\"mi\">5</span><span class=\"p\">)</span> <span class=\"nf\">q</span><span class=\"p\">(</span><span class=\"mi\">5</span><span class=\"p\">,</span><span class=\"mi\">6</span><span class=\"p\">)</span> <span class=\"nf\">q</span><span class=\"p\">(</span><span class=\"mi\">7</span><span class=\"p\">,</span><span class=\"mi\">7</span><span class=\"p\">)</span> <span class=\"nf\">q</span><span class=\"p\">(</span><span class=\"mi\">4</span><span class=\"p\">,</span><span class=\"mi\">8</span><span class=\"p\">)</span>\n",
       "<span class=\"lineno\"> 61 </span><span class=\"nv\">Answer</span><span class=\"s s-Atom\">:</span> <span class=\"mi\">31</span>\n",
       "<span class=\"lineno\"> 62 </span><span class=\"nf\">q</span><span class=\"p\">(</span><span class=\"mi\">2</span><span class=\"p\">,</span><span class=\"mi\">2</span><span class=\"p\">)</span> <span class=\"nf\">q</span><span class=\"p\">(</span><span class=\"mi\">6</span><span class=\"p\">,</span><span class=\"mi\">1</span><span class=\"p\">)</span> <span class=\"nf\">q</span><span class=\"p\">(</span><span class=\"mi\">7</span><span class=\"p\">,</span><span class=\"mi\">3</span><span class=\"p\">)</span> <span class=\"nf\">q</span><span class=\"p\">(</span><span class=\"mi\">1</span><span class=\"p\">,</span><span class=\"mi\">4</span><span class=\"p\">)</span> <span class=\"nf\">q</span><span class=\"p\">(</span><span class=\"mi\">3</span><span class=\"p\">,</span><span class=\"mi\">5</span><span class=\"p\">)</span> <span class=\"nf\">q</span><span class=\"p\">(</span><span class=\"mi\">5</span><span class=\"p\">,</span><span class=\"mi\">6</span><span class=\"p\">)</span> <span class=\"nf\">q</span><span class=\"p\">(</span><span class=\"mi\">8</span><span class=\"p\">,</span><span class=\"mi\">7</span><span class=\"p\">)</span> <span class=\"nf\">q</span><span class=\"p\">(</span><span class=\"mi\">4</span><span class=\"p\">,</span><span class=\"mi\">8</span><span class=\"p\">)</span>\n",
       "<span class=\"lineno\"> 63 </span><span class=\"nv\">Answer</span><span class=\"s s-Atom\">:</span> <span class=\"mi\">32</span>\n",
       "<span class=\"lineno\"> 64 </span><span class=\"nf\">q</span><span class=\"p\">(</span><span class=\"mi\">5</span><span class=\"p\">,</span><span class=\"mi\">1</span><span class=\"p\">)</span> <span class=\"nf\">q</span><span class=\"p\">(</span><span class=\"mi\">7</span><span class=\"p\">,</span><span class=\"mi\">2</span><span class=\"p\">)</span> <span class=\"nf\">q</span><span class=\"p\">(</span><span class=\"mi\">2</span><span class=\"p\">,</span><span class=\"mi\">3</span><span class=\"p\">)</span> <span class=\"nf\">q</span><span class=\"p\">(</span><span class=\"mi\">6</span><span class=\"p\">,</span><span class=\"mi\">4</span><span class=\"p\">)</span> <span class=\"nf\">q</span><span class=\"p\">(</span><span class=\"mi\">3</span><span class=\"p\">,</span><span class=\"mi\">5</span><span class=\"p\">)</span> <span class=\"nf\">q</span><span class=\"p\">(</span><span class=\"mi\">1</span><span class=\"p\">,</span><span class=\"mi\">6</span><span class=\"p\">)</span> <span class=\"nf\">q</span><span class=\"p\">(</span><span class=\"mi\">8</span><span class=\"p\">,</span><span class=\"mi\">7</span><span class=\"p\">)</span> <span class=\"nf\">q</span><span class=\"p\">(</span><span class=\"mi\">4</span><span class=\"p\">,</span><span class=\"mi\">8</span><span class=\"p\">)</span>\n",
       "<span class=\"lineno\"> 65 </span><span class=\"nv\">Answer</span><span class=\"s s-Atom\">:</span> <span class=\"mi\">33</span>\n",
       "<span class=\"lineno\"> 66 </span><span class=\"nf\">q</span><span class=\"p\">(</span><span class=\"mi\">5</span><span class=\"p\">,</span><span class=\"mi\">1</span><span class=\"p\">)</span> <span class=\"nf\">q</span><span class=\"p\">(</span><span class=\"mi\">7</span><span class=\"p\">,</span><span class=\"mi\">2</span><span class=\"p\">)</span> <span class=\"nf\">q</span><span class=\"p\">(</span><span class=\"mi\">2</span><span class=\"p\">,</span><span class=\"mi\">3</span><span class=\"p\">)</span> <span class=\"nf\">q</span><span class=\"p\">(</span><span class=\"mi\">6</span><span class=\"p\">,</span><span class=\"mi\">4</span><span class=\"p\">)</span> <span class=\"nf\">q</span><span class=\"p\">(</span><span class=\"mi\">3</span><span class=\"p\">,</span><span class=\"mi\">5</span><span class=\"p\">)</span> <span class=\"nf\">q</span><span class=\"p\">(</span><span class=\"mi\">1</span><span class=\"p\">,</span><span class=\"mi\">6</span><span class=\"p\">)</span> <span class=\"nf\">q</span><span class=\"p\">(</span><span class=\"mi\">4</span><span class=\"p\">,</span><span class=\"mi\">7</span><span class=\"p\">)</span> <span class=\"nf\">q</span><span class=\"p\">(</span><span class=\"mi\">8</span><span class=\"p\">,</span><span class=\"mi\">8</span><span class=\"p\">)</span>\n",
       "<span class=\"lineno\"> 67 </span><span class=\"nv\">Answer</span><span class=\"s s-Atom\">:</span> <span class=\"mi\">34</span>\n",
       "<span class=\"lineno\"> 68 </span><span class=\"nf\">q</span><span class=\"p\">(</span><span class=\"mi\">1</span><span class=\"p\">,</span><span class=\"mi\">1</span><span class=\"p\">)</span> <span class=\"nf\">q</span><span class=\"p\">(</span><span class=\"mi\">5</span><span class=\"p\">,</span><span class=\"mi\">2</span><span class=\"p\">)</span> <span class=\"nf\">q</span><span class=\"p\">(</span><span class=\"mi\">8</span><span class=\"p\">,</span><span class=\"mi\">3</span><span class=\"p\">)</span> <span class=\"nf\">q</span><span class=\"p\">(</span><span class=\"mi\">6</span><span class=\"p\">,</span><span class=\"mi\">4</span><span class=\"p\">)</span> <span class=\"nf\">q</span><span class=\"p\">(</span><span class=\"mi\">3</span><span class=\"p\">,</span><span class=\"mi\">5</span><span class=\"p\">)</span> <span class=\"nf\">q</span><span class=\"p\">(</span><span class=\"mi\">7</span><span class=\"p\">,</span><span class=\"mi\">6</span><span class=\"p\">)</span> <span class=\"nf\">q</span><span class=\"p\">(</span><span class=\"mi\">2</span><span class=\"p\">,</span><span class=\"mi\">7</span><span class=\"p\">)</span> <span class=\"nf\">q</span><span class=\"p\">(</span><span class=\"mi\">4</span><span class=\"p\">,</span><span class=\"mi\">8</span><span class=\"p\">)</span>\n",
       "<span class=\"lineno\"> 69 </span><span class=\"nv\">Answer</span><span class=\"s s-Atom\">:</span> <span class=\"mi\">35</span>\n",
       "<span class=\"lineno\"> 70 </span><span class=\"nf\">q</span><span class=\"p\">(</span><span class=\"mi\">2</span><span class=\"p\">,</span><span class=\"mi\">1</span><span class=\"p\">)</span> <span class=\"nf\">q</span><span class=\"p\">(</span><span class=\"mi\">5</span><span class=\"p\">,</span><span class=\"mi\">2</span><span class=\"p\">)</span> <span class=\"nf\">q</span><span class=\"p\">(</span><span class=\"mi\">7</span><span class=\"p\">,</span><span class=\"mi\">3</span><span class=\"p\">)</span> <span class=\"nf\">q</span><span class=\"p\">(</span><span class=\"mi\">1</span><span class=\"p\">,</span><span class=\"mi\">4</span><span class=\"p\">)</span> <span class=\"nf\">q</span><span class=\"p\">(</span><span class=\"mi\">3</span><span class=\"p\">,</span><span class=\"mi\">5</span><span class=\"p\">)</span> <span class=\"nf\">q</span><span class=\"p\">(</span><span class=\"mi\">8</span><span class=\"p\">,</span><span class=\"mi\">6</span><span class=\"p\">)</span> <span class=\"nf\">q</span><span class=\"p\">(</span><span class=\"mi\">6</span><span class=\"p\">,</span><span class=\"mi\">7</span><span class=\"p\">)</span> <span class=\"nf\">q</span><span class=\"p\">(</span><span class=\"mi\">4</span><span class=\"p\">,</span><span class=\"mi\">8</span><span class=\"p\">)</span>\n",
       "<span class=\"lineno\"> 71 </span><span class=\"nv\">Answer</span><span class=\"s s-Atom\">:</span> <span class=\"mi\">36</span>\n",
       "<span class=\"lineno\"> 72 </span><span class=\"nf\">q</span><span class=\"p\">(</span><span class=\"mi\">5</span><span class=\"p\">,</span><span class=\"mi\">1</span><span class=\"p\">)</span> <span class=\"nf\">q</span><span class=\"p\">(</span><span class=\"mi\">1</span><span class=\"p\">,</span><span class=\"mi\">2</span><span class=\"p\">)</span> <span class=\"nf\">q</span><span class=\"p\">(</span><span class=\"mi\">8</span><span class=\"p\">,</span><span class=\"mi\">3</span><span class=\"p\">)</span> <span class=\"nf\">q</span><span class=\"p\">(</span><span class=\"mi\">6</span><span class=\"p\">,</span><span class=\"mi\">4</span><span class=\"p\">)</span> <span class=\"nf\">q</span><span class=\"p\">(</span><span class=\"mi\">3</span><span class=\"p\">,</span><span class=\"mi\">5</span><span class=\"p\">)</span> <span class=\"nf\">q</span><span class=\"p\">(</span><span class=\"mi\">7</span><span class=\"p\">,</span><span class=\"mi\">6</span><span class=\"p\">)</span> <span class=\"nf\">q</span><span class=\"p\">(</span><span class=\"mi\">2</span><span class=\"p\">,</span><span class=\"mi\">7</span><span class=\"p\">)</span> <span class=\"nf\">q</span><span class=\"p\">(</span><span class=\"mi\">4</span><span class=\"p\">,</span><span class=\"mi\">8</span><span class=\"p\">)</span>\n",
       "<span class=\"lineno\"> 73 </span><span class=\"nv\">Answer</span><span class=\"s s-Atom\">:</span> <span class=\"mi\">37</span>\n",
       "<span class=\"lineno\"> 74 </span><span class=\"nf\">q</span><span class=\"p\">(</span><span class=\"mi\">3</span><span class=\"p\">,</span><span class=\"mi\">2</span><span class=\"p\">)</span> <span class=\"nf\">q</span><span class=\"p\">(</span><span class=\"mi\">6</span><span class=\"p\">,</span><span class=\"mi\">1</span><span class=\"p\">)</span> <span class=\"nf\">q</span><span class=\"p\">(</span><span class=\"mi\">5</span><span class=\"p\">,</span><span class=\"mi\">3</span><span class=\"p\">)</span> <span class=\"nf\">q</span><span class=\"p\">(</span><span class=\"mi\">7</span><span class=\"p\">,</span><span class=\"mi\">4</span><span class=\"p\">)</span> <span class=\"nf\">q</span><span class=\"p\">(</span><span class=\"mi\">1</span><span class=\"p\">,</span><span class=\"mi\">5</span><span class=\"p\">)</span> <span class=\"nf\">q</span><span class=\"p\">(</span><span class=\"mi\">4</span><span class=\"p\">,</span><span class=\"mi\">6</span><span class=\"p\">)</span> <span class=\"nf\">q</span><span class=\"p\">(</span><span class=\"mi\">2</span><span class=\"p\">,</span><span class=\"mi\">7</span><span class=\"p\">)</span> <span class=\"nf\">q</span><span class=\"p\">(</span><span class=\"mi\">8</span><span class=\"p\">,</span><span class=\"mi\">8</span><span class=\"p\">)</span>\n",
       "<span class=\"lineno\"> 75 </span><span class=\"nv\">Answer</span><span class=\"s s-Atom\">:</span> <span class=\"mi\">38</span>\n",
       "<span class=\"lineno\"> 76 </span><span class=\"nf\">q</span><span class=\"p\">(</span><span class=\"mi\">6</span><span class=\"p\">,</span><span class=\"mi\">1</span><span class=\"p\">)</span> <span class=\"nf\">q</span><span class=\"p\">(</span><span class=\"mi\">1</span><span class=\"p\">,</span><span class=\"mi\">2</span><span class=\"p\">)</span> <span class=\"nf\">q</span><span class=\"p\">(</span><span class=\"mi\">5</span><span class=\"p\">,</span><span class=\"mi\">3</span><span class=\"p\">)</span> <span class=\"nf\">q</span><span class=\"p\">(</span><span class=\"mi\">2</span><span class=\"p\">,</span><span class=\"mi\">4</span><span class=\"p\">)</span> <span class=\"nf\">q</span><span class=\"p\">(</span><span class=\"mi\">8</span><span class=\"p\">,</span><span class=\"mi\">5</span><span class=\"p\">)</span> <span class=\"nf\">q</span><span class=\"p\">(</span><span class=\"mi\">3</span><span class=\"p\">,</span><span class=\"mi\">6</span><span class=\"p\">)</span> <span class=\"nf\">q</span><span class=\"p\">(</span><span class=\"mi\">7</span><span class=\"p\">,</span><span class=\"mi\">7</span><span class=\"p\">)</span> <span class=\"nf\">q</span><span class=\"p\">(</span><span class=\"mi\">4</span><span class=\"p\">,</span><span class=\"mi\">8</span><span class=\"p\">)</span>\n",
       "<span class=\"lineno\"> 77 </span><span class=\"nv\">Answer</span><span class=\"s s-Atom\">:</span> <span class=\"mi\">39</span>\n",
       "<span class=\"lineno\"> 78 </span><span class=\"nf\">q</span><span class=\"p\">(</span><span class=\"mi\">4</span><span class=\"p\">,</span><span class=\"mi\">1</span><span class=\"p\">)</span> <span class=\"nf\">q</span><span class=\"p\">(</span><span class=\"mi\">7</span><span class=\"p\">,</span><span class=\"mi\">2</span><span class=\"p\">)</span> <span class=\"nf\">q</span><span class=\"p\">(</span><span class=\"mi\">5</span><span class=\"p\">,</span><span class=\"mi\">3</span><span class=\"p\">)</span> <span class=\"nf\">q</span><span class=\"p\">(</span><span class=\"mi\">2</span><span class=\"p\">,</span><span class=\"mi\">4</span><span class=\"p\">)</span> <span class=\"nf\">q</span><span class=\"p\">(</span><span class=\"mi\">6</span><span class=\"p\">,</span><span class=\"mi\">5</span><span class=\"p\">)</span> <span class=\"nf\">q</span><span class=\"p\">(</span><span class=\"mi\">1</span><span class=\"p\">,</span><span class=\"mi\">6</span><span class=\"p\">)</span> <span class=\"nf\">q</span><span class=\"p\">(</span><span class=\"mi\">3</span><span class=\"p\">,</span><span class=\"mi\">7</span><span class=\"p\">)</span> <span class=\"nf\">q</span><span class=\"p\">(</span><span class=\"mi\">8</span><span class=\"p\">,</span><span class=\"mi\">8</span><span class=\"p\">)</span>\n",
       "<span class=\"lineno\"> 79 </span><span class=\"nv\">Answer</span><span class=\"s s-Atom\">:</span> <span class=\"mi\">40</span>\n",
       "<span class=\"lineno\"> 80 </span><span class=\"nf\">q</span><span class=\"p\">(</span><span class=\"mi\">2</span><span class=\"p\">,</span><span class=\"mi\">2</span><span class=\"p\">)</span> <span class=\"nf\">q</span><span class=\"p\">(</span><span class=\"mi\">5</span><span class=\"p\">,</span><span class=\"mi\">3</span><span class=\"p\">)</span> <span class=\"nf\">q</span><span class=\"p\">(</span><span class=\"mi\">3</span><span class=\"p\">,</span><span class=\"mi\">4</span><span class=\"p\">)</span> <span class=\"nf\">q</span><span class=\"p\">(</span><span class=\"mi\">1</span><span class=\"p\">,</span><span class=\"mi\">5</span><span class=\"p\">)</span> <span class=\"nf\">q</span><span class=\"p\">(</span><span class=\"mi\">7</span><span class=\"p\">,</span><span class=\"mi\">6</span><span class=\"p\">)</span> <span class=\"nf\">q</span><span class=\"p\">(</span><span class=\"mi\">4</span><span class=\"p\">,</span><span class=\"mi\">7</span><span class=\"p\">)</span> <span class=\"nf\">q</span><span class=\"p\">(</span><span class=\"mi\">6</span><span class=\"p\">,</span><span class=\"mi\">8</span><span class=\"p\">)</span> <span class=\"nf\">q</span><span class=\"p\">(</span><span class=\"mi\">8</span><span class=\"p\">,</span><span class=\"mi\">1</span><span class=\"p\">)</span>\n",
       "<span class=\"lineno\"> 81 </span><span class=\"nv\">Answer</span><span class=\"s s-Atom\">:</span> <span class=\"mi\">41</span>\n",
       "<span class=\"lineno\"> 82 </span><span class=\"nf\">q</span><span class=\"p\">(</span><span class=\"mi\">4</span><span class=\"p\">,</span><span class=\"mi\">1</span><span class=\"p\">)</span> <span class=\"nf\">q</span><span class=\"p\">(</span><span class=\"mi\">1</span><span class=\"p\">,</span><span class=\"mi\">2</span><span class=\"p\">)</span> <span class=\"nf\">q</span><span class=\"p\">(</span><span class=\"mi\">5</span><span class=\"p\">,</span><span class=\"mi\">3</span><span class=\"p\">)</span> <span class=\"nf\">q</span><span class=\"p\">(</span><span class=\"mi\">8</span><span class=\"p\">,</span><span class=\"mi\">4</span><span class=\"p\">)</span> <span class=\"nf\">q</span><span class=\"p\">(</span><span class=\"mi\">6</span><span class=\"p\">,</span><span class=\"mi\">5</span><span class=\"p\">)</span> <span class=\"nf\">q</span><span class=\"p\">(</span><span class=\"mi\">3</span><span class=\"p\">,</span><span class=\"mi\">6</span><span class=\"p\">)</span> <span class=\"nf\">q</span><span class=\"p\">(</span><span class=\"mi\">7</span><span class=\"p\">,</span><span class=\"mi\">7</span><span class=\"p\">)</span> <span class=\"nf\">q</span><span class=\"p\">(</span><span class=\"mi\">2</span><span class=\"p\">,</span><span class=\"mi\">8</span><span class=\"p\">)</span>\n",
       "<span class=\"lineno\"> 83 </span><span class=\"nv\">Answer</span><span class=\"s s-Atom\">:</span> <span class=\"mi\">42</span>\n",
       "<span class=\"lineno\"> 84 </span><span class=\"nf\">q</span><span class=\"p\">(</span><span class=\"mi\">2</span><span class=\"p\">,</span><span class=\"mi\">2</span><span class=\"p\">)</span> <span class=\"nf\">q</span><span class=\"p\">(</span><span class=\"mi\">4</span><span class=\"p\">,</span><span class=\"mi\">1</span><span class=\"p\">)</span> <span class=\"nf\">q</span><span class=\"p\">(</span><span class=\"mi\">5</span><span class=\"p\">,</span><span class=\"mi\">3</span><span class=\"p\">)</span> <span class=\"nf\">q</span><span class=\"p\">(</span><span class=\"mi\">8</span><span class=\"p\">,</span><span class=\"mi\">4</span><span class=\"p\">)</span> <span class=\"nf\">q</span><span class=\"p\">(</span><span class=\"mi\">6</span><span class=\"p\">,</span><span class=\"mi\">5</span><span class=\"p\">)</span> <span class=\"nf\">q</span><span class=\"p\">(</span><span class=\"mi\">1</span><span class=\"p\">,</span><span class=\"mi\">6</span><span class=\"p\">)</span> <span class=\"nf\">q</span><span class=\"p\">(</span><span class=\"mi\">3</span><span class=\"p\">,</span><span class=\"mi\">7</span><span class=\"p\">)</span> <span class=\"nf\">q</span><span class=\"p\">(</span><span class=\"mi\">7</span><span class=\"p\">,</span><span class=\"mi\">8</span><span class=\"p\">)</span>\n",
       "<span class=\"lineno\"> 85 </span><span class=\"nv\">Answer</span><span class=\"s s-Atom\">:</span> <span class=\"mi\">43</span>\n",
       "<span class=\"lineno\"> 86 </span><span class=\"nf\">q</span><span class=\"p\">(</span><span class=\"mi\">4</span><span class=\"p\">,</span><span class=\"mi\">1</span><span class=\"p\">)</span> <span class=\"nf\">q</span><span class=\"p\">(</span><span class=\"mi\">7</span><span class=\"p\">,</span><span class=\"mi\">2</span><span class=\"p\">)</span> <span class=\"nf\">q</span><span class=\"p\">(</span><span class=\"mi\">5</span><span class=\"p\">,</span><span class=\"mi\">3</span><span class=\"p\">)</span> <span class=\"nf\">q</span><span class=\"p\">(</span><span class=\"mi\">3</span><span class=\"p\">,</span><span class=\"mi\">4</span><span class=\"p\">)</span> <span class=\"nf\">q</span><span class=\"p\">(</span><span class=\"mi\">1</span><span class=\"p\">,</span><span class=\"mi\">5</span><span class=\"p\">)</span> <span class=\"nf\">q</span><span class=\"p\">(</span><span class=\"mi\">6</span><span class=\"p\">,</span><span class=\"mi\">6</span><span class=\"p\">)</span> <span class=\"nf\">q</span><span class=\"p\">(</span><span class=\"mi\">8</span><span class=\"p\">,</span><span class=\"mi\">7</span><span class=\"p\">)</span> <span class=\"nf\">q</span><span class=\"p\">(</span><span class=\"mi\">2</span><span class=\"p\">,</span><span class=\"mi\">8</span><span class=\"p\">)</span>\n",
       "<span class=\"lineno\"> 87 </span><span class=\"nv\">Answer</span><span class=\"s s-Atom\">:</span> <span class=\"mi\">44</span>\n",
       "<span class=\"lineno\"> 88 </span><span class=\"nf\">q</span><span class=\"p\">(</span><span class=\"mi\">4</span><span class=\"p\">,</span><span class=\"mi\">1</span><span class=\"p\">)</span> <span class=\"nf\">q</span><span class=\"p\">(</span><span class=\"mi\">8</span><span class=\"p\">,</span><span class=\"mi\">2</span><span class=\"p\">)</span> <span class=\"nf\">q</span><span class=\"p\">(</span><span class=\"mi\">5</span><span class=\"p\">,</span><span class=\"mi\">3</span><span class=\"p\">)</span> <span class=\"nf\">q</span><span class=\"p\">(</span><span class=\"mi\">3</span><span class=\"p\">,</span><span class=\"mi\">4</span><span class=\"p\">)</span> <span class=\"nf\">q</span><span class=\"p\">(</span><span class=\"mi\">1</span><span class=\"p\">,</span><span class=\"mi\">5</span><span class=\"p\">)</span> <span class=\"nf\">q</span><span class=\"p\">(</span><span class=\"mi\">7</span><span class=\"p\">,</span><span class=\"mi\">6</span><span class=\"p\">)</span> <span class=\"nf\">q</span><span class=\"p\">(</span><span class=\"mi\">2</span><span class=\"p\">,</span><span class=\"mi\">7</span><span class=\"p\">)</span> <span class=\"nf\">q</span><span class=\"p\">(</span><span class=\"mi\">6</span><span class=\"p\">,</span><span class=\"mi\">8</span><span class=\"p\">)</span>\n",
       "<span class=\"lineno\"> 89 </span><span class=\"nv\">Answer</span><span class=\"s s-Atom\">:</span> <span class=\"mi\">45</span>\n",
       "<span class=\"lineno\"> 90 </span><span class=\"nf\">q</span><span class=\"p\">(</span><span class=\"mi\">4</span><span class=\"p\">,</span><span class=\"mi\">1</span><span class=\"p\">)</span> <span class=\"nf\">q</span><span class=\"p\">(</span><span class=\"mi\">1</span><span class=\"p\">,</span><span class=\"mi\">2</span><span class=\"p\">)</span> <span class=\"nf\">q</span><span class=\"p\">(</span><span class=\"mi\">5</span><span class=\"p\">,</span><span class=\"mi\">3</span><span class=\"p\">)</span> <span class=\"nf\">q</span><span class=\"p\">(</span><span class=\"mi\">8</span><span class=\"p\">,</span><span class=\"mi\">4</span><span class=\"p\">)</span> <span class=\"nf\">q</span><span class=\"p\">(</span><span class=\"mi\">2</span><span class=\"p\">,</span><span class=\"mi\">5</span><span class=\"p\">)</span> <span class=\"nf\">q</span><span class=\"p\">(</span><span class=\"mi\">7</span><span class=\"p\">,</span><span class=\"mi\">6</span><span class=\"p\">)</span> <span class=\"nf\">q</span><span class=\"p\">(</span><span class=\"mi\">3</span><span class=\"p\">,</span><span class=\"mi\">7</span><span class=\"p\">)</span> <span class=\"nf\">q</span><span class=\"p\">(</span><span class=\"mi\">6</span><span class=\"p\">,</span><span class=\"mi\">8</span><span class=\"p\">)</span>\n",
       "<span class=\"lineno\"> 91 </span><span class=\"nv\">Answer</span><span class=\"s s-Atom\">:</span> <span class=\"mi\">46</span>\n",
       "<span class=\"lineno\"> 92 </span><span class=\"nf\">q</span><span class=\"p\">(</span><span class=\"mi\">2</span><span class=\"p\">,</span><span class=\"mi\">1</span><span class=\"p\">)</span> <span class=\"nf\">q</span><span class=\"p\">(</span><span class=\"mi\">7</span><span class=\"p\">,</span><span class=\"mi\">2</span><span class=\"p\">)</span> <span class=\"nf\">q</span><span class=\"p\">(</span><span class=\"mi\">5</span><span class=\"p\">,</span><span class=\"mi\">3</span><span class=\"p\">)</span> <span class=\"nf\">q</span><span class=\"p\">(</span><span class=\"mi\">8</span><span class=\"p\">,</span><span class=\"mi\">4</span><span class=\"p\">)</span> <span class=\"nf\">q</span><span class=\"p\">(</span><span class=\"mi\">1</span><span class=\"p\">,</span><span class=\"mi\">5</span><span class=\"p\">)</span> <span class=\"nf\">q</span><span class=\"p\">(</span><span class=\"mi\">4</span><span class=\"p\">,</span><span class=\"mi\">6</span><span class=\"p\">)</span> <span class=\"nf\">q</span><span class=\"p\">(</span><span class=\"mi\">6</span><span class=\"p\">,</span><span class=\"mi\">7</span><span class=\"p\">)</span> <span class=\"nf\">q</span><span class=\"p\">(</span><span class=\"mi\">3</span><span class=\"p\">,</span><span class=\"mi\">8</span><span class=\"p\">)</span>\n",
       "<span class=\"lineno\"> 93 </span><span class=\"nv\">Answer</span><span class=\"s s-Atom\">:</span> <span class=\"mi\">47</span>\n",
       "<span class=\"lineno\"> 94 </span><span class=\"nf\">q</span><span class=\"p\">(</span><span class=\"mi\">1</span><span class=\"p\">,</span><span class=\"mi\">1</span><span class=\"p\">)</span> <span class=\"nf\">q</span><span class=\"p\">(</span><span class=\"mi\">7</span><span class=\"p\">,</span><span class=\"mi\">2</span><span class=\"p\">)</span> <span class=\"nf\">q</span><span class=\"p\">(</span><span class=\"mi\">5</span><span class=\"p\">,</span><span class=\"mi\">3</span><span class=\"p\">)</span> <span class=\"nf\">q</span><span class=\"p\">(</span><span class=\"mi\">8</span><span class=\"p\">,</span><span class=\"mi\">4</span><span class=\"p\">)</span> <span class=\"nf\">q</span><span class=\"p\">(</span><span class=\"mi\">2</span><span class=\"p\">,</span><span class=\"mi\">5</span><span class=\"p\">)</span> <span class=\"nf\">q</span><span class=\"p\">(</span><span class=\"mi\">4</span><span class=\"p\">,</span><span class=\"mi\">6</span><span class=\"p\">)</span> <span class=\"nf\">q</span><span class=\"p\">(</span><span class=\"mi\">6</span><span class=\"p\">,</span><span class=\"mi\">7</span><span class=\"p\">)</span> <span class=\"nf\">q</span><span class=\"p\">(</span><span class=\"mi\">3</span><span class=\"p\">,</span><span class=\"mi\">8</span><span class=\"p\">)</span>\n",
       "<span class=\"lineno\"> 95 </span><span class=\"nv\">Answer</span><span class=\"s s-Atom\">:</span> <span class=\"mi\">48</span>\n",
       "<span class=\"lineno\"> 96 </span><span class=\"nf\">q</span><span class=\"p\">(</span><span class=\"mi\">3</span><span class=\"p\">,</span><span class=\"mi\">2</span><span class=\"p\">)</span> <span class=\"nf\">q</span><span class=\"p\">(</span><span class=\"mi\">6</span><span class=\"p\">,</span><span class=\"mi\">1</span><span class=\"p\">)</span> <span class=\"nf\">q</span><span class=\"p\">(</span><span class=\"mi\">5</span><span class=\"p\">,</span><span class=\"mi\">3</span><span class=\"p\">)</span> <span class=\"nf\">q</span><span class=\"p\">(</span><span class=\"mi\">8</span><span class=\"p\">,</span><span class=\"mi\">4</span><span class=\"p\">)</span> <span class=\"nf\">q</span><span class=\"p\">(</span><span class=\"mi\">1</span><span class=\"p\">,</span><span class=\"mi\">5</span><span class=\"p\">)</span> <span class=\"nf\">q</span><span class=\"p\">(</span><span class=\"mi\">4</span><span class=\"p\">,</span><span class=\"mi\">6</span><span class=\"p\">)</span> <span class=\"nf\">q</span><span class=\"p\">(</span><span class=\"mi\">2</span><span class=\"p\">,</span><span class=\"mi\">7</span><span class=\"p\">)</span> <span class=\"nf\">q</span><span class=\"p\">(</span><span class=\"mi\">7</span><span class=\"p\">,</span><span class=\"mi\">8</span><span class=\"p\">)</span>\n",
       "<span class=\"lineno\"> 97 </span><span class=\"nv\">Answer</span><span class=\"s s-Atom\">:</span> <span class=\"mi\">49</span>\n",
       "<span class=\"lineno\"> 98 </span><span class=\"nf\">q</span><span class=\"p\">(</span><span class=\"mi\">3</span><span class=\"p\">,</span><span class=\"mi\">1</span><span class=\"p\">)</span> <span class=\"nf\">q</span><span class=\"p\">(</span><span class=\"mi\">8</span><span class=\"p\">,</span><span class=\"mi\">2</span><span class=\"p\">)</span> <span class=\"nf\">q</span><span class=\"p\">(</span><span class=\"mi\">4</span><span class=\"p\">,</span><span class=\"mi\">3</span><span class=\"p\">)</span> <span class=\"nf\">q</span><span class=\"p\">(</span><span class=\"mi\">7</span><span class=\"p\">,</span><span class=\"mi\">4</span><span class=\"p\">)</span> <span class=\"nf\">q</span><span class=\"p\">(</span><span class=\"mi\">1</span><span class=\"p\">,</span><span class=\"mi\">5</span><span class=\"p\">)</span> <span class=\"nf\">q</span><span class=\"p\">(</span><span class=\"mi\">6</span><span class=\"p\">,</span><span class=\"mi\">6</span><span class=\"p\">)</span> <span class=\"nf\">q</span><span class=\"p\">(</span><span class=\"mi\">2</span><span class=\"p\">,</span><span class=\"mi\">7</span><span class=\"p\">)</span> <span class=\"nf\">q</span><span class=\"p\">(</span><span class=\"mi\">5</span><span class=\"p\">,</span><span class=\"mi\">8</span><span class=\"p\">)</span>\n",
       "<span class=\"lineno\"> 99 </span><span class=\"nv\">Answer</span><span class=\"s s-Atom\">:</span> <span class=\"mi\">50</span>\n",
       "<span class=\"lineno\">100 </span><span class=\"nf\">q</span><span class=\"p\">(</span><span class=\"mi\">2</span><span class=\"p\">,</span><span class=\"mi\">2</span><span class=\"p\">)</span> <span class=\"nf\">q</span><span class=\"p\">(</span><span class=\"mi\">5</span><span class=\"p\">,</span><span class=\"mi\">1</span><span class=\"p\">)</span> <span class=\"nf\">q</span><span class=\"p\">(</span><span class=\"mi\">4</span><span class=\"p\">,</span><span class=\"mi\">3</span><span class=\"p\">)</span> <span class=\"nf\">q</span><span class=\"p\">(</span><span class=\"mi\">7</span><span class=\"p\">,</span><span class=\"mi\">4</span><span class=\"p\">)</span> <span class=\"nf\">q</span><span class=\"p\">(</span><span class=\"mi\">3</span><span class=\"p\">,</span><span class=\"mi\">5</span><span class=\"p\">)</span> <span class=\"nf\">q</span><span class=\"p\">(</span><span class=\"mi\">8</span><span class=\"p\">,</span><span class=\"mi\">6</span><span class=\"p\">)</span> <span class=\"nf\">q</span><span class=\"p\">(</span><span class=\"mi\">6</span><span class=\"p\">,</span><span class=\"mi\">7</span><span class=\"p\">)</span> <span class=\"nf\">q</span><span class=\"p\">(</span><span class=\"mi\">1</span><span class=\"p\">,</span><span class=\"mi\">8</span><span class=\"p\">)</span>\n",
       "<span class=\"lineno\">101 </span><span class=\"nv\">Answer</span><span class=\"s s-Atom\">:</span> <span class=\"mi\">51</span>\n",
       "<span class=\"lineno\">102 </span><span class=\"nf\">q</span><span class=\"p\">(</span><span class=\"mi\">2</span><span class=\"p\">,</span><span class=\"mi\">2</span><span class=\"p\">)</span> <span class=\"nf\">q</span><span class=\"p\">(</span><span class=\"mi\">4</span><span class=\"p\">,</span><span class=\"mi\">3</span><span class=\"p\">)</span> <span class=\"nf\">q</span><span class=\"p\">(</span><span class=\"mi\">1</span><span class=\"p\">,</span><span class=\"mi\">4</span><span class=\"p\">)</span> <span class=\"nf\">q</span><span class=\"p\">(</span><span class=\"mi\">7</span><span class=\"p\">,</span><span class=\"mi\">5</span><span class=\"p\">)</span> <span class=\"nf\">q</span><span class=\"p\">(</span><span class=\"mi\">5</span><span class=\"p\">,</span><span class=\"mi\">6</span><span class=\"p\">)</span> <span class=\"nf\">q</span><span class=\"p\">(</span><span class=\"mi\">3</span><span class=\"p\">,</span><span class=\"mi\">7</span><span class=\"p\">)</span> <span class=\"nf\">q</span><span class=\"p\">(</span><span class=\"mi\">6</span><span class=\"p\">,</span><span class=\"mi\">8</span><span class=\"p\">)</span> <span class=\"nf\">q</span><span class=\"p\">(</span><span class=\"mi\">8</span><span class=\"p\">,</span><span class=\"mi\">1</span><span class=\"p\">)</span>\n",
       "<span class=\"lineno\">103 </span><span class=\"nv\">Answer</span><span class=\"s s-Atom\">:</span> <span class=\"mi\">52</span>\n",
       "<span class=\"lineno\">104 </span><span class=\"nf\">q</span><span class=\"p\">(</span><span class=\"mi\">2</span><span class=\"p\">,</span><span class=\"mi\">2</span><span class=\"p\">)</span> <span class=\"nf\">q</span><span class=\"p\">(</span><span class=\"mi\">7</span><span class=\"p\">,</span><span class=\"mi\">1</span><span class=\"p\">)</span> <span class=\"nf\">q</span><span class=\"p\">(</span><span class=\"mi\">4</span><span class=\"p\">,</span><span class=\"mi\">3</span><span class=\"p\">)</span> <span class=\"nf\">q</span><span class=\"p\">(</span><span class=\"mi\">1</span><span class=\"p\">,</span><span class=\"mi\">4</span><span class=\"p\">)</span> <span class=\"nf\">q</span><span class=\"p\">(</span><span class=\"mi\">8</span><span class=\"p\">,</span><span class=\"mi\">5</span><span class=\"p\">)</span> <span class=\"nf\">q</span><span class=\"p\">(</span><span class=\"mi\">5</span><span class=\"p\">,</span><span class=\"mi\">6</span><span class=\"p\">)</span> <span class=\"nf\">q</span><span class=\"p\">(</span><span class=\"mi\">3</span><span class=\"p\">,</span><span class=\"mi\">7</span><span class=\"p\">)</span> <span class=\"nf\">q</span><span class=\"p\">(</span><span class=\"mi\">6</span><span class=\"p\">,</span><span class=\"mi\">8</span><span class=\"p\">)</span>\n",
       "<span class=\"lineno\">105 </span><span class=\"nv\">Answer</span><span class=\"s s-Atom\">:</span> <span class=\"mi\">53</span>\n",
       "<span class=\"lineno\">106 </span><span class=\"nf\">q</span><span class=\"p\">(</span><span class=\"mi\">5</span><span class=\"p\">,</span><span class=\"mi\">1</span><span class=\"p\">)</span> <span class=\"nf\">q</span><span class=\"p\">(</span><span class=\"mi\">8</span><span class=\"p\">,</span><span class=\"mi\">2</span><span class=\"p\">)</span> <span class=\"nf\">q</span><span class=\"p\">(</span><span class=\"mi\">4</span><span class=\"p\">,</span><span class=\"mi\">3</span><span class=\"p\">)</span> <span class=\"nf\">q</span><span class=\"p\">(</span><span class=\"mi\">1</span><span class=\"p\">,</span><span class=\"mi\">4</span><span class=\"p\">)</span> <span class=\"nf\">q</span><span class=\"p\">(</span><span class=\"mi\">3</span><span class=\"p\">,</span><span class=\"mi\">5</span><span class=\"p\">)</span> <span class=\"nf\">q</span><span class=\"p\">(</span><span class=\"mi\">6</span><span class=\"p\">,</span><span class=\"mi\">6</span><span class=\"p\">)</span> <span class=\"nf\">q</span><span class=\"p\">(</span><span class=\"mi\">2</span><span class=\"p\">,</span><span class=\"mi\">7</span><span class=\"p\">)</span> <span class=\"nf\">q</span><span class=\"p\">(</span><span class=\"mi\">7</span><span class=\"p\">,</span><span class=\"mi\">8</span><span class=\"p\">)</span>\n",
       "<span class=\"lineno\">107 </span><span class=\"nv\">Answer</span><span class=\"s s-Atom\">:</span> <span class=\"mi\">54</span>\n",
       "<span class=\"lineno\">108 </span><span class=\"nf\">q</span><span class=\"p\">(</span><span class=\"mi\">3</span><span class=\"p\">,</span><span class=\"mi\">1</span><span class=\"p\">)</span> <span class=\"nf\">q</span><span class=\"p\">(</span><span class=\"mi\">6</span><span class=\"p\">,</span><span class=\"mi\">2</span><span class=\"p\">)</span> <span class=\"nf\">q</span><span class=\"p\">(</span><span class=\"mi\">4</span><span class=\"p\">,</span><span class=\"mi\">3</span><span class=\"p\">)</span> <span class=\"nf\">q</span><span class=\"p\">(</span><span class=\"mi\">2</span><span class=\"p\">,</span><span class=\"mi\">4</span><span class=\"p\">)</span> <span class=\"nf\">q</span><span class=\"p\">(</span><span class=\"mi\">8</span><span class=\"p\">,</span><span class=\"mi\">5</span><span class=\"p\">)</span> <span class=\"nf\">q</span><span class=\"p\">(</span><span class=\"mi\">5</span><span class=\"p\">,</span><span class=\"mi\">6</span><span class=\"p\">)</span> <span class=\"nf\">q</span><span class=\"p\">(</span><span class=\"mi\">7</span><span class=\"p\">,</span><span class=\"mi\">7</span><span class=\"p\">)</span> <span class=\"nf\">q</span><span class=\"p\">(</span><span class=\"mi\">1</span><span class=\"p\">,</span><span class=\"mi\">8</span><span class=\"p\">)</span>\n",
       "<span class=\"lineno\">109 </span><span class=\"nv\">Answer</span><span class=\"s s-Atom\">:</span> <span class=\"mi\">55</span>\n",
       "<span class=\"lineno\">110 </span><span class=\"nf\">q</span><span class=\"p\">(</span><span class=\"mi\">5</span><span class=\"p\">,</span><span class=\"mi\">1</span><span class=\"p\">)</span> <span class=\"nf\">q</span><span class=\"p\">(</span><span class=\"mi\">7</span><span class=\"p\">,</span><span class=\"mi\">2</span><span class=\"p\">)</span> <span class=\"nf\">q</span><span class=\"p\">(</span><span class=\"mi\">4</span><span class=\"p\">,</span><span class=\"mi\">3</span><span class=\"p\">)</span> <span class=\"nf\">q</span><span class=\"p\">(</span><span class=\"mi\">1</span><span class=\"p\">,</span><span class=\"mi\">4</span><span class=\"p\">)</span> <span class=\"nf\">q</span><span class=\"p\">(</span><span class=\"mi\">3</span><span class=\"p\">,</span><span class=\"mi\">5</span><span class=\"p\">)</span> <span class=\"nf\">q</span><span class=\"p\">(</span><span class=\"mi\">8</span><span class=\"p\">,</span><span class=\"mi\">6</span><span class=\"p\">)</span> <span class=\"nf\">q</span><span class=\"p\">(</span><span class=\"mi\">6</span><span class=\"p\">,</span><span class=\"mi\">7</span><span class=\"p\">)</span> <span class=\"nf\">q</span><span class=\"p\">(</span><span class=\"mi\">2</span><span class=\"p\">,</span><span class=\"mi\">8</span><span class=\"p\">)</span>\n",
       "<span class=\"lineno\">111 </span><span class=\"nv\">Answer</span><span class=\"s s-Atom\">:</span> <span class=\"mi\">56</span>\n",
       "<span class=\"lineno\">112 </span><span class=\"nf\">q</span><span class=\"p\">(</span><span class=\"mi\">3</span><span class=\"p\">,</span><span class=\"mi\">1</span><span class=\"p\">)</span> <span class=\"nf\">q</span><span class=\"p\">(</span><span class=\"mi\">6</span><span class=\"p\">,</span><span class=\"mi\">2</span><span class=\"p\">)</span> <span class=\"nf\">q</span><span class=\"p\">(</span><span class=\"mi\">4</span><span class=\"p\">,</span><span class=\"mi\">3</span><span class=\"p\">)</span> <span class=\"nf\">q</span><span class=\"p\">(</span><span class=\"mi\">1</span><span class=\"p\">,</span><span class=\"mi\">4</span><span class=\"p\">)</span> <span class=\"nf\">q</span><span class=\"p\">(</span><span class=\"mi\">8</span><span class=\"p\">,</span><span class=\"mi\">5</span><span class=\"p\">)</span> <span class=\"nf\">q</span><span class=\"p\">(</span><span class=\"mi\">5</span><span class=\"p\">,</span><span class=\"mi\">6</span><span class=\"p\">)</span> <span class=\"nf\">q</span><span class=\"p\">(</span><span class=\"mi\">7</span><span class=\"p\">,</span><span class=\"mi\">7</span><span class=\"p\">)</span> <span class=\"nf\">q</span><span class=\"p\">(</span><span class=\"mi\">2</span><span class=\"p\">,</span><span class=\"mi\">8</span><span class=\"p\">)</span>\n",
       "<span class=\"lineno\">113 </span><span class=\"nv\">Answer</span><span class=\"s s-Atom\">:</span> <span class=\"mi\">57</span>\n",
       "<span class=\"lineno\">114 </span><span class=\"nf\">q</span><span class=\"p\">(</span><span class=\"mi\">5</span><span class=\"p\">,</span><span class=\"mi\">1</span><span class=\"p\">)</span> <span class=\"nf\">q</span><span class=\"p\">(</span><span class=\"mi\">8</span><span class=\"p\">,</span><span class=\"mi\">2</span><span class=\"p\">)</span> <span class=\"nf\">q</span><span class=\"p\">(</span><span class=\"mi\">4</span><span class=\"p\">,</span><span class=\"mi\">3</span><span class=\"p\">)</span> <span class=\"nf\">q</span><span class=\"p\">(</span><span class=\"mi\">1</span><span class=\"p\">,</span><span class=\"mi\">4</span><span class=\"p\">)</span> <span class=\"nf\">q</span><span class=\"p\">(</span><span class=\"mi\">7</span><span class=\"p\">,</span><span class=\"mi\">5</span><span class=\"p\">)</span> <span class=\"nf\">q</span><span class=\"p\">(</span><span class=\"mi\">2</span><span class=\"p\">,</span><span class=\"mi\">6</span><span class=\"p\">)</span> <span class=\"nf\">q</span><span class=\"p\">(</span><span class=\"mi\">6</span><span class=\"p\">,</span><span class=\"mi\">7</span><span class=\"p\">)</span> <span class=\"nf\">q</span><span class=\"p\">(</span><span class=\"mi\">3</span><span class=\"p\">,</span><span class=\"mi\">8</span><span class=\"p\">)</span>\n",
       "<span class=\"lineno\">115 </span><span class=\"nv\">Answer</span><span class=\"s s-Atom\">:</span> <span class=\"mi\">58</span>\n",
       "<span class=\"lineno\">116 </span><span class=\"nf\">q</span><span class=\"p\">(</span><span class=\"mi\">5</span><span class=\"p\">,</span><span class=\"mi\">1</span><span class=\"p\">)</span> <span class=\"nf\">q</span><span class=\"p\">(</span><span class=\"mi\">1</span><span class=\"p\">,</span><span class=\"mi\">2</span><span class=\"p\">)</span> <span class=\"nf\">q</span><span class=\"p\">(</span><span class=\"mi\">4</span><span class=\"p\">,</span><span class=\"mi\">3</span><span class=\"p\">)</span> <span class=\"nf\">q</span><span class=\"p\">(</span><span class=\"mi\">6</span><span class=\"p\">,</span><span class=\"mi\">4</span><span class=\"p\">)</span> <span class=\"nf\">q</span><span class=\"p\">(</span><span class=\"mi\">8</span><span class=\"p\">,</span><span class=\"mi\">5</span><span class=\"p\">)</span> <span class=\"nf\">q</span><span class=\"p\">(</span><span class=\"mi\">2</span><span class=\"p\">,</span><span class=\"mi\">6</span><span class=\"p\">)</span> <span class=\"nf\">q</span><span class=\"p\">(</span><span class=\"mi\">7</span><span class=\"p\">,</span><span class=\"mi\">7</span><span class=\"p\">)</span> <span class=\"nf\">q</span><span class=\"p\">(</span><span class=\"mi\">3</span><span class=\"p\">,</span><span class=\"mi\">8</span><span class=\"p\">)</span>\n",
       "<span class=\"lineno\">117 </span><span class=\"nv\">Answer</span><span class=\"s s-Atom\">:</span> <span class=\"mi\">59</span>\n",
       "<span class=\"lineno\">118 </span><span class=\"nf\">q</span><span class=\"p\">(</span><span class=\"mi\">1</span><span class=\"p\">,</span><span class=\"mi\">1</span><span class=\"p\">)</span> <span class=\"nf\">q</span><span class=\"p\">(</span><span class=\"mi\">7</span><span class=\"p\">,</span><span class=\"mi\">2</span><span class=\"p\">)</span> <span class=\"nf\">q</span><span class=\"p\">(</span><span class=\"mi\">4</span><span class=\"p\">,</span><span class=\"mi\">3</span><span class=\"p\">)</span> <span class=\"nf\">q</span><span class=\"p\">(</span><span class=\"mi\">6</span><span class=\"p\">,</span><span class=\"mi\">4</span><span class=\"p\">)</span> <span class=\"nf\">q</span><span class=\"p\">(</span><span class=\"mi\">8</span><span class=\"p\">,</span><span class=\"mi\">5</span><span class=\"p\">)</span> <span class=\"nf\">q</span><span class=\"p\">(</span><span class=\"mi\">2</span><span class=\"p\">,</span><span class=\"mi\">6</span><span class=\"p\">)</span> <span class=\"nf\">q</span><span class=\"p\">(</span><span class=\"mi\">5</span><span class=\"p\">,</span><span class=\"mi\">7</span><span class=\"p\">)</span> <span class=\"nf\">q</span><span class=\"p\">(</span><span class=\"mi\">3</span><span class=\"p\">,</span><span class=\"mi\">8</span><span class=\"p\">)</span>\n",
       "<span class=\"lineno\">119 </span><span class=\"nv\">Answer</span><span class=\"s s-Atom\">:</span> <span class=\"mi\">60</span>\n",
       "<span class=\"lineno\">120 </span><span class=\"nf\">q</span><span class=\"p\">(</span><span class=\"mi\">2</span><span class=\"p\">,</span><span class=\"mi\">2</span><span class=\"p\">)</span> <span class=\"nf\">q</span><span class=\"p\">(</span><span class=\"mi\">5</span><span class=\"p\">,</span><span class=\"mi\">1</span><span class=\"p\">)</span> <span class=\"nf\">q</span><span class=\"p\">(</span><span class=\"mi\">4</span><span class=\"p\">,</span><span class=\"mi\">3</span><span class=\"p\">)</span> <span class=\"nf\">q</span><span class=\"p\">(</span><span class=\"mi\">6</span><span class=\"p\">,</span><span class=\"mi\">4</span><span class=\"p\">)</span> <span class=\"nf\">q</span><span class=\"p\">(</span><span class=\"mi\">8</span><span class=\"p\">,</span><span class=\"mi\">5</span><span class=\"p\">)</span> <span class=\"nf\">q</span><span class=\"p\">(</span><span class=\"mi\">3</span><span class=\"p\">,</span><span class=\"mi\">6</span><span class=\"p\">)</span> <span class=\"nf\">q</span><span class=\"p\">(</span><span class=\"mi\">1</span><span class=\"p\">,</span><span class=\"mi\">7</span><span class=\"p\">)</span> <span class=\"nf\">q</span><span class=\"p\">(</span><span class=\"mi\">7</span><span class=\"p\">,</span><span class=\"mi\">8</span><span class=\"p\">)</span>\n",
       "<span class=\"lineno\">121 </span><span class=\"nv\">Answer</span><span class=\"s s-Atom\">:</span> <span class=\"mi\">61</span>\n",
       "<span class=\"lineno\">122 </span><span class=\"nf\">q</span><span class=\"p\">(</span><span class=\"mi\">2</span><span class=\"p\">,</span><span class=\"mi\">2</span><span class=\"p\">)</span> <span class=\"nf\">q</span><span class=\"p\">(</span><span class=\"mi\">4</span><span class=\"p\">,</span><span class=\"mi\">1</span><span class=\"p\">)</span> <span class=\"nf\">q</span><span class=\"p\">(</span><span class=\"mi\">8</span><span class=\"p\">,</span><span class=\"mi\">3</span><span class=\"p\">)</span> <span class=\"nf\">q</span><span class=\"p\">(</span><span class=\"mi\">5</span><span class=\"p\">,</span><span class=\"mi\">4</span><span class=\"p\">)</span> <span class=\"nf\">q</span><span class=\"p\">(</span><span class=\"mi\">7</span><span class=\"p\">,</span><span class=\"mi\">5</span><span class=\"p\">)</span> <span class=\"nf\">q</span><span class=\"p\">(</span><span class=\"mi\">1</span><span class=\"p\">,</span><span class=\"mi\">6</span><span class=\"p\">)</span> <span class=\"nf\">q</span><span class=\"p\">(</span><span class=\"mi\">3</span><span class=\"p\">,</span><span class=\"mi\">7</span><span class=\"p\">)</span> <span class=\"nf\">q</span><span class=\"p\">(</span><span class=\"mi\">6</span><span class=\"p\">,</span><span class=\"mi\">8</span><span class=\"p\">)</span>\n",
       "<span class=\"lineno\">123 </span><span class=\"nv\">Answer</span><span class=\"s s-Atom\">:</span> <span class=\"mi\">62</span>\n",
       "<span class=\"lineno\">124 </span><span class=\"nf\">q</span><span class=\"p\">(</span><span class=\"mi\">4</span><span class=\"p\">,</span><span class=\"mi\">1</span><span class=\"p\">)</span> <span class=\"nf\">q</span><span class=\"p\">(</span><span class=\"mi\">6</span><span class=\"p\">,</span><span class=\"mi\">2</span><span class=\"p\">)</span> <span class=\"nf\">q</span><span class=\"p\">(</span><span class=\"mi\">1</span><span class=\"p\">,</span><span class=\"mi\">3</span><span class=\"p\">)</span> <span class=\"nf\">q</span><span class=\"p\">(</span><span class=\"mi\">5</span><span class=\"p\">,</span><span class=\"mi\">4</span><span class=\"p\">)</span> <span class=\"nf\">q</span><span class=\"p\">(</span><span class=\"mi\">2</span><span class=\"p\">,</span><span class=\"mi\">5</span><span class=\"p\">)</span> <span class=\"nf\">q</span><span class=\"p\">(</span><span class=\"mi\">8</span><span class=\"p\">,</span><span class=\"mi\">6</span><span class=\"p\">)</span> <span class=\"nf\">q</span><span class=\"p\">(</span><span class=\"mi\">3</span><span class=\"p\">,</span><span class=\"mi\">7</span><span class=\"p\">)</span> <span class=\"nf\">q</span><span class=\"p\">(</span><span class=\"mi\">7</span><span class=\"p\">,</span><span class=\"mi\">8</span><span class=\"p\">)</span>\n",
       "<span class=\"lineno\">125 </span><span class=\"nv\">Answer</span><span class=\"s s-Atom\">:</span> <span class=\"mi\">63</span>\n",
       "<span class=\"lineno\">126 </span><span class=\"nf\">q</span><span class=\"p\">(</span><span class=\"mi\">4</span><span class=\"p\">,</span><span class=\"mi\">2</span><span class=\"p\">)</span> <span class=\"nf\">q</span><span class=\"p\">(</span><span class=\"mi\">7</span><span class=\"p\">,</span><span class=\"mi\">1</span><span class=\"p\">)</span> <span class=\"nf\">q</span><span class=\"p\">(</span><span class=\"mi\">2</span><span class=\"p\">,</span><span class=\"mi\">3</span><span class=\"p\">)</span> <span class=\"nf\">q</span><span class=\"p\">(</span><span class=\"mi\">5</span><span class=\"p\">,</span><span class=\"mi\">4</span><span class=\"p\">)</span> <span class=\"nf\">q</span><span class=\"p\">(</span><span class=\"mi\">8</span><span class=\"p\">,</span><span class=\"mi\">5</span><span class=\"p\">)</span> <span class=\"nf\">q</span><span class=\"p\">(</span><span class=\"mi\">1</span><span class=\"p\">,</span><span class=\"mi\">6</span><span class=\"p\">)</span> <span class=\"nf\">q</span><span class=\"p\">(</span><span class=\"mi\">3</span><span class=\"p\">,</span><span class=\"mi\">7</span><span class=\"p\">)</span> <span class=\"nf\">q</span><span class=\"p\">(</span><span class=\"mi\">6</span><span class=\"p\">,</span><span class=\"mi\">8</span><span class=\"p\">)</span>\n",
       "<span class=\"lineno\">127 </span><span class=\"nv\">Answer</span><span class=\"s s-Atom\">:</span> <span class=\"mi\">64</span>\n",
       "<span class=\"lineno\">128 </span><span class=\"nf\">q</span><span class=\"p\">(</span><span class=\"mi\">4</span><span class=\"p\">,</span><span class=\"mi\">1</span><span class=\"p\">)</span> <span class=\"nf\">q</span><span class=\"p\">(</span><span class=\"mi\">8</span><span class=\"p\">,</span><span class=\"mi\">2</span><span class=\"p\">)</span> <span class=\"nf\">q</span><span class=\"p\">(</span><span class=\"mi\">1</span><span class=\"p\">,</span><span class=\"mi\">3</span><span class=\"p\">)</span> <span class=\"nf\">q</span><span class=\"p\">(</span><span class=\"mi\">5</span><span class=\"p\">,</span><span class=\"mi\">4</span><span class=\"p\">)</span> <span class=\"nf\">q</span><span class=\"p\">(</span><span class=\"mi\">7</span><span class=\"p\">,</span><span class=\"mi\">5</span><span class=\"p\">)</span> <span class=\"nf\">q</span><span class=\"p\">(</span><span class=\"mi\">2</span><span class=\"p\">,</span><span class=\"mi\">6</span><span class=\"p\">)</span> <span class=\"nf\">q</span><span class=\"p\">(</span><span class=\"mi\">6</span><span class=\"p\">,</span><span class=\"mi\">7</span><span class=\"p\">)</span> <span class=\"nf\">q</span><span class=\"p\">(</span><span class=\"mi\">3</span><span class=\"p\">,</span><span class=\"mi\">8</span><span class=\"p\">)</span>\n",
       "<span class=\"lineno\">129 </span><span class=\"nv\">Answer</span><span class=\"s s-Atom\">:</span> <span class=\"mi\">65</span>\n",
       "<span class=\"lineno\">130 </span><span class=\"nf\">q</span><span class=\"p\">(</span><span class=\"mi\">4</span><span class=\"p\">,</span><span class=\"mi\">2</span><span class=\"p\">)</span> <span class=\"nf\">q</span><span class=\"p\">(</span><span class=\"mi\">6</span><span class=\"p\">,</span><span class=\"mi\">1</span><span class=\"p\">)</span> <span class=\"nf\">q</span><span class=\"p\">(</span><span class=\"mi\">1</span><span class=\"p\">,</span><span class=\"mi\">3</span><span class=\"p\">)</span> <span class=\"nf\">q</span><span class=\"p\">(</span><span class=\"mi\">5</span><span class=\"p\">,</span><span class=\"mi\">4</span><span class=\"p\">)</span> <span class=\"nf\">q</span><span class=\"p\">(</span><span class=\"mi\">8</span><span class=\"p\">,</span><span class=\"mi\">5</span><span class=\"p\">)</span> <span class=\"nf\">q</span><span class=\"p\">(</span><span class=\"mi\">2</span><span class=\"p\">,</span><span class=\"mi\">6</span><span class=\"p\">)</span> <span class=\"nf\">q</span><span class=\"p\">(</span><span class=\"mi\">7</span><span class=\"p\">,</span><span class=\"mi\">7</span><span class=\"p\">)</span> <span class=\"nf\">q</span><span class=\"p\">(</span><span class=\"mi\">3</span><span class=\"p\">,</span><span class=\"mi\">8</span><span class=\"p\">)</span>\n",
       "<span class=\"lineno\">131 </span><span class=\"nv\">Answer</span><span class=\"s s-Atom\">:</span> <span class=\"mi\">66</span>\n",
       "<span class=\"lineno\">132 </span><span class=\"nf\">q</span><span class=\"p\">(</span><span class=\"mi\">2</span><span class=\"p\">,</span><span class=\"mi\">2</span><span class=\"p\">)</span> <span class=\"nf\">q</span><span class=\"p\">(</span><span class=\"mi\">4</span><span class=\"p\">,</span><span class=\"mi\">1</span><span class=\"p\">)</span> <span class=\"nf\">q</span><span class=\"p\">(</span><span class=\"mi\">7</span><span class=\"p\">,</span><span class=\"mi\">3</span><span class=\"p\">)</span> <span class=\"nf\">q</span><span class=\"p\">(</span><span class=\"mi\">5</span><span class=\"p\">,</span><span class=\"mi\">4</span><span class=\"p\">)</span> <span class=\"nf\">q</span><span class=\"p\">(</span><span class=\"mi\">1</span><span class=\"p\">,</span><span class=\"mi\">5</span><span class=\"p\">)</span> <span class=\"nf\">q</span><span class=\"p\">(</span><span class=\"mi\">8</span><span class=\"p\">,</span><span class=\"mi\">6</span><span class=\"p\">)</span> <span class=\"nf\">q</span><span class=\"p\">(</span><span class=\"mi\">6</span><span class=\"p\">,</span><span class=\"mi\">7</span><span class=\"p\">)</span> <span class=\"nf\">q</span><span class=\"p\">(</span><span class=\"mi\">3</span><span class=\"p\">,</span><span class=\"mi\">8</span><span class=\"p\">)</span>\n",
       "<span class=\"lineno\">133 </span><span class=\"nv\">Answer</span><span class=\"s s-Atom\">:</span> <span class=\"mi\">67</span>\n",
       "<span class=\"lineno\">134 </span><span class=\"nf\">q</span><span class=\"p\">(</span><span class=\"mi\">3</span><span class=\"p\">,</span><span class=\"mi\">1</span><span class=\"p\">)</span> <span class=\"nf\">q</span><span class=\"p\">(</span><span class=\"mi\">1</span><span class=\"p\">,</span><span class=\"mi\">2</span><span class=\"p\">)</span> <span class=\"nf\">q</span><span class=\"p\">(</span><span class=\"mi\">7</span><span class=\"p\">,</span><span class=\"mi\">3</span><span class=\"p\">)</span> <span class=\"nf\">q</span><span class=\"p\">(</span><span class=\"mi\">5</span><span class=\"p\">,</span><span class=\"mi\">4</span><span class=\"p\">)</span> <span class=\"nf\">q</span><span class=\"p\">(</span><span class=\"mi\">8</span><span class=\"p\">,</span><span class=\"mi\">5</span><span class=\"p\">)</span> <span class=\"nf\">q</span><span class=\"p\">(</span><span class=\"mi\">2</span><span class=\"p\">,</span><span class=\"mi\">6</span><span class=\"p\">)</span> <span class=\"nf\">q</span><span class=\"p\">(</span><span class=\"mi\">4</span><span class=\"p\">,</span><span class=\"mi\">7</span><span class=\"p\">)</span> <span class=\"nf\">q</span><span class=\"p\">(</span><span class=\"mi\">6</span><span class=\"p\">,</span><span class=\"mi\">8</span><span class=\"p\">)</span>\n",
       "<span class=\"lineno\">135 </span><span class=\"nv\">Answer</span><span class=\"s s-Atom\">:</span> <span class=\"mi\">68</span>\n",
       "<span class=\"lineno\">136 </span><span class=\"nf\">q</span><span class=\"p\">(</span><span class=\"mi\">3</span><span class=\"p\">,</span><span class=\"mi\">1</span><span class=\"p\">)</span> <span class=\"nf\">q</span><span class=\"p\">(</span><span class=\"mi\">6</span><span class=\"p\">,</span><span class=\"mi\">2</span><span class=\"p\">)</span> <span class=\"nf\">q</span><span class=\"p\">(</span><span class=\"mi\">2</span><span class=\"p\">,</span><span class=\"mi\">3</span><span class=\"p\">)</span> <span class=\"nf\">q</span><span class=\"p\">(</span><span class=\"mi\">5</span><span class=\"p\">,</span><span class=\"mi\">4</span><span class=\"p\">)</span> <span class=\"nf\">q</span><span class=\"p\">(</span><span class=\"mi\">8</span><span class=\"p\">,</span><span class=\"mi\">5</span><span class=\"p\">)</span> <span class=\"nf\">q</span><span class=\"p\">(</span><span class=\"mi\">1</span><span class=\"p\">,</span><span class=\"mi\">6</span><span class=\"p\">)</span> <span class=\"nf\">q</span><span class=\"p\">(</span><span class=\"mi\">7</span><span class=\"p\">,</span><span class=\"mi\">7</span><span class=\"p\">)</span> <span class=\"nf\">q</span><span class=\"p\">(</span><span class=\"mi\">4</span><span class=\"p\">,</span><span class=\"mi\">8</span><span class=\"p\">)</span>\n",
       "<span class=\"lineno\">137 </span><span class=\"nv\">Answer</span><span class=\"s s-Atom\">:</span> <span class=\"mi\">69</span>\n",
       "<span class=\"lineno\">138 </span><span class=\"nf\">q</span><span class=\"p\">(</span><span class=\"mi\">4</span><span class=\"p\">,</span><span class=\"mi\">1</span><span class=\"p\">)</span> <span class=\"nf\">q</span><span class=\"p\">(</span><span class=\"mi\">7</span><span class=\"p\">,</span><span class=\"mi\">2</span><span class=\"p\">)</span> <span class=\"nf\">q</span><span class=\"p\">(</span><span class=\"mi\">1</span><span class=\"p\">,</span><span class=\"mi\">3</span><span class=\"p\">)</span> <span class=\"nf\">q</span><span class=\"p\">(</span><span class=\"mi\">8</span><span class=\"p\">,</span><span class=\"mi\">4</span><span class=\"p\">)</span> <span class=\"nf\">q</span><span class=\"p\">(</span><span class=\"mi\">5</span><span class=\"p\">,</span><span class=\"mi\">5</span><span class=\"p\">)</span> <span class=\"nf\">q</span><span class=\"p\">(</span><span class=\"mi\">2</span><span class=\"p\">,</span><span class=\"mi\">6</span><span class=\"p\">)</span> <span class=\"nf\">q</span><span class=\"p\">(</span><span class=\"mi\">6</span><span class=\"p\">,</span><span class=\"mi\">7</span><span class=\"p\">)</span> <span class=\"nf\">q</span><span class=\"p\">(</span><span class=\"mi\">3</span><span class=\"p\">,</span><span class=\"mi\">8</span><span class=\"p\">)</span>\n",
       "<span class=\"lineno\">139 </span><span class=\"nv\">Answer</span><span class=\"s s-Atom\">:</span> <span class=\"mi\">70</span>\n",
       "<span class=\"lineno\">140 </span><span class=\"nf\">q</span><span class=\"p\">(</span><span class=\"mi\">3</span><span class=\"p\">,</span><span class=\"mi\">2</span><span class=\"p\">)</span> <span class=\"nf\">q</span><span class=\"p\">(</span><span class=\"mi\">7</span><span class=\"p\">,</span><span class=\"mi\">1</span><span class=\"p\">)</span> <span class=\"nf\">q</span><span class=\"p\">(</span><span class=\"mi\">8</span><span class=\"p\">,</span><span class=\"mi\">3</span><span class=\"p\">)</span> <span class=\"nf\">q</span><span class=\"p\">(</span><span class=\"mi\">2</span><span class=\"p\">,</span><span class=\"mi\">4</span><span class=\"p\">)</span> <span class=\"nf\">q</span><span class=\"p\">(</span><span class=\"mi\">5</span><span class=\"p\">,</span><span class=\"mi\">5</span><span class=\"p\">)</span> <span class=\"nf\">q</span><span class=\"p\">(</span><span class=\"mi\">1</span><span class=\"p\">,</span><span class=\"mi\">6</span><span class=\"p\">)</span> <span class=\"nf\">q</span><span class=\"p\">(</span><span class=\"mi\">6</span><span class=\"p\">,</span><span class=\"mi\">7</span><span class=\"p\">)</span> <span class=\"nf\">q</span><span class=\"p\">(</span><span class=\"mi\">4</span><span class=\"p\">,</span><span class=\"mi\">8</span><span class=\"p\">)</span>\n",
       "<span class=\"lineno\">141 </span><span class=\"nv\">Answer</span><span class=\"s s-Atom\">:</span> <span class=\"mi\">71</span>\n",
       "<span class=\"lineno\">142 </span><span class=\"nf\">q</span><span class=\"p\">(</span><span class=\"mi\">3</span><span class=\"p\">,</span><span class=\"mi\">1</span><span class=\"p\">)</span> <span class=\"nf\">q</span><span class=\"p\">(</span><span class=\"mi\">6</span><span class=\"p\">,</span><span class=\"mi\">2</span><span class=\"p\">)</span> <span class=\"nf\">q</span><span class=\"p\">(</span><span class=\"mi\">2</span><span class=\"p\">,</span><span class=\"mi\">3</span><span class=\"p\">)</span> <span class=\"nf\">q</span><span class=\"p\">(</span><span class=\"mi\">7</span><span class=\"p\">,</span><span class=\"mi\">4</span><span class=\"p\">)</span> <span class=\"nf\">q</span><span class=\"p\">(</span><span class=\"mi\">5</span><span class=\"p\">,</span><span class=\"mi\">5</span><span class=\"p\">)</span> <span class=\"nf\">q</span><span class=\"p\">(</span><span class=\"mi\">1</span><span class=\"p\">,</span><span class=\"mi\">6</span><span class=\"p\">)</span> <span class=\"nf\">q</span><span class=\"p\">(</span><span class=\"mi\">8</span><span class=\"p\">,</span><span class=\"mi\">7</span><span class=\"p\">)</span> <span class=\"nf\">q</span><span class=\"p\">(</span><span class=\"mi\">4</span><span class=\"p\">,</span><span class=\"mi\">8</span><span class=\"p\">)</span>\n",
       "<span class=\"lineno\">143 </span><span class=\"nv\">Answer</span><span class=\"s s-Atom\">:</span> <span class=\"mi\">72</span>\n",
       "<span class=\"lineno\">144 </span><span class=\"nf\">q</span><span class=\"p\">(</span><span class=\"mi\">3</span><span class=\"p\">,</span><span class=\"mi\">1</span><span class=\"p\">)</span> <span class=\"nf\">q</span><span class=\"p\">(</span><span class=\"mi\">6</span><span class=\"p\">,</span><span class=\"mi\">2</span><span class=\"p\">)</span> <span class=\"nf\">q</span><span class=\"p\">(</span><span class=\"mi\">8</span><span class=\"p\">,</span><span class=\"mi\">3</span><span class=\"p\">)</span> <span class=\"nf\">q</span><span class=\"p\">(</span><span class=\"mi\">1</span><span class=\"p\">,</span><span class=\"mi\">4</span><span class=\"p\">)</span> <span class=\"nf\">q</span><span class=\"p\">(</span><span class=\"mi\">5</span><span class=\"p\">,</span><span class=\"mi\">5</span><span class=\"p\">)</span> <span class=\"nf\">q</span><span class=\"p\">(</span><span class=\"mi\">7</span><span class=\"p\">,</span><span class=\"mi\">6</span><span class=\"p\">)</span> <span class=\"nf\">q</span><span class=\"p\">(</span><span class=\"mi\">2</span><span class=\"p\">,</span><span class=\"mi\">7</span><span class=\"p\">)</span> <span class=\"nf\">q</span><span class=\"p\">(</span><span class=\"mi\">4</span><span class=\"p\">,</span><span class=\"mi\">8</span><span class=\"p\">)</span>\n",
       "<span class=\"lineno\">145 </span><span class=\"nv\">Answer</span><span class=\"s s-Atom\">:</span> <span class=\"mi\">73</span>\n",
       "<span class=\"lineno\">146 </span><span class=\"nf\">q</span><span class=\"p\">(</span><span class=\"mi\">3</span><span class=\"p\">,</span><span class=\"mi\">2</span><span class=\"p\">)</span> <span class=\"nf\">q</span><span class=\"p\">(</span><span class=\"mi\">6</span><span class=\"p\">,</span><span class=\"mi\">1</span><span class=\"p\">)</span> <span class=\"nf\">q</span><span class=\"p\">(</span><span class=\"mi\">1</span><span class=\"p\">,</span><span class=\"mi\">3</span><span class=\"p\">)</span> <span class=\"nf\">q</span><span class=\"p\">(</span><span class=\"mi\">7</span><span class=\"p\">,</span><span class=\"mi\">4</span><span class=\"p\">)</span> <span class=\"nf\">q</span><span class=\"p\">(</span><span class=\"mi\">5</span><span class=\"p\">,</span><span class=\"mi\">5</span><span class=\"p\">)</span> <span class=\"nf\">q</span><span class=\"p\">(</span><span class=\"mi\">8</span><span class=\"p\">,</span><span class=\"mi\">6</span><span class=\"p\">)</span> <span class=\"nf\">q</span><span class=\"p\">(</span><span class=\"mi\">2</span><span class=\"p\">,</span><span class=\"mi\">7</span><span class=\"p\">)</span> <span class=\"nf\">q</span><span class=\"p\">(</span><span class=\"mi\">4</span><span class=\"p\">,</span><span class=\"mi\">8</span><span class=\"p\">)</span>\n",
       "<span class=\"lineno\">147 </span><span class=\"nv\">Answer</span><span class=\"s s-Atom\">:</span> <span class=\"mi\">74</span>\n",
       "<span class=\"lineno\">148 </span><span class=\"nf\">q</span><span class=\"p\">(</span><span class=\"mi\">3</span><span class=\"p\">,</span><span class=\"mi\">1</span><span class=\"p\">)</span> <span class=\"nf\">q</span><span class=\"p\">(</span><span class=\"mi\">7</span><span class=\"p\">,</span><span class=\"mi\">2</span><span class=\"p\">)</span> <span class=\"nf\">q</span><span class=\"p\">(</span><span class=\"mi\">2</span><span class=\"p\">,</span><span class=\"mi\">3</span><span class=\"p\">)</span> <span class=\"nf\">q</span><span class=\"p\">(</span><span class=\"mi\">8</span><span class=\"p\">,</span><span class=\"mi\">4</span><span class=\"p\">)</span> <span class=\"nf\">q</span><span class=\"p\">(</span><span class=\"mi\">5</span><span class=\"p\">,</span><span class=\"mi\">5</span><span class=\"p\">)</span> <span class=\"nf\">q</span><span class=\"p\">(</span><span class=\"mi\">1</span><span class=\"p\">,</span><span class=\"mi\">6</span><span class=\"p\">)</span> <span class=\"nf\">q</span><span class=\"p\">(</span><span class=\"mi\">4</span><span class=\"p\">,</span><span class=\"mi\">7</span><span class=\"p\">)</span> <span class=\"nf\">q</span><span class=\"p\">(</span><span class=\"mi\">6</span><span class=\"p\">,</span><span class=\"mi\">8</span><span class=\"p\">)</span>\n",
       "<span class=\"lineno\">149 </span><span class=\"nv\">Answer</span><span class=\"s s-Atom\">:</span> <span class=\"mi\">75</span>\n",
       "<span class=\"lineno\">150 </span><span class=\"nf\">q</span><span class=\"p\">(</span><span class=\"mi\">4</span><span class=\"p\">,</span><span class=\"mi\">2</span><span class=\"p\">)</span> <span class=\"nf\">q</span><span class=\"p\">(</span><span class=\"mi\">6</span><span class=\"p\">,</span><span class=\"mi\">1</span><span class=\"p\">)</span> <span class=\"nf\">q</span><span class=\"p\">(</span><span class=\"mi\">2</span><span class=\"p\">,</span><span class=\"mi\">3</span><span class=\"p\">)</span> <span class=\"nf\">q</span><span class=\"p\">(</span><span class=\"mi\">8</span><span class=\"p\">,</span><span class=\"mi\">4</span><span class=\"p\">)</span> <span class=\"nf\">q</span><span class=\"p\">(</span><span class=\"mi\">5</span><span class=\"p\">,</span><span class=\"mi\">5</span><span class=\"p\">)</span> <span class=\"nf\">q</span><span class=\"p\">(</span><span class=\"mi\">7</span><span class=\"p\">,</span><span class=\"mi\">6</span><span class=\"p\">)</span> <span class=\"nf\">q</span><span class=\"p\">(</span><span class=\"mi\">1</span><span class=\"p\">,</span><span class=\"mi\">7</span><span class=\"p\">)</span> <span class=\"nf\">q</span><span class=\"p\">(</span><span class=\"mi\">3</span><span class=\"p\">,</span><span class=\"mi\">8</span><span class=\"p\">)</span>\n",
       "<span class=\"lineno\">151 </span><span class=\"nv\">Answer</span><span class=\"s s-Atom\">:</span> <span class=\"mi\">76</span>\n",
       "<span class=\"lineno\">152 </span><span class=\"nf\">q</span><span class=\"p\">(</span><span class=\"mi\">3</span><span class=\"p\">,</span><span class=\"mi\">2</span><span class=\"p\">)</span> <span class=\"nf\">q</span><span class=\"p\">(</span><span class=\"mi\">6</span><span class=\"p\">,</span><span class=\"mi\">1</span><span class=\"p\">)</span> <span class=\"nf\">q</span><span class=\"p\">(</span><span class=\"mi\">1</span><span class=\"p\">,</span><span class=\"mi\">3</span><span class=\"p\">)</span> <span class=\"nf\">q</span><span class=\"p\">(</span><span class=\"mi\">8</span><span class=\"p\">,</span><span class=\"mi\">4</span><span class=\"p\">)</span> <span class=\"nf\">q</span><span class=\"p\">(</span><span class=\"mi\">5</span><span class=\"p\">,</span><span class=\"mi\">5</span><span class=\"p\">)</span> <span class=\"nf\">q</span><span class=\"p\">(</span><span class=\"mi\">2</span><span class=\"p\">,</span><span class=\"mi\">6</span><span class=\"p\">)</span> <span class=\"nf\">q</span><span class=\"p\">(</span><span class=\"mi\">4</span><span class=\"p\">,</span><span class=\"mi\">7</span><span class=\"p\">)</span> <span class=\"nf\">q</span><span class=\"p\">(</span><span class=\"mi\">7</span><span class=\"p\">,</span><span class=\"mi\">8</span><span class=\"p\">)</span>\n",
       "<span class=\"lineno\">153 </span><span class=\"nv\">Answer</span><span class=\"s s-Atom\">:</span> <span class=\"mi\">77</span>\n",
       "<span class=\"lineno\">154 </span><span class=\"nf\">q</span><span class=\"p\">(</span><span class=\"mi\">2</span><span class=\"p\">,</span><span class=\"mi\">1</span><span class=\"p\">)</span> <span class=\"nf\">q</span><span class=\"p\">(</span><span class=\"mi\">6</span><span class=\"p\">,</span><span class=\"mi\">2</span><span class=\"p\">)</span> <span class=\"nf\">q</span><span class=\"p\">(</span><span class=\"mi\">1</span><span class=\"p\">,</span><span class=\"mi\">3</span><span class=\"p\">)</span> <span class=\"nf\">q</span><span class=\"p\">(</span><span class=\"mi\">7</span><span class=\"p\">,</span><span class=\"mi\">4</span><span class=\"p\">)</span> <span class=\"nf\">q</span><span class=\"p\">(</span><span class=\"mi\">4</span><span class=\"p\">,</span><span class=\"mi\">5</span><span class=\"p\">)</span> <span class=\"nf\">q</span><span class=\"p\">(</span><span class=\"mi\">8</span><span class=\"p\">,</span><span class=\"mi\">6</span><span class=\"p\">)</span> <span class=\"nf\">q</span><span class=\"p\">(</span><span class=\"mi\">3</span><span class=\"p\">,</span><span class=\"mi\">7</span><span class=\"p\">)</span> <span class=\"nf\">q</span><span class=\"p\">(</span><span class=\"mi\">5</span><span class=\"p\">,</span><span class=\"mi\">8</span><span class=\"p\">)</span>\n",
       "<span class=\"lineno\">155 </span><span class=\"nv\">Answer</span><span class=\"s s-Atom\">:</span> <span class=\"mi\">78</span>\n",
       "<span class=\"lineno\">156 </span><span class=\"nf\">q</span><span class=\"p\">(</span><span class=\"mi\">3</span><span class=\"p\">,</span><span class=\"mi\">1</span><span class=\"p\">)</span> <span class=\"nf\">q</span><span class=\"p\">(</span><span class=\"mi\">6</span><span class=\"p\">,</span><span class=\"mi\">2</span><span class=\"p\">)</span> <span class=\"nf\">q</span><span class=\"p\">(</span><span class=\"mi\">8</span><span class=\"p\">,</span><span class=\"mi\">3</span><span class=\"p\">)</span> <span class=\"nf\">q</span><span class=\"p\">(</span><span class=\"mi\">2</span><span class=\"p\">,</span><span class=\"mi\">4</span><span class=\"p\">)</span> <span class=\"nf\">q</span><span class=\"p\">(</span><span class=\"mi\">4</span><span class=\"p\">,</span><span class=\"mi\">5</span><span class=\"p\">)</span> <span class=\"nf\">q</span><span class=\"p\">(</span><span class=\"mi\">1</span><span class=\"p\">,</span><span class=\"mi\">6</span><span class=\"p\">)</span> <span class=\"nf\">q</span><span class=\"p\">(</span><span class=\"mi\">7</span><span class=\"p\">,</span><span class=\"mi\">7</span><span class=\"p\">)</span> <span class=\"nf\">q</span><span class=\"p\">(</span><span class=\"mi\">5</span><span class=\"p\">,</span><span class=\"mi\">8</span><span class=\"p\">)</span>\n",
       "<span class=\"lineno\">157 </span><span class=\"nv\">Answer</span><span class=\"s s-Atom\">:</span> <span class=\"mi\">79</span>\n",
       "<span class=\"lineno\">158 </span><span class=\"nf\">q</span><span class=\"p\">(</span><span class=\"mi\">3</span><span class=\"p\">,</span><span class=\"mi\">1</span><span class=\"p\">)</span> <span class=\"nf\">q</span><span class=\"p\">(</span><span class=\"mi\">6</span><span class=\"p\">,</span><span class=\"mi\">2</span><span class=\"p\">)</span> <span class=\"nf\">q</span><span class=\"p\">(</span><span class=\"mi\">8</span><span class=\"p\">,</span><span class=\"mi\">3</span><span class=\"p\">)</span> <span class=\"nf\">q</span><span class=\"p\">(</span><span class=\"mi\">1</span><span class=\"p\">,</span><span class=\"mi\">4</span><span class=\"p\">)</span> <span class=\"nf\">q</span><span class=\"p\">(</span><span class=\"mi\">4</span><span class=\"p\">,</span><span class=\"mi\">5</span><span class=\"p\">)</span> <span class=\"nf\">q</span><span class=\"p\">(</span><span class=\"mi\">7</span><span class=\"p\">,</span><span class=\"mi\">6</span><span class=\"p\">)</span> <span class=\"nf\">q</span><span class=\"p\">(</span><span class=\"mi\">5</span><span class=\"p\">,</span><span class=\"mi\">7</span><span class=\"p\">)</span> <span class=\"nf\">q</span><span class=\"p\">(</span><span class=\"mi\">2</span><span class=\"p\">,</span><span class=\"mi\">8</span><span class=\"p\">)</span>\n",
       "<span class=\"lineno\">159 </span><span class=\"nv\">Answer</span><span class=\"s s-Atom\">:</span> <span class=\"mi\">80</span>\n",
       "<span class=\"lineno\">160 </span><span class=\"nf\">q</span><span class=\"p\">(</span><span class=\"mi\">2</span><span class=\"p\">,</span><span class=\"mi\">2</span><span class=\"p\">)</span> <span class=\"nf\">q</span><span class=\"p\">(</span><span class=\"mi\">5</span><span class=\"p\">,</span><span class=\"mi\">1</span><span class=\"p\">)</span> <span class=\"nf\">q</span><span class=\"p\">(</span><span class=\"mi\">8</span><span class=\"p\">,</span><span class=\"mi\">3</span><span class=\"p\">)</span> <span class=\"nf\">q</span><span class=\"p\">(</span><span class=\"mi\">1</span><span class=\"p\">,</span><span class=\"mi\">4</span><span class=\"p\">)</span> <span class=\"nf\">q</span><span class=\"p\">(</span><span class=\"mi\">4</span><span class=\"p\">,</span><span class=\"mi\">5</span><span class=\"p\">)</span> <span class=\"nf\">q</span><span class=\"p\">(</span><span class=\"mi\">7</span><span class=\"p\">,</span><span class=\"mi\">6</span><span class=\"p\">)</span> <span class=\"nf\">q</span><span class=\"p\">(</span><span class=\"mi\">3</span><span class=\"p\">,</span><span class=\"mi\">7</span><span class=\"p\">)</span> <span class=\"nf\">q</span><span class=\"p\">(</span><span class=\"mi\">6</span><span class=\"p\">,</span><span class=\"mi\">8</span><span class=\"p\">)</span>\n",
       "<span class=\"lineno\">161 </span><span class=\"nv\">Answer</span><span class=\"s s-Atom\">:</span> <span class=\"mi\">81</span>\n",
       "<span class=\"lineno\">162 </span><span class=\"nf\">q</span><span class=\"p\">(</span><span class=\"mi\">3</span><span class=\"p\">,</span><span class=\"mi\">2</span><span class=\"p\">)</span> <span class=\"nf\">q</span><span class=\"p\">(</span><span class=\"mi\">6</span><span class=\"p\">,</span><span class=\"mi\">1</span><span class=\"p\">)</span> <span class=\"nf\">q</span><span class=\"p\">(</span><span class=\"mi\">1</span><span class=\"p\">,</span><span class=\"mi\">3</span><span class=\"p\">)</span> <span class=\"nf\">q</span><span class=\"p\">(</span><span class=\"mi\">8</span><span class=\"p\">,</span><span class=\"mi\">4</span><span class=\"p\">)</span> <span class=\"nf\">q</span><span class=\"p\">(</span><span class=\"mi\">4</span><span class=\"p\">,</span><span class=\"mi\">5</span><span class=\"p\">)</span> <span class=\"nf\">q</span><span class=\"p\">(</span><span class=\"mi\">2</span><span class=\"p\">,</span><span class=\"mi\">6</span><span class=\"p\">)</span> <span class=\"nf\">q</span><span class=\"p\">(</span><span class=\"mi\">7</span><span class=\"p\">,</span><span class=\"mi\">7</span><span class=\"p\">)</span> <span class=\"nf\">q</span><span class=\"p\">(</span><span class=\"mi\">5</span><span class=\"p\">,</span><span class=\"mi\">8</span><span class=\"p\">)</span>\n",
       "<span class=\"lineno\">163 </span><span class=\"nv\">Answer</span><span class=\"s s-Atom\">:</span> <span class=\"mi\">82</span>\n",
       "<span class=\"lineno\">164 </span><span class=\"nf\">q</span><span class=\"p\">(</span><span class=\"mi\">3</span><span class=\"p\">,</span><span class=\"mi\">1</span><span class=\"p\">)</span> <span class=\"nf\">q</span><span class=\"p\">(</span><span class=\"mi\">5</span><span class=\"p\">,</span><span class=\"mi\">2</span><span class=\"p\">)</span> <span class=\"nf\">q</span><span class=\"p\">(</span><span class=\"mi\">7</span><span class=\"p\">,</span><span class=\"mi\">3</span><span class=\"p\">)</span> <span class=\"nf\">q</span><span class=\"p\">(</span><span class=\"mi\">1</span><span class=\"p\">,</span><span class=\"mi\">4</span><span class=\"p\">)</span> <span class=\"nf\">q</span><span class=\"p\">(</span><span class=\"mi\">4</span><span class=\"p\">,</span><span class=\"mi\">5</span><span class=\"p\">)</span> <span class=\"nf\">q</span><span class=\"p\">(</span><span class=\"mi\">2</span><span class=\"p\">,</span><span class=\"mi\">6</span><span class=\"p\">)</span> <span class=\"nf\">q</span><span class=\"p\">(</span><span class=\"mi\">8</span><span class=\"p\">,</span><span class=\"mi\">7</span><span class=\"p\">)</span> <span class=\"nf\">q</span><span class=\"p\">(</span><span class=\"mi\">6</span><span class=\"p\">,</span><span class=\"mi\">8</span><span class=\"p\">)</span>\n",
       "<span class=\"lineno\">165 </span><span class=\"nv\">Answer</span><span class=\"s s-Atom\">:</span> <span class=\"mi\">83</span>\n",
       "<span class=\"lineno\">166 </span><span class=\"nf\">q</span><span class=\"p\">(</span><span class=\"mi\">3</span><span class=\"p\">,</span><span class=\"mi\">2</span><span class=\"p\">)</span> <span class=\"nf\">q</span><span class=\"p\">(</span><span class=\"mi\">6</span><span class=\"p\">,</span><span class=\"mi\">1</span><span class=\"p\">)</span> <span class=\"nf\">q</span><span class=\"p\">(</span><span class=\"mi\">7</span><span class=\"p\">,</span><span class=\"mi\">3</span><span class=\"p\">)</span> <span class=\"nf\">q</span><span class=\"p\">(</span><span class=\"mi\">2</span><span class=\"p\">,</span><span class=\"mi\">4</span><span class=\"p\">)</span> <span class=\"nf\">q</span><span class=\"p\">(</span><span class=\"mi\">4</span><span class=\"p\">,</span><span class=\"mi\">5</span><span class=\"p\">)</span> <span class=\"nf\">q</span><span class=\"p\">(</span><span class=\"mi\">8</span><span class=\"p\">,</span><span class=\"mi\">6</span><span class=\"p\">)</span> <span class=\"nf\">q</span><span class=\"p\">(</span><span class=\"mi\">1</span><span class=\"p\">,</span><span class=\"mi\">7</span><span class=\"p\">)</span> <span class=\"nf\">q</span><span class=\"p\">(</span><span class=\"mi\">5</span><span class=\"p\">,</span><span class=\"mi\">8</span><span class=\"p\">)</span>\n",
       "<span class=\"lineno\">167 </span><span class=\"nv\">Answer</span><span class=\"s s-Atom\">:</span> <span class=\"mi\">84</span>\n",
       "<span class=\"lineno\">168 </span><span class=\"nf\">q</span><span class=\"p\">(</span><span class=\"mi\">2</span><span class=\"p\">,</span><span class=\"mi\">2</span><span class=\"p\">)</span> <span class=\"nf\">q</span><span class=\"p\">(</span><span class=\"mi\">6</span><span class=\"p\">,</span><span class=\"mi\">1</span><span class=\"p\">)</span> <span class=\"nf\">q</span><span class=\"p\">(</span><span class=\"mi\">7</span><span class=\"p\">,</span><span class=\"mi\">3</span><span class=\"p\">)</span> <span class=\"nf\">q</span><span class=\"p\">(</span><span class=\"mi\">1</span><span class=\"p\">,</span><span class=\"mi\">4</span><span class=\"p\">)</span> <span class=\"nf\">q</span><span class=\"p\">(</span><span class=\"mi\">4</span><span class=\"p\">,</span><span class=\"mi\">5</span><span class=\"p\">)</span> <span class=\"nf\">q</span><span class=\"p\">(</span><span class=\"mi\">8</span><span class=\"p\">,</span><span class=\"mi\">6</span><span class=\"p\">)</span> <span class=\"nf\">q</span><span class=\"p\">(</span><span class=\"mi\">5</span><span class=\"p\">,</span><span class=\"mi\">7</span><span class=\"p\">)</span> <span class=\"nf\">q</span><span class=\"p\">(</span><span class=\"mi\">3</span><span class=\"p\">,</span><span class=\"mi\">8</span><span class=\"p\">)</span>\n",
       "<span class=\"lineno\">169 </span><span class=\"nv\">Answer</span><span class=\"s s-Atom\">:</span> <span class=\"mi\">85</span>\n",
       "<span class=\"lineno\">170 </span><span class=\"nf\">q</span><span class=\"p\">(</span><span class=\"mi\">2</span><span class=\"p\">,</span><span class=\"mi\">1</span><span class=\"p\">)</span> <span class=\"nf\">q</span><span class=\"p\">(</span><span class=\"mi\">5</span><span class=\"p\">,</span><span class=\"mi\">2</span><span class=\"p\">)</span> <span class=\"nf\">q</span><span class=\"p\">(</span><span class=\"mi\">7</span><span class=\"p\">,</span><span class=\"mi\">3</span><span class=\"p\">)</span> <span class=\"nf\">q</span><span class=\"p\">(</span><span class=\"mi\">4</span><span class=\"p\">,</span><span class=\"mi\">4</span><span class=\"p\">)</span> <span class=\"nf\">q</span><span class=\"p\">(</span><span class=\"mi\">1</span><span class=\"p\">,</span><span class=\"mi\">5</span><span class=\"p\">)</span> <span class=\"nf\">q</span><span class=\"p\">(</span><span class=\"mi\">8</span><span class=\"p\">,</span><span class=\"mi\">6</span><span class=\"p\">)</span> <span class=\"nf\">q</span><span class=\"p\">(</span><span class=\"mi\">6</span><span class=\"p\">,</span><span class=\"mi\">7</span><span class=\"p\">)</span> <span class=\"nf\">q</span><span class=\"p\">(</span><span class=\"mi\">3</span><span class=\"p\">,</span><span class=\"mi\">8</span><span class=\"p\">)</span>\n",
       "<span class=\"lineno\">171 </span><span class=\"nv\">Answer</span><span class=\"s s-Atom\">:</span> <span class=\"mi\">86</span>\n",
       "<span class=\"lineno\">172 </span><span class=\"nf\">q</span><span class=\"p\">(</span><span class=\"mi\">3</span><span class=\"p\">,</span><span class=\"mi\">2</span><span class=\"p\">)</span> <span class=\"nf\">q</span><span class=\"p\">(</span><span class=\"mi\">6</span><span class=\"p\">,</span><span class=\"mi\">1</span><span class=\"p\">)</span> <span class=\"nf\">q</span><span class=\"p\">(</span><span class=\"mi\">7</span><span class=\"p\">,</span><span class=\"mi\">3</span><span class=\"p\">)</span> <span class=\"nf\">q</span><span class=\"p\">(</span><span class=\"mi\">4</span><span class=\"p\">,</span><span class=\"mi\">4</span><span class=\"p\">)</span> <span class=\"nf\">q</span><span class=\"p\">(</span><span class=\"mi\">1</span><span class=\"p\">,</span><span class=\"mi\">5</span><span class=\"p\">)</span> <span class=\"nf\">q</span><span class=\"p\">(</span><span class=\"mi\">8</span><span class=\"p\">,</span><span class=\"mi\">6</span><span class=\"p\">)</span> <span class=\"nf\">q</span><span class=\"p\">(</span><span class=\"mi\">2</span><span class=\"p\">,</span><span class=\"mi\">7</span><span class=\"p\">)</span> <span class=\"nf\">q</span><span class=\"p\">(</span><span class=\"mi\">5</span><span class=\"p\">,</span><span class=\"mi\">8</span><span class=\"p\">)</span>\n",
       "<span class=\"lineno\">173 </span><span class=\"nv\">Answer</span><span class=\"s s-Atom\">:</span> <span class=\"mi\">87</span>\n",
       "<span class=\"lineno\">174 </span><span class=\"nf\">q</span><span class=\"p\">(</span><span class=\"mi\">3</span><span class=\"p\">,</span><span class=\"mi\">2</span><span class=\"p\">)</span> <span class=\"nf\">q</span><span class=\"p\">(</span><span class=\"mi\">5</span><span class=\"p\">,</span><span class=\"mi\">1</span><span class=\"p\">)</span> <span class=\"nf\">q</span><span class=\"p\">(</span><span class=\"mi\">8</span><span class=\"p\">,</span><span class=\"mi\">3</span><span class=\"p\">)</span> <span class=\"nf\">q</span><span class=\"p\">(</span><span class=\"mi\">4</span><span class=\"p\">,</span><span class=\"mi\">4</span><span class=\"p\">)</span> <span class=\"nf\">q</span><span class=\"p\">(</span><span class=\"mi\">7</span><span class=\"p\">,</span><span class=\"mi\">5</span><span class=\"p\">)</span> <span class=\"nf\">q</span><span class=\"p\">(</span><span class=\"mi\">1</span><span class=\"p\">,</span><span class=\"mi\">6</span><span class=\"p\">)</span> <span class=\"nf\">q</span><span class=\"p\">(</span><span class=\"mi\">6</span><span class=\"p\">,</span><span class=\"mi\">7</span><span class=\"p\">)</span> <span class=\"nf\">q</span><span class=\"p\">(</span><span class=\"mi\">2</span><span class=\"p\">,</span><span class=\"mi\">8</span><span class=\"p\">)</span>\n",
       "<span class=\"lineno\">175 </span><span class=\"nv\">Answer</span><span class=\"s s-Atom\">:</span> <span class=\"mi\">88</span>\n",
       "<span class=\"lineno\">176 </span><span class=\"nf\">q</span><span class=\"p\">(</span><span class=\"mi\">5</span><span class=\"p\">,</span><span class=\"mi\">1</span><span class=\"p\">)</span> <span class=\"nf\">q</span><span class=\"p\">(</span><span class=\"mi\">7</span><span class=\"p\">,</span><span class=\"mi\">2</span><span class=\"p\">)</span> <span class=\"nf\">q</span><span class=\"p\">(</span><span class=\"mi\">1</span><span class=\"p\">,</span><span class=\"mi\">3</span><span class=\"p\">)</span> <span class=\"nf\">q</span><span class=\"p\">(</span><span class=\"mi\">4</span><span class=\"p\">,</span><span class=\"mi\">4</span><span class=\"p\">)</span> <span class=\"nf\">q</span><span class=\"p\">(</span><span class=\"mi\">2</span><span class=\"p\">,</span><span class=\"mi\">5</span><span class=\"p\">)</span> <span class=\"nf\">q</span><span class=\"p\">(</span><span class=\"mi\">8</span><span class=\"p\">,</span><span class=\"mi\">6</span><span class=\"p\">)</span> <span class=\"nf\">q</span><span class=\"p\">(</span><span class=\"mi\">6</span><span class=\"p\">,</span><span class=\"mi\">7</span><span class=\"p\">)</span> <span class=\"nf\">q</span><span class=\"p\">(</span><span class=\"mi\">3</span><span class=\"p\">,</span><span class=\"mi\">8</span><span class=\"p\">)</span>\n",
       "<span class=\"lineno\">177 </span><span class=\"nv\">Answer</span><span class=\"s s-Atom\">:</span> <span class=\"mi\">89</span>\n",
       "<span class=\"lineno\">178 </span><span class=\"nf\">q</span><span class=\"p\">(</span><span class=\"mi\">5</span><span class=\"p\">,</span><span class=\"mi\">1</span><span class=\"p\">)</span> <span class=\"nf\">q</span><span class=\"p\">(</span><span class=\"mi\">7</span><span class=\"p\">,</span><span class=\"mi\">2</span><span class=\"p\">)</span> <span class=\"nf\">q</span><span class=\"p\">(</span><span class=\"mi\">2</span><span class=\"p\">,</span><span class=\"mi\">3</span><span class=\"p\">)</span> <span class=\"nf\">q</span><span class=\"p\">(</span><span class=\"mi\">4</span><span class=\"p\">,</span><span class=\"mi\">4</span><span class=\"p\">)</span> <span class=\"nf\">q</span><span class=\"p\">(</span><span class=\"mi\">8</span><span class=\"p\">,</span><span class=\"mi\">5</span><span class=\"p\">)</span> <span class=\"nf\">q</span><span class=\"p\">(</span><span class=\"mi\">1</span><span class=\"p\">,</span><span class=\"mi\">6</span><span class=\"p\">)</span> <span class=\"nf\">q</span><span class=\"p\">(</span><span class=\"mi\">3</span><span class=\"p\">,</span><span class=\"mi\">7</span><span class=\"p\">)</span> <span class=\"nf\">q</span><span class=\"p\">(</span><span class=\"mi\">6</span><span class=\"p\">,</span><span class=\"mi\">8</span><span class=\"p\">)</span>\n",
       "<span class=\"lineno\">179 </span><span class=\"nv\">Answer</span><span class=\"s s-Atom\">:</span> <span class=\"mi\">90</span>\n",
       "<span class=\"lineno\">180 </span><span class=\"nf\">q</span><span class=\"p\">(</span><span class=\"mi\">5</span><span class=\"p\">,</span><span class=\"mi\">1</span><span class=\"p\">)</span> <span class=\"nf\">q</span><span class=\"p\">(</span><span class=\"mi\">1</span><span class=\"p\">,</span><span class=\"mi\">2</span><span class=\"p\">)</span> <span class=\"nf\">q</span><span class=\"p\">(</span><span class=\"mi\">8</span><span class=\"p\">,</span><span class=\"mi\">3</span><span class=\"p\">)</span> <span class=\"nf\">q</span><span class=\"p\">(</span><span class=\"mi\">4</span><span class=\"p\">,</span><span class=\"mi\">4</span><span class=\"p\">)</span> <span class=\"nf\">q</span><span class=\"p\">(</span><span class=\"mi\">2</span><span class=\"p\">,</span><span class=\"mi\">5</span><span class=\"p\">)</span> <span class=\"nf\">q</span><span class=\"p\">(</span><span class=\"mi\">7</span><span class=\"p\">,</span><span class=\"mi\">6</span><span class=\"p\">)</span> <span class=\"nf\">q</span><span class=\"p\">(</span><span class=\"mi\">3</span><span class=\"p\">,</span><span class=\"mi\">7</span><span class=\"p\">)</span> <span class=\"nf\">q</span><span class=\"p\">(</span><span class=\"mi\">6</span><span class=\"p\">,</span><span class=\"mi\">8</span><span class=\"p\">)</span>\n",
       "<span class=\"lineno\">181 </span><span class=\"nv\">Answer</span><span class=\"s s-Atom\">:</span> <span class=\"mi\">91</span>\n",
       "<span class=\"lineno\">182 </span><span class=\"nf\">q</span><span class=\"p\">(</span><span class=\"mi\">6</span><span class=\"p\">,</span><span class=\"mi\">1</span><span class=\"p\">)</span> <span class=\"nf\">q</span><span class=\"p\">(</span><span class=\"mi\">8</span><span class=\"p\">,</span><span class=\"mi\">2</span><span class=\"p\">)</span> <span class=\"nf\">q</span><span class=\"p\">(</span><span class=\"mi\">2</span><span class=\"p\">,</span><span class=\"mi\">3</span><span class=\"p\">)</span> <span class=\"nf\">q</span><span class=\"p\">(</span><span class=\"mi\">4</span><span class=\"p\">,</span><span class=\"mi\">4</span><span class=\"p\">)</span> <span class=\"nf\">q</span><span class=\"p\">(</span><span class=\"mi\">1</span><span class=\"p\">,</span><span class=\"mi\">5</span><span class=\"p\">)</span> <span class=\"nf\">q</span><span class=\"p\">(</span><span class=\"mi\">7</span><span class=\"p\">,</span><span class=\"mi\">6</span><span class=\"p\">)</span> <span class=\"nf\">q</span><span class=\"p\">(</span><span class=\"mi\">5</span><span class=\"p\">,</span><span class=\"mi\">7</span><span class=\"p\">)</span> <span class=\"nf\">q</span><span class=\"p\">(</span><span class=\"mi\">3</span><span class=\"p\">,</span><span class=\"mi\">8</span><span class=\"p\">)</span>\n",
       "<span class=\"lineno\">183 </span><span class=\"nv\">Answer</span><span class=\"s s-Atom\">:</span> <span class=\"mi\">92</span>\n",
       "<span class=\"lineno\">184 </span><span class=\"nf\">q</span><span class=\"p\">(</span><span class=\"mi\">3</span><span class=\"p\">,</span><span class=\"mi\">1</span><span class=\"p\">)</span> <span class=\"nf\">q</span><span class=\"p\">(</span><span class=\"mi\">5</span><span class=\"p\">,</span><span class=\"mi\">2</span><span class=\"p\">)</span> <span class=\"nf\">q</span><span class=\"p\">(</span><span class=\"mi\">8</span><span class=\"p\">,</span><span class=\"mi\">3</span><span class=\"p\">)</span> <span class=\"nf\">q</span><span class=\"p\">(</span><span class=\"mi\">4</span><span class=\"p\">,</span><span class=\"mi\">4</span><span class=\"p\">)</span> <span class=\"nf\">q</span><span class=\"p\">(</span><span class=\"mi\">1</span><span class=\"p\">,</span><span class=\"mi\">5</span><span class=\"p\">)</span> <span class=\"nf\">q</span><span class=\"p\">(</span><span class=\"mi\">7</span><span class=\"p\">,</span><span class=\"mi\">6</span><span class=\"p\">)</span> <span class=\"nf\">q</span><span class=\"p\">(</span><span class=\"mi\">2</span><span class=\"p\">,</span><span class=\"mi\">7</span><span class=\"p\">)</span> <span class=\"nf\">q</span><span class=\"p\">(</span><span class=\"mi\">6</span><span class=\"p\">,</span><span class=\"mi\">8</span><span class=\"p\">)</span>\n",
       "<span class=\"lineno\">185 </span><span class=\"nv\">SATISFIABLE</span>\n",
       "<span class=\"lineno\">186 </span>\n",
       "<span class=\"lineno\">187 </span><span class=\"nv\">Models</span>       <span class=\"s s-Atom\">:</span> <span class=\"mi\">92</span>\n",
       "<span class=\"lineno\">188 </span><span class=\"nv\">Calls</span>        <span class=\"s s-Atom\">:</span> <span class=\"mi\">1</span>\n",
       "<span class=\"lineno\">189 </span><span class=\"nv\">Time</span>         <span class=\"s s-Atom\">:</span> <span class=\"mf\">0.009</span><span class=\"nf\">s</span> <span class=\"p\">(</span><span class=\"nv\">Solving</span><span class=\"s s-Atom\">:</span> <span class=\"mf\">0.00</span><span class=\"s s-Atom\">s</span> <span class=\"mi\">1</span><span class=\"s s-Atom\">st</span> <span class=\"nv\">Model</span><span class=\"s s-Atom\">:</span> <span class=\"mf\">0.00</span><span class=\"s s-Atom\">s</span> <span class=\"nv\">Unsat</span><span class=\"s s-Atom\">:</span> <span class=\"mf\">0.00</span><span class=\"s s-Atom\">s</span><span class=\"p\">)</span>\n",
       "<span class=\"lineno\">190 </span><span class=\"nv\">CPU</span> <span class=\"nv\">Time</span>     <span class=\"s s-Atom\">:</span> <span class=\"mf\">0.009</span><span class=\"s s-Atom\">s</span>\n",
       "</pre></div>\n"
      ],
      "text/plain": [
       "'Answer: 1\\nq(3,2) q(5,1) q(1,3) q(7,4) q(2,5) q(8,6) q(6,7) q(4,8)\\nAnswer: 2\\nq(3,1) q(5,2) q(2,3) q(8,4) q(1,5) q(7,6) q(4,7) q(6,8)\\nAnswer: 3\\nq(4,2) q(6,1) q(7,3) q(1,4) q(8,5) q(2,6) q(5,7) q(3,8)\\nAnswer: 4\\nq(4,1) q(6,2) q(8,3) q(2,4) q(7,5) q(1,6) q(3,7) q(5,8)\\nAnswer: 5\\nq(3,2) q(5,1) q(1,3) q(6,4) q(8,5) q(2,6) q(4,7) q(7,8)\\nAnswer: 6\\nq(4,1) q(6,2) q(8,3) q(3,4) q(1,5) q(7,6) q(5,7) q(2,8)\\nAnswer: 7\\nq(5,1) q(7,2) q(1,3) q(3,4) q(8,5) q(6,6) q(4,7) q(2,8)\\nAnswer: 8\\nq(2,1) q(7,2) q(3,3) q(6,4) q(8,5) q(5,6) q(1,7) q(4,8)\\nAnswer: 9\\nq(3,2) q(1,3) q(6,4) q(2,5) q(5,6) q(7,7) q(4,8) q(8,1)\\nAnswer: 10\\nq(3,2) q(7,1) q(1,3) q(6,4) q(8,5) q(5,6) q(2,7) q(4,8)\\nAnswer: 11\\nq(3,2) q(6,1) q(7,3) q(2,4) q(8,5) q(5,6) q(1,7) q(4,8)\\nAnswer: 12\\nq(4,1) q(7,2) q(3,3) q(8,4) q(2,5) q(5,6) q(1,7) q(6,8)\\nAnswer: 13\\nq(1,1) q(6,2) q(8,3) q(3,4) q(7,5) q(4,6) q(2,7) q(5,8)\\nAnswer: 14\\nq(2,1) q(6,2) q(8,3) q(3,4) q(1,5) q(4,6) q(7,7) q(5,8)\\nAnswer: 15\\nq(3,1) q(6,2) q(2,3) q(7,4) q(1,5) q(4,6) q(8,7) q(5,8)\\nAnswer: 16\\nq(2,2) q(4,1) q(8,3) q(6,4) q(1,5) q(3,6) q(5,7) q(7,8)\\nAnswer: 17\\nq(2,2) q(5,1) q(6,3) q(1,4) q(7,5) q(4,6) q(8,7) q(3,8)\\nAnswer: 18\\nq(2,2) q(7,1) q(6,3) q(3,4) q(1,5) q(4,6) q(8,7) q(5,8)\\nAnswer: 19\\nq(4,2) q(7,1) q(2,3) q(8,4) q(6,5) q(1,6) q(3,7) q(5,8)\\nAnswer: 20\\nq(3,1) q(5,2) q(2,3) q(8,4) q(6,5) q(4,6) q(7,7) q(1,8)\\nAnswer: 21\\nq(3,1) q(7,2) q(2,3) q(8,4) q(6,5) q(4,6) q(1,7) q(5,8)\\nAnswer: 22\\nq(7,1) q(1,2) q(3,3) q(8,4) q(6,5) q(4,6) q(2,7) q(5,8)\\nAnswer: 23\\nq(4,2) q(1,3) q(3,4) q(6,5) q(2,6) q(7,7) q(5,8) q(8,1)\\nAnswer: 24\\nq(2,2) q(4,1) q(7,3) q(3,4) q(6,5) q(8,6) q(1,7) q(5,8)\\nAnswer: 25\\nq(4,1) q(8,2) q(1,3) q(3,4) q(6,5) q(2,6) q(7,7) q(5,8)\\nAnswer: 26\\nq(2,2) q(4,1) q(7,3) q(3,4) q(6,5) q(8,6) q(5,7) q(1,8)\\nAnswer: 27\\nq(5,2) q(7,1) q(3,3) q(1,4) q(6,5) q(8,6) q(2,7) q(4,8)\\nAnswer: 28\\nq(4,2) q(6,1) q(7,3) q(1,4) q(3,5) q(5,6) q(2,7) q(8,8)\\nAnswer: 29\\nq(2,1) q(4,2) q(6,3) q(8,4) q(3,5) q(1,6) q(7,7) q(5,8)\\nAnswer: 30\\nq(2,1) q(8,2) q(6,3) q(1,4) q(3,5) q(5,6) q(7,7) q(4,8)\\nAnswer: 31\\nq(2,2) q(6,1) q(7,3) q(1,4) q(3,5) q(5,6) q(8,7) q(4,8)\\nAnswer: 32\\nq(5,1) q(7,2) q(2,3) q(6,4) q(3,5) q(1,6) q(8,7) q(4,8)\\nAnswer: 33\\nq(5,1) q(7,2) q(2,3) q(6,4) q(3,5) q(1,6) q(4,7) q(8,8)\\nAnswer: 34\\nq(1,1) q(5,2) q(8,3) q(6,4) q(3,5) q(7,6) q(2,7) q(4,8)\\nAnswer: 35\\nq(2,1) q(5,2) q(7,3) q(1,4) q(3,5) q(8,6) q(6,7) q(4,8)\\nAnswer: 36\\nq(5,1) q(1,2) q(8,3) q(6,4) q(3,5) q(7,6) q(2,7) q(4,8)\\nAnswer: 37\\nq(3,2) q(6,1) q(5,3) q(7,4) q(1,5) q(4,6) q(2,7) q(8,8)\\nAnswer: 38\\nq(6,1) q(1,2) q(5,3) q(2,4) q(8,5) q(3,6) q(7,7) q(4,8)\\nAnswer: 39\\nq(4,1) q(7,2) q(5,3) q(2,4) q(6,5) q(1,6) q(3,7) q(8,8)\\nAnswer: 40\\nq(2,2) q(5,3) q(3,4) q(1,5) q(7,6) q(4,7) q(6,8) q(8,1)\\nAnswer: 41\\nq(4,1) q(1,2) q(5,3) q(8,4) q(6,5) q(3,6) q(7,7) q(2,8)\\nAnswer: 42\\nq(2,2) q(4,1) q(5,3) q(8,4) q(6,5) q(1,6) q(3,7) q(7,8)\\nAnswer: 43\\nq(4,1) q(7,2) q(5,3) q(3,4) q(1,5) q(6,6) q(8,7) q(2,8)\\nAnswer: 44\\nq(4,1) q(8,2) q(5,3) q(3,4) q(1,5) q(7,6) q(2,7) q(6,8)\\nAnswer: 45\\nq(4,1) q(1,2) q(5,3) q(8,4) q(2,5) q(7,6) q(3,7) q(6,8)\\nAnswer: 46\\nq(2,1) q(7,2) q(5,3) q(8,4) q(1,5) q(4,6) q(6,7) q(3,8)\\nAnswer: 47\\nq(1,1) q(7,2) q(5,3) q(8,4) q(2,5) q(4,6) q(6,7) q(3,8)\\nAnswer: 48\\nq(3,2) q(6,1) q(5,3) q(8,4) q(1,5) q(4,6) q(2,7) q(7,8)\\nAnswer: 49\\nq(3,1) q(8,2) q(4,3) q(7,4) q(1,5) q(6,6) q(2,7) q(5,8)\\nAnswer: 50\\nq(2,2) q(5,1) q(4,3) q(7,4) q(3,5) q(8,6) q(6,7) q(1,8)\\nAnswer: 51\\nq(2,2) q(4,3) q(1,4) q(7,5) q(5,6) q(3,7) q(6,8) q(8,1)\\nAnswer: 52\\nq(2,2) q(7,1) q(4,3) q(1,4) q(8,5) q(5,6) q(3,7) q(6,8)\\nAnswer: 53\\nq(5,1) q(8,2) q(4,3) q(1,4) q(3,5) q(6,6) q(2,7) q(7,8)\\nAnswer: 54\\nq(3,1) q(6,2) q(4,3) q(2,4) q(8,5) q(5,6) q(7,7) q(1,8)\\nAnswer: 55\\nq(5,1) q(7,2) q(4,3) q(1,4) q(3,5) q(8,6) q(6,7) q(2,8)\\nAnswer: 56\\nq(3,1) q(6,2) q(4,3) q(1,4) q(8,5) q(5,6) q(7,7) q(2,8)\\nAnswer: 57\\nq(5,1) q(8,2) q(4,3) q(1,4) q(7,5) q(2,6) q(6,7) q(3,8)\\nAnswer: 58\\nq(5,1) q(1,2) q(4,3) q(6,4) q(8,5) q(2,6) q(7,7) q(3,8)\\nAnswer: 59\\nq(1,1) q(7,2) q(4,3) q(6,4) q(8,5) q(2,6) q(5,7) q(3,8)\\nAnswer: 60\\nq(2,2) q(5,1) q(4,3) q(6,4) q(8,5) q(3,6) q(1,7) q(7,8)\\nAnswer: 61\\nq(2,2) q(4,1) q(8,3) q(5,4) q(7,5) q(1,6) q(3,7) q(6,8)\\nAnswer: 62\\nq(4,1) q(6,2) q(1,3) q(5,4) q(2,5) q(8,6) q(3,7) q(7,8)\\nAnswer: 63\\nq(4,2) q(7,1) q(2,3) q(5,4) q(8,5) q(1,6) q(3,7) q(6,8)\\nAnswer: 64\\nq(4,1) q(8,2) q(1,3) q(5,4) q(7,5) q(2,6) q(6,7) q(3,8)\\nAnswer: 65\\nq(4,2) q(6,1) q(1,3) q(5,4) q(8,5) q(2,6) q(7,7) q(3,8)\\nAnswer: 66\\nq(2,2) q(4,1) q(7,3) q(5,4) q(1,5) q(8,6) q(6,7) q(3,8)\\nAnswer: 67\\nq(3,1) q(1,2) q(7,3) q(5,4) q(8,5) q(2,6) q(4,7) q(6,8)\\nAnswer: 68\\nq(3,1) q(6,2) q(2,3) q(5,4) q(8,5) q(1,6) q(7,7) q(4,8)\\nAnswer: 69\\nq(4,1) q(7,2) q(1,3) q(8,4) q(5,5) q(2,6) q(6,7) q(3,8)\\nAnswer: 70\\nq(3,2) q(7,1) q(8,3) q(2,4) q(5,5) q(1,6) q(6,7) q(4,8)\\nAnswer: 71\\nq(3,1) q(6,2) q(2,3) q(7,4) q(5,5) q(1,6) q(8,7) q(4,8)\\nAnswer: 72\\nq(3,1) q(6,2) q(8,3) q(1,4) q(5,5) q(7,6) q(2,7) q(4,8)\\nAnswer: 73\\nq(3,2) q(6,1) q(1,3) q(7,4) q(5,5) q(8,6) q(2,7) q(4,8)\\nAnswer: 74\\nq(3,1) q(7,2) q(2,3) q(8,4) q(5,5) q(1,6) q(4,7) q(6,8)\\nAnswer: 75\\nq(4,2) q(6,1) q(2,3) q(8,4) q(5,5) q(7,6) q(1,7) q(3,8)\\nAnswer: 76\\nq(3,2) q(6,1) q(1,3) q(8,4) q(5,5) q(2,6) q(4,7) q(7,8)\\nAnswer: 77\\nq(2,1) q(6,2) q(1,3) q(7,4) q(4,5) q(8,6) q(3,7) q(5,8)\\nAnswer: 78\\nq(3,1) q(6,2) q(8,3) q(2,4) q(4,5) q(1,6) q(7,7) q(5,8)\\nAnswer: 79\\nq(3,1) q(6,2) q(8,3) q(1,4) q(4,5) q(7,6) q(5,7) q(2,8)\\nAnswer: 80\\nq(2,2) q(5,1) q(8,3) q(1,4) q(4,5) q(7,6) q(3,7) q(6,8)\\nAnswer: 81\\nq(3,2) q(6,1) q(1,3) q(8,4) q(4,5) q(2,6) q(7,7) q(5,8)\\nAnswer: 82\\nq(3,1) q(5,2) q(7,3) q(1,4) q(4,5) q(2,6) q(8,7) q(6,8)\\nAnswer: 83\\nq(3,2) q(6,1) q(7,3) q(2,4) q(4,5) q(8,6) q(1,7) q(5,8)\\nAnswer: 84\\nq(2,2) q(6,1) q(7,3) q(1,4) q(4,5) q(8,6) q(5,7) q(3,8)\\nAnswer: 85\\nq(2,1) q(5,2) q(7,3) q(4,4) q(1,5) q(8,6) q(6,7) q(3,8)\\nAnswer: 86\\nq(3,2) q(6,1) q(7,3) q(4,4) q(1,5) q(8,6) q(2,7) q(5,8)\\nAnswer: 87\\nq(3,2) q(5,1) q(8,3) q(4,4) q(7,5) q(1,6) q(6,7) q(2,8)\\nAnswer: 88\\nq(5,1) q(7,2) q(1,3) q(4,4) q(2,5) q(8,6) q(6,7) q(3,8)\\nAnswer: 89\\nq(5,1) q(7,2) q(2,3) q(4,4) q(8,5) q(1,6) q(3,7) q(6,8)\\nAnswer: 90\\nq(5,1) q(1,2) q(8,3) q(4,4) q(2,5) q(7,6) q(3,7) q(6,8)\\nAnswer: 91\\nq(6,1) q(8,2) q(2,3) q(4,4) q(1,5) q(7,6) q(5,7) q(3,8)\\nAnswer: 92\\nq(3,1) q(5,2) q(8,3) q(4,4) q(1,5) q(7,6) q(2,7) q(6,8)\\nSATISFIABLE\\n\\nModels       : 92\\nCalls        : 1\\nTime         : 0.009s (Solving: 0.00s 1st Model: 0.00s Unsat: 0.00s)\\nCPU Time     : 0.009s'"
      ]
     },
     "metadata": {},
     "output_type": "display_data"
    }
   ],
   "source": [
    "%%clingo -lci nqueens_clingo_rules --donot-display_input -exp nqueens\n",
    "\n",
    "#const n = 8.\n",
    "% domain\n",
    "number(1..n).\n",
    "% alldifferent\n",
    "1 { q(X,Y) : number(Y) } 1 :- number(X).\n",
    "1 { q(X,Y) : number(X) } 1 :- number(Y).\n",
    "% remove conflicting answers\n",
    ":- number(X1;X2;Y1;Y2), q(X1,Y1), q(X2,Y2), X1 < X2, Y1 == Y2.\n",
    ":- number(X1;X2;Y1;Y2), q(X1,Y1), q(X2,Y2), X1 < X2, Y1 + X1 == Y2 + X2.\n",
    ":- number(X1;X2;Y1;Y2), q(X1,Y1), q(X2,Y2), X1 < X2, Y1 - X1 == Y2 - X2.\n",
    "#show q/2."
   ]
  },
  {
   "cell_type": "code",
   "execution_count": 4,
   "metadata": {},
   "outputs": [
    {
     "data": {
      "text/plain": [
       "dict_keys(['asp_rules', 'asp_soln', 'meta_data'])"
      ]
     },
     "execution_count": 4,
     "metadata": {},
     "output_type": "execute_result"
    }
   ],
   "source": [
    "nqueens.keys()"
   ]
  },
  {
   "cell_type": "markdown",
   "metadata": {},
   "source": [
    "As we can see, we get 92 solutions for the 8-Queens Puzzle."
   ]
  },
  {
   "cell_type": "code",
   "execution_count": 5,
   "metadata": {},
   "outputs": [
    {
     "name": "stdout",
     "output_type": "stream",
     "text": [
      "Number of Models: 92\n"
     ]
    }
   ],
   "source": [
    "dfs, rels, pws = load_worlds(nqueens['asp_soln'], meta_data=nqueens['meta_data'])"
   ]
  },
  {
   "cell_type": "code",
   "execution_count": 6,
   "metadata": {},
   "outputs": [
    {
     "data": {
      "text/plain": [
       "dict_keys(['q_2'])"
      ]
     },
     "execution_count": 6,
     "metadata": {},
     "output_type": "execute_result"
    }
   ],
   "source": [
    "dfs.keys()"
   ]
  },
  {
   "cell_type": "code",
   "execution_count": 7,
   "metadata": {
    "scrolled": true
   },
   "outputs": [
    {
     "data": {
      "text/html": [
       "<div>\n",
       "<style scoped>\n",
       "    .dataframe tbody tr th:only-of-type {\n",
       "        vertical-align: middle;\n",
       "    }\n",
       "\n",
       "    .dataframe tbody tr th {\n",
       "        vertical-align: top;\n",
       "    }\n",
       "\n",
       "    .dataframe thead th {\n",
       "        text-align: right;\n",
       "    }\n",
       "</style>\n",
       "<table border=\"1\" class=\"dataframe\">\n",
       "  <thead>\n",
       "    <tr style=\"text-align: right;\">\n",
       "      <th></th>\n",
       "      <th>pw</th>\n",
       "      <th>x1</th>\n",
       "      <th>x2</th>\n",
       "    </tr>\n",
       "  </thead>\n",
       "  <tbody>\n",
       "    <tr>\n",
       "      <th>0</th>\n",
       "      <td>1</td>\n",
       "      <td>3</td>\n",
       "      <td>2</td>\n",
       "    </tr>\n",
       "    <tr>\n",
       "      <th>1</th>\n",
       "      <td>1</td>\n",
       "      <td>5</td>\n",
       "      <td>1</td>\n",
       "    </tr>\n",
       "    <tr>\n",
       "      <th>2</th>\n",
       "      <td>1</td>\n",
       "      <td>1</td>\n",
       "      <td>3</td>\n",
       "    </tr>\n",
       "    <tr>\n",
       "      <th>3</th>\n",
       "      <td>1</td>\n",
       "      <td>7</td>\n",
       "      <td>4</td>\n",
       "    </tr>\n",
       "    <tr>\n",
       "      <th>4</th>\n",
       "      <td>1</td>\n",
       "      <td>2</td>\n",
       "      <td>5</td>\n",
       "    </tr>\n",
       "    <tr>\n",
       "      <th>5</th>\n",
       "      <td>1</td>\n",
       "      <td>8</td>\n",
       "      <td>6</td>\n",
       "    </tr>\n",
       "    <tr>\n",
       "      <th>6</th>\n",
       "      <td>1</td>\n",
       "      <td>6</td>\n",
       "      <td>7</td>\n",
       "    </tr>\n",
       "    <tr>\n",
       "      <th>7</th>\n",
       "      <td>1</td>\n",
       "      <td>4</td>\n",
       "      <td>8</td>\n",
       "    </tr>\n",
       "    <tr>\n",
       "      <th>8</th>\n",
       "      <td>2</td>\n",
       "      <td>3</td>\n",
       "      <td>1</td>\n",
       "    </tr>\n",
       "    <tr>\n",
       "      <th>9</th>\n",
       "      <td>2</td>\n",
       "      <td>5</td>\n",
       "      <td>2</td>\n",
       "    </tr>\n",
       "    <tr>\n",
       "      <th>10</th>\n",
       "      <td>2</td>\n",
       "      <td>2</td>\n",
       "      <td>3</td>\n",
       "    </tr>\n",
       "    <tr>\n",
       "      <th>11</th>\n",
       "      <td>2</td>\n",
       "      <td>8</td>\n",
       "      <td>4</td>\n",
       "    </tr>\n",
       "    <tr>\n",
       "      <th>12</th>\n",
       "      <td>2</td>\n",
       "      <td>1</td>\n",
       "      <td>5</td>\n",
       "    </tr>\n",
       "    <tr>\n",
       "      <th>13</th>\n",
       "      <td>2</td>\n",
       "      <td>7</td>\n",
       "      <td>6</td>\n",
       "    </tr>\n",
       "    <tr>\n",
       "      <th>14</th>\n",
       "      <td>2</td>\n",
       "      <td>4</td>\n",
       "      <td>7</td>\n",
       "    </tr>\n",
       "    <tr>\n",
       "      <th>15</th>\n",
       "      <td>2</td>\n",
       "      <td>6</td>\n",
       "      <td>8</td>\n",
       "    </tr>\n",
       "    <tr>\n",
       "      <th>16</th>\n",
       "      <td>3</td>\n",
       "      <td>4</td>\n",
       "      <td>2</td>\n",
       "    </tr>\n",
       "    <tr>\n",
       "      <th>17</th>\n",
       "      <td>3</td>\n",
       "      <td>6</td>\n",
       "      <td>1</td>\n",
       "    </tr>\n",
       "    <tr>\n",
       "      <th>18</th>\n",
       "      <td>3</td>\n",
       "      <td>7</td>\n",
       "      <td>3</td>\n",
       "    </tr>\n",
       "    <tr>\n",
       "      <th>19</th>\n",
       "      <td>3</td>\n",
       "      <td>1</td>\n",
       "      <td>4</td>\n",
       "    </tr>\n",
       "    <tr>\n",
       "      <th>20</th>\n",
       "      <td>3</td>\n",
       "      <td>8</td>\n",
       "      <td>5</td>\n",
       "    </tr>\n",
       "    <tr>\n",
       "      <th>21</th>\n",
       "      <td>3</td>\n",
       "      <td>2</td>\n",
       "      <td>6</td>\n",
       "    </tr>\n",
       "    <tr>\n",
       "      <th>22</th>\n",
       "      <td>3</td>\n",
       "      <td>5</td>\n",
       "      <td>7</td>\n",
       "    </tr>\n",
       "    <tr>\n",
       "      <th>23</th>\n",
       "      <td>3</td>\n",
       "      <td>3</td>\n",
       "      <td>8</td>\n",
       "    </tr>\n",
       "    <tr>\n",
       "      <th>24</th>\n",
       "      <td>4</td>\n",
       "      <td>4</td>\n",
       "      <td>1</td>\n",
       "    </tr>\n",
       "    <tr>\n",
       "      <th>25</th>\n",
       "      <td>4</td>\n",
       "      <td>6</td>\n",
       "      <td>2</td>\n",
       "    </tr>\n",
       "    <tr>\n",
       "      <th>26</th>\n",
       "      <td>4</td>\n",
       "      <td>8</td>\n",
       "      <td>3</td>\n",
       "    </tr>\n",
       "    <tr>\n",
       "      <th>27</th>\n",
       "      <td>4</td>\n",
       "      <td>2</td>\n",
       "      <td>4</td>\n",
       "    </tr>\n",
       "    <tr>\n",
       "      <th>28</th>\n",
       "      <td>4</td>\n",
       "      <td>7</td>\n",
       "      <td>5</td>\n",
       "    </tr>\n",
       "    <tr>\n",
       "      <th>29</th>\n",
       "      <td>4</td>\n",
       "      <td>1</td>\n",
       "      <td>6</td>\n",
       "    </tr>\n",
       "    <tr>\n",
       "      <th>...</th>\n",
       "      <td>...</td>\n",
       "      <td>...</td>\n",
       "      <td>...</td>\n",
       "    </tr>\n",
       "    <tr>\n",
       "      <th>706</th>\n",
       "      <td>89</td>\n",
       "      <td>2</td>\n",
       "      <td>3</td>\n",
       "    </tr>\n",
       "    <tr>\n",
       "      <th>707</th>\n",
       "      <td>89</td>\n",
       "      <td>4</td>\n",
       "      <td>4</td>\n",
       "    </tr>\n",
       "    <tr>\n",
       "      <th>708</th>\n",
       "      <td>89</td>\n",
       "      <td>8</td>\n",
       "      <td>5</td>\n",
       "    </tr>\n",
       "    <tr>\n",
       "      <th>709</th>\n",
       "      <td>89</td>\n",
       "      <td>1</td>\n",
       "      <td>6</td>\n",
       "    </tr>\n",
       "    <tr>\n",
       "      <th>710</th>\n",
       "      <td>89</td>\n",
       "      <td>3</td>\n",
       "      <td>7</td>\n",
       "    </tr>\n",
       "    <tr>\n",
       "      <th>711</th>\n",
       "      <td>89</td>\n",
       "      <td>6</td>\n",
       "      <td>8</td>\n",
       "    </tr>\n",
       "    <tr>\n",
       "      <th>712</th>\n",
       "      <td>90</td>\n",
       "      <td>5</td>\n",
       "      <td>1</td>\n",
       "    </tr>\n",
       "    <tr>\n",
       "      <th>713</th>\n",
       "      <td>90</td>\n",
       "      <td>1</td>\n",
       "      <td>2</td>\n",
       "    </tr>\n",
       "    <tr>\n",
       "      <th>714</th>\n",
       "      <td>90</td>\n",
       "      <td>8</td>\n",
       "      <td>3</td>\n",
       "    </tr>\n",
       "    <tr>\n",
       "      <th>715</th>\n",
       "      <td>90</td>\n",
       "      <td>4</td>\n",
       "      <td>4</td>\n",
       "    </tr>\n",
       "    <tr>\n",
       "      <th>716</th>\n",
       "      <td>90</td>\n",
       "      <td>2</td>\n",
       "      <td>5</td>\n",
       "    </tr>\n",
       "    <tr>\n",
       "      <th>717</th>\n",
       "      <td>90</td>\n",
       "      <td>7</td>\n",
       "      <td>6</td>\n",
       "    </tr>\n",
       "    <tr>\n",
       "      <th>718</th>\n",
       "      <td>90</td>\n",
       "      <td>3</td>\n",
       "      <td>7</td>\n",
       "    </tr>\n",
       "    <tr>\n",
       "      <th>719</th>\n",
       "      <td>90</td>\n",
       "      <td>6</td>\n",
       "      <td>8</td>\n",
       "    </tr>\n",
       "    <tr>\n",
       "      <th>720</th>\n",
       "      <td>91</td>\n",
       "      <td>6</td>\n",
       "      <td>1</td>\n",
       "    </tr>\n",
       "    <tr>\n",
       "      <th>721</th>\n",
       "      <td>91</td>\n",
       "      <td>8</td>\n",
       "      <td>2</td>\n",
       "    </tr>\n",
       "    <tr>\n",
       "      <th>722</th>\n",
       "      <td>91</td>\n",
       "      <td>2</td>\n",
       "      <td>3</td>\n",
       "    </tr>\n",
       "    <tr>\n",
       "      <th>723</th>\n",
       "      <td>91</td>\n",
       "      <td>4</td>\n",
       "      <td>4</td>\n",
       "    </tr>\n",
       "    <tr>\n",
       "      <th>724</th>\n",
       "      <td>91</td>\n",
       "      <td>1</td>\n",
       "      <td>5</td>\n",
       "    </tr>\n",
       "    <tr>\n",
       "      <th>725</th>\n",
       "      <td>91</td>\n",
       "      <td>7</td>\n",
       "      <td>6</td>\n",
       "    </tr>\n",
       "    <tr>\n",
       "      <th>726</th>\n",
       "      <td>91</td>\n",
       "      <td>5</td>\n",
       "      <td>7</td>\n",
       "    </tr>\n",
       "    <tr>\n",
       "      <th>727</th>\n",
       "      <td>91</td>\n",
       "      <td>3</td>\n",
       "      <td>8</td>\n",
       "    </tr>\n",
       "    <tr>\n",
       "      <th>728</th>\n",
       "      <td>92</td>\n",
       "      <td>3</td>\n",
       "      <td>1</td>\n",
       "    </tr>\n",
       "    <tr>\n",
       "      <th>729</th>\n",
       "      <td>92</td>\n",
       "      <td>5</td>\n",
       "      <td>2</td>\n",
       "    </tr>\n",
       "    <tr>\n",
       "      <th>730</th>\n",
       "      <td>92</td>\n",
       "      <td>8</td>\n",
       "      <td>3</td>\n",
       "    </tr>\n",
       "    <tr>\n",
       "      <th>731</th>\n",
       "      <td>92</td>\n",
       "      <td>4</td>\n",
       "      <td>4</td>\n",
       "    </tr>\n",
       "    <tr>\n",
       "      <th>732</th>\n",
       "      <td>92</td>\n",
       "      <td>1</td>\n",
       "      <td>5</td>\n",
       "    </tr>\n",
       "    <tr>\n",
       "      <th>733</th>\n",
       "      <td>92</td>\n",
       "      <td>7</td>\n",
       "      <td>6</td>\n",
       "    </tr>\n",
       "    <tr>\n",
       "      <th>734</th>\n",
       "      <td>92</td>\n",
       "      <td>2</td>\n",
       "      <td>7</td>\n",
       "    </tr>\n",
       "    <tr>\n",
       "      <th>735</th>\n",
       "      <td>92</td>\n",
       "      <td>6</td>\n",
       "      <td>8</td>\n",
       "    </tr>\n",
       "  </tbody>\n",
       "</table>\n",
       "<p>736 rows × 3 columns</p>\n",
       "</div>"
      ],
      "text/plain": [
       "     pw x1 x2\n",
       "0     1  3  2\n",
       "1     1  5  1\n",
       "2     1  1  3\n",
       "3     1  7  4\n",
       "4     1  2  5\n",
       "5     1  8  6\n",
       "6     1  6  7\n",
       "7     1  4  8\n",
       "8     2  3  1\n",
       "9     2  5  2\n",
       "10    2  2  3\n",
       "11    2  8  4\n",
       "12    2  1  5\n",
       "13    2  7  6\n",
       "14    2  4  7\n",
       "15    2  6  8\n",
       "16    3  4  2\n",
       "17    3  6  1\n",
       "18    3  7  3\n",
       "19    3  1  4\n",
       "20    3  8  5\n",
       "21    3  2  6\n",
       "22    3  5  7\n",
       "23    3  3  8\n",
       "24    4  4  1\n",
       "25    4  6  2\n",
       "26    4  8  3\n",
       "27    4  2  4\n",
       "28    4  7  5\n",
       "29    4  1  6\n",
       "..   .. .. ..\n",
       "706  89  2  3\n",
       "707  89  4  4\n",
       "708  89  8  5\n",
       "709  89  1  6\n",
       "710  89  3  7\n",
       "711  89  6  8\n",
       "712  90  5  1\n",
       "713  90  1  2\n",
       "714  90  8  3\n",
       "715  90  4  4\n",
       "716  90  2  5\n",
       "717  90  7  6\n",
       "718  90  3  7\n",
       "719  90  6  8\n",
       "720  91  6  1\n",
       "721  91  8  2\n",
       "722  91  2  3\n",
       "723  91  4  4\n",
       "724  91  1  5\n",
       "725  91  7  6\n",
       "726  91  5  7\n",
       "727  91  3  8\n",
       "728  92  3  1\n",
       "729  92  5  2\n",
       "730  92  8  3\n",
       "731  92  4  4\n",
       "732  92  1  5\n",
       "733  92  7  6\n",
       "734  92  2  7\n",
       "735  92  6  8\n",
       "\n",
       "[736 rows x 3 columns]"
      ]
     },
     "execution_count": 7,
     "metadata": {},
     "output_type": "execute_result"
    }
   ],
   "source": [
    "dfs['q_2']"
   ]
  },
  {
   "cell_type": "markdown",
   "metadata": {},
   "source": [
    "We define a simple function to visualize these solutions:"
   ]
  },
  {
   "cell_type": "code",
   "execution_count": 8,
   "metadata": {},
   "outputs": [],
   "source": [
    "# Turn a PW into a n x n numpy array where the queens are marked with 1 and rest with 0\n",
    "def get_board_from_df(df):\n",
    "    board = np.zeros((len(df), len(df)))\n",
    "    for i, row in df.iterrows():\n",
    "        x = int(row['x1']) - 1\n",
    "        y = int(row['x2']) - 1\n",
    "        board[x,y] = 1\n",
    "    return board"
   ]
  },
  {
   "cell_type": "code",
   "execution_count": 9,
   "metadata": {},
   "outputs": [],
   "source": [
    "# Simple visualization for a PW as a N-queens setting\n",
    "def visualize_nqueens_solution(dfs, pw_id):\n",
    "    df = dfs['q_2']\n",
    "    df = df[df['pw'] == pw_id]\n",
    "    board = get_board_from_df(df)\n",
    "    # ax = plt.matshow(board)\n",
    "    plt.pcolormesh(board, edgecolors='k', linewidth=3)\n",
    "    ax = plt.gca()\n",
    "    ax.set_aspect('equal')\n",
    "    ax.axis('off')\n",
    "    return ax"
   ]
  },
  {
   "cell_type": "markdown",
   "metadata": {},
   "source": [
    "Testing the get_board_from_df function:"
   ]
  },
  {
   "cell_type": "code",
   "execution_count": 10,
   "metadata": {},
   "outputs": [
    {
     "data": {
      "text/plain": [
       "array([[0., 0., 1., 0., 0., 0., 0., 0.],\n",
       "       [0., 0., 0., 0., 1., 0., 0., 0.],\n",
       "       [0., 1., 0., 0., 0., 0., 0., 0.],\n",
       "       [0., 0., 0., 0., 0., 0., 0., 1.],\n",
       "       [1., 0., 0., 0., 0., 0., 0., 0.],\n",
       "       [0., 0., 0., 0., 0., 0., 1., 0.],\n",
       "       [0., 0., 0., 1., 0., 0., 0., 0.],\n",
       "       [0., 0., 0., 0., 0., 1., 0., 0.]])"
      ]
     },
     "execution_count": 10,
     "metadata": {},
     "output_type": "execute_result"
    }
   ],
   "source": [
    "board = get_board_from_df(dfs['q_2'][dfs['q_2']['pw'] == 1])\n",
    "board"
   ]
  },
  {
   "cell_type": "markdown",
   "metadata": {},
   "source": [
    "An advantage of using Python and specifically numpy is that we can perform operations such as flips, reflections and rotations very easily."
   ]
  },
  {
   "cell_type": "code",
   "execution_count": 11,
   "metadata": {},
   "outputs": [
    {
     "data": {
      "text/plain": [
       "array([[0., 0., 0., 1., 0., 0., 0., 0.],\n",
       "       [0., 0., 0., 0., 0., 1., 0., 0.],\n",
       "       [0., 0., 0., 0., 0., 0., 0., 1.],\n",
       "       [0., 1., 0., 0., 0., 0., 0., 0.],\n",
       "       [0., 0., 0., 0., 0., 0., 1., 0.],\n",
       "       [1., 0., 0., 0., 0., 0., 0., 0.],\n",
       "       [0., 0., 1., 0., 0., 0., 0., 0.],\n",
       "       [0., 0., 0., 0., 1., 0., 0., 0.]])"
      ]
     },
     "execution_count": 11,
     "metadata": {},
     "output_type": "execute_result"
    }
   ],
   "source": [
    "np.rot90(board, k=1)"
   ]
  },
  {
   "cell_type": "code",
   "execution_count": 12,
   "metadata": {},
   "outputs": [
    {
     "data": {
      "text/plain": [
       "array([[0., 0., 0., 0., 0., 1., 0., 0.],\n",
       "       [0., 0., 0., 1., 0., 0., 0., 0.],\n",
       "       [0., 0., 0., 0., 0., 0., 1., 0.],\n",
       "       [1., 0., 0., 0., 0., 0., 0., 0.],\n",
       "       [0., 0., 0., 0., 0., 0., 0., 1.],\n",
       "       [0., 1., 0., 0., 0., 0., 0., 0.],\n",
       "       [0., 0., 0., 0., 1., 0., 0., 0.],\n",
       "       [0., 0., 1., 0., 0., 0., 0., 0.]])"
      ]
     },
     "execution_count": 12,
     "metadata": {},
     "output_type": "execute_result"
    }
   ],
   "source": [
    "np.flip(board, 1)"
   ]
  },
  {
   "cell_type": "markdown",
   "metadata": {},
   "source": [
    "### Visualize Solutions"
   ]
  },
  {
   "cell_type": "code",
   "execution_count": 13,
   "metadata": {},
   "outputs": [
    {
     "data": {
      "image/png": "[encoded data removed]",
      "text/plain": [
       "<Figure size 432x288 with 1 Axes>"
      ]
     },
     "metadata": {
      "needs_background": "light"
     },
     "output_type": "display_data"
    }
   ],
   "source": [
    "_ = visualize_nqueens_solution(dfs, 1)"
   ]
  },
  {
   "cell_type": "code",
   "execution_count": 14,
   "metadata": {},
   "outputs": [
    {
     "data": {
      "image/png": "[encoded data removed]",
      "text/plain": [
       "<Figure size 432x288 with 1 Axes>"
      ]
     },
     "metadata": {
      "needs_background": "light"
     },
     "output_type": "display_data"
    }
   ],
   "source": [
    "_ = visualize_nqueens_solution(dfs, 91)"
   ]
  },
  {
   "cell_type": "code",
   "execution_count": 15,
   "metadata": {},
   "outputs": [
    {
     "data": {
      "image/png": "[encoded data removed]",
      "text/plain": [
       "<Figure size 432x288 with 1 Axes>"
      ]
     },
     "metadata": {
      "needs_background": "light"
     },
     "output_type": "display_data"
    }
   ],
   "source": [
    "_ = visualize_nqueens_solution(dfs, 87)"
   ]
  },
  {
   "cell_type": "code",
   "execution_count": 16,
   "metadata": {},
   "outputs": [
    {
     "data": {
      "image/png": "[encoded data removed]",
      "text/plain": [
       "<Figure size 432x288 with 1 Axes>"
      ]
     },
     "metadata": {
      "needs_background": "light"
     },
     "output_type": "display_data"
    }
   ],
   "source": [
    "_ = visualize_nqueens_solution(dfs, 80)"
   ]
  },
  {
   "cell_type": "markdown",
   "metadata": {},
   "source": [
    "### Finding Principal Solutions\n",
    "\n",
    "We know that many of the solutions above are \"equivalent\" in that they can be achieved by reflections/rotations of other solutions. We can, in PWE-style, define distance functions that can detect these equivalences and help us find the principal solutions."
   ]
  },
  {
   "cell_type": "code",
   "execution_count": 17,
   "metadata": {},
   "outputs": [],
   "source": [
    "def nqueens_distance(dfs, pw_id_1, pw_id_2):\n",
    "    df = dfs['q_2']\n",
    "    pw1 = df[df['pw'] == pw_id_1]\n",
    "    pw2 = df[df['pw'] == pw_id_2]\n",
    "    board1 = get_board_from_df(pw1)\n",
    "    board2 = get_board_from_df(pw2)\n",
    "    \n",
    "    are_same = False\n",
    "\n",
    "    temp0 = board1\n",
    "    temp1 = np.flip(temp0, 0)\n",
    "    temp2 = np.flip(temp0, 1)\n",
    "    \n",
    "    if (temp0 == board2).all() or (temp1 == board2).all() or (temp2 == board2).all():\n",
    "        return 0\n",
    "    \n",
    "    temp0 = np.rot90(board1, k=1)\n",
    "    temp1 = np.flip(temp0, 0)\n",
    "    temp2 = np.flip(temp0, 1)\n",
    "    \n",
    "    if (temp0 == board2).all() or (temp1 == board2).all() or (temp2 == board2).all():\n",
    "        return 0\n",
    "    \n",
    "    temp0 = np.rot90(board1, k=2)\n",
    "    temp1 = np.flip(temp0, 0)\n",
    "    temp2 = np.flip(temp0, 1)\n",
    "    \n",
    "    if (temp0 == board2).all() or (temp1 == board2).all() or (temp2 == board2).all():\n",
    "        return 0\n",
    "    \n",
    "    temp0 = np.rot90(board1, k=-1) # https://docs.scipy.org/doc/numpy/reference/generated/numpy.rot90.html\n",
    "    temp1 = np.flip(temp0, 0)      # https://docs.scipy.org/doc/numpy/reference/generated/numpy.flip.html\n",
    "    temp2 = np.flip(temp0, 1)\n",
    "    \n",
    "    if (temp0 == board2).all() or (temp1 == board2).all() or (temp2 == board2).all():\n",
    "        return 0\n",
    "    \n",
    "    return 1"
   ]
  },
  {
   "cell_type": "markdown",
   "metadata": {},
   "source": [
    "A simple and efficient grouping function:"
   ]
  },
  {
   "cell_type": "code",
   "execution_count": 18,
   "metadata": {},
   "outputs": [],
   "source": [
    "def get_equivalent_sets(objs, match_func):\n",
    "    \n",
    "    sets = []\n",
    "    curr_iter_set = list(range(len(objs)))\n",
    "    while len(curr_iter_set) > 0:\n",
    "        next_iter_set = []\n",
    "        seed = curr_iter_set[0]\n",
    "        curr_set = {objs[seed]}\n",
    "        for c in curr_iter_set[1:]:\n",
    "            if match_func(dfs, objs[seed].pw_id, objs[c].pw_id) == 0:\n",
    "                curr_set.add(objs[c])\n",
    "            else:\n",
    "                next_iter_set.append(c)\n",
    "        sets.append(curr_set)\n",
    "        curr_iter_set = next_iter_set\n",
    "    return sets"
   ]
  },
  {
   "cell_type": "markdown",
   "metadata": {},
   "source": [
    "##### We can now use the distance function defined above to find the sets of equivalent solutions and hence find the principal solutions of the 8-Queens Puzzle."
   ]
  },
  {
   "cell_type": "code",
   "execution_count": 19,
   "metadata": {},
   "outputs": [],
   "source": [
    "sets = get_equivalent_sets(pws, nqueens_distance)"
   ]
  },
  {
   "cell_type": "code",
   "execution_count": 20,
   "metadata": {},
   "outputs": [
    {
     "name": "stdout",
     "output_type": "stream",
     "text": [
      "{1, 2, 3, 4}\n",
      "{35, 5, 6, 11, 45, 15, 19, 57}\n",
      "{38, 7, 12, 16, 17, 49, 27, 29}\n",
      "{8, 41, 43, 18, 53, 22, 60, 30}\n",
      "{39, 40, 9, 13, 50, 20, 59, 28}\n",
      "{10, 42, 44, 14, 21, 55, 58, 31}\n",
      "{33, 34, 37, 47, 51, 54, 23, 26}\n",
      "{32, 36, 46, 48, 52, 24, 25, 56}\n",
      "{65, 73, 74, 78, 84, 88, 92, 61}\n",
      "{67, 70, 75, 77, 82, 87, 91, 62}\n",
      "{64, 71, 76, 79, 83, 85, 90, 63}\n",
      "{66, 68, 69, 72, 80, 81, 86, 89}\n"
     ]
    }
   ],
   "source": [
    "for s in sets:\n",
    "    print({pw.pw_id for pw in s})"
   ]
  },
  {
   "cell_type": "code",
   "execution_count": 21,
   "metadata": {},
   "outputs": [
    {
     "data": {
      "text/plain": [
       "12"
      ]
     },
     "execution_count": 21,
     "metadata": {},
     "output_type": "execute_result"
    }
   ],
   "source": [
    "# Number of Principal Solutions\n",
    "len(sets)"
   ]
  },
  {
   "cell_type": "markdown",
   "metadata": {},
   "source": [
    "As we can see, we get 12 Principal solutions, as expected.\n",
    "\n",
    "We can visualize these 12 principal solutions as shown below:"
   ]
  },
  {
   "cell_type": "code",
   "execution_count": 22,
   "metadata": {
    "scrolled": true
   },
   "outputs": [
    {
     "name": "stdout",
     "output_type": "stream",
     "text": [
      "----------------------------------------\n"
     ]
    },
    {
     "data": {
      "image/png": "[encoded data removed]",
      "text/plain": [
       "<Figure size 432x288 with 1 Axes>"
      ]
     },
     "metadata": {
      "needs_background": "light"
     },
     "output_type": "display_data"
    },
    {
     "name": "stdout",
     "output_type": "stream",
     "text": [
      "----------------------------------------\n",
      "----------------------------------------\n"
     ]
    },
    {
     "data": {
      "image/png": "[encoded data removed]",
      "text/plain": [
       "<Figure size 432x288 with 1 Axes>"
      ]
     },
     "metadata": {
      "needs_background": "light"
     },
     "output_type": "display_data"
    },
    {
     "name": "stdout",
     "output_type": "stream",
     "text": [
      "----------------------------------------\n",
      "----------------------------------------\n"
     ]
    },
    {
     "data": {
      "image/png": "[encoded data removed]",
      "text/plain": [
       "<Figure size 432x288 with 1 Axes>"
      ]
     },
     "metadata": {
      "needs_background": "light"
     },
     "output_type": "display_data"
    },
    {
     "name": "stdout",
     "output_type": "stream",
     "text": [
      "----------------------------------------\n",
      "----------------------------------------\n"
     ]
    },
    {
     "data": {
      "image/png": "[encoded data removed]",
      "text/plain": [
       "<Figure size 432x288 with 1 Axes>"
      ]
     },
     "metadata": {
      "needs_background": "light"
     },
     "output_type": "display_data"
    },
    {
     "name": "stdout",
     "output_type": "stream",
     "text": [
      "----------------------------------------\n",
      "----------------------------------------\n"
     ]
    },
    {
     "data": {
      "image/png": "[encoded data removed]",
      "text/plain": [
       "<Figure size 432x288 with 1 Axes>"
      ]
     },
     "metadata": {
      "needs_background": "light"
     },
     "output_type": "display_data"
    },
    {
     "name": "stdout",
     "output_type": "stream",
     "text": [
      "----------------------------------------\n",
      "----------------------------------------\n"
     ]
    },
    {
     "data": {
      "image/png": "[encoded data removed]",
      "text/plain": [
       "<Figure size 432x288 with 1 Axes>"
      ]
     },
     "metadata": {
      "needs_background": "light"
     },
     "output_type": "display_data"
    },
    {
     "name": "stdout",
     "output_type": "stream",
     "text": [
      "----------------------------------------\n",
      "----------------------------------------\n"
     ]
    },
    {
     "data": {
      "image/png": "[encoded data removed]",
      "text/plain": [
       "<Figure size 432x288 with 1 Axes>"
      ]
     },
     "metadata": {
      "needs_background": "light"
     },
     "output_type": "display_data"
    },
    {
     "name": "stdout",
     "output_type": "stream",
     "text": [
      "----------------------------------------\n",
      "----------------------------------------\n"
     ]
    },
    {
     "data": {
      "image/png": "[encoded data removed]",
      "text/plain": [
       "<Figure size 432x288 with 1 Axes>"
      ]
     },
     "metadata": {
      "needs_background": "light"
     },
     "output_type": "display_data"
    },
    {
     "name": "stdout",
     "output_type": "stream",
     "text": [
      "----------------------------------------\n",
      "----------------------------------------\n"
     ]
    },
    {
     "data": {
      "image/png": "[encoded data removed]",
      "text/plain": [
       "<Figure size 432x288 with 1 Axes>"
      ]
     },
     "metadata": {
      "needs_background": "light"
     },
     "output_type": "display_data"
    },
    {
     "name": "stdout",
     "output_type": "stream",
     "text": [
      "----------------------------------------\n",
      "----------------------------------------\n"
     ]
    },
    {
     "data": {
      "image/png": "[encoded data removed]",
      "text/plain": [
       "<Figure size 432x288 with 1 Axes>"
      ]
     },
     "metadata": {
      "needs_background": "light"
     },
     "output_type": "display_data"
    },
    {
     "name": "stdout",
     "output_type": "stream",
     "text": [
      "----------------------------------------\n",
      "----------------------------------------\n"
     ]
    },
    {
     "data": {
      "image/png": "[encoded data removed]",
      "text/plain": [
       "<Figure size 432x288 with 1 Axes>"
      ]
     },
     "metadata": {
      "needs_background": "light"
     },
     "output_type": "display_data"
    },
    {
     "name": "stdout",
     "output_type": "stream",
     "text": [
      "----------------------------------------\n",
      "----------------------------------------\n"
     ]
    },
    {
     "data": {
      "image/png": "[encoded data removed]",
      "text/plain": [
       "<Figure size 432x288 with 1 Axes>"
      ]
     },
     "metadata": {
      "needs_background": "light"
     },
     "output_type": "display_data"
    },
    {
     "name": "stdout",
     "output_type": "stream",
     "text": [
      "----------------------------------------\n"
     ]
    }
   ],
   "source": [
    "# Principal Solutions\n",
    "for i, s in enumerate(sets):\n",
    "    print(\"-\"*40)\n",
    "    # print(\"Principal Solution {}:\".format(i+1))\n",
    "    for pw in s:\n",
    "        ax = visualize_nqueens_solution(dfs, pw.pw_id)\n",
    "        ax.set_title(\"Principal Solution {}\".format(i+1))\n",
    "        # ax.figure.savefig('Principal-Solution-{}.pdf'.format(i+1))\n",
    "        # ax.figure.savefig('Principal-Solution-{}.png'.format(i+1))\n",
    "        plt.show()\n",
    "        break\n",
    "    print(\"-\"*40)"
   ]
  },
  {
   "cell_type": "code",
   "execution_count": null,
   "metadata": {},
   "outputs": [],
   "source": []
  }
 ],
 "metadata": {
  "kernelspec": {
   "display_name": "Python 3",
   "language": "python",
   "name": "python3"
  },
  "language_info": {
   "codemirror_mode": {
    "name": "ipython",
    "version": 3
   },
   "file_extension": ".py",
   "mimetype": "text/x-python",
   "name": "python",
   "nbconvert_exporter": "python",
   "pygments_lexer": "ipython3",
   "version": "3.6.8"
  }
 },
 "nbformat": 4,
 "nbformat_minor": 2
}
