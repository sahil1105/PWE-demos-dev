{
 "cells": [
  {
   "cell_type": "markdown",
   "metadata": {},
   "source": [
    "# Which One Doesn't Belong (WODB)"
   ]
  },
  {
   "cell_type": "markdown",
   "metadata": {},
   "source": [
    "<img src=\"wodb-simple-3.png\" alt=\"WODB\" style=\"width: 200px;\"/>\n",
    "Which one of the above stands out?\n",
    "\n",
    "Is it the one with unique number of sides (shape) or the one with the smaller size?\n",
    "\n",
    "In general, the answer depends on what we can observe and more importantly what we care about."
   ]
  },
  {
   "cell_type": "markdown",
   "metadata": {},
   "source": [
    "#### Importing PWE (Possible Worlds Explorer = ASP + Python)"
   ]
  },
  {
   "cell_type": "code",
   "execution_count": 1,
   "metadata": {},
   "outputs": [],
   "source": [
    "from PW_explorer.load_worlds import load_worlds\n",
    "from PW_explorer.run_clingo import run_clingo\n",
    "from PW_explorer.helper import pw_slicer, rel_slicer"
   ]
  },
  {
   "cell_type": "code",
   "execution_count": 2,
   "metadata": {},
   "outputs": [
    {
     "data": {
      "application/javascript": [
       "IPython.CodeCell.options_default.highlight_modes['prolog'] = {'reg':[/^%%(clingo|dlv)/]};"
      ]
     },
     "metadata": {},
     "output_type": "display_data"
    }
   ],
   "source": [
    "%load_ext PWE_NB_Extension"
   ]
  },
  {
   "cell_type": "markdown",
   "metadata": {},
   "source": [
    "#### Visualization Functions\n",
    "Here we define some visualization functions and tools to aid us in our analysis."
   ]
  },
  {
   "cell_type": "code",
   "execution_count": 3,
   "metadata": {},
   "outputs": [],
   "source": [
    "import networkx as nx"
   ]
  },
  {
   "cell_type": "code",
   "execution_count": 4,
   "metadata": {},
   "outputs": [],
   "source": [
    "import nxpd\n",
    "from nxpd import draw\n",
    "from nxpd import nxpdParams\n",
    "nxpdParams['show'] = 'ipynb'"
   ]
  },
  {
   "cell_type": "code",
   "execution_count": 5,
   "metadata": {},
   "outputs": [],
   "source": [
    "class WODBVizLib:\n",
    "    \n",
    "    GRAPHVIZ_PROPERTY_REDIRECTION_DICT = {\n",
    "        'color': 'fillcolor',\n",
    "        'size': ['height', 'width'],\n",
    "    }\n",
    "    \n",
    "    GRAPHVIZ_PROPERTY_VALUE_REDIRECTION_DICT = {\n",
    "        'shape': {\n",
    "            'square': 'box',\n",
    "        },\n",
    "        'height': {\n",
    "            'large': 2.5,\n",
    "            'small': 1,\n",
    "        },\n",
    "        'width': {\n",
    "            'large': 2.5,\n",
    "            'small': 1,\n",
    "        },\n",
    "        'style': {\n",
    "            'bold': '\"filled,bold\"',\n",
    "            'thin': 'filled'\n",
    "        }\n",
    "    }\n",
    "    \n",
    "    @staticmethod\n",
    "    def create_figure(df, property_name_column='property_name', \n",
    "                      property_value_column='property_value', \n",
    "                      figID_column='figure_ID', figID=None):\n",
    "        \n",
    "        # If multiple figures are in the dataframe, then clip to retain only the required figure\n",
    "        if figID is not None:\n",
    "            df = df[df[figID_column] == figID]\n",
    "        else:\n",
    "            if len(df) <= 0:\n",
    "                return None\n",
    "            figID = df.iloc[0][figID_column]\n",
    "        \n",
    "        G = nx.Graph()\n",
    "        G.add_node(figID)\n",
    "        \n",
    "        for i, row in df.iterrows():\n",
    "            prop_name = row[property_name_column]\n",
    "            prop_value = row[property_value_column]\n",
    "            \n",
    "            if prop_name in WODBVizLib.GRAPHVIZ_PROPERTY_REDIRECTION_DICT:\n",
    "                prop_name = WODBVizLib.GRAPHVIZ_PROPERTY_REDIRECTION_DICT[prop_name]\n",
    "            \n",
    "            if not isinstance(prop_name, list):\n",
    "                prop_name = [prop_name]\n",
    "            \n",
    "            for p in prop_name:\n",
    "                if (p in WODBVizLib.GRAPHVIZ_PROPERTY_VALUE_REDIRECTION_DICT) \\\n",
    "                and (prop_value in WODBVizLib.GRAPHVIZ_PROPERTY_VALUE_REDIRECTION_DICT[p]):\n",
    "                    prop_value = WODBVizLib.GRAPHVIZ_PROPERTY_VALUE_REDIRECTION_DICT[p][prop_value]\n",
    "            \n",
    "                G.nodes[figID][p] = prop_value\n",
    "        \n",
    "        return G"
   ]
  },
  {
   "cell_type": "code",
   "execution_count": 6,
   "metadata": {},
   "outputs": [],
   "source": [
    "def visualize_figures(propDB_df, property_name_column='property_name', \n",
    "                      property_value_column='property_value', \n",
    "                      figID_column='figure_ID', figIDs_to_visualize=None, graph_label=\" \"):\n",
    "    \n",
    "    if figIDs_to_visualize is not None:\n",
    "        propDB_df = propDB_df[propDB_df[figID_column].isin(figIDs_to_visualize)]\n",
    "    \n",
    "    propDB_grouped_by_figID = propDB_df.groupby(figID_column)\n",
    "    figureIDs = list(propDB_grouped_by_figID.groups.keys())\n",
    "    \n",
    "    gs = {}\n",
    "    for figID in figureIDs:\n",
    "        g = WODBVizLib.create_figure(propDB_grouped_by_figID.get_group(figID), figID=figID, \n",
    "                                     property_name_column=property_name_column, \n",
    "                                     property_value_column=property_value_column, \n",
    "                                     figID_column=figID_column)\n",
    "        gs[figID] = g\n",
    "    \n",
    "    G = nx.union_all(gs.values())\n",
    "    G.graph['label'] = graph_label\n",
    "    \n",
    "    return G\n",
    "    \n",
    "\n",
    "def visualize_wodb_query_instance(propDB_df, soln_df, \n",
    "                                  property_name_column='property_name', \n",
    "                                  property_value_column='property_value', \n",
    "                                  figID_column='figure_ID', soln_figID_colum='x1',\n",
    "                                  graph_label=\" \"):\n",
    "    \n",
    "    G = visualize_figures(propDB_df, property_name_column='property_name', \n",
    "                          property_value_column='property_value', \n",
    "                          figID_column='figure_ID', graph_label=graph_label)\n",
    "    \n",
    "    figIDs_soln = [row[soln_figID_colum] for i, row in soln_df.iterrows()]\n",
    "    \n",
    "    for figID in figIDs_soln:\n",
    "        G.nodes[figID]['label'] = \"{}\\n(TODB)\".format(figID)\n",
    "    G.graph['forcelabels'] = True\n",
    "    \n",
    "    return G"
   ]
  },
  {
   "cell_type": "code",
   "execution_count": 7,
   "metadata": {},
   "outputs": [],
   "source": [
    "def visualize_figure_from_asp_rules(db_asp_rules, db_rel_name='propDB', db_rel_arity=3, \n",
    "                                    property_name_column='property_name', \n",
    "                                    property_value_column='property_value', \n",
    "                                    figID_column='figure_ID', figIDs_to_visualize=None):\n",
    "    \n",
    "    asp_output, md = run_clingo(db_asp_rules)\n",
    "    pws_rels_dfs, rel_schemas, pw_objects = load_worlds(asp_output, meta_data=md, silent=True)\n",
    "    propDB_df_rel_name = \"{}_{}\".format(db_rel_name, str(db_rel_arity))\n",
    "    propDB_df = pws_rels_dfs[propDB_df_rel_name]\n",
    "    # Assumes that running the reasoner will only produce one PW (or that atleast all of them have the same DB)\n",
    "    propDB_df = propDB_df[propDB_df['pw'] == 1]\n",
    "    \n",
    "    return visualize_figures(propDB_df, property_name_column=property_name_column, \n",
    "                             property_value_column=property_value_column, \n",
    "                             figID_column=figID_column, \n",
    "                             figIDs_to_visualize=figIDs_to_visualize)"
   ]
  },
  {
   "cell_type": "markdown",
   "metadata": {},
   "source": [
    "### Property Facts Database\n",
    "\n",
    "One way to formalize our thinking of the objects we want to analyze is to represent their properties in a DB."
   ]
  },
  {
   "cell_type": "code",
   "execution_count": 8,
   "metadata": {},
   "outputs": [],
   "source": [
    "%%clingo --donot-display_input --save_meta_data_to md -lci database_schema --donot-run\n",
    "\n",
    "% schema propDB(figure_ID, property_name, property_value)\n",
    "\n",
    "% schema prop(property_name)\n",
    "prop(X) :- propDB(_,X,_)."
   ]
  },
  {
   "cell_type": "code",
   "execution_count": 9,
   "metadata": {},
   "outputs": [],
   "source": [
    "%%clingo --donot-display_input -lci fig1 --donot-run\n",
    "\n",
    "propDB(f1,style,bold).\n",
    "propDB(f1,color,white).\n",
    "propDB(f1,size,large).\n",
    "propDB(f1,shape,triangle)."
   ]
  },
  {
   "cell_type": "markdown",
   "metadata": {},
   "source": [
    "We can visualize the figure defined in the cell above using the WODBVizLib defined in the Visualization Functions Section"
   ]
  },
  {
   "cell_type": "code",
   "execution_count": 10,
   "metadata": {},
   "outputs": [
    {
     "data": {
      "image/png": "[encoded data removed]",
      "text/plain": [
       "<IPython.core.display.Image object>"
      ]
     },
     "execution_count": 10,
     "metadata": {},
     "output_type": "execute_result"
    }
   ],
   "source": [
    "draw(visualize_figure_from_asp_rules(\"\\n\".join([database_schema,fig1])))"
   ]
  },
  {
   "cell_type": "code",
   "execution_count": 11,
   "metadata": {},
   "outputs": [],
   "source": [
    "%%clingo --donot-display_input -lci fig2 --donot-run\n",
    "\n",
    "propDB(f2,style,bold).\n",
    "propDB(f2,color,white).\n",
    "propDB(f2,size,large).\n",
    "propDB(f2,shape,square)."
   ]
  },
  {
   "cell_type": "code",
   "execution_count": 12,
   "metadata": {},
   "outputs": [
    {
     "data": {
      "image/png": "[encoded data removed]",
      "text/plain": [
       "<IPython.core.display.Image object>"
      ]
     },
     "execution_count": 12,
     "metadata": {},
     "output_type": "execute_result"
    }
   ],
   "source": [
    "draw(visualize_figure_from_asp_rules(\"\\n\".join([database_schema,fig2])))"
   ]
  },
  {
   "cell_type": "code",
   "execution_count": 13,
   "metadata": {},
   "outputs": [],
   "source": [
    "%%clingo --donot-display_input -lci fig3 --donot-run\n",
    "\n",
    "propDB(f3,style,bold).\n",
    "propDB(f3,color,white).\n",
    "propDB(f3,size,large).\n",
    "propDB(f3,shape,square)."
   ]
  },
  {
   "cell_type": "code",
   "execution_count": 14,
   "metadata": {},
   "outputs": [
    {
     "data": {
      "image/png": "[encoded data removed]",
      "text/plain": [
       "<IPython.core.display.Image object>"
      ]
     },
     "execution_count": 14,
     "metadata": {},
     "output_type": "execute_result"
    }
   ],
   "source": [
    "draw(visualize_figure_from_asp_rules(\"\\n\".join([database_schema,fig3])))"
   ]
  },
  {
   "cell_type": "code",
   "execution_count": 15,
   "metadata": {},
   "outputs": [],
   "source": [
    "%%clingo --donot-display_input -lci fig4 --donot-run\n",
    "\n",
    "propDB(f4,style,bold).\n",
    "propDB(f4,color,white).\n",
    "propDB(f4,size,small).\n",
    "propDB(f4,shape,square)."
   ]
  },
  {
   "cell_type": "code",
   "execution_count": 16,
   "metadata": {},
   "outputs": [
    {
     "data": {
      "image/png": "[encoded data removed]",
      "text/plain": [
       "<IPython.core.display.Image object>"
      ]
     },
     "execution_count": 16,
     "metadata": {},
     "output_type": "execute_result"
    }
   ],
   "source": [
    "draw(visualize_figure_from_asp_rules(\"\\n\".join([database_schema,fig4])))"
   ]
  },
  {
   "cell_type": "markdown",
   "metadata": {},
   "source": [
    "##### And here's all of them"
   ]
  },
  {
   "cell_type": "code",
   "execution_count": 17,
   "metadata": {},
   "outputs": [
    {
     "data": {
      "image/png": "[encoded data removed]",
      "text/plain": [
       "<IPython.core.display.Image object>"
      ]
     },
     "metadata": {},
     "output_type": "display_data"
    },
    {
     "data": {
      "image/png": "[encoded data removed]",
      "text/plain": [
       "<IPython.core.display.Image object>"
      ]
     },
     "metadata": {},
     "output_type": "display_data"
    }
   ],
   "source": [
    "display(draw(visualize_figure_from_asp_rules(\"\\n\".join([database_schema,fig1,fig2]))))\n",
    "display(draw(visualize_figure_from_asp_rules(\"\\n\".join([database_schema,fig3,fig4]))))"
   ]
  },
  {
   "cell_type": "markdown",
   "metadata": {},
   "source": [
    "### Defining Queries to choose TODB (The One that Doesn't Belong)\n",
    "\n",
    "One formal way to analyze and look for WODB is to use queries, more specifically Datalog/ASP queries.\n",
    "\n",
    "We explore some such possible queries below."
   ]
  },
  {
   "cell_type": "markdown",
   "metadata": {},
   "source": [
    "##### Query: Only one to have a property"
   ]
  },
  {
   "cell_type": "code",
   "execution_count": 18,
   "metadata": {},
   "outputs": [],
   "source": [
    "%%clingo -lci unique_property_query --donot-display_input --donot-run\n",
    "\n",
    "% figure F has some value for property P\n",
    "has_prop(F,P) :- propDB(F,P,_).\n",
    "\n",
    "% there exists another figure F1 such that both F and F1 have some value for property P\n",
    "shared_prop(F,P) :- has_prop(F,P), has_prop(F1, P), F != F1.\n",
    "\n",
    "% choose exactly 1 property to focus on\n",
    "1 {unique_prop(P) : prop(P)} 1.\n",
    "\n",
    "% figure F is special wrt property P i.e. no other figure has property P\n",
    "soln(F,P) :- unique_prop(P), has_prop(F,P), not shared_prop(F,P).\n",
    "\n",
    "% figure F is special wrt some property\n",
    "soln(F) :- soln(F,_).\n",
    "\n",
    "soln_count(N) :-  #count {F: soln(F)} = N.\n",
    ":- soln_count(N), N <= 0."
   ]
  },
  {
   "cell_type": "code",
   "execution_count": 19,
   "metadata": {},
   "outputs": [
    {
     "name": "stdout",
     "output_type": "stream",
     "text": [
      "Output:\n"
     ]
    },
    {
     "data": {
      "text/html": [
       "\n",
       "        <style>\n",
       "        .highlight .hll { background-color: #ffffcc }\n",
       ".highlight  { background: #f8f8f8; }\n",
       ".highlight .c { color: #408080; font-style: italic } /* Comment */\n",
       ".highlight .err { border: 1px solid #FF0000 } /* Error */\n",
       ".highlight .k { color: #008000; font-weight: bold } /* Keyword */\n",
       ".highlight .o { color: #666666 } /* Operator */\n",
       ".highlight .ch { color: #408080; font-style: italic } /* Comment.Hashbang */\n",
       ".highlight .cm { color: #408080; font-style: italic } /* Comment.Multiline */\n",
       ".highlight .cp { color: #BC7A00 } /* Comment.Preproc */\n",
       ".highlight .cpf { color: #408080; font-style: italic } /* Comment.PreprocFile */\n",
       ".highlight .c1 { color: #408080; font-style: italic } /* Comment.Single */\n",
       ".highlight .cs { color: #408080; font-style: italic } /* Comment.Special */\n",
       ".highlight .gd { color: #A00000 } /* Generic.Deleted */\n",
       ".highlight .ge { font-style: italic } /* Generic.Emph */\n",
       ".highlight .gr { color: #FF0000 } /* Generic.Error */\n",
       ".highlight .gh { color: #000080; font-weight: bold } /* Generic.Heading */\n",
       ".highlight .gi { color: #00A000 } /* Generic.Inserted */\n",
       ".highlight .go { color: #888888 } /* Generic.Output */\n",
       ".highlight .gp { color: #000080; font-weight: bold } /* Generic.Prompt */\n",
       ".highlight .gs { font-weight: bold } /* Generic.Strong */\n",
       ".highlight .gu { color: #800080; font-weight: bold } /* Generic.Subheading */\n",
       ".highlight .gt { color: #0044DD } /* Generic.Traceback */\n",
       ".highlight .kc { color: #008000; font-weight: bold } /* Keyword.Constant */\n",
       ".highlight .kd { color: #008000; font-weight: bold } /* Keyword.Declaration */\n",
       ".highlight .kn { color: #008000; font-weight: bold } /* Keyword.Namespace */\n",
       ".highlight .kp { color: #008000 } /* Keyword.Pseudo */\n",
       ".highlight .kr { color: #008000; font-weight: bold } /* Keyword.Reserved */\n",
       ".highlight .kt { color: #B00040 } /* Keyword.Type */\n",
       ".highlight .m { color: #666666 } /* Literal.Number */\n",
       ".highlight .s { color: #BA2121 } /* Literal.String */\n",
       ".highlight .na { color: #7D9029 } /* Name.Attribute */\n",
       ".highlight .nb { color: #008000 } /* Name.Builtin */\n",
       ".highlight .nc { color: #0000FF; font-weight: bold } /* Name.Class */\n",
       ".highlight .no { color: #880000 } /* Name.Constant */\n",
       ".highlight .nd { color: #AA22FF } /* Name.Decorator */\n",
       ".highlight .ni { color: #999999; font-weight: bold } /* Name.Entity */\n",
       ".highlight .ne { color: #D2413A; font-weight: bold } /* Name.Exception */\n",
       ".highlight .nf { color: #0000FF } /* Name.Function */\n",
       ".highlight .nl { color: #A0A000 } /* Name.Label */\n",
       ".highlight .nn { color: #0000FF; font-weight: bold } /* Name.Namespace */\n",
       ".highlight .nt { color: #008000; font-weight: bold } /* Name.Tag */\n",
       ".highlight .nv { color: #19177C } /* Name.Variable */\n",
       ".highlight .ow { color: #AA22FF; font-weight: bold } /* Operator.Word */\n",
       ".highlight .w { color: #bbbbbb } /* Text.Whitespace */\n",
       ".highlight .mb { color: #666666 } /* Literal.Number.Bin */\n",
       ".highlight .mf { color: #666666 } /* Literal.Number.Float */\n",
       ".highlight .mh { color: #666666 } /* Literal.Number.Hex */\n",
       ".highlight .mi { color: #666666 } /* Literal.Number.Integer */\n",
       ".highlight .mo { color: #666666 } /* Literal.Number.Oct */\n",
       ".highlight .sa { color: #BA2121 } /* Literal.String.Affix */\n",
       ".highlight .sb { color: #BA2121 } /* Literal.String.Backtick */\n",
       ".highlight .sc { color: #BA2121 } /* Literal.String.Char */\n",
       ".highlight .dl { color: #BA2121 } /* Literal.String.Delimiter */\n",
       ".highlight .sd { color: #BA2121; font-style: italic } /* Literal.String.Doc */\n",
       ".highlight .s2 { color: #BA2121 } /* Literal.String.Double */\n",
       ".highlight .se { color: #BB6622; font-weight: bold } /* Literal.String.Escape */\n",
       ".highlight .sh { color: #BA2121 } /* Literal.String.Heredoc */\n",
       ".highlight .si { color: #BB6688; font-weight: bold } /* Literal.String.Interpol */\n",
       ".highlight .sx { color: #008000 } /* Literal.String.Other */\n",
       ".highlight .sr { color: #BB6688 } /* Literal.String.Regex */\n",
       ".highlight .s1 { color: #BA2121 } /* Literal.String.Single */\n",
       ".highlight .ss { color: #19177C } /* Literal.String.Symbol */\n",
       ".highlight .bp { color: #008000 } /* Name.Builtin.Pseudo */\n",
       ".highlight .fm { color: #0000FF } /* Name.Function.Magic */\n",
       ".highlight .vc { color: #19177C } /* Name.Variable.Class */\n",
       ".highlight .vg { color: #19177C } /* Name.Variable.Global */\n",
       ".highlight .vi { color: #19177C } /* Name.Variable.Instance */\n",
       ".highlight .vm { color: #19177C } /* Name.Variable.Magic */\n",
       ".highlight .il { color: #666666 } /* Literal.Number.Integer.Long */\n",
       "        </style>\n",
       "        "
      ],
      "text/plain": [
       "<IPython.core.display.HTML object>"
      ]
     },
     "metadata": {},
     "output_type": "display_data"
    },
    {
     "data": {
      "text/html": [
       "<div class=\"highlight\"><pre><span></span><span class=\"lineno\">1 </span><span class=\"nv\">UNSATISFIABLE</span>\n",
       "<span class=\"lineno\">2 </span>\n",
       "<span class=\"lineno\">3 </span><span class=\"nv\">Models</span>       <span class=\"s s-Atom\">:</span> <span class=\"mi\">0</span>\n",
       "<span class=\"lineno\">4 </span><span class=\"nv\">Calls</span>        <span class=\"s s-Atom\">:</span> <span class=\"mi\">1</span>\n",
       "<span class=\"lineno\">5 </span><span class=\"nv\">Time</span>         <span class=\"s s-Atom\">:</span> <span class=\"mf\">0.002</span><span class=\"nf\">s</span> <span class=\"p\">(</span><span class=\"nv\">Solving</span><span class=\"s s-Atom\">:</span> <span class=\"mf\">0.00</span><span class=\"s s-Atom\">s</span> <span class=\"mi\">1</span><span class=\"s s-Atom\">st</span> <span class=\"nv\">Model</span><span class=\"s s-Atom\">:</span> <span class=\"mf\">0.00</span><span class=\"s s-Atom\">s</span> <span class=\"nv\">Unsat</span><span class=\"s s-Atom\">:</span> <span class=\"mf\">0.00</span><span class=\"s s-Atom\">s</span><span class=\"p\">)</span>\n",
       "<span class=\"lineno\">6 </span><span class=\"nv\">CPU</span> <span class=\"nv\">Time</span>     <span class=\"s s-Atom\">:</span> <span class=\"mf\">0.002</span><span class=\"s s-Atom\">s</span>\n",
       "</pre></div>\n"
      ],
      "text/plain": [
       "'UNSATISFIABLE\\n\\nModels       : 0\\nCalls        : 1\\nTime         : 0.002s (Solving: 0.00s 1st Model: 0.00s Unsat: 0.00s)\\nCPU Time     : 0.002s'"
      ]
     },
     "metadata": {},
     "output_type": "display_data"
    }
   ],
   "source": [
    "%%clingo -l unique_property_query database_schema fig1 fig2 fig3 fig4 --donot-display_input\n",
    "\n",
    "#show soln/2.\n",
    "#show soln/1.\n",
    "#show soln_count/1.\n",
    "#show unique_prop/1."
   ]
  },
  {
   "cell_type": "code",
   "execution_count": 20,
   "metadata": {},
   "outputs": [],
   "source": [
    "%clingo -l unique_property_query database_schema fig1 fig2 fig3 fig4 --donot-display_input --donot-display_output -exp unique_prop_exp"
   ]
  },
  {
   "cell_type": "code",
   "execution_count": 21,
   "metadata": {},
   "outputs": [
    {
     "data": {
      "text/plain": [
       "dict_keys(['asp_rules', 'asp_soln', 'meta_data'])"
      ]
     },
     "execution_count": 21,
     "metadata": {},
     "output_type": "execute_result"
    }
   ],
   "source": [
    "unique_prop_exp.keys()"
   ]
  },
  {
   "cell_type": "code",
   "execution_count": 22,
   "metadata": {},
   "outputs": [
    {
     "name": "stdout",
     "output_type": "stream",
     "text": [
      "The problem is unsatisfiable\n",
      "Number of Models: 0\n"
     ]
    }
   ],
   "source": [
    "unique_prop_exp['pws_rels_dfs'], unique_prop_exp['rel_schemas'], unique_prop_exp['pw_objects'] \\\n",
    "= load_worlds(unique_prop_exp['asp_soln'], meta_data=unique_prop_exp['meta_data'])"
   ]
  },
  {
   "cell_type": "code",
   "execution_count": 23,
   "metadata": {},
   "outputs": [
    {
     "data": {
      "text/plain": [
       "dict_keys([])"
      ]
     },
     "execution_count": 23,
     "metadata": {},
     "output_type": "execute_result"
    }
   ],
   "source": [
    "unique_prop_exp['pws_rels_dfs'].keys()"
   ]
  },
  {
   "cell_type": "code",
   "execution_count": 24,
   "metadata": {},
   "outputs": [],
   "source": [
    "if 'soln_2' in unique_prop_exp['pws_rels_dfs']:\n",
    "    display(unique_prop_exp['pws_rels_dfs']['soln_2'])"
   ]
  },
  {
   "cell_type": "code",
   "execution_count": 25,
   "metadata": {},
   "outputs": [],
   "source": [
    "if len(unique_prop_exp['pw_objects']) > 0:\n",
    "    for i in range(1, len(unique_prop_exp['pw_objects'])+1):\n",
    "        pw_i_rels_dfs, _ = pw_slicer(unique_prop_exp['pws_rels_dfs'], None, [i])\n",
    "        reason_df = pw_i_rels_dfs['soln_2']\n",
    "        todb_reason = reason_df.iloc[0]['x2']\n",
    "        g = visualize_wodb_query_instance(pw_i_rels_dfs['propDB_3'], \n",
    "                                          pw_i_rels_dfs['soln_1'], \n",
    "                                          graph_label='PW-{}: {}'.format(str(i), todb_reason))\n",
    "        display(draw(g))"
   ]
  },
  {
   "cell_type": "markdown",
   "metadata": {},
   "source": [
    "Since all the figures have the same set of properties, we cannot make a distinction based on this query in this case."
   ]
  },
  {
   "cell_type": "markdown",
   "metadata": {},
   "source": [
    "##### Query: Only one to have a specific value V for property P"
   ]
  },
  {
   "cell_type": "code",
   "execution_count": 26,
   "metadata": {},
   "outputs": [],
   "source": [
    "%%clingo -lci unique_property_value_query --donot-display_input --donot-run\n",
    "\n",
    "% figure F and figure F1 both have the same value for their property P\n",
    "shared_prop(F,F1,P,V) :- propDB(F,P,V), propDB(F1,P,V), F != F1.\n",
    "\n",
    "% choose exactly 1 property to focus on\n",
    "1 {unique_prop(P) : prop(P)} 1.\n",
    "\n",
    "% figure F is unique with respect to property P \n",
    "% i.e. no other figure has value V for property P\n",
    "soln(F,P) :- unique_prop(P), propDB(F,P,_), not shared_prop(F,_,P,_).\n",
    "\n",
    "% figure F is special wrt some property-value pair\n",
    "soln(F) :- soln(F,_).\n",
    "\n",
    "soln_count(N) :-  #count {F: soln(F)} = N.\n",
    ":- soln_count(N), N <= 0."
   ]
  },
  {
   "cell_type": "code",
   "execution_count": 27,
   "metadata": {},
   "outputs": [
    {
     "name": "stdout",
     "output_type": "stream",
     "text": [
      "Output:\n"
     ]
    },
    {
     "data": {
      "text/html": [
       "\n",
       "        <style>\n",
       "        .highlight .hll { background-color: #ffffcc }\n",
       ".highlight  { background: #f8f8f8; }\n",
       ".highlight .c { color: #408080; font-style: italic } /* Comment */\n",
       ".highlight .err { border: 1px solid #FF0000 } /* Error */\n",
       ".highlight .k { color: #008000; font-weight: bold } /* Keyword */\n",
       ".highlight .o { color: #666666 } /* Operator */\n",
       ".highlight .ch { color: #408080; font-style: italic } /* Comment.Hashbang */\n",
       ".highlight .cm { color: #408080; font-style: italic } /* Comment.Multiline */\n",
       ".highlight .cp { color: #BC7A00 } /* Comment.Preproc */\n",
       ".highlight .cpf { color: #408080; font-style: italic } /* Comment.PreprocFile */\n",
       ".highlight .c1 { color: #408080; font-style: italic } /* Comment.Single */\n",
       ".highlight .cs { color: #408080; font-style: italic } /* Comment.Special */\n",
       ".highlight .gd { color: #A00000 } /* Generic.Deleted */\n",
       ".highlight .ge { font-style: italic } /* Generic.Emph */\n",
       ".highlight .gr { color: #FF0000 } /* Generic.Error */\n",
       ".highlight .gh { color: #000080; font-weight: bold } /* Generic.Heading */\n",
       ".highlight .gi { color: #00A000 } /* Generic.Inserted */\n",
       ".highlight .go { color: #888888 } /* Generic.Output */\n",
       ".highlight .gp { color: #000080; font-weight: bold } /* Generic.Prompt */\n",
       ".highlight .gs { font-weight: bold } /* Generic.Strong */\n",
       ".highlight .gu { color: #800080; font-weight: bold } /* Generic.Subheading */\n",
       ".highlight .gt { color: #0044DD } /* Generic.Traceback */\n",
       ".highlight .kc { color: #008000; font-weight: bold } /* Keyword.Constant */\n",
       ".highlight .kd { color: #008000; font-weight: bold } /* Keyword.Declaration */\n",
       ".highlight .kn { color: #008000; font-weight: bold } /* Keyword.Namespace */\n",
       ".highlight .kp { color: #008000 } /* Keyword.Pseudo */\n",
       ".highlight .kr { color: #008000; font-weight: bold } /* Keyword.Reserved */\n",
       ".highlight .kt { color: #B00040 } /* Keyword.Type */\n",
       ".highlight .m { color: #666666 } /* Literal.Number */\n",
       ".highlight .s { color: #BA2121 } /* Literal.String */\n",
       ".highlight .na { color: #7D9029 } /* Name.Attribute */\n",
       ".highlight .nb { color: #008000 } /* Name.Builtin */\n",
       ".highlight .nc { color: #0000FF; font-weight: bold } /* Name.Class */\n",
       ".highlight .no { color: #880000 } /* Name.Constant */\n",
       ".highlight .nd { color: #AA22FF } /* Name.Decorator */\n",
       ".highlight .ni { color: #999999; font-weight: bold } /* Name.Entity */\n",
       ".highlight .ne { color: #D2413A; font-weight: bold } /* Name.Exception */\n",
       ".highlight .nf { color: #0000FF } /* Name.Function */\n",
       ".highlight .nl { color: #A0A000 } /* Name.Label */\n",
       ".highlight .nn { color: #0000FF; font-weight: bold } /* Name.Namespace */\n",
       ".highlight .nt { color: #008000; font-weight: bold } /* Name.Tag */\n",
       ".highlight .nv { color: #19177C } /* Name.Variable */\n",
       ".highlight .ow { color: #AA22FF; font-weight: bold } /* Operator.Word */\n",
       ".highlight .w { color: #bbbbbb } /* Text.Whitespace */\n",
       ".highlight .mb { color: #666666 } /* Literal.Number.Bin */\n",
       ".highlight .mf { color: #666666 } /* Literal.Number.Float */\n",
       ".highlight .mh { color: #666666 } /* Literal.Number.Hex */\n",
       ".highlight .mi { color: #666666 } /* Literal.Number.Integer */\n",
       ".highlight .mo { color: #666666 } /* Literal.Number.Oct */\n",
       ".highlight .sa { color: #BA2121 } /* Literal.String.Affix */\n",
       ".highlight .sb { color: #BA2121 } /* Literal.String.Backtick */\n",
       ".highlight .sc { color: #BA2121 } /* Literal.String.Char */\n",
       ".highlight .dl { color: #BA2121 } /* Literal.String.Delimiter */\n",
       ".highlight .sd { color: #BA2121; font-style: italic } /* Literal.String.Doc */\n",
       ".highlight .s2 { color: #BA2121 } /* Literal.String.Double */\n",
       ".highlight .se { color: #BB6622; font-weight: bold } /* Literal.String.Escape */\n",
       ".highlight .sh { color: #BA2121 } /* Literal.String.Heredoc */\n",
       ".highlight .si { color: #BB6688; font-weight: bold } /* Literal.String.Interpol */\n",
       ".highlight .sx { color: #008000 } /* Literal.String.Other */\n",
       ".highlight .sr { color: #BB6688 } /* Literal.String.Regex */\n",
       ".highlight .s1 { color: #BA2121 } /* Literal.String.Single */\n",
       ".highlight .ss { color: #19177C } /* Literal.String.Symbol */\n",
       ".highlight .bp { color: #008000 } /* Name.Builtin.Pseudo */\n",
       ".highlight .fm { color: #0000FF } /* Name.Function.Magic */\n",
       ".highlight .vc { color: #19177C } /* Name.Variable.Class */\n",
       ".highlight .vg { color: #19177C } /* Name.Variable.Global */\n",
       ".highlight .vi { color: #19177C } /* Name.Variable.Instance */\n",
       ".highlight .vm { color: #19177C } /* Name.Variable.Magic */\n",
       ".highlight .il { color: #666666 } /* Literal.Number.Integer.Long */\n",
       "        </style>\n",
       "        "
      ],
      "text/plain": [
       "<IPython.core.display.HTML object>"
      ]
     },
     "metadata": {},
     "output_type": "display_data"
    },
    {
     "data": {
      "text/html": [
       "<div class=\"highlight\"><pre><span></span><span class=\"lineno\"> 1 </span><span class=\"nv\">Answer</span><span class=\"s s-Atom\">:</span> <span class=\"mi\">1</span>\n",
       "<span class=\"lineno\"> 2 </span><span class=\"nf\">soln</span><span class=\"p\">(</span><span class=\"s s-Atom\">f4</span><span class=\"p\">,</span><span class=\"s s-Atom\">size</span><span class=\"p\">)</span> <span class=\"nf\">unique_prop</span><span class=\"p\">(</span><span class=\"s s-Atom\">size</span><span class=\"p\">)</span> <span class=\"nf\">soln</span><span class=\"p\">(</span><span class=\"s s-Atom\">f4</span><span class=\"p\">)</span> <span class=\"nf\">soln_count</span><span class=\"p\">(</span><span class=\"mi\">1</span><span class=\"p\">)</span>\n",
       "<span class=\"lineno\"> 3 </span><span class=\"nv\">Answer</span><span class=\"s s-Atom\">:</span> <span class=\"mi\">2</span>\n",
       "<span class=\"lineno\"> 4 </span><span class=\"nf\">soln</span><span class=\"p\">(</span><span class=\"s s-Atom\">f1</span><span class=\"p\">,</span><span class=\"s s-Atom\">shape</span><span class=\"p\">)</span> <span class=\"nf\">unique_prop</span><span class=\"p\">(</span><span class=\"s s-Atom\">shape</span><span class=\"p\">)</span> <span class=\"nf\">soln</span><span class=\"p\">(</span><span class=\"s s-Atom\">f1</span><span class=\"p\">)</span> <span class=\"nf\">soln_count</span><span class=\"p\">(</span><span class=\"mi\">1</span><span class=\"p\">)</span>\n",
       "<span class=\"lineno\"> 5 </span><span class=\"nv\">SATISFIABLE</span>\n",
       "<span class=\"lineno\"> 6 </span>\n",
       "<span class=\"lineno\"> 7 </span><span class=\"nv\">Models</span>       <span class=\"s s-Atom\">:</span> <span class=\"mi\">2</span>\n",
       "<span class=\"lineno\"> 8 </span><span class=\"nv\">Calls</span>        <span class=\"s s-Atom\">:</span> <span class=\"mi\">1</span>\n",
       "<span class=\"lineno\"> 9 </span><span class=\"nv\">Time</span>         <span class=\"s s-Atom\">:</span> <span class=\"mf\">0.002</span><span class=\"nf\">s</span> <span class=\"p\">(</span><span class=\"nv\">Solving</span><span class=\"s s-Atom\">:</span> <span class=\"mf\">0.00</span><span class=\"s s-Atom\">s</span> <span class=\"mi\">1</span><span class=\"s s-Atom\">st</span> <span class=\"nv\">Model</span><span class=\"s s-Atom\">:</span> <span class=\"mf\">0.00</span><span class=\"s s-Atom\">s</span> <span class=\"nv\">Unsat</span><span class=\"s s-Atom\">:</span> <span class=\"mf\">0.00</span><span class=\"s s-Atom\">s</span><span class=\"p\">)</span>\n",
       "<span class=\"lineno\">10 </span><span class=\"nv\">CPU</span> <span class=\"nv\">Time</span>     <span class=\"s s-Atom\">:</span> <span class=\"mf\">0.002</span><span class=\"s s-Atom\">s</span>\n",
       "</pre></div>\n"
      ],
      "text/plain": [
       "'Answer: 1\\nsoln(f4,size) unique_prop(size) soln(f4) soln_count(1)\\nAnswer: 2\\nsoln(f1,shape) unique_prop(shape) soln(f1) soln_count(1)\\nSATISFIABLE\\n\\nModels       : 2\\nCalls        : 1\\nTime         : 0.002s (Solving: 0.00s 1st Model: 0.00s Unsat: 0.00s)\\nCPU Time     : 0.002s'"
      ]
     },
     "metadata": {},
     "output_type": "display_data"
    }
   ],
   "source": [
    "%%clingo -l unique_property_value_query database_schema fig1 fig2 fig3 fig4 --donot-display_input\n",
    "\n",
    "#show soln/2.\n",
    "#show soln/1.\n",
    "#show unique_prop/1.\n",
    "#show soln_count/1."
   ]
  },
  {
   "cell_type": "markdown",
   "metadata": {},
   "source": [
    "As we can observe above from the DB and the figures themselves, the distinguising property can be their size or the shape of the figure."
   ]
  },
  {
   "cell_type": "code",
   "execution_count": 28,
   "metadata": {},
   "outputs": [],
   "source": [
    "%clingo -l unique_property_value_query database_schema fig1 fig2 fig3 fig4 --donot-display_input --donot-display_output -exp unique_prop_val_exp"
   ]
  },
  {
   "cell_type": "code",
   "execution_count": 29,
   "metadata": {},
   "outputs": [
    {
     "data": {
      "text/plain": [
       "dict_keys(['asp_rules', 'asp_soln', 'meta_data'])"
      ]
     },
     "execution_count": 29,
     "metadata": {},
     "output_type": "execute_result"
    }
   ],
   "source": [
    "unique_prop_val_exp.keys()"
   ]
  },
  {
   "cell_type": "code",
   "execution_count": 30,
   "metadata": {},
   "outputs": [
    {
     "name": "stdout",
     "output_type": "stream",
     "text": [
      "Number of Models: 2\n"
     ]
    }
   ],
   "source": [
    "unique_prop_val_exp['pws_rels_dfs'], unique_prop_val_exp['rel_schemas'], unique_prop_val_exp['pw_objects'] \\\n",
    "= load_worlds(unique_prop_val_exp['asp_soln'], meta_data=unique_prop_val_exp['meta_data'])"
   ]
  },
  {
   "cell_type": "code",
   "execution_count": 31,
   "metadata": {},
   "outputs": [
    {
     "data": {
      "text/plain": [
       "dict_keys(['propDB_3', 'shared_prop_4', 'prop_1', 'soln_2', 'unique_prop_1', 'soln_1', 'soln_count_1'])"
      ]
     },
     "execution_count": 31,
     "metadata": {},
     "output_type": "execute_result"
    }
   ],
   "source": [
    "unique_prop_val_exp['pws_rels_dfs'].keys()"
   ]
  },
  {
   "cell_type": "code",
   "execution_count": 32,
   "metadata": {},
   "outputs": [
    {
     "data": {
      "text/html": [
       "<div>\n",
       "<style scoped>\n",
       "    .dataframe tbody tr th:only-of-type {\n",
       "        vertical-align: middle;\n",
       "    }\n",
       "\n",
       "    .dataframe tbody tr th {\n",
       "        vertical-align: top;\n",
       "    }\n",
       "\n",
       "    .dataframe thead th {\n",
       "        text-align: right;\n",
       "    }\n",
       "</style>\n",
       "<table border=\"1\" class=\"dataframe\">\n",
       "  <thead>\n",
       "    <tr style=\"text-align: right;\">\n",
       "      <th></th>\n",
       "      <th>pw</th>\n",
       "      <th>x1</th>\n",
       "      <th>x2</th>\n",
       "    </tr>\n",
       "  </thead>\n",
       "  <tbody>\n",
       "    <tr>\n",
       "      <th>0</th>\n",
       "      <td>1</td>\n",
       "      <td>f4</td>\n",
       "      <td>size</td>\n",
       "    </tr>\n",
       "    <tr>\n",
       "      <th>1</th>\n",
       "      <td>2</td>\n",
       "      <td>f1</td>\n",
       "      <td>shape</td>\n",
       "    </tr>\n",
       "  </tbody>\n",
       "</table>\n",
       "</div>"
      ],
      "text/plain": [
       "   pw  x1     x2\n",
       "0   1  f4   size\n",
       "1   2  f1  shape"
      ]
     },
     "execution_count": 32,
     "metadata": {},
     "output_type": "execute_result"
    }
   ],
   "source": [
    "unique_prop_val_exp['pws_rels_dfs']['soln_2']"
   ]
  },
  {
   "cell_type": "markdown",
   "metadata": {},
   "source": [
    "We can get a visual representation of the solutions (PWs) as below along with the reasoning behind the solution."
   ]
  },
  {
   "cell_type": "code",
   "execution_count": 33,
   "metadata": {
    "scrolled": false
   },
   "outputs": [
    {
     "data": {
      "image/png": "[encoded data removed]",
      "text/plain": [
       "<IPython.core.display.Image object>"
      ]
     },
     "metadata": {},
     "output_type": "display_data"
    },
    {
     "data": {
      "image/png": "[encoded data removed]",
      "text/plain": [
       "<IPython.core.display.Image object>"
      ]
     },
     "metadata": {},
     "output_type": "display_data"
    }
   ],
   "source": [
    "for i in range(1, len(unique_prop_val_exp['pw_objects'])+1):\n",
    "    pw_i_rels_dfs, _ = pw_slicer(unique_prop_val_exp['pws_rels_dfs'], None, [i])\n",
    "    reason_df = pw_i_rels_dfs['soln_2']\n",
    "    todb_reason = reason_df.iloc[0]['x2']\n",
    "    g = visualize_wodb_query_instance(pw_i_rels_dfs['propDB_3'], \n",
    "                                      pw_i_rels_dfs['soln_1'], \n",
    "                                      graph_label='PW-{}: {}'.format(str(i), todb_reason))\n",
    "    display(draw(g))"
   ]
  },
  {
   "cell_type": "code",
   "execution_count": null,
   "metadata": {},
   "outputs": [],
   "source": []
  },
  {
   "cell_type": "markdown",
   "metadata": {},
   "source": [
    "##### Query: Pick exactly one figure"
   ]
  },
  {
   "cell_type": "code",
   "execution_count": 34,
   "metadata": {},
   "outputs": [],
   "source": [
    "%%clingo -lci pick_one_fig_query --donot-display_input --donot-run\n",
    "\n",
    "% choosing criteria could be as simple as choosing exactly one figure\n",
    "1 {soln(F) : propDB(F,_,_)} 1.\n",
    "\n",
    "% schema soln_propDB(property_name, property_value)\n",
    "soln_propDB(P,V) :- soln(F), propDB(F,P,V)."
   ]
  },
  {
   "cell_type": "code",
   "execution_count": 35,
   "metadata": {},
   "outputs": [
    {
     "name": "stdout",
     "output_type": "stream",
     "text": [
      "Output:\n"
     ]
    },
    {
     "data": {
      "text/html": [
       "\n",
       "        <style>\n",
       "        .highlight .hll { background-color: #ffffcc }\n",
       ".highlight  { background: #f8f8f8; }\n",
       ".highlight .c { color: #408080; font-style: italic } /* Comment */\n",
       ".highlight .err { border: 1px solid #FF0000 } /* Error */\n",
       ".highlight .k { color: #008000; font-weight: bold } /* Keyword */\n",
       ".highlight .o { color: #666666 } /* Operator */\n",
       ".highlight .ch { color: #408080; font-style: italic } /* Comment.Hashbang */\n",
       ".highlight .cm { color: #408080; font-style: italic } /* Comment.Multiline */\n",
       ".highlight .cp { color: #BC7A00 } /* Comment.Preproc */\n",
       ".highlight .cpf { color: #408080; font-style: italic } /* Comment.PreprocFile */\n",
       ".highlight .c1 { color: #408080; font-style: italic } /* Comment.Single */\n",
       ".highlight .cs { color: #408080; font-style: italic } /* Comment.Special */\n",
       ".highlight .gd { color: #A00000 } /* Generic.Deleted */\n",
       ".highlight .ge { font-style: italic } /* Generic.Emph */\n",
       ".highlight .gr { color: #FF0000 } /* Generic.Error */\n",
       ".highlight .gh { color: #000080; font-weight: bold } /* Generic.Heading */\n",
       ".highlight .gi { color: #00A000 } /* Generic.Inserted */\n",
       ".highlight .go { color: #888888 } /* Generic.Output */\n",
       ".highlight .gp { color: #000080; font-weight: bold } /* Generic.Prompt */\n",
       ".highlight .gs { font-weight: bold } /* Generic.Strong */\n",
       ".highlight .gu { color: #800080; font-weight: bold } /* Generic.Subheading */\n",
       ".highlight .gt { color: #0044DD } /* Generic.Traceback */\n",
       ".highlight .kc { color: #008000; font-weight: bold } /* Keyword.Constant */\n",
       ".highlight .kd { color: #008000; font-weight: bold } /* Keyword.Declaration */\n",
       ".highlight .kn { color: #008000; font-weight: bold } /* Keyword.Namespace */\n",
       ".highlight .kp { color: #008000 } /* Keyword.Pseudo */\n",
       ".highlight .kr { color: #008000; font-weight: bold } /* Keyword.Reserved */\n",
       ".highlight .kt { color: #B00040 } /* Keyword.Type */\n",
       ".highlight .m { color: #666666 } /* Literal.Number */\n",
       ".highlight .s { color: #BA2121 } /* Literal.String */\n",
       ".highlight .na { color: #7D9029 } /* Name.Attribute */\n",
       ".highlight .nb { color: #008000 } /* Name.Builtin */\n",
       ".highlight .nc { color: #0000FF; font-weight: bold } /* Name.Class */\n",
       ".highlight .no { color: #880000 } /* Name.Constant */\n",
       ".highlight .nd { color: #AA22FF } /* Name.Decorator */\n",
       ".highlight .ni { color: #999999; font-weight: bold } /* Name.Entity */\n",
       ".highlight .ne { color: #D2413A; font-weight: bold } /* Name.Exception */\n",
       ".highlight .nf { color: #0000FF } /* Name.Function */\n",
       ".highlight .nl { color: #A0A000 } /* Name.Label */\n",
       ".highlight .nn { color: #0000FF; font-weight: bold } /* Name.Namespace */\n",
       ".highlight .nt { color: #008000; font-weight: bold } /* Name.Tag */\n",
       ".highlight .nv { color: #19177C } /* Name.Variable */\n",
       ".highlight .ow { color: #AA22FF; font-weight: bold } /* Operator.Word */\n",
       ".highlight .w { color: #bbbbbb } /* Text.Whitespace */\n",
       ".highlight .mb { color: #666666 } /* Literal.Number.Bin */\n",
       ".highlight .mf { color: #666666 } /* Literal.Number.Float */\n",
       ".highlight .mh { color: #666666 } /* Literal.Number.Hex */\n",
       ".highlight .mi { color: #666666 } /* Literal.Number.Integer */\n",
       ".highlight .mo { color: #666666 } /* Literal.Number.Oct */\n",
       ".highlight .sa { color: #BA2121 } /* Literal.String.Affix */\n",
       ".highlight .sb { color: #BA2121 } /* Literal.String.Backtick */\n",
       ".highlight .sc { color: #BA2121 } /* Literal.String.Char */\n",
       ".highlight .dl { color: #BA2121 } /* Literal.String.Delimiter */\n",
       ".highlight .sd { color: #BA2121; font-style: italic } /* Literal.String.Doc */\n",
       ".highlight .s2 { color: #BA2121 } /* Literal.String.Double */\n",
       ".highlight .se { color: #BB6622; font-weight: bold } /* Literal.String.Escape */\n",
       ".highlight .sh { color: #BA2121 } /* Literal.String.Heredoc */\n",
       ".highlight .si { color: #BB6688; font-weight: bold } /* Literal.String.Interpol */\n",
       ".highlight .sx { color: #008000 } /* Literal.String.Other */\n",
       ".highlight .sr { color: #BB6688 } /* Literal.String.Regex */\n",
       ".highlight .s1 { color: #BA2121 } /* Literal.String.Single */\n",
       ".highlight .ss { color: #19177C } /* Literal.String.Symbol */\n",
       ".highlight .bp { color: #008000 } /* Name.Builtin.Pseudo */\n",
       ".highlight .fm { color: #0000FF } /* Name.Function.Magic */\n",
       ".highlight .vc { color: #19177C } /* Name.Variable.Class */\n",
       ".highlight .vg { color: #19177C } /* Name.Variable.Global */\n",
       ".highlight .vi { color: #19177C } /* Name.Variable.Instance */\n",
       ".highlight .vm { color: #19177C } /* Name.Variable.Magic */\n",
       ".highlight .il { color: #666666 } /* Literal.Number.Integer.Long */\n",
       "        </style>\n",
       "        "
      ],
      "text/plain": [
       "<IPython.core.display.HTML object>"
      ]
     },
     "metadata": {},
     "output_type": "display_data"
    },
    {
     "data": {
      "text/html": [
       "<div class=\"highlight\"><pre><span></span><span class=\"lineno\"> 1 </span><span class=\"nv\">Answer</span><span class=\"s s-Atom\">:</span> <span class=\"mi\">1</span>\n",
       "<span class=\"lineno\"> 2 </span><span class=\"nf\">soln</span><span class=\"p\">(</span><span class=\"s s-Atom\">f4</span><span class=\"p\">)</span>\n",
       "<span class=\"lineno\"> 3 </span><span class=\"nv\">Answer</span><span class=\"s s-Atom\">:</span> <span class=\"mi\">2</span>\n",
       "<span class=\"lineno\"> 4 </span><span class=\"nf\">soln</span><span class=\"p\">(</span><span class=\"s s-Atom\">f1</span><span class=\"p\">)</span>\n",
       "<span class=\"lineno\"> 5 </span><span class=\"nv\">Answer</span><span class=\"s s-Atom\">:</span> <span class=\"mi\">3</span>\n",
       "<span class=\"lineno\"> 6 </span><span class=\"nf\">soln</span><span class=\"p\">(</span><span class=\"s s-Atom\">f3</span><span class=\"p\">)</span>\n",
       "<span class=\"lineno\"> 7 </span><span class=\"nv\">Answer</span><span class=\"s s-Atom\">:</span> <span class=\"mi\">4</span>\n",
       "<span class=\"lineno\"> 8 </span><span class=\"nf\">soln</span><span class=\"p\">(</span><span class=\"s s-Atom\">f2</span><span class=\"p\">)</span>\n",
       "<span class=\"lineno\"> 9 </span><span class=\"nv\">SATISFIABLE</span>\n",
       "<span class=\"lineno\">10 </span>\n",
       "<span class=\"lineno\">11 </span><span class=\"nv\">Models</span>       <span class=\"s s-Atom\">:</span> <span class=\"mi\">4</span>\n",
       "<span class=\"lineno\">12 </span><span class=\"nv\">Calls</span>        <span class=\"s s-Atom\">:</span> <span class=\"mi\">1</span>\n",
       "<span class=\"lineno\">13 </span><span class=\"nv\">Time</span>         <span class=\"s s-Atom\">:</span> <span class=\"mf\">0.002</span><span class=\"nf\">s</span> <span class=\"p\">(</span><span class=\"nv\">Solving</span><span class=\"s s-Atom\">:</span> <span class=\"mf\">0.00</span><span class=\"s s-Atom\">s</span> <span class=\"mi\">1</span><span class=\"s s-Atom\">st</span> <span class=\"nv\">Model</span><span class=\"s s-Atom\">:</span> <span class=\"mf\">0.00</span><span class=\"s s-Atom\">s</span> <span class=\"nv\">Unsat</span><span class=\"s s-Atom\">:</span> <span class=\"mf\">0.00</span><span class=\"s s-Atom\">s</span><span class=\"p\">)</span>\n",
       "<span class=\"lineno\">14 </span><span class=\"nv\">CPU</span> <span class=\"nv\">Time</span>     <span class=\"s s-Atom\">:</span> <span class=\"mf\">0.002</span><span class=\"s s-Atom\">s</span>\n",
       "</pre></div>\n"
      ],
      "text/plain": [
       "'Answer: 1\\nsoln(f4)\\nAnswer: 2\\nsoln(f1)\\nAnswer: 3\\nsoln(f3)\\nAnswer: 4\\nsoln(f2)\\nSATISFIABLE\\n\\nModels       : 4\\nCalls        : 1\\nTime         : 0.002s (Solving: 0.00s 1st Model: 0.00s Unsat: 0.00s)\\nCPU Time     : 0.002s'"
      ]
     },
     "metadata": {},
     "output_type": "display_data"
    }
   ],
   "source": [
    "%%clingo -l pick_one_fig_query database_schema fig1 fig2 fig3 fig4 --donot-display_input\n",
    "\n",
    "#show soln/1."
   ]
  },
  {
   "cell_type": "markdown",
   "metadata": {},
   "source": [
    "Like we desired, the WODB solution is picked to be one of the figures."
   ]
  },
  {
   "cell_type": "code",
   "execution_count": 36,
   "metadata": {},
   "outputs": [],
   "source": [
    "%clingo -l pick_one_fig_query database_schema fig1 fig2 fig3 fig4 --donot-display_input --donot-display_output -exp pick_one_exp"
   ]
  },
  {
   "cell_type": "code",
   "execution_count": 37,
   "metadata": {},
   "outputs": [
    {
     "data": {
      "text/plain": [
       "dict_keys(['asp_rules', 'asp_soln', 'meta_data'])"
      ]
     },
     "execution_count": 37,
     "metadata": {},
     "output_type": "execute_result"
    }
   ],
   "source": [
    "pick_one_exp.keys()"
   ]
  },
  {
   "cell_type": "code",
   "execution_count": 38,
   "metadata": {},
   "outputs": [
    {
     "name": "stdout",
     "output_type": "stream",
     "text": [
      "Number of Models: 4\n"
     ]
    }
   ],
   "source": [
    "pick_one_exp['pws_rels_dfs'], pick_one_exp['rel_schemas'], pick_one_exp['pw_objects'] \\\n",
    "= load_worlds(pick_one_exp['asp_soln'], meta_data=pick_one_exp['meta_data'])"
   ]
  },
  {
   "cell_type": "code",
   "execution_count": 39,
   "metadata": {},
   "outputs": [
    {
     "data": {
      "text/plain": [
       "dict_keys(['propDB_3', 'prop_1', 'soln_propDB_2', 'soln_1'])"
      ]
     },
     "execution_count": 39,
     "metadata": {},
     "output_type": "execute_result"
    }
   ],
   "source": [
    "pick_one_exp['pws_rels_dfs'].keys()"
   ]
  },
  {
   "cell_type": "code",
   "execution_count": 40,
   "metadata": {
    "scrolled": true
   },
   "outputs": [
    {
     "data": {
      "text/html": [
       "<div>\n",
       "<style scoped>\n",
       "    .dataframe tbody tr th:only-of-type {\n",
       "        vertical-align: middle;\n",
       "    }\n",
       "\n",
       "    .dataframe tbody tr th {\n",
       "        vertical-align: top;\n",
       "    }\n",
       "\n",
       "    .dataframe thead th {\n",
       "        text-align: right;\n",
       "    }\n",
       "</style>\n",
       "<table border=\"1\" class=\"dataframe\">\n",
       "  <thead>\n",
       "    <tr style=\"text-align: right;\">\n",
       "      <th></th>\n",
       "      <th>pw</th>\n",
       "      <th>property_name</th>\n",
       "      <th>property_value</th>\n",
       "    </tr>\n",
       "  </thead>\n",
       "  <tbody>\n",
       "    <tr>\n",
       "      <th>0</th>\n",
       "      <td>1</td>\n",
       "      <td>style</td>\n",
       "      <td>bold</td>\n",
       "    </tr>\n",
       "    <tr>\n",
       "      <th>1</th>\n",
       "      <td>1</td>\n",
       "      <td>color</td>\n",
       "      <td>white</td>\n",
       "    </tr>\n",
       "    <tr>\n",
       "      <th>2</th>\n",
       "      <td>1</td>\n",
       "      <td>shape</td>\n",
       "      <td>square</td>\n",
       "    </tr>\n",
       "    <tr>\n",
       "      <th>3</th>\n",
       "      <td>1</td>\n",
       "      <td>size</td>\n",
       "      <td>small</td>\n",
       "    </tr>\n",
       "    <tr>\n",
       "      <th>4</th>\n",
       "      <td>2</td>\n",
       "      <td>style</td>\n",
       "      <td>bold</td>\n",
       "    </tr>\n",
       "    <tr>\n",
       "      <th>5</th>\n",
       "      <td>2</td>\n",
       "      <td>color</td>\n",
       "      <td>white</td>\n",
       "    </tr>\n",
       "    <tr>\n",
       "      <th>6</th>\n",
       "      <td>2</td>\n",
       "      <td>size</td>\n",
       "      <td>large</td>\n",
       "    </tr>\n",
       "    <tr>\n",
       "      <th>7</th>\n",
       "      <td>2</td>\n",
       "      <td>shape</td>\n",
       "      <td>triangle</td>\n",
       "    </tr>\n",
       "    <tr>\n",
       "      <th>8</th>\n",
       "      <td>3</td>\n",
       "      <td>style</td>\n",
       "      <td>bold</td>\n",
       "    </tr>\n",
       "    <tr>\n",
       "      <th>9</th>\n",
       "      <td>3</td>\n",
       "      <td>color</td>\n",
       "      <td>white</td>\n",
       "    </tr>\n",
       "    <tr>\n",
       "      <th>10</th>\n",
       "      <td>3</td>\n",
       "      <td>size</td>\n",
       "      <td>large</td>\n",
       "    </tr>\n",
       "    <tr>\n",
       "      <th>11</th>\n",
       "      <td>3</td>\n",
       "      <td>shape</td>\n",
       "      <td>square</td>\n",
       "    </tr>\n",
       "    <tr>\n",
       "      <th>12</th>\n",
       "      <td>4</td>\n",
       "      <td>style</td>\n",
       "      <td>bold</td>\n",
       "    </tr>\n",
       "    <tr>\n",
       "      <th>13</th>\n",
       "      <td>4</td>\n",
       "      <td>color</td>\n",
       "      <td>white</td>\n",
       "    </tr>\n",
       "    <tr>\n",
       "      <th>14</th>\n",
       "      <td>4</td>\n",
       "      <td>size</td>\n",
       "      <td>large</td>\n",
       "    </tr>\n",
       "    <tr>\n",
       "      <th>15</th>\n",
       "      <td>4</td>\n",
       "      <td>shape</td>\n",
       "      <td>square</td>\n",
       "    </tr>\n",
       "  </tbody>\n",
       "</table>\n",
       "</div>"
      ],
      "text/plain": [
       "    pw property_name property_value\n",
       "0    1         style           bold\n",
       "1    1         color          white\n",
       "2    1         shape         square\n",
       "3    1          size          small\n",
       "4    2         style           bold\n",
       "5    2         color          white\n",
       "6    2          size          large\n",
       "7    2         shape       triangle\n",
       "8    3         style           bold\n",
       "9    3         color          white\n",
       "10   3          size          large\n",
       "11   3         shape         square\n",
       "12   4         style           bold\n",
       "13   4         color          white\n",
       "14   4          size          large\n",
       "15   4         shape         square"
      ]
     },
     "execution_count": 40,
     "metadata": {},
     "output_type": "execute_result"
    }
   ],
   "source": [
    "pick_one_exp['pws_rels_dfs']['soln_propDB_2']"
   ]
  },
  {
   "cell_type": "markdown",
   "metadata": {},
   "source": [
    "As earlier, we can visualize the solutions."
   ]
  },
  {
   "cell_type": "code",
   "execution_count": 41,
   "metadata": {},
   "outputs": [
    {
     "data": {
      "image/png": "[encoded data removed]",
      "text/plain": [
       "<IPython.core.display.Image object>"
      ]
     },
     "metadata": {},
     "output_type": "display_data"
    },
    {
     "data": {
      "image/png": "[encoded data removed]",
      "text/plain": [
       "<IPython.core.display.Image object>"
      ]
     },
     "metadata": {},
     "output_type": "display_data"
    },
    {
     "data": {
      "image/png": "[encoded data removed]",
      "text/plain": [
       "<IPython.core.display.Image object>"
      ]
     },
     "metadata": {},
     "output_type": "display_data"
    },
    {
     "data": {
      "image/png": "[encoded data removed]",
      "text/plain": [
       "<IPython.core.display.Image object>"
      ]
     },
     "metadata": {},
     "output_type": "display_data"
    }
   ],
   "source": [
    "for i in range(1, len(pick_one_exp['pw_objects'])+1):\n",
    "    pw_i_rels_dfs, _ = pw_slicer(pick_one_exp['pws_rels_dfs'], None, [i])\n",
    "    g = visualize_wodb_query_instance(pw_i_rels_dfs['propDB_3'], \n",
    "                                      pw_i_rels_dfs['soln_1'], \n",
    "                                      graph_label='PW-{}'.format(str(i)))\n",
    "    display(draw(g))"
   ]
  },
  {
   "cell_type": "code",
   "execution_count": null,
   "metadata": {},
   "outputs": [],
   "source": []
  },
  {
   "cell_type": "markdown",
   "metadata": {},
   "source": [
    "### Finding WODB in Python using PWE\n",
    "\n",
    "We can also analysis similar to the one above using pure Python and some querying, numerical and visualization tools."
   ]
  },
  {
   "cell_type": "markdown",
   "metadata": {},
   "source": [
    "Let's consider each figure to be a PW (Possible World)."
   ]
  },
  {
   "cell_type": "markdown",
   "metadata": {},
   "source": [
    "##### DB Query Based Analysis (similar to the unique_property_value_query)"
   ]
  },
  {
   "cell_type": "code",
   "execution_count": 42,
   "metadata": {},
   "outputs": [],
   "source": [
    "from PW_explorer.query import PWEQuery"
   ]
  },
  {
   "cell_type": "code",
   "execution_count": 43,
   "metadata": {},
   "outputs": [
    {
     "name": "stdout",
     "output_type": "stream",
     "text": [
      "The unique tuple  ('size', 'small') occurs only in PW 1\n",
      "The unique tuple  ('shape', 'triangle') occurs only in PW 2\n"
     ]
    }
   ],
   "source": [
    "_ = PWEQuery.unique_tuples(expected_pws=len(pick_one_exp['pw_objects']), \n",
    "                           dfs=pick_one_exp['pws_rels_dfs'], \n",
    "                           rl_name='soln_propDB_2')"
   ]
  },
  {
   "cell_type": "markdown",
   "metadata": {},
   "source": [
    "The above query finds tuples that exists in exactly one PW.\n",
    "\n",
    "As we can see here, PW-3,4 (fig3,2) don't have any unique tuples. PW-3,4 (fig4,1) both have a unique tuple each."
   ]
  },
  {
   "cell_type": "markdown",
   "metadata": {},
   "source": [
    "##### Distance Metric Based Analysis\n",
    "\n",
    "Distance Metrics can be used to quantify how similar or different two PWs (figures in our case) are. These can be helpful to analyze the solution space and discover existing properties of the same."
   ]
  },
  {
   "cell_type": "code",
   "execution_count": 44,
   "metadata": {},
   "outputs": [],
   "source": [
    "import numpy as np\n",
    "import pandas as pd"
   ]
  },
  {
   "cell_type": "code",
   "execution_count": 45,
   "metadata": {},
   "outputs": [],
   "source": [
    "from PW_explorer.dist_calc import PWEDistanceCalculation"
   ]
  },
  {
   "cell_type": "markdown",
   "metadata": {},
   "source": [
    "In our case we use a distance metric based on the size of the symmetric-difference of two PWs."
   ]
  },
  {
   "cell_type": "code",
   "execution_count": 46,
   "metadata": {},
   "outputs": [
    {
     "data": {
      "text/plain": [
       "4"
      ]
     },
     "execution_count": 46,
     "metadata": {},
     "output_type": "execute_result"
    }
   ],
   "source": [
    "PWEDistanceCalculation.sym_diff_dist(pw_id_1=1, pw_id_2=2, \n",
    "                                     relations=pick_one_exp['rel_schemas'], \n",
    "                                     dfs=pick_one_exp['pws_rels_dfs'], \n",
    "                                     pws=pick_one_exp['pw_objects'], \n",
    "                                     rls_to_use=['soln_propDB_2'])"
   ]
  },
  {
   "cell_type": "markdown",
   "metadata": {},
   "source": [
    "Based on this metric, we can form a distance metric for our set of PWs."
   ]
  },
  {
   "cell_type": "code",
   "execution_count": 47,
   "metadata": {},
   "outputs": [
    {
     "data": {
      "text/html": [
       "<div>\n",
       "<style scoped>\n",
       "    .dataframe tbody tr th:only-of-type {\n",
       "        vertical-align: middle;\n",
       "    }\n",
       "\n",
       "    .dataframe tbody tr th {\n",
       "        vertical-align: top;\n",
       "    }\n",
       "\n",
       "    .dataframe thead th {\n",
       "        text-align: right;\n",
       "    }\n",
       "</style>\n",
       "<table border=\"1\" class=\"dataframe\">\n",
       "  <thead>\n",
       "    <tr style=\"text-align: right;\">\n",
       "      <th></th>\n",
       "      <th>1</th>\n",
       "      <th>2</th>\n",
       "      <th>3</th>\n",
       "      <th>4</th>\n",
       "    </tr>\n",
       "  </thead>\n",
       "  <tbody>\n",
       "    <tr>\n",
       "      <th>1</th>\n",
       "      <td>0.0</td>\n",
       "      <td>4.0</td>\n",
       "      <td>2.0</td>\n",
       "      <td>2.0</td>\n",
       "    </tr>\n",
       "    <tr>\n",
       "      <th>2</th>\n",
       "      <td>4.0</td>\n",
       "      <td>0.0</td>\n",
       "      <td>2.0</td>\n",
       "      <td>2.0</td>\n",
       "    </tr>\n",
       "    <tr>\n",
       "      <th>3</th>\n",
       "      <td>2.0</td>\n",
       "      <td>2.0</td>\n",
       "      <td>0.0</td>\n",
       "      <td>0.0</td>\n",
       "    </tr>\n",
       "    <tr>\n",
       "      <th>4</th>\n",
       "      <td>2.0</td>\n",
       "      <td>2.0</td>\n",
       "      <td>0.0</td>\n",
       "      <td>0.0</td>\n",
       "    </tr>\n",
       "  </tbody>\n",
       "</table>\n",
       "</div>"
      ],
      "text/plain": [
       "     1    2    3    4\n",
       "1  0.0  4.0  2.0  2.0\n",
       "2  4.0  0.0  2.0  2.0\n",
       "3  2.0  2.0  0.0  0.0\n",
       "4  2.0  2.0  0.0  0.0"
      ]
     },
     "execution_count": 47,
     "metadata": {},
     "output_type": "execute_result"
    }
   ],
   "source": [
    "num_pws = len(pick_one_exp['pw_objects'])\n",
    "dist_matrix = np.zeros((num_pws, num_pws))\n",
    "for i in range(num_pws):\n",
    "    for j in range(i+1, num_pws):\n",
    "        dist_matrix[i][j] = \\\n",
    "            dist_matrix[j][i] = \\\n",
    "                PWEDistanceCalculation.sym_diff_dist(pw_id_1=i+1, pw_id_2=j+1, \n",
    "                                                     relations=pick_one_exp['rel_schemas'],\n",
    "                                                     dfs=pick_one_exp['pws_rels_dfs'],\n",
    "                                                     pws=pick_one_exp['pw_objects'],\n",
    "                                                     rls_to_use=['soln_propDB_2'])\n",
    "        \n",
    "pd.DataFrame(dist_matrix, index=range(1,len(dist_matrix)+1), columns=range(1, len(dist_matrix)+1))"
   ]
  },
  {
   "cell_type": "markdown",
   "metadata": {},
   "source": [
    "We can already see here that while PWs-3,4 are at a distance of 0 from each other (they are both the same), PW-1 is at a distance of 2 from the rest of these two PWs and at a distance of 4 from PW-2."
   ]
  },
  {
   "cell_type": "markdown",
   "metadata": {},
   "source": [
    "We can visualize these PWs based on the distance matrix above to get a better visual sense of this."
   ]
  },
  {
   "cell_type": "code",
   "execution_count": 48,
   "metadata": {},
   "outputs": [],
   "source": [
    "from PW_explorer.visualize import PWEVisualization"
   ]
  },
  {
   "cell_type": "code",
   "execution_count": 49,
   "metadata": {},
   "outputs": [
    {
     "data": {
      "image/png": "[encoded data removed]",
      "text/plain": [
       "<Figure size 432x288 with 1 Axes>"
      ]
     },
     "metadata": {
      "needs_background": "light"
     },
     "output_type": "display_data"
    }
   ],
   "source": [
    "_ = PWEVisualization.mds_sklearn(dist_matrix)"
   ]
  },
  {
   "cell_type": "markdown",
   "metadata": {},
   "source": [
    "We can clearly see the three clusters as expected."
   ]
  },
  {
   "cell_type": "markdown",
   "metadata": {},
   "source": [
    "We can also visualize the distance matrix in more informative and visually appealing ways such as a cluster-map as shown below:"
   ]
  },
  {
   "cell_type": "code",
   "execution_count": 50,
   "metadata": {},
   "outputs": [
    {
     "name": "stderr",
     "output_type": "stream",
     "text": [
      "/anaconda3/envs/LeanEuler-prod-env/lib/python3.6/site-packages/seaborn/matrix.py:603: ClusterWarning: scipy.cluster: The symmetric non-negative hollow observation matrix looks suspiciously like an uncondensed distance matrix\n",
      "  metric=self.metric)\n"
     ]
    },
    {
     "data": {
      "image/png": "[encoded data removed]",
      "text/plain": [
       "<Figure size 720x720 with 4 Axes>"
      ]
     },
     "metadata": {
      "needs_background": "light"
     },
     "output_type": "display_data"
    }
   ],
   "source": [
    "_ = PWEVisualization.cluster_map_viz(dist_matrix)"
   ]
  },
  {
   "cell_type": "markdown",
   "metadata": {},
   "source": [
    "###### As we can observe, in all of these analyses, PW-3,4 (fig3,2) are equivalent, while PW-1,2 (fig4,1) are the farthest, being different in both size and shape."
   ]
  },
  {
   "cell_type": "code",
   "execution_count": null,
   "metadata": {},
   "outputs": [],
   "source": []
  }
 ],
 "metadata": {
  "kernelspec": {
   "display_name": "Python 3",
   "language": "python",
   "name": "python3"
  },
  "language_info": {
   "codemirror_mode": {
    "name": "ipython",
    "version": 3
   },
   "file_extension": ".py",
   "mimetype": "text/x-python",
   "name": "python",
   "nbconvert_exporter": "python",
   "pygments_lexer": "ipython3",
   "version": "3.6.8"
  }
 },
 "nbformat": 4,
 "nbformat_minor": 2
}
